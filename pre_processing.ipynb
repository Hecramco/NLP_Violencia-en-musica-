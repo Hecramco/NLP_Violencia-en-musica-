{
 "cells": [
  {
   "cell_type": "code",
   "execution_count": 28,
   "metadata": {
    "pycharm": {
     "is_executing": false
    }
   },
   "outputs": [],
   "source": [
    "import pandas as pd\n",
    "import os\n",
    "import glob"
   ]
  },
  {
   "cell_type": "code",
   "execution_count": 46,
   "metadata": {
    "pycharm": {
     "is_executing": false,
     "name": "#%%\n"
    }
   },
   "outputs": [],
   "source": [
    "raw_data_path = os.path.join('data', 'raw')\n",
    "clean_filename = os.path.join('data', 'clean', 'data.csv')"
   ]
  },
  {
   "cell_type": "markdown",
   "metadata": {},
   "source": [
    "# Read data"
   ]
  },
  {
   "cell_type": "code",
   "execution_count": 47,
   "metadata": {
    "pycharm": {
     "is_executing": false,
     "name": "#%%\n"
    }
   },
   "outputs": [
    {
     "data": {
      "text/html": [
       "<div>\n",
       "<style scoped>\n",
       "    .dataframe tbody tr th:only-of-type {\n",
       "        vertical-align: middle;\n",
       "    }\n",
       "\n",
       "    .dataframe tbody tr th {\n",
       "        vertical-align: top;\n",
       "    }\n",
       "\n",
       "    .dataframe thead th {\n",
       "        text-align: right;\n",
       "    }\n",
       "</style>\n",
       "<table border=\"1\" class=\"dataframe\">\n",
       "  <thead>\n",
       "    <tr style=\"text-align: right;\">\n",
       "      <th></th>\n",
       "      <th>dummy</th>\n",
       "    </tr>\n",
       "  </thead>\n",
       "  <tbody>\n",
       "    <tr>\n",
       "      <th>0</th>\n",
       "      <td>1</td>\n",
       "    </tr>\n",
       "    <tr>\n",
       "      <th>1</th>\n",
       "      <td>2</td>\n",
       "    </tr>\n",
       "  </tbody>\n",
       "</table>\n",
       "</div>"
      ],
      "text/plain": [
       "   dummy\n",
       "0      1\n",
       "1      2"
      ]
     },
     "execution_count": 47,
     "metadata": {},
     "output_type": "execute_result"
    }
   ],
   "source": [
    "all_files = glob.glob(raw_data_path + \"/top_songs_with_lyrics.csv\")\n",
    "raw_data = pd.concat(pd.read_csv(f) for f in all_files)\n",
    "raw_data.head()"
   ]
  },
  {
   "cell_type": "code",
   "execution_count": 48,
   "metadata": {
    "pycharm": {
     "is_executing": false,
     "name": "#%%\n"
    }
   },
   "outputs": [
    {
     "data": {
      "text/html": [
       "<div>\n",
       "<style scoped>\n",
       "    .dataframe tbody tr th:only-of-type {\n",
       "        vertical-align: middle;\n",
       "    }\n",
       "\n",
       "    .dataframe tbody tr th {\n",
       "        vertical-align: top;\n",
       "    }\n",
       "\n",
       "    .dataframe thead th {\n",
       "        text-align: right;\n",
       "    }\n",
       "</style>\n",
       "<table border=\"1\" class=\"dataframe\">\n",
       "  <thead>\n",
       "    <tr style=\"text-align: right;\">\n",
       "      <th></th>\n",
       "      <th>rank</th>\n",
       "      <th>artists</th>\n",
       "      <th>title</th>\n",
       "      <th>subgénero</th>\n",
       "      <th>genre</th>\n",
       "      <th>lyric</th>\n",
       "      <th>Violencia verbal</th>\n",
       "      <th>Violencia Física</th>\n",
       "      <th>Violencia Psicológica</th>\n",
       "      <th>Violencia Sexual</th>\n",
       "      <th>VIolencia Económica</th>\n",
       "      <th>Violencia Simbólica</th>\n",
       "      <th>Apto para niñxs</th>\n",
       "      <th>CONTENIDO PARA GENTE ADULTA</th>\n",
       "      <th>OBSERVACION</th>\n",
       "      <th>Fuente</th>\n",
       "    </tr>\n",
       "  </thead>\n",
       "  <tbody>\n",
       "    <tr>\n",
       "      <th>0</th>\n",
       "      <td>1</td>\n",
       "      <td>Maluma</td>\n",
       "      <td>Hawai</td>\n",
       "      <td>Reggeaton</td>\n",
       "      <td>HOT LATIN SONGS</td>\n",
       "      <td>https://www.musixmatch.com/es/letras/Maluma/Ha...</td>\n",
       "      <td>0.0</td>\n",
       "      <td>0.0</td>\n",
       "      <td>1.0</td>\n",
       "      <td>0.0</td>\n",
       "      <td>0.0</td>\n",
       "      <td>0.0</td>\n",
       "      <td>0.0</td>\n",
       "      <td>NaN</td>\n",
       "      <td>NaN</td>\n",
       "      <td>Billboard</td>\n",
       "    </tr>\n",
       "    <tr>\n",
       "      <th>1</th>\n",
       "      <td>2</td>\n",
       "      <td>Sech, Daddy Yankee, J Balvin Featuring ROSALIA...</td>\n",
       "      <td>Relacion</td>\n",
       "      <td>Reggeaton</td>\n",
       "      <td>HOT LATIN SONGS</td>\n",
       "      <td>https://www.musixmatch.com/es/letras/Sech/Rela...</td>\n",
       "      <td>0.0</td>\n",
       "      <td>0.0</td>\n",
       "      <td>1.0</td>\n",
       "      <td>0.0</td>\n",
       "      <td>0.0</td>\n",
       "      <td>0.0</td>\n",
       "      <td>0.0</td>\n",
       "      <td>NaN</td>\n",
       "      <td>NaN</td>\n",
       "      <td>Billboard</td>\n",
       "    </tr>\n",
       "    <tr>\n",
       "      <th>2</th>\n",
       "      <td>3</td>\n",
       "      <td>J Balvin, Dua Lipa, Bad Bunny &amp; Tainy</td>\n",
       "      <td>Un Dia (One Day)</td>\n",
       "      <td>Reggeaton</td>\n",
       "      <td>HOT LATIN SONGS</td>\n",
       "      <td>https://www.musixmatch.com/es/letras/J-Balvin-...</td>\n",
       "      <td>0.0</td>\n",
       "      <td>0.0</td>\n",
       "      <td>1.0</td>\n",
       "      <td>0.0</td>\n",
       "      <td>0.0</td>\n",
       "      <td>0.0</td>\n",
       "      <td>0.0</td>\n",
       "      <td>NaN</td>\n",
       "      <td>NaN</td>\n",
       "      <td>Billboard</td>\n",
       "    </tr>\n",
       "    <tr>\n",
       "      <th>3</th>\n",
       "      <td>4</td>\n",
       "      <td>Ozuna</td>\n",
       "      <td>Caramelo</td>\n",
       "      <td>Reggeaton</td>\n",
       "      <td>HOT LATIN SONGS</td>\n",
       "      <td>https://www.musixmatch.com/es/letras/Ozuna/Car...</td>\n",
       "      <td>0.0</td>\n",
       "      <td>0.0</td>\n",
       "      <td>1.0</td>\n",
       "      <td>0.0</td>\n",
       "      <td>0.0</td>\n",
       "      <td>0.0</td>\n",
       "      <td>0.0</td>\n",
       "      <td>NaN</td>\n",
       "      <td>NaN</td>\n",
       "      <td>Billboard</td>\n",
       "    </tr>\n",
       "    <tr>\n",
       "      <th>4</th>\n",
       "      <td>5</td>\n",
       "      <td>Nio Garcia x Anuel AA x Myke Towers x Brray x ...</td>\n",
       "      <td>La Jeepeta</td>\n",
       "      <td>Reggeaton</td>\n",
       "      <td>HOT LATIN SONGS</td>\n",
       "      <td>https://www.musixmatch.com/es/letras/Nio-Garci...</td>\n",
       "      <td>0.0</td>\n",
       "      <td>0.0</td>\n",
       "      <td>0.0</td>\n",
       "      <td>1.0</td>\n",
       "      <td>0.0</td>\n",
       "      <td>0.0</td>\n",
       "      <td>0.0</td>\n",
       "      <td>NaN</td>\n",
       "      <td>NaN</td>\n",
       "      <td>Billboard</td>\n",
       "    </tr>\n",
       "  </tbody>\n",
       "</table>\n",
       "</div>"
      ],
      "text/plain": [
       "   rank                                            artists             title  \\\n",
       "0     1                                             Maluma             Hawai   \n",
       "1     2  Sech, Daddy Yankee, J Balvin Featuring ROSALIA...          Relacion   \n",
       "2     3              J Balvin, Dua Lipa, Bad Bunny & Tainy  Un Dia (One Day)   \n",
       "3     4                                              Ozuna          Caramelo   \n",
       "4     5  Nio Garcia x Anuel AA x Myke Towers x Brray x ...        La Jeepeta   \n",
       "\n",
       "    subgénero            genre  \\\n",
       "0  Reggeaton   HOT LATIN SONGS   \n",
       "1  Reggeaton   HOT LATIN SONGS   \n",
       "2  Reggeaton   HOT LATIN SONGS   \n",
       "3  Reggeaton   HOT LATIN SONGS   \n",
       "4  Reggeaton   HOT LATIN SONGS   \n",
       "\n",
       "                                               lyric  Violencia verbal  \\\n",
       "0  https://www.musixmatch.com/es/letras/Maluma/Ha...               0.0   \n",
       "1  https://www.musixmatch.com/es/letras/Sech/Rela...               0.0   \n",
       "2  https://www.musixmatch.com/es/letras/J-Balvin-...               0.0   \n",
       "3  https://www.musixmatch.com/es/letras/Ozuna/Car...               0.0   \n",
       "4  https://www.musixmatch.com/es/letras/Nio-Garci...               0.0   \n",
       "\n",
       "   Violencia Física  Violencia Psicológica  Violencia Sexual  \\\n",
       "0               0.0                    1.0               0.0   \n",
       "1               0.0                    1.0               0.0   \n",
       "2               0.0                    1.0               0.0   \n",
       "3               0.0                    1.0               0.0   \n",
       "4               0.0                    0.0               1.0   \n",
       "\n",
       "   VIolencia Económica  Violencia Simbólica  Apto para niñxs  \\\n",
       "0                  0.0                  0.0              0.0   \n",
       "1                  0.0                  0.0              0.0   \n",
       "2                  0.0                  0.0              0.0   \n",
       "3                  0.0                  0.0              0.0   \n",
       "4                  0.0                  0.0              0.0   \n",
       "\n",
       "   CONTENIDO PARA GENTE ADULTA  OBSERVACION     Fuente   \n",
       "0                           NaN         NaN  Billboard   \n",
       "1                           NaN         NaN  Billboard   \n",
       "2                           NaN         NaN  Billboard   \n",
       "3                           NaN         NaN  Billboard   \n",
       "4                           NaN         NaN  Billboard   "
      ]
     },
     "execution_count": 48,
     "metadata": {},
     "output_type": "execute_result"
    }
   ],
   "source": [
    "all_files = glob.glob(raw_path + \"/*labels*.csv\")\n",
    "labeled_data = pd.concat(pd.read_csv(f) for f in all_files)\n",
    "labeled_data.head()"
   ]
  },
  {
   "cell_type": "markdown",
   "metadata": {},
   "source": [
    "# Pre processing"
   ]
  },
  {
   "cell_type": "code",
   "execution_count": 34,
   "metadata": {
    "pycharm": {
     "is_executing": false,
     "name": "#%%\n"
    }
   },
   "outputs": [],
   "source": [
    "# TODO: Perform cleaning"
   ]
  },
  {
   "cell_type": "markdown",
   "metadata": {},
   "source": [
    "# Export clean data"
   ]
  },
  {
   "cell_type": "code",
   "execution_count": 43,
   "metadata": {
    "pycharm": {
     "is_executing": false,
     "name": "#%%\n"
    }
   },
   "outputs": [],
   "source": [
    "clean_data = pd.DataFrame(data={'dummy': [1, 2]})\n",
    "clean_data.to_csv(clean_filename, index=False)"
   ]
  }
 ],
 "metadata": {
  "kernelspec": {
   "display_name": "Python 3",
   "language": "python",
   "name": "python3"
  },
  "language_info": {
   "codemirror_mode": {
    "name": "ipython",
    "version": 3
   },
   "file_extension": ".py",
   "mimetype": "text/x-python",
   "name": "python",
   "nbconvert_exporter": "python",
   "pygments_lexer": "ipython3",
   "version": "3.7.9"
  },
  "pycharm": {
   "stem_cell": {
    "cell_type": "raw",
    "metadata": {
     "collapsed": false
    },
    "source": []
   }
  }
 },
 "nbformat": 4,
 "nbformat_minor": 1
}
