{
  "nbformat": 4,
  "nbformat_minor": 0,
  "metadata": {
    "colab": {
      "name": "Lyrics_API_Lib.ipynb",
      "provenance": [],
      "include_colab_link": true
    },
    "kernelspec": {
      "display_name": "Python 3",
      "language": "python",
      "name": "python3"
    },
    "language_info": {
      "codemirror_mode": {
        "name": "ipython",
        "version": 3
      },
      "file_extension": ".py",
      "mimetype": "text/x-python",
      "name": "python",
      "nbconvert_exporter": "python",
      "pygments_lexer": "ipython3",
      "version": "3.8.3-final"
    }
  },
  "cells": [
    {
      "cell_type": "markdown",
      "metadata": {
        "id": "view-in-github",
        "colab_type": "text"
      },
      "source": [
        "<a href=\"https://colab.research.google.com/github/Hecramco/NLP_Violencia-en-musica-/blob/master/Lyrics_API_Lib.ipynb\" target=\"_parent\"><img src=\"https://colab.research.google.com/assets/colab-badge.svg\" alt=\"Open In Colab\"/></a>"
      ]
    },
    {
      "cell_type": "markdown",
      "metadata": {
        "id": "JQUm8GQK8dCt"
      },
      "source": [
        ""
      ]
    },
    {
      "cell_type": "markdown",
      "metadata": {
        "id": "XQeMUSlz8dmV"
      },
      "source": [
        "#Adquisición de canciones mediante API "
      ]
    },
    {
      "cell_type": "code",
      "metadata": {
        "id": "9qthGrIl8j33"
      },
      "source": [
        "import requests\n",
        "import json"
      ],
      "execution_count": 1,
      "outputs": []
    },
    {
      "cell_type": "code",
      "metadata": {
        "id": "9kLuCCEECgTn"
      },
      "source": [
        "#TODO: Ignorar las canciones que no tienen lyrics\n",
        "#TODO: Extraer genero musical (se puede extraer el sub-genero )\n",
        "#Referencia de como usar el api de music match https://youtu.be/WFRzKmpepj4\n",
        "artist= ['enjambre','slipknot','interpol']\n",
        "lyric = ['madrugada','Nero forte','c mere']\n",
        "\n",
        "def get_lyric(song_name,artist):\n",
        "    base_url= 'https://api.musixmatch.com/ws/1.1/'\n",
        "    api_key = \"&apikey=3950aca40989ee9f7d05723278e3fdfd\"\n",
        "    q_track = '&q_track='\n",
        "    q_artist = '&q_artist='\n",
        "    lyric_matcher = 'matcher.lyrics.get?format=json&callback=callback' #nos permitirá hacer la búsqueda de la canción por artista y título \n",
        "    data = requests.get(base_url+lyric_matcher+q_track+ song_name +q_artist+ artist +api_key)\n",
        "    data = data.json() #lee la información en json (cuidado con jsonp, se tiene que hacer mayor procesamiento)\n",
        "    data = data['message']['body']['lyrics']['lyrics_body'].replace('******* This Lyrics is NOT for Commercial use *******', '')\n",
        "    data = data.replace('(1409620732275)',' ')\n",
        "    return data\n",
        "  \n",
        "def get_explicit_label(song_name,artist):\n",
        "    base_url= 'https://api.musixmatch.com/ws/1.1/'\n",
        "    api_key = \"&apikey=3950aca40989ee9f7d05723278e3fdfd\"\n",
        "    q_track = '&q_track='\n",
        "    q_artist = '&q_artist='\n",
        "    lyric_matcher = 'matcher.lyrics.get?format=json&callback=callback' #nos permitirá hacer la búsqueda de la canción por artista y título \n",
        "    data = requests.get(base_url+lyric_matcher+q_track+ song_name +q_artist+ artist +api_key)\n",
        "    data = data.json()\n",
        "    data = data['message']['body']['lyrics']['explicit']\n",
        "    return data\n",
        "\n",
        "def get_music_gender(song_name,artist):\n",
        "    base_url= 'https://api.musixmatch.com/ws/1.1/'\n",
        "    api_key = \"&apikey=3950aca40989ee9f7d05723278e3fdfd\"\n",
        "    q_track = '&q_track='\n",
        "    q_artist = '&q_artist='\n",
        "    track_matcher = 'matcher.track.get?format=json&callback=callback'\n",
        "    data = requests.get(base_url + track_matcher + q_artist + artist + q_track + song_name + api_key)\n",
        "    data = data.json()\n",
        "    data = data['message']['body']['track']['primary_genres']['music_genre_list'][0]['music_genre']['music_genre_name']\n",
        "    return data\n"
      ],
      "execution_count": 9,
      "outputs": []
    },
    {
      "cell_type": "code",
      "metadata": {
        "id": "hwVNUNpNGNFn",
        "tags": [],
        "outputId": "afb379a8-91ef-4a1d-daf7-6c8fe40a0c8b",
        "colab": {
          "base_uri": "https://localhost:8080/",
          "height": 1000
        }
      },
      "source": [
        "data=[]\n",
        "for i in range(len(lyric)):\n",
        "    data.append(get_lyric(lyric[i],artist[i]))\n",
        "    data.append(get_explicit_label(lyric[i],artist[i]))\n",
        "    data.append(get_music_gender(lyric[i],artist[i]))\n",
        "\n",
        "for j in data:\n",
        "    print(j)"
      ],
      "execution_count": 10,
      "outputs": [
        {
          "output_type": "stream",
          "text": [
            "Quiero escurrir mi cara mormada\n",
            "No quiero encontrarte en madrugada\n",
            "Quiero que me dejes descansar\n",
            "Mi conciencia hoy quiero sedar\n",
            "\n",
            "Para no sentir culpa, para no sentir orgullo\n",
            "Para no sentir que lo que yo tengo\n",
            "En verdad es todo tuyo\n",
            "Para no sentir horror\n",
            "\n",
            "Mas allá de tu traición\n",
            "Me acecha tu engaño\n",
            "Lo que era tradición\n",
            "Se ha vuelto algo extraño\n",
            "\n",
            "Quiero escurrir hasta la última gota\n",
            "...\n",
            "\n",
            "\n",
            " \n",
            "0\n",
            "Alternative & Rock in Spanish\n",
            "Watch this\n",
            "\n",
            "I'm never enough\n",
            "You bleed me dry, using me up\n",
            "Dissatisfied and used\n",
            "Another key to the empty spot in you\n",
            "\n",
            "I'm sick as a fuck\n",
            "I'm in my prime, what do you want?\n",
            "I guess it's time to see\n",
            "If you're lost in hell, you'll find no peace\n",
            "\n",
            "Ooh, wade through hate and fear\n",
            "I haven't felt like this in years\n",
            "Not much left, so uprooted\n",
            "Fists clenched tight in the pockets of my hoodie\n",
            "\n",
            "And I know where I need to go\n",
            "But the voice of reason can't say no\n",
            "It's in the eyes and heart\n",
            "Just the latest psycho off the charts\n",
            "\n",
            "That's what you do best\n",
            "\n",
            "A home like yours is upside down\n",
            "Too much animosity, nobody does it better than the enemy\n",
            "A hope like yours won't help me now\n",
            "You can do your worst to me\n",
            "\n",
            "At the end of the day, that's what you do best\n",
            "A home like yours is upside down\n",
            "Too much animosity, nobody does it better than the enemy\n",
            "A hope like yours won't help me now\n",
            "...\n",
            "\n",
            "\n",
            " \n",
            "1\n",
            "Heavy Metal\n",
            "It's way too late\n",
            "To be this locked inside ourselves\n",
            "The trouble is\n",
            "That you're in love with someone else\n",
            "\n",
            "It should be me\n",
            "It should be me\n",
            "Sacred parts\n",
            "Your get aways\n",
            "You come along\n",
            "On summer days\n",
            "\n",
            "Tenderly\n",
            "Tastefully\n",
            "And so may\n",
            "\n",
            "We make time\n",
            "...\n",
            "\n",
            "\n",
            " \n",
            "0\n",
            "Alternative\n"
          ],
          "name": "stdout"
        }
      ]
    },
    {
      "cell_type": "code",
      "metadata": {
        "id": "6C1_qLKInNYR"
      },
      "source": [
        "  #data = requests.get('https://api.musixmatch.com/ws/1.1/matcher.lyrics.get?format=json&callback=callback&q_track=before%20I%20forget%20&q_artist=slipknot&apikey=3950aca40989ee9f7d05723278e3fdfd')\n",
        "#get_music_gender(lyric[0],artist[0])"
      ],
      "execution_count": null,
      "outputs": []
    }
  ]
}