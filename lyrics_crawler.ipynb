{
 "cells": [
  {
   "cell_type": "code",
   "execution_count": 6,
   "metadata": {
    "pycharm": {
     "name": "#%%\n"
    }
   },
   "outputs": [],
   "source": [
    "import pandas as pd\n",
    "import os\n",
    "import glob"
   ]
  },
  {
   "cell_type": "code",
   "execution_count": 7,
   "metadata": {},
   "outputs": [],
   "source": [
    "seed_path = os.path.join('data', 'seed')\n",
    "top_songs_filename = os.path.join('data', 'raw', 'top_songs_with_lyrics.csv')"
   ]
  },
  {
   "cell_type": "markdown",
   "metadata": {},
   "source": [
    "# Read data"
   ]
  },
  {
   "cell_type": "code",
   "execution_count": 11,
   "metadata": {},
   "outputs": [
    {
     "data": {
      "text/html": [
       "<div>\n",
       "<style scoped>\n",
       "    .dataframe tbody tr th:only-of-type {\n",
       "        vertical-align: middle;\n",
       "    }\n",
       "\n",
       "    .dataframe tbody tr th {\n",
       "        vertical-align: top;\n",
       "    }\n",
       "\n",
       "    .dataframe thead th {\n",
       "        text-align: right;\n",
       "    }\n",
       "</style>\n",
       "<table border=\"1\" class=\"dataframe\">\n",
       "  <thead>\n",
       "    <tr style=\"text-align: right;\">\n",
       "      <th></th>\n",
       "      <th>rank</th>\n",
       "      <th>artists</th>\n",
       "      <th>title</th>\n",
       "      <th>genre</th>\n",
       "    </tr>\n",
       "  </thead>\n",
       "  <tbody>\n",
       "    <tr>\n",
       "      <th>0</th>\n",
       "      <td>1</td>\n",
       "      <td>Maluma</td>\n",
       "      <td>Hawai</td>\n",
       "      <td>HOT LATIN SONGS</td>\n",
       "    </tr>\n",
       "    <tr>\n",
       "      <th>1</th>\n",
       "      <td>2</td>\n",
       "      <td>Sech, Daddy Yankee, J Balvin Featuring ROSALIA...</td>\n",
       "      <td>Relacion</td>\n",
       "      <td>HOT LATIN SONGS</td>\n",
       "    </tr>\n",
       "    <tr>\n",
       "      <th>2</th>\n",
       "      <td>3</td>\n",
       "      <td>J Balvin, Dua Lipa, Bad Bunny &amp; Tainy</td>\n",
       "      <td>Un Dia (One Day)</td>\n",
       "      <td>HOT LATIN SONGS</td>\n",
       "    </tr>\n",
       "    <tr>\n",
       "      <th>3</th>\n",
       "      <td>4</td>\n",
       "      <td>Ozuna</td>\n",
       "      <td>Caramelo</td>\n",
       "      <td>HOT LATIN SONGS</td>\n",
       "    </tr>\n",
       "    <tr>\n",
       "      <th>4</th>\n",
       "      <td>5</td>\n",
       "      <td>Nio Garcia x Anuel AA x Myke Towers x Brray x ...</td>\n",
       "      <td>La Jeepeta</td>\n",
       "      <td>HOT LATIN SONGS</td>\n",
       "    </tr>\n",
       "  </tbody>\n",
       "</table>\n",
       "</div>"
      ],
      "text/plain": [
       "   rank                                            artists             title  \\\n",
       "0     1                                             Maluma             Hawai   \n",
       "1     2  Sech, Daddy Yankee, J Balvin Featuring ROSALIA...          Relacion   \n",
       "2     3              J Balvin, Dua Lipa, Bad Bunny & Tainy  Un Dia (One Day)   \n",
       "3     4                                              Ozuna          Caramelo   \n",
       "4     5  Nio Garcia x Anuel AA x Myke Towers x Brray x ...        La Jeepeta   \n",
       "\n",
       "             genre  \n",
       "0  HOT LATIN SONGS  \n",
       "1  HOT LATIN SONGS  \n",
       "2  HOT LATIN SONGS  \n",
       "3  HOT LATIN SONGS  \n",
       "4  HOT LATIN SONGS  "
      ]
     },
     "execution_count": 11,
     "metadata": {},
     "output_type": "execute_result"
    }
   ],
   "source": [
    "all_files = glob.glob(seed_path + \"/*.csv\")\n",
    "song_data = pd.concat(pd.read_csv(f) for f in all_files)\n",
    "song_data.head()"
   ]
  },
  {
   "cell_type": "markdown",
   "metadata": {},
   "source": [
    "# Get lyrics from api"
   ]
  },
  {
   "cell_type": "code",
   "execution_count": 12,
   "metadata": {},
   "outputs": [],
   "source": [
    "# TODO: call api and get lyrics"
   ]
  },
  {
   "cell_type": "markdown",
   "metadata": {},
   "source": [
    "# Export lyrics data"
   ]
  },
  {
   "cell_type": "code",
   "execution_count": 13,
   "metadata": {},
   "outputs": [],
   "source": [
    "df = pd.DataFrame(data={'dummy': [1, 2]})\n",
    "df.to_csv(top_songs_filename, index=False)"
   ]
  }
 ],
 "metadata": {
  "kernelspec": {
   "display_name": "Python 3",
   "language": "python",
   "name": "python3"
  },
  "language_info": {
   "codemirror_mode": {
    "name": "ipython",
    "version": 3
   },
   "file_extension": ".py",
   "mimetype": "text/x-python",
   "name": "python",
   "nbconvert_exporter": "python",
   "pygments_lexer": "ipython3",
   "version": "3.7.9"
  },
  "pycharm": {
   "stem_cell": {
    "cell_type": "raw",
    "metadata": {
     "collapsed": false
    },
    "source": []
   }
  }
 },
 "nbformat": 4,
 "nbformat_minor": 1
}
