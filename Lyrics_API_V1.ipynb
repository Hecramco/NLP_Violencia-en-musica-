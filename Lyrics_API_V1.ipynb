{
 "cells": [
  {
   "cell_type": "markdown",
   "metadata": {
    "id": "JQUm8GQK8dCt"
   },
   "source": []
  },
  {
   "cell_type": "markdown",
   "metadata": {
    "id": "XQeMUSlz8dmV"
   },
   "source": [
    "#Adquisición de canciones mediante API "
   ]
  },
  {
   "cell_type": "code",
   "execution_count": 1,
   "metadata": {
    "executionInfo": {
     "elapsed": 746,
     "status": "ok",
     "timestamp": 1602904092352,
     "user": {
      "displayName": "Héctor Manuel Ramírez Contreras",
      "photoUrl": "",
      "userId": "00510271929714586445"
     },
     "user_tz": 300
    },
    "id": "9qthGrIl8j33"
   },
   "outputs": [],
   "source": [
    "import requests\n",
    "import json"
   ]
  },
  {
   "cell_type": "code",
   "execution_count": 5,
   "metadata": {
    "executionInfo": {
     "elapsed": 789,
     "status": "ok",
     "timestamp": 1602904274675,
     "user": {
      "displayName": "Héctor Manuel Ramírez Contreras",
      "photoUrl": "",
      "userId": "00510271929714586445"
     },
     "user_tz": 300
    },
    "id": "9kLuCCEECgTn"
   },
   "outputs": [],
   "source": [
    "#TODO: Ignorar las canciones que no tienen lyrics\n",
    "#TODO: Usar la bandera de Explicit en caso de que ya se tenga \n",
    "#TODO: Extraer genero musical (se puede extraer el sub-genero )\n",
    "#Referencia de como usar el api de music match https://youtu.be/WFRzKmpepj4\n",
    "base_url= 'https://api.musixmatch.com/ws/1.1/'\n",
    "api_key = '&'+\"apikey=3950aca40989ee9f7d05723278e3fdfd\"\n",
    "artist= ['enjambre','slipknot','interpol']\n",
    "lyric = ['madrugada','Nero forte','c mere']\n",
    "data=[]\n",
    "q_track = '&q_track=' #se va a usar como ejemplo TODO: Hacer metodo de extracción para varias coanciones \n",
    "q_artist = '&q_artist='\n",
    "lyric_matcher = 'matcher.lyrics.get?format=json&callback=callback' #nos permitirá hacer la búsqueda de la canción por artista y título "
   ]
  },
  {
   "cell_type": "code",
   "execution_count": 6,
   "metadata": {
    "colab": {
     "base_uri": "https://localhost:8080/",
     "height": 34
    },
    "executionInfo": {
     "elapsed": 483,
     "status": "ok",
     "timestamp": 1602904420636,
     "user": {
      "displayName": "Héctor Manuel Ramírez Contreras",
      "photoUrl": "",
      "userId": "00510271929714586445"
     },
     "user_tz": 300
    },
    "id": "hwVNUNpNGNFn",
    "outputId": "0a1d9f75-b6df-4f84-fc43-1ae2ff13e1c9",
    "tags": []
   },
   "outputs": [
    {
     "output_type": "stream",
     "name": "stdout",
     "text": [
      "{'message': {'header': {'status_code': 200, 'execute_time': 0.006101131439209}, 'body': {'lyrics': {'lyrics_id': 20520816, 'explicit': 0, 'lyrics_body': 'Quiero escurrir mi cara mormada\\nNo quiero encontrarte en madrugada\\nQuiero que me dejes descansar\\nMi conciencia hoy quiero sedar\\n\\nPara no sentir culpa, para no sentir orgullo\\nPara no sentir que lo que yo tengo\\nEn verdad es todo tuyo\\nPara no sentir horror\\n\\nMas allá de tu traición\\nMe acecha tu engaño\\nLo que era tradición\\nSe ha vuelto algo extraño\\n\\nQuiero escurrir hasta la última gota\\n...\\n\\n******* This Lyrics is NOT for Commercial use *******\\n(1409620732275)', 'script_tracking_url': 'https://tracking.musixmatch.com/t1.0/m_js/e_1/sn_0/l_20520816/su_0/rs_0/tr_3vUCAAxoCspiPedyp3BID6_Jy-GwWlqpXjFDWIiNmSSm9d3owM09P2YS4g4fUQ6nzbWGs3DQsX1fs6nsRYJnPbryIlq5SR3JiJrGcpe3cotHgMfmIBvafivBB5fJ5M62-wNPyJXk0WJnGk28ZJ4t7gNxLDIa2eJ5LkU74yLG7_AQhCp8dymalZoq6wv6AwsgY7Zt7IkZyHG-m5yYUfeVtm6epSUFNyBzU3XEVTIKfAe05RboADRpfzOKRESqeqrcVop5cGnMPxfHNlaZllPZqybSlkXF24s-8YOjZqNJ5UoRAnaj9eWeZJm7IfLzQj9pzqduUcp_C4zJbjbJgtSpq6S3YbxLuGs6CpovWOe4Tjexk6oi07DG2Qw3PNBc_1-GlA-UePsRUomw_GrDJTVl3rou_LvhWLME2PzDueC6Bp7GNNnWJK8R8nwtAbJcgg/', 'pixel_tracking_url': 'https://tracking.musixmatch.com/t1.0/m_img/e_1/sn_0/l_20520816/su_0/rs_0/tr_3vUCAEqcvA480hIkYfpaAE9wxhx6LOOX2Dz35hKkAVuaT8zdVY3rD-1A0trzhlFzgpUtKEuqSLF4a48GCcK_gtiqCKVFz__bSIZfl2HxBoncvsyxTVUMivK0cn3S9zlRuXJb0Zeg3pjSa1iNQ511ytS7zHp05A0bz6jmhlBdZWyCUY6bpgaPhfqFxkQJDu02S1VdUsyHzLFuzlBITDbEztxHUFbWuxve3WD2VRkFHpnNsTkOsvwpU0YTdhwxjjD6zGqxiWzLWxUp7w-XG6rSsVnLanwq2rPKr_wfP6kmvs7RHPsv_pnPRgrG_hfx_si9xtbIu8zLwQMUMAZdRgY7ApxnZ7veeFWgtn2JAxr8CkYws7lV0zlmALa7f1Di_S3oawxAwwKQXTSXkfr99N9Vq7cppFLv2jr6NfUkg34e2IssMamarTsdydycJrG2zw/', 'lyrics_copyright': 'Lyrics powered by www.musixmatch.com. This Lyrics is NOT for Commercial use and only 30% of the lyrics are returned.', 'updated_time': '2020-09-20T14:12:21Z'}}}}\n",
      "{'message': {'header': {'status_code': 200, 'execute_time': 0.013710975646973}, 'body': {'lyrics': {'lyrics_id': 19557262, 'explicit': 1, 'lyrics_body': \"Watch this\\n\\nI'm never enough\\nYou bleed me dry, using me up\\nDissatisfied and used\\nAnother key to the empty spot in you\\n\\nI'm sick as a fuck\\nI'm in my prime, what do you want?\\nI guess it's time to see\\nIf you're lost in hell, you'll find no peace\\n\\nOoh, wade through hate and fear\\nI haven't felt like this in years\\nNot much left, so uprooted\\nFists clenched tight in the pockets of my hoodie\\n\\nAnd I know where I need to go\\nBut the voice of reason can't say no\\nIt's in the eyes and heart\\nJust the latest psycho off the charts\\n\\nThat's what you do best\\n\\nA home like yours is upside down\\nToo much animosity, nobody does it better than the enemy\\nA hope like yours won't help me now\\nYou can do your worst to me\\n\\nAt the end of the day, that's what you do best\\nA home like yours is upside down\\nToo much animosity, nobody does it better than the enemy\\nA hope like yours won't help me now\\n...\\n\\n******* This Lyrics is NOT for Commercial use *******\\n(1409620732275)\", 'script_tracking_url': 'https://tracking.musixmatch.com/t1.0/m_js/e_1/sn_0/l_19557262/su_0/rs_0/tr_3vUCABWxnKL8BMcP1njFaoc5zKQXkrVKvuaVbfVp47QJqGsj-IfXAUAVy9wwCxKZ_dwgNHaiUD9ib4t9x_sMm3sx1kmGkEJHEt57qlEWPGxqr9B_y0Sg2kVfZi3jX0bGyx7-IhF_0rPX9J-Y2HoLeEfQ5TxrTaqyR-FYBrlvknxLUGKVGxBhXatsj_LFIZKx5XUIHZI0kVku-2zHPM2tSyFELIxqjtmbwjmrO2NO4JQU67xJrW0k6C4rE76MIdeCgPu02ZXk-JCtI4ZJsbkwtmB3Y5M5-LqvTn9hJFt4jqUdAmQsE5Y_dMu0j3BgeRmVF5QPXAl-gH4386TkHA-52WnuzQ1odSVx7FX4MsypLwWpDLc0m0p2XBn45XrkL7gVr8i1RYz_3aFQQWAnkoFx5_IAD9I3b68t0SOS2r8GL4-FBJ7Uvu3R4FCo0f_FhO1e/', 'pixel_tracking_url': 'https://tracking.musixmatch.com/t1.0/m_img/e_1/sn_0/l_19557262/su_0/rs_0/tr_3vUCAAo73hznx4biFlcU2joDxOt_d0yGJraidafFKeHaF4md0yqKCdGMN8kmLGl8S5Rh-mJKNhPvUg66Gf-l6HaLWM2XzI33Eq0uucpWfB3fR5DdsPg7W8UwgRWZm69YfhYJ9kWCns-npMqklaZGREbduyfs0Dd3CMiWgC7YWH9mVQtvOKVrbaLPzFLQmmFxcu_9grZ4ZekC76UKTrTnhz7_p2Zin5aHkhFFA6W1CzBxNQeQLZXnVn7cTXAfGXvK6dIGRQbLNEfBK2Okyqae4k-nyEGSDqU-7EYZXFzg8j2K1dT31gsdsS3pgoZvERF5eXv3Hy-4X_16rtgmvG_MwYaQ97DRSMrFO4MXeeQazw-YPrel8eM0vnjlNiw4ad5dSsrsn-NVanE-eos1y8vCWPwCesogTVLtXr3jm4oDhjGNS4PvtpZ9GIcrgHaBI8ps/', 'lyrics_copyright': 'Lyrics powered by www.musixmatch.com. This Lyrics is NOT for Commercial use and only 30% of the lyrics are returned.', 'updated_time': '2019-08-19T13:09:44Z'}}}}\n",
      "{'message': {'header': {'status_code': 200, 'execute_time': 0.0089349746704102}, 'body': {'lyrics': {'lyrics_id': 19569663, 'explicit': 0, 'lyrics_body': \"It's way too late\\nTo be this locked inside ourselves\\nThe trouble is\\nThat you're in love with someone else\\n\\nIt should be me\\nIt should be me\\nSacred parts\\nYour get aways\\nYou come along\\nOn summer days\\n\\nTenderly\\nTastefully\\nAnd so may\\n\\nWe make time\\n...\\n\\n******* This Lyrics is NOT for Commercial use *******\\n(1409620732275)\", 'script_tracking_url': 'https://tracking.musixmatch.com/t1.0/m_js/e_1/sn_0/l_19569663/su_0/rs_0/tr_3vUCAFH_aQcEJWZkzd6m3XEemiU3ksdF3YwVv5a6WT0OoMVKJTEJbUc_KbvhINq2Jea4_RI0ZZjVU7Bfn8uHQHfXEA0SBSeI1nw13ScpYkzb1-nncldiA-B-ALfBfNEHYbX-Q-5GCRCKa43kyPqFN2riAwImdGTKgJEFI3XkWrA4i1Q2kTIyblIxgrGjqoUXbl9V7Pre8anHKUWJKn5GtZDKK-HDfvB-oZlEW6_cMVjpXhp78hoSZIeneSOYGZ1Aqh5t8q92Ch8XAKgX2ElOfIrncIeNfAgr989kI5nNaTNFwt2coU5ERdkrkv73sIlhvqtaOgUHifp6jbkKlG3jevVVu3eFs4Xj0wLlyMfcpgyX_2bBG38rGBG9S2EERggf25oxGomu2h66qXktO9COCYQ6pBRcqc2MGwvuzXwNfmcw-sIa_jKtOSkv/', 'pixel_tracking_url': 'https://tracking.musixmatch.com/t1.0/m_img/e_1/sn_0/l_19569663/su_0/rs_0/tr_3vUCADG0vRVvZJktocc8yhDPMjB9iGhddasDFbATG5bof-jD8QXh7YErIeUI-B3ZrC2JCjLzmV3IGeevn_z0bPGw5nT4zhRtzTna35QzH_sGZIrceRivZ2WBdy1G_tKJdcgH1-9uT-U0NiyCVRfETnSfvsT9AX3vY82nDguBCEfMVNy0eG30TAy4IHUXPCWRReYpwnqdFIZn9MxbBqUDIze7spzgHBB2mqiybK1tEaVVLtbH42lCUBcJMypWMHWyOsOwzuS3nQQcLWDV_T2K_DwD_jNdLnMlMdEc8DLDIdkaPiq3P15PrNSy8P7aDHQuIpXB5FUichVcXdb01x9o403FwBHv9O-S05Mode01o06S46dkQYYwyYhP2DId4FqQ04Mg85br40VKuV_CyO7wN6B__EIY0LDqsk2LMmNx7t0a_GE7v9nFBAnf/', 'lyrics_copyright': 'Lyrics powered by www.musixmatch.com. This Lyrics is NOT for Commercial use and only 30% of the lyrics are returned.', 'updated_time': '2019-08-22T09:53:25Z'}}}}\n"
     ]
    }
   ],
   "source": [
    "\n",
    "for i in range(len(lyric)):#TODO Descubrir por qué en este loop no se necesita el -1 y en otro sí \n",
    "    j=i\n",
    "    data.append(requests.get(base_url+lyric_matcher+q_track+lyric[j]+q_artist+artist[j]+api_key))\n",
    "    data[j]= data[j].json()\n",
    "    print(data[j])\n",
    "\n",
    "#data = requests.get('https://api.musixmatch.com/ws/1.1/matcher.lyrics.get?format=json&callback=callback&q_track=before%20I%20forget%20&q_artist=slipknot&apikey=3950aca40989ee9f7d05723278e3fdfd')"
   ]
  },
  {
   "cell_type": "code",
   "execution_count": 7,
   "metadata": {
    "colab": {
     "base_uri": "https://localhost:8080/",
     "height": 291
    },
    "executionInfo": {
     "elapsed": 496,
     "status": "error",
     "timestamp": 1602904441713,
     "user": {
      "displayName": "Héctor Manuel Ramírez Contreras",
      "photoUrl": "",
      "userId": "00510271929714586445"
     },
     "user_tz": 300
    },
    "id": "rg_KBmRKi2S3",
    "outputId": "fa82291c-21f2-44dc-9190-b715d8698c42"
   },
   "outputs": [
    {
     "output_type": "stream",
     "name": "stdout",
     "text": [
      "It's way too late\nTo be this locked inside ourselves\nThe trouble is\nThat you're in love with someone else\n\nIt should be me\nIt should be me\nSacred parts\nYour get aways\nYou come along\nOn summer days\n\nTenderly\nTastefully\nAnd so may\n\nWe make time\n...\n\n******* This Lyrics is NOT for Commercial use *******\n(1409620732275)\nQuiero escurrir mi cara mormada\nNo quiero encontrarte en madrugada\nQuiero que me dejes descansar\nMi conciencia hoy quiero sedar\n\nPara no sentir culpa, para no sentir orgullo\nPara no sentir que lo que yo tengo\nEn verdad es todo tuyo\nPara no sentir horror\n\nMas allá de tu traición\nMe acecha tu engaño\nLo que era tradición\nSe ha vuelto algo extraño\n\nQuiero escurrir hasta la última gota\n...\n\n******* This Lyrics is NOT for Commercial use *******\n(1409620732275)\nWatch this\n\nI'm never enough\nYou bleed me dry, using me up\nDissatisfied and used\nAnother key to the empty spot in you\n\nI'm sick as a fuck\nI'm in my prime, what do you want?\nI guess it's time to see\nIf you're lost in hell, you'll find no peace\n\nOoh, wade through hate and fear\nI haven't felt like this in years\nNot much left, so uprooted\nFists clenched tight in the pockets of my hoodie\n\nAnd I know where I need to go\nBut the voice of reason can't say no\nIt's in the eyes and heart\nJust the latest psycho off the charts\n\nThat's what you do best\n\nA home like yours is upside down\nToo much animosity, nobody does it better than the enemy\nA hope like yours won't help me now\nYou can do your worst to me\n\nAt the end of the day, that's what you do best\nA home like yours is upside down\nToo much animosity, nobody does it better than the enemy\nA hope like yours won't help me now\n...\n\n******* This Lyrics is NOT for Commercial use *******\n(1409620732275)\n"
     ]
    }
   ],
   "source": [
    "for i in range(len(lyric)):\n",
    "    j=i-1\n",
    "    data[j] = data[j]['message']['body']['lyrics']['lyrics_body']\n",
    "    print(data[j])"
   ]
  },
  {
   "cell_type": "code",
   "execution_count": 5,
   "metadata": {
    "executionInfo": {
     "elapsed": 1046,
     "status": "aborted",
     "timestamp": 1602904092674,
     "user": {
      "displayName": "Héctor Manuel Ramírez Contreras",
      "photoUrl": "",
      "userId": "00510271929714586445"
     },
     "user_tz": 300
    },
    "id": "U6ZjZyvIXN3I"
   },
   "outputs": [],
   "source": [
    "#data = data[0]['message']['body']['lyrics']\n",
    "#print(data['lyrics_body'])"
   ]
  },
  {
   "cell_type": "code",
   "execution_count": 5,
   "metadata": {
    "executionInfo": {
     "elapsed": 1045,
     "status": "aborted",
     "timestamp": 1602904092677,
     "user": {
      "displayName": "Héctor Manuel Ramírez Contreras",
      "photoUrl": "",
      "userId": "00510271929714586445"
     },
     "user_tz": 300
    },
    "id": "RwnnNXLpY7VZ"
   },
   "outputs": [
    {
     "output_type": "execute_result",
     "data": {
      "text/plain": [
       "2"
      ]
     },
     "metadata": {},
     "execution_count": 5
    }
   ],
   "source": []
  },
  {
   "cell_type": "code",
   "execution_count": null,
   "metadata": {},
   "outputs": [],
   "source": []
  }
 ],
 "metadata": {
  "colab": {
   "authorship_tag": "ABX9TyM05gfmdefzb5Azh4r7Pz8N",
   "name": "Lyrics_API.ipynb",
   "provenance": []
  },
  "kernelspec": {
   "display_name": "Python 3",
   "language": "python",
   "name": "python3"
  },
  "language_info": {
   "codemirror_mode": {
    "name": "ipython",
    "version": 3
   },
   "file_extension": ".py",
   "mimetype": "text/x-python",
   "name": "python",
   "nbconvert_exporter": "python",
   "pygments_lexer": "ipython3",
   "version": "3.8.3-final"
  }
 },
 "nbformat": 4,
 "nbformat_minor": 4
}