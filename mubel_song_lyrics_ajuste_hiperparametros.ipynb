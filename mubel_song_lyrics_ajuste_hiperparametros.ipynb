{
 "cells": [
  {
   "cell_type": "code",
   "execution_count": 1,
   "metadata": {
    "id": "yl7zNin5y4jG"
   },
   "outputs": [],
   "source": [
    "import pandas as pd\n",
    "import numpy as np\n",
    "import seaborn as sns\n",
    "import matplotlib.pyplot as plt\n",
    "import json\n",
    "from nltk.corpus import stopwords \n",
    "from sklearn.feature_extraction.text import CountVectorizer\n",
    "from sklearn.feature_extraction.text import TfidfVectorizer  \n",
    "import unicodedata\n",
    "from sklearn.model_selection import train_test_split\n",
    "from sklearn.metrics import classification_report, confusion_matrix\n",
    "\n",
    "import os\n",
    "import glob"
   ]
  },
  {
   "cell_type": "code",
   "execution_count": 2,
   "metadata": {
    "id": "IEpPCVizy4jH"
   },
   "outputs": [],
   "source": [
    "raw_data_path = os.path.join('', '')\n",
    "#all_files = glob.glob(raw_data_path +\"/top_songs_with_lyrics.csv\")\n",
    "#lyrics_df = pd.concat(pd.read_csv(f) for f in all_files)\n",
    "lyrics_df = pd.read_csv('top_songs_with_lyrics.csv')\n",
    "columnLyric='lyric'"
   ]
  },
  {
   "cell_type": "code",
   "execution_count": 3,
   "metadata": {
    "id": "P3cdxYp9y4jH"
   },
   "outputs": [],
   "source": [
    "lyrics_df = lyrics_df[lyrics_df[columnLyric].isnull()==False]\n",
    "lyrics_df = lyrics_df[lyrics_df['clase'].isnull()==False]####\n"
   ]
  },
  {
   "cell_type": "markdown",
   "metadata": {
    "id": "a8dSH8BCy4jH"
   },
   "source": [
    "PREPROCESING"
   ]
  },
  {
   "cell_type": "code",
   "execution_count": 4,
   "metadata": {
    "colab": {
     "base_uri": "https://localhost:8080/"
    },
    "id": "pWiWWmR0y4jH",
    "outputId": "99728398-ff9d-4fa1-8042-1d06c180fc5f"
   },
   "outputs": [
    {
     "name": "stdout",
     "output_type": "stream",
     "text": [
      "Requirement already satisfied: es_core_news_md in /usr/local/lib/python3.6/dist-packages (2.2.5)\n",
      "Requirement already satisfied: spacy>=2.2.2 in /usr/local/lib/python3.6/dist-packages (from es_core_news_md) (2.2.4)\n",
      "Requirement already satisfied: wasabi<1.1.0,>=0.4.0 in /usr/local/lib/python3.6/dist-packages (from spacy>=2.2.2->es_core_news_md) (0.8.0)\n",
      "Requirement already satisfied: preshed<3.1.0,>=3.0.2 in /usr/local/lib/python3.6/dist-packages (from spacy>=2.2.2->es_core_news_md) (3.0.4)\n",
      "Requirement already satisfied: cymem<2.1.0,>=2.0.2 in /usr/local/lib/python3.6/dist-packages (from spacy>=2.2.2->es_core_news_md) (2.0.4)\n",
      "Requirement already satisfied: blis<0.5.0,>=0.4.0 in /usr/local/lib/python3.6/dist-packages (from spacy>=2.2.2->es_core_news_md) (0.4.1)\n",
      "Requirement already satisfied: requests<3.0.0,>=2.13.0 in /usr/local/lib/python3.6/dist-packages (from spacy>=2.2.2->es_core_news_md) (2.23.0)\n",
      "Requirement already satisfied: setuptools in /usr/local/lib/python3.6/dist-packages (from spacy>=2.2.2->es_core_news_md) (50.3.2)\n",
      "Requirement already satisfied: tqdm<5.0.0,>=4.38.0 in /usr/local/lib/python3.6/dist-packages (from spacy>=2.2.2->es_core_news_md) (4.41.1)\n",
      "Requirement already satisfied: catalogue<1.1.0,>=0.0.7 in /usr/local/lib/python3.6/dist-packages (from spacy>=2.2.2->es_core_news_md) (1.0.0)\n",
      "Requirement already satisfied: murmurhash<1.1.0,>=0.28.0 in /usr/local/lib/python3.6/dist-packages (from spacy>=2.2.2->es_core_news_md) (1.0.4)\n",
      "Requirement already satisfied: srsly<1.1.0,>=1.0.2 in /usr/local/lib/python3.6/dist-packages (from spacy>=2.2.2->es_core_news_md) (1.0.4)\n",
      "Requirement already satisfied: thinc==7.4.0 in /usr/local/lib/python3.6/dist-packages (from spacy>=2.2.2->es_core_news_md) (7.4.0)\n",
      "Requirement already satisfied: plac<1.2.0,>=0.9.6 in /usr/local/lib/python3.6/dist-packages (from spacy>=2.2.2->es_core_news_md) (1.1.3)\n",
      "Requirement already satisfied: numpy>=1.15.0 in /usr/local/lib/python3.6/dist-packages (from spacy>=2.2.2->es_core_news_md) (1.18.5)\n",
      "Requirement already satisfied: urllib3!=1.25.0,!=1.25.1,<1.26,>=1.21.1 in /usr/local/lib/python3.6/dist-packages (from requests<3.0.0,>=2.13.0->spacy>=2.2.2->es_core_news_md) (1.24.3)\n",
      "Requirement already satisfied: idna<3,>=2.5 in /usr/local/lib/python3.6/dist-packages (from requests<3.0.0,>=2.13.0->spacy>=2.2.2->es_core_news_md) (2.10)\n",
      "Requirement already satisfied: certifi>=2017.4.17 in /usr/local/lib/python3.6/dist-packages (from requests<3.0.0,>=2.13.0->spacy>=2.2.2->es_core_news_md) (2020.11.8)\n",
      "Requirement already satisfied: chardet<4,>=3.0.2 in /usr/local/lib/python3.6/dist-packages (from requests<3.0.0,>=2.13.0->spacy>=2.2.2->es_core_news_md) (3.0.4)\n",
      "Requirement already satisfied: importlib-metadata>=0.20; python_version < \"3.8\" in /usr/local/lib/python3.6/dist-packages (from catalogue<1.1.0,>=0.0.7->spacy>=2.2.2->es_core_news_md) (2.0.0)\n",
      "Requirement already satisfied: zipp>=0.5 in /usr/local/lib/python3.6/dist-packages (from importlib-metadata>=0.20; python_version < \"3.8\"->catalogue<1.1.0,>=0.0.7->spacy>=2.2.2->es_core_news_md) (3.4.0)\n",
      "Requirement already satisfied: es_core_news_md==2.2.5 from https://github.com/explosion/spacy-models/releases/download/es_core_news_md-2.2.5/es_core_news_md-2.2.5.tar.gz#egg=es_core_news_md==2.2.5 in /usr/local/lib/python3.6/dist-packages (2.2.5)\n",
      "Requirement already satisfied: spacy>=2.2.2 in /usr/local/lib/python3.6/dist-packages (from es_core_news_md==2.2.5) (2.2.4)\n",
      "Requirement already satisfied: thinc==7.4.0 in /usr/local/lib/python3.6/dist-packages (from spacy>=2.2.2->es_core_news_md==2.2.5) (7.4.0)\n",
      "Requirement already satisfied: murmurhash<1.1.0,>=0.28.0 in /usr/local/lib/python3.6/dist-packages (from spacy>=2.2.2->es_core_news_md==2.2.5) (1.0.4)\n",
      "Requirement already satisfied: catalogue<1.1.0,>=0.0.7 in /usr/local/lib/python3.6/dist-packages (from spacy>=2.2.2->es_core_news_md==2.2.5) (1.0.0)\n",
      "Requirement already satisfied: srsly<1.1.0,>=1.0.2 in /usr/local/lib/python3.6/dist-packages (from spacy>=2.2.2->es_core_news_md==2.2.5) (1.0.4)\n",
      "Requirement already satisfied: setuptools in /usr/local/lib/python3.6/dist-packages (from spacy>=2.2.2->es_core_news_md==2.2.5) (50.3.2)\n",
      "Requirement already satisfied: wasabi<1.1.0,>=0.4.0 in /usr/local/lib/python3.6/dist-packages (from spacy>=2.2.2->es_core_news_md==2.2.5) (0.8.0)\n",
      "Requirement already satisfied: preshed<3.1.0,>=3.0.2 in /usr/local/lib/python3.6/dist-packages (from spacy>=2.2.2->es_core_news_md==2.2.5) (3.0.4)\n",
      "Requirement already satisfied: numpy>=1.15.0 in /usr/local/lib/python3.6/dist-packages (from spacy>=2.2.2->es_core_news_md==2.2.5) (1.18.5)\n",
      "Requirement already satisfied: blis<0.5.0,>=0.4.0 in /usr/local/lib/python3.6/dist-packages (from spacy>=2.2.2->es_core_news_md==2.2.5) (0.4.1)\n",
      "Requirement already satisfied: tqdm<5.0.0,>=4.38.0 in /usr/local/lib/python3.6/dist-packages (from spacy>=2.2.2->es_core_news_md==2.2.5) (4.41.1)\n",
      "Requirement already satisfied: cymem<2.1.0,>=2.0.2 in /usr/local/lib/python3.6/dist-packages (from spacy>=2.2.2->es_core_news_md==2.2.5) (2.0.4)\n",
      "Requirement already satisfied: plac<1.2.0,>=0.9.6 in /usr/local/lib/python3.6/dist-packages (from spacy>=2.2.2->es_core_news_md==2.2.5) (1.1.3)\n",
      "Requirement already satisfied: requests<3.0.0,>=2.13.0 in /usr/local/lib/python3.6/dist-packages (from spacy>=2.2.2->es_core_news_md==2.2.5) (2.23.0)\n",
      "Requirement already satisfied: importlib-metadata>=0.20; python_version < \"3.8\" in /usr/local/lib/python3.6/dist-packages (from catalogue<1.1.0,>=0.0.7->spacy>=2.2.2->es_core_news_md==2.2.5) (2.0.0)\n",
      "Requirement already satisfied: urllib3!=1.25.0,!=1.25.1,<1.26,>=1.21.1 in /usr/local/lib/python3.6/dist-packages (from requests<3.0.0,>=2.13.0->spacy>=2.2.2->es_core_news_md==2.2.5) (1.24.3)\n",
      "Requirement already satisfied: certifi>=2017.4.17 in /usr/local/lib/python3.6/dist-packages (from requests<3.0.0,>=2.13.0->spacy>=2.2.2->es_core_news_md==2.2.5) (2020.11.8)\n",
      "Requirement already satisfied: idna<3,>=2.5 in /usr/local/lib/python3.6/dist-packages (from requests<3.0.0,>=2.13.0->spacy>=2.2.2->es_core_news_md==2.2.5) (2.10)\n",
      "Requirement already satisfied: chardet<4,>=3.0.2 in /usr/local/lib/python3.6/dist-packages (from requests<3.0.0,>=2.13.0->spacy>=2.2.2->es_core_news_md==2.2.5) (3.0.4)\n",
      "Requirement already satisfied: zipp>=0.5 in /usr/local/lib/python3.6/dist-packages (from importlib-metadata>=0.20; python_version < \"3.8\"->catalogue<1.1.0,>=0.0.7->spacy>=2.2.2->es_core_news_md==2.2.5) (3.4.0)\n",
      "\u001b[38;5;2m✔ Download and installation successful\u001b[0m\n",
      "You can now load the model via spacy.load('es_core_news_md')\n"
     ]
    }
   ],
   "source": [
    "!pip3 install es_core_news_md\n",
    "!python -m spacy download es_core_news_md\n",
    "#import spacy\n",
    "#nlp = spacy.load('es_core_news_md')"
   ]
  },
  {
   "cell_type": "code",
   "execution_count": 5,
   "metadata": {
    "colab": {
     "base_uri": "https://localhost:8080/"
    },
    "id": "ileqVbrjy4jJ",
    "outputId": "3c7ab968-7a19-443f-ad29-724657810d3a"
   },
   "outputs": [
    {
     "name": "stdout",
     "output_type": "stream",
     "text": [
      "[nltk_data] Downloading package punkt to /root/nltk_data...\n",
      "[nltk_data]   Package punkt is already up-to-date!\n",
      "[nltk_data] Downloading package stopwords to /root/nltk_data...\n",
      "[nltk_data]   Package stopwords is already up-to-date!\n"
     ]
    }
   ],
   "source": [
    "import re\n",
    "import string\n",
    "\n",
    "import nltk\n",
    "from nltk.corpus import stopwords \n",
    "from nltk.tokenize import word_tokenize \n",
    "nltk.download('punkt')\n",
    "nltk.download('stopwords')\n",
    "\n",
    "import es_core_news_md\n",
    "\n",
    "nlp = es_core_news_md.load()"
   ]
  },
  {
   "cell_type": "code",
   "execution_count": 6,
   "metadata": {
    "id": "mmpmkxIry4jJ"
   },
   "outputs": [],
   "source": [
    "import spacy\n",
    "import es_core_news_md\n",
    "\n",
    "nlp = es_core_news_md.load()\n",
    "#doc = nlp(\"ahora todo cambió le toca a ella latino gang  ayer la vi perreando solita  se ve má bonita ahora que no está\")\n",
    "#for token in doc: print(token.text, \"|\", token.lemma_, '|', token.pos_)"
   ]
  },
  {
   "cell_type": "code",
   "execution_count": 7,
   "metadata": {
    "id": "d6vCtQI0y4jJ"
   },
   "outputs": [],
   "source": [
    "##  Lematizacion  \n",
    "##  remover acentos \n",
    "##  StopWords\n",
    "\n",
    "def lemmatize(lyric):\n",
    "    tk = nlp(lyric)\n",
    "    tk_lemmatize = \"\"\n",
    "    for word in tk:\n",
    "        tk_lemmatize = tk_lemmatize +\" \"+word.lemma_\n",
    "    return tk_lemmatize\n",
    "    \n",
    "\n",
    "def token_clean_stopwords(message):\n",
    "    stop_words = stopwords.words('spanish') + stopwords.words('english')\n",
    "    more_stopwords = ['rhythm','ovy','ay','hey','woh','si', 'pa', 'sé', 'solo', 'yeah', 'yeh', 'oh', 'i', 'to', 'va', 'the', 'aunque', 'you', 'eh', 'cómo','ma']\n",
    "    total_stopwords = stop_words + more_stopwords\n",
    "\n",
    "    text_token_stopwords = [word for word in message.split() if ((word.lower() not in total_stopwords) and (len(word)>4))]\n",
    "    #Para pruebas con Bert\n",
    "    #total_sentence=\"\"\n",
    "#    for word in message.split():\n",
    "#        if ((word.lower() not in total_stopwords) and (len(word)>4)):\n",
    "#            total_sentence = total_sentence + word.lower()+' ';\n",
    "    #return total_sentence\n",
    "    return text_token_stopwords\n",
    "\n",
    "def remove_puntuation(message):\n",
    "    Test_punc_removed = [char for char in message if char not in string.punctuation]\n",
    "    Test_punc_removed_join = ''.join(Test_punc_removed)\n",
    "    Test_punc_removed_join = remove_accents(Test_punc_removed_join)\n",
    "    return Test_punc_removed_join\n",
    "\n",
    "def remove_accents(input_str):\n",
    "    \"\"\"\n",
    "    remueve acentos, aunque al ser un texto en inglés no deberían existir acentos\n",
    "    \"\"\"\n",
    "    nfkd_form = unicodedata.normalize('NFKD', input_str )\n",
    "    return u\"\".join([c for c in nfkd_form if not unicodedata.combining(c)])\n",
    "\n",
    "def clean_str_puntuaction(input_df):\n",
    "    input_df=input_df.replace(\"'\",\"\")\n",
    "    input_df=input_df.replace(\"\\r\",\" \")\n",
    "    input_df=input_df.replace(\"\\n\",\" \")\n",
    "    input_df=input_df.replace(\"-\",\" \")\n",
    "    input_df= re.sub(\"[\\(\\[].*?[\\)\\]]\", \"\", input_df)\n",
    "    input_df= re.sub(r'[^\\w\\s]', '', input_df)\n",
    "    input_df= re.sub(r'me ', ' ', input_df)\n",
    "    input_df= re.sub(r'te ', ' ', input_df)\n",
    "    #input_df= remove_accents(input_df)\n",
    "    return input_df\n",
    "\n",
    "def clean_lyric(input_lyric):\n",
    "    input_lyric =input_lyric.lower()\n",
    "    input_lyric = clean_str_puntuaction(input_lyric)\n",
    "    #input_lyric = remove_puntuation(input_lyric)\n",
    "    input_lyric = lemmatize(input_lyric)\n",
    "    input_lyric = remove_accents(input_lyric)\n",
    "    input_lyric = lemmatize(input_lyric)\n",
    "    \n",
    "    input_lyric = token_clean_stopwords(input_lyric)\n",
    "\n",
    "    return input_lyric"
   ]
  },
  {
   "cell_type": "markdown",
   "metadata": {
    "id": "L6lGhW_wy4jJ"
   },
   "source": [
    "# Vectorizar texto sin preprocesar"
   ]
  },
  {
   "cell_type": "code",
   "execution_count": 8,
   "metadata": {
    "id": "cn2Qr2Ahy4jJ"
   },
   "outputs": [],
   "source": [
    "# Texto sin preprocesar\n",
    "from sklearn.feature_extraction.text import CountVectorizer\n",
    "# Define the cleaning pipeline we defined earlier\n",
    "vectorizer = CountVectorizer(analyzer = clean_lyric)\n",
    "lyrics_countvectorizer = vectorizer.fit_transform(lyrics_df['lyric'])"
   ]
  },
  {
   "cell_type": "code",
   "execution_count": 9,
   "metadata": {
    "colab": {
     "base_uri": "https://localhost:8080/"
    },
    "id": "0__SUb4xy4jJ",
    "outputId": "8a5ceede-c340-4387-cb36-bbb581cdd084"
   },
   "outputs": [
    {
     "name": "stdout",
     "output_type": "stream",
     "text": [
      "['ADORADA', 'ASTROS', 'Aaron', 'Abajo', 'Abonero', 'Abrazada', 'Abrazado', 'Abrazame', 'Abrazando', 'Abrazarte', 'Abrazo', 'Abrirte', 'Absolutamente', 'Aburrida', 'Abusa', 'Abusador', 'Abusaste', 'Acapulco', 'Acariciale', 'Acaso', 'Acentuando', 'Aceptalo', 'Aceptandome', 'Acepto', 'Acercate', 'Aclaremos', 'Acomodese', 'Acompaname', 'Aconseja', 'Aconsejale', 'Acortame', 'Acostumbrado', 'Acostumbrandome', 'Acudire', 'Acuerdense', 'Acumele', 'Acurrucarte', 'Ademas', 'Adentro', 'Adictiva', 'Adidas', 'Adios', 'Admirarte', 'Admitelo', 'Admito', 'Adonde', 'Adorar', 'Adorarte', 'Adorne', 'Adriel', 'Afloja', 'Afortunada', 'Afortunado', 'Africa', 'Africano', 'Africanos', 'Afronto', 'Agarra', 'Agarrar', 'Agarre', 'Agarro', 'Agonizando', 'Agradezco', 'Aguantate', 'Aguardientes', 'Aguas', 'Agugu', 'Ahogando', 'Ahora', 'Ahorita', 'Alardeando', 'Alcance', 'Alcohol', 'Alegras', 'Alegres', 'Alejate', 'Aleks', 'Aleluya', 'Alfredo', 'Alguien', 'Algun', 'Alrededor', 'Alvarez', 'Amando', 'Amanece', 'Amaneci', 'Amante', 'Amantes', 'Amarme', 'Amarte', 'Amenaza', 'America', 'Americano', 'Americanos', 'Amigo', 'Amigos', 'Amistades', 'Amorcito', 'Amparo', 'Analizando', 'Andaba', 'Andale', 'Andamo', 'Andamos', 'Andan', 'Andando', 'Andate', 'Angel', 'Angeles', 'Anitta', 'Anoche', 'Anton', 'Anuel', 'Anulo', 'Apaga', 'Apagandola', 'Apagare', 'Apareciendo', 'Aparenta', 'Aparentar', 'Aparentemente', 'Apenas', 'Apesar', 'Aplicamos', 'Apoco', 'Aprendere', 'Aprendi', 'Aprendimos', 'Aprovecha', 'Aprovechandote', 'Aprovechar', 'Aprovechaste', 'Apuesta', 'Apuesto', 'Aquel', 'Aquella', 'Aquellos', 'Argentina', 'Ariel', 'Arrancame', 'Arranquese', 'Arregla', 'Arrepentirme', 'Arriba', 'Arturo', 'Asuncion', 'Atencion', 'Atorarle', 'Atravesare', 'Aullando', 'Aumenta', 'Avanzan', 'Aveces', 'Avisada', 'Aviso', 'Aztecas', 'Azules', 'BUSCO', 'Bahamas', 'Baila', 'Bailabas', 'Bailale', 'Bailame', 'Bailamos', 'Bailando', 'Bailandome', 'Bailar', 'Bailele', 'Bailemo', 'Bailemos', 'Bajen', 'Balvin', 'Banandose', 'Banda', 'Bande', 'Bandon', 'Bandononona', 'Barbara', 'Barquillero', 'Barranquilla', 'Barron', 'Bastidas', 'Basura', 'Batalla', 'Batalle', 'Beach', 'Bebecita', 'Beber', 'Bebeto', 'Bebiendo', 'Bella', 'Bellos', 'Bendita', 'Bendito', 'Benito', 'Benjamin', 'Beretta', 'Besale', 'Besando', 'Besar', 'Besarte', 'Besitos', 'Better', 'Bienvenidos', 'Biggie', 'Bitch', 'Blanca', 'Bogota', 'Bohemia', 'Bonito', 'Borra', 'Borrachin', 'Borracho', 'Borraran', 'Borrarte', 'Bossi', 'Botellas', 'Bowie', 'Brasil', 'Bravo', 'Brazuca', 'Brillantes', 'Brillo', 'Brindandome', 'Brindar', 'Bruja', 'Buchanans', 'Buena', 'Buenas', 'Bueno', 'Buenos', 'Bukanan', 'Bumper', 'Bunny', 'Busca', 'Buscabamos', 'Buscabas', 'Buscando', 'Buscar', 'Buscaras', 'Buscas', 'Busque', 'Caborca', 'Cabron', 'Cachetes', 'Cadera', 'Caderona', 'Caicos', 'Caigo', 'Caiste', 'Calele', 'Calibre', 'Calidad', 'Calienten', 'Califas', 'California', 'Caliz', 'Callaita', 'Callarlo', 'Calma', 'Calmate', 'Calor', 'Cambia', 'Cambiando', 'Cambiar', 'Cambiaste', 'Cambie', 'Cambio', 'Camilo', 'Camine', 'Caminemos', 'Caminen', 'Camino', 'Campeones', 'Canada', 'Cananea', 'Canas', 'Canciones', 'Candelario', 'Candy', 'Canelo', 'Cansado', 'Canta', 'Cantando', 'Cantantes', 'Cantarte', 'Cantele', 'Cantinero', 'Canto', 'Capsuleando', 'Caras', 'Caravanas', 'Caray', 'Careta', 'Cargaba', 'Cargan', 'Cargando', 'Caricias', 'Carin', 'Carino', 'Carita', 'Carlitos', 'Carlos', 'Carmen', 'Carnal', 'Carnales', 'Carnaval', 'Cartagena', 'Cartas', 'Cartel', 'Cartier', 'Castilla', 'Castro', 'Cause', 'Cayera', 'Celos', 'Celso', 'Cerquita', 'Cerraba', 'Cerrado', 'Cerrando', 'Cerveza', 'Chaka', 'Chalito', 'Chambeando', 'Champan', 'Champions', 'Chanel', 'Chaparrita', 'Chavo', 'Chayin', 'Checho', 'Chelito', 'Chente', 'Chiapas', 'Chica', 'Chihuahua', 'Chile', 'Chillin', 'Chino', 'Chiquilla', 'Chiquita', 'Chiquitita', 'Chocale', 'Choche', 'Chocolate', 'Chombo', 'Chona', 'Chris', 'Christian', 'Chuchito', 'Chucho', 'Chupa', 'Cielo', 'Cierra', 'Cierrame', 'Cierro', 'Cinco', 'Clandestino', 'Claro', 'Claros', 'Claus', 'Clavado', 'Claves', 'Clementino', 'Click', 'Cobijarte', 'Codiciado', 'Colombia', 'Colombiano', 'Color', 'Colorada', 'Colorado', 'Colores', 'Coloso', 'Comelon', 'Comence', 'Comenzara', 'Comiendo', 'Comiendono', 'Compa', 'Compadecete', 'Comparandome', 'Compartiendo', 'Complementa', 'Completas', 'Compre', 'Comprende', 'Comprender', 'Comprendi', 'Comprendo', 'Compro', 'Comprobado', 'Comunicarle', 'Concepcion', 'Condenado', 'Confiado', 'Confieso', 'Confirmo', 'Conformate', 'Confundi', 'Confundidos', 'Conmigo', 'Conoce', 'Conocer', 'Conocerte', 'Conoces', 'Conociendo', 'Conozco', 'Conquistaste', 'Conseguimos', 'Consentirla', 'Considero', 'Consiente', 'Consigue', 'Conste', 'Construye', 'Consup', 'Contabas', 'Contagiar', 'Contare', 'Contemplandote', 'Conteniendo', 'Contero', 'Contesta', 'Conteste', 'Contigo', 'Contrariando', 'Controlando', 'Convencela', 'Convenceme', 'Convences', 'Conversamos', 'Converti', 'Convertir', 'Coqueteando', 'Corazon', 'Corazones', 'Corceles', 'Cornelio', 'Corona', 'Coronel', 'Corporacion', 'Corre', 'Correspondale', 'Correspondida', 'Corrio', 'Cosas', 'Costa', 'Craches', 'Crece', 'Creciendo', 'Creeme', 'Crees', 'Criatura', 'Cristian', 'Cruel', 'Cruzaria', 'Cuales', 'Cualquier', 'Cualquiera', 'Cuantas', 'Cuanto', 'Cuantos', 'Cuatro', 'Cubrire', 'Cuchi', 'Cuenta', 'Cuentale', 'Cuentame', 'Cuentan', 'Cuerpo', 'Cuesta', 'Cuida', 'Cuidado', 'Cuidaste', 'Cuidate', 'Culiacan', 'Culichi', 'Culpable', 'Cumbia', 'Cumbiaaa', 'Cumbiaton', 'Cumbioso', 'Cumpli', 'Cumplire', 'Cupido', 'Curaste', 'Curri', 'Currucu', 'DEJAS', 'DOBLE', 'Daddy', 'Dalex', 'Dalmata', 'Damaso', 'Damos', 'Dapres', 'Daran', 'Darell', 'Dariel', 'Darle', 'Darlo', 'David', 'Debajo', 'Debemos', 'Deberia', 'Deberias', 'Debes', 'Debiste', 'Decia', 'Decias', 'Decide', 'Decidete', 'Decidi', 'Decidimos', 'Decir', 'Decirle', 'Decirme', 'Decirte', 'Definir', 'Definitivamente', 'Defraudaste', 'Dejala', 'Dejama', 'Dejame', 'Dejamos', 'Dejandome', 'Dejar', 'Dejaras', 'Dejaremos', 'Dejarme', 'Dejarte', 'Dejas', 'Dejaste', 'Dejate', 'Dejemos', 'Dejemosno', 'Demasiado', 'Demosle', 'Demostrarme', 'Demostrarte', 'Demostraste', 'Demuestra', 'Dentro', 'Derritiendote', 'Derrito', 'Desafiando', 'Desafortunadamente', 'Desaparecia', 'Desbaratarte', 'Desbloqueaste', 'Descansa', 'Descifrando', 'Desconfio', 'Desconocidos', 'Descubri', 'Descubrir', 'Deseando', 'Deseo', 'Deseoso', 'Desesperadamente', 'Desesperados', 'Deshacerme', 'Deshogare', 'Deshojo', 'Deslizando', 'Desmadroso', 'Desnuda', 'Desnudas', 'Despacio', 'Despapaye', 'Despedirse', 'Despeinada', 'Despertar', 'Despertarte', 'Desperte', 'Despertemos', 'Desperto', 'Despidete', 'Despiertan', 'Despiertas', 'Despreciado', 'Desprendes', 'Despues', 'Destapame', 'Destapando', 'Destapen', 'Destroce', 'Destrozado', 'Desvanece', 'Desvelado', 'Desvelate', 'Desvestirnos', 'Detalles', 'Detallista', 'Detenerte', 'Detente', 'Detras', 'Deverias', 'Deveritas', 'Diamond', 'Diario', 'Dicen', 'Dices', 'Diciendo', 'Diciendote', 'Diecinueve', 'Diego', 'Dieron', 'Dificil', 'Digamos', 'Digan', 'Dijeron', 'Dimelo', 'Diosito', 'Diras', 'Directo', 'Disculpa', 'Disculpame', 'Disculpe', 'Disculpeme', 'Disculpenme', 'Diselo', 'Disename', 'Disfruta', 'Disfrutamos', 'Disfrutando', 'Disfrutar', 'Disfrutarme', 'Disfruto', 'Disimulas', 'Disque', 'Distrito', 'Divertida', 'Djadja', 'Doblando', 'Dolce', 'Dolio', 'Dorado', 'Drums', 'Dudes', 'Duele', 'Duelo', 'Duena', 'Duerme', 'Dulce', 'Durango', 'Durmiendo', 'Dynell', 'ESCUCHAR', 'Echale', 'Echele', 'Echenme', 'Echese', 'Ecuador', 'Edwin', 'Ejecutiva', 'Electro', 'Electrocumbia', 'Elegante', 'Elegantes', 'Elegiste', 'Elidian', 'Eliel', 'Elizalde', 'Embargo', 'Emiliano', 'Emilio', 'Eminem', 'Empece', 'Empeora', 'Empezamos', 'Empezare', 'Empezo', 'Empieza', 'Empina', 'Empresas', 'Enamorada', 'Enamorado', 'Enamorados', 'Enamorarme', 'Enamorarte', 'Encantadora', 'Encender', 'Encendi', 'Enciendo', 'Encima', 'Encontrado', 'Encontrar', 'Encontraras', 'Encontrare', 'Encontraron', 'Encontre', 'Enfermo', 'Enforjando', 'Enganarte', 'Enganas', 'Enhorabuena', 'Enigma', 'Enloquecer', 'Enrique', 'Ensename', 'Ensenate', 'Entender', 'Entendere', 'Entendi', 'Entiende', 'Entiendo', 'Entierrame', 'Entonces', 'Entraba', 'Entramo', 'Entramos', 'Entrando', 'Entrar', 'Entregame', 'Entregando', 'Entregar', 'Entregarlo', 'Entregarte', 'Entregate', 'Envejecen', 'Envuelveme', 'Error', 'Escapate', 'Esclavitud', 'Esclavos', 'Escondidos', 'Escribire', 'Escribirte', 'Escucha', 'Escuchame', 'Escuchando', 'Escuchar', 'Escucho', 'Espada', 'Espana', 'Espectativa', 'Espera', 'Esperaba', 'Esperando', 'Esperare', 'Espero', 'Esquimal', 'Estabamos', 'Estamo', 'Estan', 'Estaras', 'Estare', 'Estela', 'Estornudo', 'Estrellas', 'Europa', 'Europeo', 'Every', 'Everywhere', 'Evitate', 'Excepto', 'Existe', 'Expectativa', 'Experiencia', 'Explicame', 'Explosiva', 'Expresarme', 'Extranandote', 'Extranarte', 'Extranas', 'Extraviarme', 'FONDO', 'Facebook', 'Facil', 'Falda', 'Fallaras', 'Falta', 'Faltas', 'Familia', 'Farru', 'Fascinada', 'Fashion', 'Favela', 'Federal', 'Felices', 'Feliz', 'Fernandez', 'Fernando', 'Ferragamo', 'Ferrari', 'Festin', 'Fidelidad', 'Fiesta', 'Films', 'Finalmente', 'Finge', 'Firme', 'Flaco', 'Flexibles', 'Flores', 'Folsom', 'Fonseca', 'Forcejando', 'Formar', 'Forme', 'Frabian', 'Fracase', 'Francisco', 'Franco', 'Freddo', 'Frente', 'Frivolo', 'Frontera', 'Fruity', 'Fuego', 'Fuerte', 'Fumabamo', 'Fumando', 'Gabbana', 'Gabriel', 'Gamma', 'Ganas', 'Garces', 'Garcia', 'Garza', 'Gaspar', 'Gastando', 'Gaste', 'Gaxiola', 'Geico', 'Generalmente', 'Generoso', 'Genio', 'Gente', 'Gentes', 'Gerber', 'German', 'Gimme', 'Global', 'Godzilla', 'Gomez', 'Gotas', 'Gotay', 'Gozando', 'Gozar', 'Gozele', 'Grabo', 'Gracias', 'Grandes', 'Gritame', 'Gritando', 'Gritar', 'Grupo', 'Guadalajara', 'Guajira', 'Guampabampo', 'Guanajuato', 'Guantanamera', 'Guarda', 'Guardame', 'Guardare', 'Guatemala', 'Guaymas', 'Gucci', 'Gueeee', 'Gueeegueee', 'Guerra', 'Guerrero', 'Guetta', 'Guilty', 'Guitarra', 'Gustavo', 'HABLADO', 'Haberte', 'Habia', 'Habla', 'Hablale', 'Hablame', 'Hablan', 'Hablaremos', 'Hablaste', 'Hablo', 'Habria', 'Hacemos', 'Hacen', 'Hacernos', 'Hacerte', 'Haces', 'Hacia', 'Haciendo', 'Haciendolo', 'Haciendote', 'Hagamo', 'Hagamos', 'Haganla', 'Hakuna', 'Hallar', 'Hallaras', 'Hallaron', 'Harian', 'Haters', 'Hawai', 'Hazle', 'Hazlo', 'Hecha', 'Hechizando', 'Hecho', 'Helicopteros', 'Hello', 'Hennessy', 'Heridas', 'Hermosa', 'Hermosillo', 'Hernan', 'Herrera', 'Hicimos', 'Hidalgo', 'Hijos', 'Historias', 'Holla', 'Hollywood', 'Hombre', 'Hombres', 'Honestamente', 'Horacio', 'Huejaaaaa', 'Huele', 'Huelen', 'Huentitan', 'Huevos', 'Humilde', 'Humildemente', 'Huuuuy', 'Huuuy', 'Huyaaaa', 'Ibamos', 'Icono', 'Iglesias', 'Ignacias', 'Ignorandome', 'Ignoro', 'Igual', 'Igualito', 'Ilucion', 'Iluminale', 'Ilusion', 'Imaginabas', 'Imaginando', 'Imaginate', 'Imagino', 'Imparables', 'Imponente', 'Importa', 'Importantes', 'Impregnada', 'Impregnadas', 'Inadaptados', 'Inaguantablemente', 'Incluias', 'Incluso', 'Incomparable', 'Incondicional', 'Inconsciente', 'Indeleble', 'India', 'Indio', 'Indiscretamente', 'Indispensable', 'Industria', 'Inesperadamente', 'Infiernito', 'Ingnoro', 'Iniciamos', 'Inmigrante', 'Inolvidable', 'Inquieta', 'Inquietos', 'Insaciables', 'Insinuas', 'Insoportablemente', 'Instagram', 'Intelligent', 'Intenciones', 'Intensamente', 'Intente', 'Intentemoslo', 'Intro', 'Inventado', 'Inventame', 'Inventare', 'Invitados', 'Inyectandome', 'Iremos', 'Irnos', 'Irving', 'Iupipati', 'Izquierda', 'Iztapalapa', 'Jacinto', 'Jacky', 'Jacob', 'Jaguar', 'Jaimes', 'Jajaja', 'Jajajaja', 'Jajay', 'Jalado', 'Jalamos', 'Jalese', 'Jalisco', 'Jamaas', 'Jamas', 'Jeday', 'Jentends', 'Jerez', 'Jerry', 'Jessie', 'Jetski', 'Jhayco', 'Jimenez', 'Jodido', 'Jodienda', 'Jorge', 'Joseph', 'Jowny', 'Jpourrais', 'Jsuis', 'Juana', 'Juancho', 'Juanes', 'Juarez', 'Jueves', 'Jugabas', 'Jugar', 'Jugaste', 'Julieta', 'Julio', 'Julion', 'Junior', 'Juntando', 'Junte', 'Juntemos', 'Junto', 'Juntos', 'Juramos', 'Juraran', 'Juraste', 'Justin', 'Justo', 'KIKIN', 'Kardashian', 'Karol', 'Kassino', 'Kevin', 'Kingz', 'Kissin', 'LETRA', 'LETRAS', 'LLegaste', 'LUGAR', 'Labios', 'Lamas', 'Lambebicho', 'Lambo', 'Lamento', 'Lanzate', 'Lassie', 'Lastima', 'Lastimado', 'Latido', 'Latino', 'Latinoamerica', 'Laura', 'Laurita', 'Lavandote', 'Lavar', 'League', 'Leamos', 'Leandro', 'Leche', 'Leggo', 'Lejos', 'Lenin', 'Lentamente', 'Lento', 'Leticia', 'Levantamos', 'Levantando', 'Levis', 'Liban', 'Liberar', 'Limon', 'Limosnero', 'Limpia', 'Linares', 'Linda', 'Lindo', 'Listo', 'Literal', 'Lizarraga', 'Llama', 'Llamadas', 'Llamame', 'Llamas', 'Llega', 'Llegabas', 'Llegan', 'Llegarian', 'Llegarias', 'Llegarme', 'Llegaron', 'Llegas', 'Llegaste', 'Llego', 'Llegue', 'Llena', 'Llenarte', 'Llenas', 'Lleno', 'Lleva', 'Llevaban', 'Llevala', 'Llevame', 'Llevamos', 'Llevando', 'Llevandote', 'Llevarme', 'Llevarte', 'Llevas', 'Llevo', 'Llora', 'Lloramos', 'Llorando', 'Llorar', 'Lloraras', 'Llorare', 'Llore', 'Lloro', 'Lluvia', 'Locura', 'Locutoras', 'Locutores', 'Logra', 'Lograre', 'Lograste', 'London', 'Loops', 'Lorena', 'Louis', 'Lovin', 'Lucero', 'Luchando', 'Lucho', 'Lucky', 'Luego', 'Luian', 'Lunay', 'Lupita', 'Macario', 'Machos', 'Macorina', 'Madera', 'Madre', 'Madrecita', 'Madueno', 'Magdalena', 'Magico', 'Magicos', 'Malaya', 'Malboro', 'Maldiciendote', 'Maldita', 'Maldito', 'Maluma', 'Mamacita', 'Mamasita', 'Mambo', 'Manana', 'Manantial', 'Mandale', 'Mandaselo', 'Mando', 'Manos', 'Maquillaje', 'Marbella', 'Marca', 'Marcharme', 'Marchate', 'Marchitandome', 'Marciano', 'Maria', 'Mariposas', 'Marquez', 'Marquis', 'Martin', 'Mataste', 'Matata', 'Match', 'Mauricio', 'Maybe', 'Mayor', 'Mazatlan', 'Medellin', 'Medias', 'Medillin', 'Medina', 'Medio', 'Medusa', 'Mejor', 'Mejores', 'Melissa', 'Mendigo', 'Menea', 'Menos', 'Mente', 'Menti', 'Mentiras', 'Mercede', 'Merezco', 'Meseon', 'Metele', 'Mexicali', 'Mexicano', 'Mexico', 'Miami', 'Mientas', 'Mientele', 'Mienteme', 'Mientes', 'Mientra', 'Mientras', 'Milano', 'Miles', 'Millie', 'Mirala', 'Mirame', 'Mirando', 'Mirandome', 'Mirar', 'Mirarte', 'Mirate', 'Mirela', 'Miren', 'Mirenme', 'Mismo', 'Mochis', 'Mocorito', 'Modelame', 'Mojada', 'Molly', 'Momentos', 'Montado', 'Montana', 'Montando', 'Montarme', 'Montate', 'Monterey', 'Monterrey', 'Moquito', 'Morelos', 'Morir', 'Mosaico', 'Motor', 'Muaaa', 'Mucha', 'Muchachitas', 'Muchas', 'Muerdeme', 'Muerdes', 'Muero', 'Muerte', 'Muevalo', 'Muevan', 'Mueve', 'Muevelo', 'Mueven', 'Muevete', 'Mugre', 'Mujer', 'Mujeres', 'Mulata', 'Muriendome', 'Music', 'Musical', 'Mutilado', 'Mutuamente', 'NORTENA', 'Nacha', 'Nachas', 'Nacho', 'Nacido', 'Nacieron', 'Nacio', 'Nadamas', 'Nadamos', 'Nadie', 'Nadita', 'Naila', 'Nakamura', 'Natalia', 'Natanael', 'Natti', 'Naturalmente', 'Navidad', 'Nayarit', 'Necesario', 'Necesitaba', 'Necesitaria', 'Necesitarias', 'Necesito', 'Negarte', 'Negra', 'Negrita', 'Negrito', 'Nelly', 'Nibiru', 'Nicky', 'Ningun', 'Ninguna', 'Nobel', 'Noche', 'Nochebuena', 'Noches', 'Nodal', 'Nogales', 'Nomas', 'Nonstop', 'Noria', 'Norte', 'Norteno', 'Nubes', 'Nueva', 'Nuevo', 'Nunca', 'Oakland', 'Oasis', 'Oaxaca', 'Obligo', 'Obregon', 'Obviamente', 'Obvio', 'Ocultando', 'Ocupada', 'Ofrecele', 'Ojala', 'Ojitos', 'Olvida', 'Olvidando', 'Olvidar', 'Olvidarnos', 'Olvidarte', 'Olvidate', 'Orale', 'Orgullo', 'Oriente', 'Original', 'Oscura', 'Otono', 'Oyeme', 'Ozuna', 'PERDI', 'Pablo', 'Pabon', 'Pacata', 'Pagabas', 'Pagaras', 'Pajarillo', 'Palabra', 'Palabras', 'Paloma', 'Pancho', 'Pantene', 'Papis', 'Paraguay', 'Parar', 'Parce', 'Parece', 'Parecen', 'Pareces', 'Pareciera', 'Parense', 'Parte', 'Parto', 'Pasabamos', 'Pasado', 'Pasame', 'Pasamos', 'Pasan', 'Pasando', 'Pasarla', 'Pasas', 'Pasaste', 'Pasear', 'Paseare', 'Pasele', 'Pastrana', 'Paulina', 'Pedacito', 'Pedian', 'Pedro', 'Peine', 'Pelea', 'Peleas', 'Peligrosa', 'Peligroso', 'Pelinegra', 'Pellizcame', 'Penasco', 'Penco', 'Pensando', 'Pensar', 'Pensaran', 'Pensaste', 'Pense', 'Pequenos', 'Perder', 'Perderte', 'Perdi', 'Perdia', 'Perdida', 'Perdidos', 'Perdieron', 'Perdio', 'Perdiste', 'Perdon', 'Perdona', 'Perdoname', 'Perfecta', 'Perfil', 'Perfume', 'Permitame', 'Permitas', 'Permiteme', 'Perreamos', 'Pesares', 'Pidanme', 'Pideme', 'Piden', 'Pidiendo', 'Pidiendole', 'Piensa', 'Piensalo', 'Pienses', 'Pienso', 'Pierda', 'Pierdes', 'Pierdo', 'Pinche', 'Pineda', 'Pintarte', 'Pinto', 'Pisando', 'Pistea', 'Pisteamos', 'Pisteando', 'Pisteare', 'Pistearemos', 'Placer', 'Planes', 'Plano', 'Platicamos', 'Platicando', 'Platicandole', 'Plebitas', 'Pobre', 'Pobrecita', 'Pocas', 'Pocos', 'Podemos', 'Poderosa', 'Poderte', 'Podra', 'Podras', 'Podre', 'Podria', 'Poeta', 'Polvo', 'Ponernos', 'Ponerte', 'Pongamos', 'Pongan', 'Ponganse', 'Pongo', 'Poniendome', 'Ponlas', 'Ponme', 'Ponte', 'Porrez', 'Porta', 'Portaban', 'Posicion', 'Prada', 'Precisamente', 'Precisas', 'Preferimos', 'Preferiste', 'Prefiero', 'Preguntale', 'Preguntaranse', 'Preguntas', 'Prendamos', 'Prende', 'Prendiendo', 'Presagiando', 'Presenti', 'Presiento', 'Preso', 'Prestamela', 'Presumi', 'Presumia', 'Presumias', 'Presumiendo', 'Presumir', 'Pretendo', 'Prieta', 'Primavera', 'Primera', 'Primero', 'Primo', 'Probablemente', 'Probaste', 'Probe', 'Problema', 'Procesion', 'Procura', 'Procuro', 'Promesas', 'Prometo', 'Pronto', 'Pronuncio', 'Provocame', 'Provocando', 'Prrra', 'Prueba', 'Pueblo', 'Puede', 'Pueden', 'Puedes', 'Puedo', 'Puerto', 'Puesta', 'Puesto', 'Pumba', 'Puras', 'Purititita', 'Putain', 'Quebrando', 'Queda', 'Quedamos', 'Quedarme', 'Quedaron', 'Quedarse', 'Quedate', 'Quede', 'Quedo', 'Quemabamo', 'Quemado', 'Quemando', 'Queremos', 'Quererte', 'Queretaro', 'Queria', 'Querian', 'Querido', 'Queriendo', 'Queriendole', 'Queriendote', 'Quiebra', 'Quiera', 'Quiere', 'Quierelo', 'Quiereme', 'Quieren', 'Quieres', 'Quiero', 'Quiles', 'Quimico', 'Quique', 'Quise', 'Quisiera', 'Quisieras', 'Quisiste', 'Quita', 'Quitame', 'Quitandote', 'Quitate', 'Quiza', 'Quizas', 'RESUMEN', 'Rakata', 'Ramirez', 'Ramona', 'Ramones', 'Rancho', 'Ranking', 'Ransom', 'Raquel', 'Rascabicho', 'Rayando', 'Rayito', 'Raymix', 'Razon', 'Realidad', 'Rebajada', 'Rebajalo', 'Rebota', 'Rechazo', 'Recibe', 'Recibiendo', 'Recibio', 'Recoditos', 'Recodo', 'Recoge', 'Recogerte', 'Recomiendo', 'Reconocer', 'Reconosco', 'Reconozco', 'Recordando', 'Recordandome', 'Recordar', 'Recordarla', 'Recorde', 'Records', 'Recorrer', 'Recorrerte', 'Recorro', 'Recuerda', 'Recuerdales', 'Recuerdo', 'Recuerdos', 'Recuperarse', 'Recurro', 'Redondito', 'Reebook', 'Reflejo', 'Regaladas', 'Regalale', 'Regalame', 'Regalarte', 'Regalito', 'Regalo', 'Reggaeton', 'Reggaetonera', 'Regresa', 'Regresar', 'Regresaras', 'Regresas', 'Regreso', 'Reirnos', 'Relacione', 'Relajado', 'Remendando', 'Renacio', 'Renovacion', 'Renuncio', 'Reportense', 'Reposado', 'Resaltando', 'Rescatar', 'Resignarme', 'Respeta', 'Respeto', 'Respirando', 'Respirar', 'Respiro', 'Responsable', 'Respuesta', 'Resulta', 'Resultaste', 'Resulto', 'Retacado', 'Reves', 'Revivir', 'Richard', 'Ricki', 'Ricky', 'Ricos', 'Rieleros', 'Rihanna', 'Ritmo', 'Rivera', 'Robar', 'Robarle', 'Robarme', 'Robarte', 'Robert', 'Rodar', 'Rogar', 'Rogare', 'Rojos', 'Rolls', 'Romantica', 'Romeo', 'Rompe', 'Rompemo', 'Rompiendo', 'Ronca', 'Rosalia', 'Rosita', 'Royce', 'Rubio', 'Ruegame', 'Ruego', 'Ruido', 'Rumbo', 'Rusia', 'Sabanas', 'Sabemos', 'Saben', 'Saber', 'Sabes', 'Sabia', 'Sabiendo', 'Sabras', 'Sabroso', 'Sacaban', 'Sacare', 'Sacarte', 'Sacaste', 'Sacate', 'Sacramento', 'Sacrifique', 'Sacude', 'Sagrada', 'Salazar', 'Sales', 'Salga', 'Salgamos', 'Salias', 'Salido', 'Salieron', 'Salio', 'Salir', 'Salome', 'Salucita', 'Salud', 'Saludazos', 'Saludcita', 'Salvador', 'Salvame', 'Sanaste', 'Sanchez', 'Sangre', 'Santa', 'Saquen', 'Saquense', 'Sarcasticamente', 'Sebastian', 'Sediento', 'Seducidos', 'Seducirte', 'Seguido', 'Seguira', 'Seguiras', 'Seguire', 'Segun', 'Segura', 'Seguramente', 'Seguro', 'Sembrare', 'Sencilla', 'Senderos', 'Senor', 'Senores', 'Senorita', 'Sensaciones', 'Sentada', 'Sentado', 'Senti', 'Sentia', 'Sentimientos', 'Sentiras', 'Sento', 'Septima', 'Sepultaste', 'Seran', 'Seras', 'Sereee', 'Seria', 'Serias', 'Shakira', 'Siembra', 'Siempre', 'Siendo', 'Siento', 'Sierra', 'Siete', 'Sigue', 'Sigues', 'Siguete', 'Siguiendo', 'Siguiendole', 'Silla', 'Simon', 'Simpatice', 'Simple', 'Simplemente', 'Sinaloa', 'Sinaloense', 'Sinalos', 'Sinceramente', 'Sintiendote', 'Sippin', 'Sirvame', 'Sirvete', 'Skillz', 'Skype', 'Snapchats', 'Snoop', 'Snoopie', 'Sobornen', 'Solamente', 'Solitario', 'Solito', 'Solos', 'Soltera', 'Sonabas', 'Sonador', 'Sonando', 'Sonidero', 'Sonoita', 'Sonora', 'Sonreimos', 'Sonrisa', 'Soportar', 'Sorry', 'Sosteniendo', 'Speaking', 'Sport', 'Straight', 'Suave', 'Subele', 'Suben', 'Subestimaron', 'Subir', 'Sucedieron', 'Sucia', 'Suele', 'Suelta', 'Sueltate', 'Suena', 'Suenalo', 'Sueno', 'Suenos', 'Suerte', 'Sufriendo', 'Sufro', 'Sugiero', 'Sumbalo', 'Super', 'Supiste', 'Supongamo', 'Surgio', 'Suspiro', 'Syntek', 'TAMBIEN', 'Taiko', 'Tainy', 'Taiwan', 'Talvez', 'Tambien', 'Tamos', 'Tampoco', 'Tanta', 'Tantas', 'Tantos', 'Tapese', 'Tapia', 'Tarareando', 'Tarda', 'Tarde', 'Tatua', 'Tective', 'Teddy', 'Temerarios', 'Tendra', 'Tendras', 'Tendre', 'Tenerte', 'Tenia', 'Tenian', 'Tenias', 'Teniendote', 'Tentacion', 'Tepic', 'Tepito', 'Tequila', 'Tequilita', 'Teresa', 'Terminar', 'Termine', 'Tfacon', 'Thats', 'Tiempo', 'Tiendes', 'Tierno', 'Tierra', 'Tijuana', 'Timida', 'Timon', 'Tinder', 'Tirada', 'Tirao', 'Tirate', 'Tirele', 'Tiren', 'Tocame', 'Tocar', 'Tocarme', 'Todas', 'Todavia', 'Toditas', 'Todito', 'Toditos', 'Tomado', 'Tomados', 'Tomando', 'Tomandola', 'Tomandome', 'Tomar', 'Tomare', 'Tomaremos', 'Tomarte', 'Tonta', 'Tonteria', 'Tonto', 'Tostandose', 'Total', 'Totalmente', 'Trabajador', 'Trabajo', 'Traela', 'Traeme', 'Traes', 'Tragos', 'Traia', 'Traian', 'Traicion', 'Traicionandote', 'Traidores', 'Traiganle', 'Traigo', 'Trajeron', 'Trakalosa', 'Tranquila', 'Tranquilamente', 'Tranquilito', 'Tratan', 'Tratando', 'Tratandola', 'Tratare', 'Tratela', 'Trato', 'Trepate', 'Tribu', 'Triste', 'Tristezas', 'Tropece', 'Trucha', 'Trueno', 'Trujillo', 'Tucanes', 'Tumba', 'Turks', 'Twitter', 'Ultima', 'Unica', 'Uniteds', 'Universal', 'Uresti', 'Uruguay', 'Usted', 'Utiliza', 'Uuuuyyyyy', 'Uuuuyyyyyy', 'Uuuyyyy', 'Vacation', 'Vacio', 'Vales', 'Valiente', 'Valientes', 'Valio', 'Valoraras', 'Vamonos', 'Vamos', 'Vanidosa', 'Vargas', 'Varios', 'Vaticano', 'Vegas', 'Veias', 'Veinte', 'Veintiuno', 'Vencedor', 'Venda', 'Vendanme', 'Vendedora', 'Vendiendo', 'Vendran', 'Venecia', 'Venezuela', 'Venga', 'Vengan', 'Venganse', 'Venganza', 'Vengo', 'Venia', 'Venimos', 'Veniste', 'Vente', 'Veracruz', 'Veras', 'Verdad', 'Verle', 'Verme', 'Vestida', 'Vicente', 'Victor', 'Vidrio', 'Viejo', 'Viejon', 'Viendo', 'Viene', 'Vienes', 'Vieran', 'Vieras', 'Viernes', 'Vimos', 'Viniste', 'Virgilio', 'Virlan', 'Visto', 'Vivamos', 'Vivar', 'Viven', 'Vives', 'Vivete', 'Vivia', 'Viviendo', 'Vivir', 'Vivirte', 'Volabas', 'Volando', 'Volkswagen', 'Volteo', 'Volvamos', 'Volver', 'Volvera', 'Volveran', 'Volveras', 'Volvere', 'Volvi', 'Volvio', 'Vomito', 'Vuela', 'Vuelas', 'Vuelva', 'Vuelvanlo', 'Vuelve', 'Vuelveme', 'Vuelvo', 'Vuitton', 'Wanaga', 'Watabuinegui', 'Watanegui', 'Whats', 'Whatsapp', 'Whenever', 'Whiski', 'Wisin', 'Yaguaru', 'Yandel', 'Yankee', 'Yasso', 'Yaviah', 'Yazid', 'Yeezy', 'Youll', 'Youre', 'Zapateale', 'Zarandeando', 'abajar', 'abandonar', 'abandonarme', 'abismar', 'abogar', 'abolengo', 'abonero', 'aborrecer', 'aborrecerte', 'abrasar', 'abrasarlo', 'abrazame', 'abrazar', 'abrazarla', 'abrazarlo', 'abrazarte', 'abrazo', 'abrigar', 'abrigarla', 'abrigarme', 'abril', 'abrir', 'abrirme', 'abrirte', 'absorber', 'absurdo', 'abuelo', 'aburricion', 'aburrimiento', 'aburrir', 'abusar', 'acabamo', 'acabandose', 'acabar', 'acabarme', 'acabarse', 'acalambrar', 'acariciar', 'acariciarte', 'acariname', 'acaso', 'acceso', 'accion', 'acelerador', 'aceleralo', 'acelerar', 'aceptalo', 'aceptar', 'aceptarlo', 'acepto', 'acerar', 'acercandome', 'acercar', 'acercarme', 'acercate', 'aclamar', 'aclarar', 'aclararle', 'aclararte', 'acomodar', 'acomodarme', 'acomodese', 'acompaname', 'acompanar', 'acompanarte', 'acompleta', 'aconsejar', 'aconsejarme', 'acoplar', 'acordar', 'acordarme', 'acordarte', 'acordeon', 'acordeonar', 'acorralar', 'acosar', 'acosarte', 'acostar', 'acostumbrar', 'actitu', 'actitud', 'activar', 'actuar', 'acumular', 'acurrucar', 'addicted', 'adelantar', 'ademar', 'adentrar', 'adeveras', 'adherir', 'adiccion', 'adicto', 'adios', 'adivinar', 'adjetivo', 'administrar', 'admiracion', 'admirador', 'admirar', 'admirarla', 'admirarme', 'admirarte', 'admitelo', 'admitir', 'adolescente', 'adonde', 'adorar', 'adorarla', 'adorarte', 'adornar', 'adorno', 'adrenalina', 'aduenar', 'aduenarse', 'adulto', 'adversario', 'advertir', 'aeropuerto', 'afanar', 'afectar', 'afecto', 'afeitarte', 'aferrar', 'afilar', 'afirmar', 'aforar', 'afortunado', 'africano', 'agalla', 'agarrame', 'agarrar', 'agarrarlo', 'agarre', 'agendarme', 'agitar', 'agonia', 'agotar', 'agradar', 'agradecer', 'agradecerte', 'agradecimiento', 'agrandar', 'agredir', 'agrietar', 'agrura', 'aguantadores', 'aguantar', 'aguantarme', 'aguantarte', 'aguar', 'aguardiente', 'aguerrir', 'aguila', 'aguita', 'aguitado', 'aguitamos', 'aguitando', 'aguite', 'aguiten', 'aguja', 'agujerar', 'agusto', 'ahogar', 'ahogarme', 'ahora', 'ahorita', 'ahorrar', 'ahorro', 'ahumar', 'ahuyentar', 'ajeno', 'ajetrear', 'ajoro', 'ajustar', 'alado', 'alarde', 'alargame', 'alargar', 'alarmar', 'alarmarte', 'alazan', 'alborotar', 'alcahuete', 'alcantarillar', 'alcanzar', 'alcohol', 'alegar', 'alegrandote', 'alegrar', 'alegrarme', 'alegrarnos', 'alegria', 'aleira', 'alejar', 'alejarme', 'alejarnos', 'alejarte', 'alentar', 'alergico', 'alertar', 'alguien', 'algun', 'alguno', 'alhajar', 'aliar', 'alimentar', 'alimentarnos', 'alinear', 'alivianar', 'aliviar', 'almohada', 'aloca', 'alocado', 'aloco', 'alone', 'alrededor', 'alrteran', 'altamente', 'altar', 'alterar', 'altura', 'alucinacion', 'alucinar', 'alucinarme', 'alucinarte', 'alumbrar', 'alumno', 'always', 'alzar', 'amable', 'amalgamar', 'amandome', 'amandonos', 'amandote', 'amanecer', 'amanerar', 'amanos', 'amansar', 'amante', 'amarar', 'amargar', 'amargo', 'amargura', 'amarla', 'amarme', 'amarnoa', 'amarnos', 'amarrao', 'amarrar', 'amarte', 'ambicionar', 'ambientar', 'ambos', 'amenazar', 'amenizar', 'ameritar', 'amigar', 'amigo', 'amiguita', 'amistad', 'amistar', 'amnesia', 'amooor', 'amorcito', 'amore', 'amoroso', 'amorpor', 'amuleto', 'anatomia', 'ancho', 'anclar', 'andador', 'andale', 'andamo', 'andar', 'andarme', 'andarse', 'andarte', 'andube', 'anecdota', 'anestesiar', 'angel', 'angelcillo', 'angustiar', 'anhelar', 'anhelo', 'anidar', 'anillar', 'animal', 'animar', 'anoche', 'anorar', 'anormal', 'ansia', 'ansiedad', 'ansioso', 'antecedente', 'antemano', 'anterior', 'anticipo', 'antidito', 'antidoto', 'antiguo', 'antojar', 'antojo', 'antro', 'anzuelo', 'apadrinar', 'apagar', 'apalabrar', 'apantallar', 'apapachar', 'apapachen', 'aparecer', 'aparentar', 'aparente', 'aparentemente', 'apartamento', 'apartar', 'aparte', 'apasionar', 'apedrear', 'apellidar', 'apellido', 'apenar', 'apenitas', 'apestar', 'apiadar', 'aplastar', 'aplaudir', 'aplauso', 'aplicar', 'apocalipsis', 'apocar', 'apodar', 'apoderar', 'apostar', 'apostarle', 'apoyar', 'apoyarte', 'apreciar', 'aprender', 'aprendi', 'apres', 'apresurar', 'apretar', 'apretarte', 'apreton', 'aprisa', 'aprobar', 'aprovechar', 'aprovecharlo', 'aprovecharse', 'apunalar', 'apuntar', 'apuro', 'aquel', 'aquellito', 'aquietar', 'aquiles', 'aranar', 'arbol', 'arbolero', 'arbolito', 'arder', 'ardiente', 'ardor', 'arenar', 'argumentar', 'armadura', 'armao', 'armar', 'aromar', 'around', 'arrancandote', 'arrancar', 'arrancaria', 'arrancarla', 'arrancarme', 'arrancarte', 'arrancones', 'arranque', 'arrastrandome', 'arrastrar', 'arrebatao', 'arrebatar', 'arreglamo', 'arreglar', 'arremangar', 'arrendador', 'arrepentimiento', 'arrepentir', 'arrepentirse', 'arrestar', 'arrestarte', 'arribar', 'arriero', 'arriesgar', 'arriesgarme', 'arrimar', 'arrive', 'arrodillarme', 'arrogancia', 'arrogante', 'arropar', 'arroz', 'arrugar', 'arruinar', 'arruinarlo', 'arruinarme', 'arrullar', 'arsenal', 'artista', 'ascensor', 'asear', 'asegurar', 'asegurarte', 'asemejar', 'asesino', 'asimilar', 'asomar', 'asombrar', 'aspecto', 'aspirador', 'aspirina', 'astillar', 'asumir', 'asunto', 'asustar', 'atacar', 'atarantar', 'atarantarlo', 'atardecer', 'atardecia', 'atencion', 'atencione', 'atender', 'atener', 'atentar', 'atento', 'atesorar', 'atolito', 'atomo', 'atorar', 'atormentao', 'atormentarte', 'atrabancar', 'atraccion', 'atractivo', 'atraer', 'atrapar', 'atraparme', 'atraparte', 'atras', 'atrasar', 'atravesar', 'atravieza', 'atrever', 'atrevete', 'atrevido', 'atrincar', 'atropellar', 'atroz', 'aturdir', 'audaz', 'aullar', 'aurora', 'ausencia', 'ausentar', 'ausente', 'autentico', 'automatico', 'autor', 'autorizacion', 'autorizar', 'avanzar', 'aventar', 'aventurar', 'avergonzar', 'averigues', 'avezar', 'avienta', 'avion', 'avisar', 'avispero', 'awite', 'ayudante', 'ayudar', 'ayudarla', 'ayudarlos', 'ayudarme', 'ayudarte', 'ayudele', 'ayuno', 'azahar', 'azotar', 'azucar', 'babai', 'babero', 'babies', 'bahamas', 'bailador', 'bailame', 'bailandome', 'bailar', 'bailarla', 'bailarlo', 'baile', 'bailele', 'bailon', 'bails', 'bajale', 'bajame', 'bajar', 'bajarle', 'bajarte', 'bajartela', 'bajito', 'bajon', 'balaju', 'balancear', 'balar', 'balcon', 'baldar', 'balero', 'balsa', 'banar', 'banarte', 'banca', 'banco', 'banda', 'bandido', 'bando', 'bandolero', 'bandona', 'banqueta', 'banquetazos', 'barato', 'barbar', 'barbaros', 'barca', 'barco', 'barquito', 'barreno', 'barrer', 'barrera', 'barrigon', 'barriguita', 'barrio', 'basar', 'bastante', 'bastantemente', 'bastar', 'basto', 'basura', 'batallar', 'batear', 'batir', 'bautizar', 'beato', 'beber', 'beberla', 'bebida', 'becerro', 'belen', 'believe', 'beliz', 'bellaco', 'bellaqueabamo', 'bellaquisima', 'bellaquisimo', 'belleza', 'bello', 'bendecido', 'bendecir', 'bendicion', 'beneficiar', 'bengala', 'berrinche', 'besala', 'besame', 'besandote', 'besar', 'besarla', 'besarle', 'besarme', 'besarnos', 'besarte', 'besee', 'besillos', 'besito', 'besitos', 'bestia', 'besuquear', 'better', 'biberon', 'bichar', 'bichote', 'bicicleta', 'bienvenido', 'bikini', 'billete', 'billeton', 'bipolar', 'bitches', 'blame', 'blanco', 'blanquita', 'blanquito', 'blindaje', 'blindar', 'blocar', 'blooper', 'bloqueador', 'bloquear', 'blunt', 'blusa', 'blusita', 'bocinar', 'bocota', 'bohemio', 'bolenda', 'boleto', 'bolsa', 'bolsillo', 'bombon', 'bondad', 'bonito', 'booty', 'boquita', 'bordar', 'borrachera', 'borrachito', 'borracho', 'borrandote', 'borrao', 'borrar', 'borrarme', 'botar', 'botecito', 'botella', 'botelleo', 'botellita', 'boton', 'botonar', 'boulevard', 'boutique', 'bramar', 'brasero', 'bravaron', 'bravo', 'braza', 'brazo', 'bregar', 'breve', 'brigada', 'brillante', 'brillar', 'brincar', 'brindar', 'brindarse', 'brindarte', 'bring', 'brisa', 'bromar', 'bromear', 'bronco', 'brotar', 'browns', 'browser', 'brujeria', 'brujir', 'bruto', 'buche', 'buchon', 'buenazo', 'bueno', 'buildin', 'buitre', 'bulear', 'bulevar', 'bumper', 'bunuelo', 'burlanote', 'burlao', 'burlar', 'burlesco', 'burro', 'buscabulla', 'buscandome', 'buscandote', 'buscar', 'buscarla', 'buscarle', 'buscarme', 'buscarte', 'cabal', 'cabalgar', 'caballero', 'caballito', 'caballo', 'caballon', 'cabellar', 'cabellera', 'cabello', 'caber', 'cabeza', 'cabron', 'cabrone', 'cacahuatazos', 'cacahuate', 'cacerio', 'cachar', 'cacharte', 'cachetada', 'cachete', 'cacho', 'cadena', 'cadencia', 'cadenita', 'cadera', 'cafre', 'cagao', 'cagar', 'caida', 'caites', 'cajon', 'calabozo', 'calar', 'calcular', 'calendario', 'calentar', 'calenton', 'calidad', 'califa', 'calificativo', 'california', 'californiano', 'calla', 'calladito', 'callar', 'callarlo', 'callarme', 'callate', 'calle', 'calmamo', 'calmar', 'calmarme', 'calmate', 'calmo', 'calor', 'calzon', 'camarada', 'camaro', 'cambiar', 'cambiarla', 'cambiarlos', 'cambiarme', 'cambiarte', 'cambiate', 'camelia', 'camello', 'caminar', 'caminarse', 'caminito', 'camino', 'camion', 'camioneta', 'camioneton', 'camisa', 'camita', 'campana', 'campante', 'campar', 'campeon', 'camposanto', 'camuflaje', 'camuflajeaba', 'cancelar', 'cancer', 'cancion', 'cancione', 'candar', 'candela', 'candidato', 'cangrejo', 'canijo', 'canoso', 'cansancio', 'cansar', 'cansarme', 'cansarnos', 'cantandole', 'cantante', 'cantar', 'cantarle', 'cantarles', 'cantarlo', 'cantarte', 'cante', 'cantidad', 'cantina', 'cantinero', 'canto', 'capacidad', 'capar', 'capaz', 'capear', 'capital', 'capitular', 'capitulo', 'capricho', 'caprichoso', 'caracol', 'caracter', 'carajo', 'caramelo', 'caray', 'carcajada', 'carcel', 'cardboard', 'carecer', 'carencia', 'careta', 'cargar', 'caribe', 'caricia', 'carinito', 'carino', 'carinoso', 'carisma', 'carita', 'carnal', 'carnala', 'carnaval', 'carne', 'carpir', 'carrera', 'carretero', 'carrito', 'carro', 'carta', 'cartel', 'cartero', 'cartita', 'carton', 'casar', 'casarse', 'casarte', 'cascaron', 'caseta', 'casimiro', 'castellano', 'castigar', 'castigarte', 'castillo', 'casual', 'casualidad', 'catarro', 'catchana', 'catin', 'catolico', 'causar', 'causarme', 'cautelar', 'cautivar', 'cautivo', 'cazar', 'ceder', 'cederme', 'cegar', 'cejar', 'celar', 'celebrar', 'celebrarme', 'celestial', 'celoso', 'celula', 'celular', 'cementerio', 'cenar', 'cenizo', 'centavo', 'centrar', 'cercar', 'cerdo', 'cerebro', 'cereza', 'cerio', 'cerquita', 'cerquitas', 'cerrar', 'cerro', 'cerrojo', 'certeza', 'cervecita', 'cervecitas', 'cerveza', 'cesar', 'chaka', 'chaleco', 'chamaco', 'chamarra', 'chamba', 'chambea', 'chambeando', 'chambear', 'champan', 'champion', 'championa', 'champurrar', 'chanate', 'chancla', 'change', 'chantaje', 'chanza', 'chapar', 'chaparrita', 'chapeadora', 'chapete', 'chapi', 'chapin', 'chapulineada', 'charanda', 'charlar', 'charolar', 'charro', 'chatear', 'chavalada', 'chavalo', 'chavo', 'cheese', 'chela', 'chelas', 'cheque', 'cherchar', 'chicharron', 'chicle', 'chico', 'chido', 'chiflido', 'chila', 'chileno', 'chillar', 'chimbitas', 'chingaderas', 'chingao', 'chingar', 'chingo', 'chingon', 'chino', 'chiquillo', 'chiquitica', 'chiquititita', 'chiquitito', 'chiquito', 'chisme', 'chispo', 'chistar', 'chiste', 'chivar', 'chivo', 'chocale', 'chocar', 'chocolate', 'chona', 'choses', 'chueco', 'chulada', 'chulita', 'chulo', 'chupale', 'chupar', 'chupito', 'chupitos', 'chupon', 'cicatriz', 'cicatrizar', 'ciclar', 'ciclo', 'ciegamente', 'ciego', 'cielo', 'ciento', 'cierto', 'cifrar', 'cigarrito', 'cigarro', 'cincar', 'cincuenta', 'cinico', 'cintar', 'cintura', 'cinturita', 'cinturon', 'circo', 'circular', 'circunstancia', 'cirquito', 'cirujano', 'citar', 'ciudad', 'clamato', 'clandestino', 'claramente', 'clarinete', 'clarito', 'claro', 'clase', 'clasico', 'clavar', 'clavo', 'clemencia', 'click', 'cliente', 'close', 'closet', 'cobarde', 'cobijar', 'cobrar', 'cocar', 'cochambroso', 'coche', 'cochera', 'cociente', 'cocinar', 'coctel', 'codiciar', 'codigo', 'coger', 'cogerle', 'cogerme', 'coincidencia', 'coincidir', 'cojon', 'cojone', 'colaborar', 'colaborarles', 'colchon', 'coleccion', 'colesterol', 'colgar', 'colgarte', 'colgarل', 'collar', 'colmar', 'colmillo', 'colombiano', 'colonia', 'color', 'coloradita', 'colorar', 'colorir', 'columpiar', 'comal', 'combar', 'combi', 'combustible', 'comeme', 'comemo', 'comentar', 'comentario', 'comenzar', 'comer', 'comerme', 'comerte', 'cometer', 'comezon', 'comias', 'comico', 'comiendome', 'comiendote', 'comillas', 'comme', 'comment', 'comodidad', 'comodo', 'compa', 'compadrar', 'compadre', 'companero', 'compania', 'comparar', 'comparsa', 'compartias', 'compartir', 'compas', 'compasion', 'compaz', 'compdre', 'compe', 'compensar', 'competencia', 'competir', 'complacer', 'complacerte', 'complaciendote', 'complaciente', 'complementar', 'completamente', 'completar', 'completarlo', 'completita', 'completo', 'complicacion', 'complicar', 'complice', 'complir', 'componer', 'comportamiento', 'comprar', 'comprarlo', 'comprarte', 'comprender', 'comprenderlo', 'comprension', 'comprob', 'comprobar', 'comprobe', 'comprometer', 'compromiso', 'comun', 'comunicacion', 'comunicarte', 'conac', 'concebir', 'conceder', 'concentrar', 'concentrarme', 'concertar', 'concidencia', 'concideracion', 'concienciar', 'conciente', 'concluir', 'conclusion', 'condenar', 'condicion', 'condicionar', 'conectar', 'conejo', 'conexion', 'confesar', 'confesarle', 'confesarlo', 'confesarte', 'confesartelo', 'confeso', 'confianza', 'confiar', 'confiarse', 'confidente', 'confirmar', 'confirmarte', 'conflictivo', 'conformar', 'conformarme', 'conformarnos', 'conformarte', 'conforme', 'confundir', 'confundirme', 'confusion', 'confuso', 'congelar', 'conmigo', 'conmoverlos', 'conocemo', 'conocer', 'conocerme', 'conocerte', 'conoci', 'conocina', 'conoscas', 'conpaz', 'conquian', 'conquistame', 'conquistandome', 'conquistar', 'conquistarla', 'conquistarme', 'conquistarse', 'conquistarte', 'consciencia', 'consciente', 'consecuencia', 'consegui', 'conseguir', 'conseguirla', 'consejo', 'consentir', 'conservar', 'considerarte', 'consignar', 'consola', 'consolacion', 'consolar', 'consolarlo', 'consolarme', 'constante', 'constar', 'construi', 'construir', 'consumir', 'consup', 'contabilizar', 'contacto', 'contar', 'contaria', 'contarle', 'contarlo', 'contarte', 'contemplar', 'contemplarte', 'contener', 'contentar', 'contentarla', 'contento', 'contestacion', 'contestar', 'contestarte', 'contigo', 'continente', 'continuar', 'continuo', 'contrario', 'contratar', 'contrato', 'control', 'controlar', 'controlarme', 'convencer', 'convencerme', 'convencerte', 'conveniente', 'convenir', 'conversacion', 'conversar', 'conversarte', 'convertir', 'convertirlo', 'convertirme', 'convertirse', 'conviccion', 'convivir', 'copar', 'copiloto', 'coquetear', 'coqueto', 'coraje', 'corazon', 'corazoncito', 'corazone', 'corazoooon', 'cordura', 'coronamo', 'coronar', 'coronavirus', 'corral', 'correcto', 'corregir', 'corregirme', 'correr', 'corresponder', 'corretiar', 'corridazo', 'corridito', 'corrido', 'corriente', 'corrilo', 'corrupto', 'cortar', 'cortina', 'cortita', 'corto', 'coser', 'cosillas', 'cosita', 'cosquillar', 'costar', 'costoso', 'costumbre', 'cotizar', 'cotorrear', 'couchee', 'couple', 'cours', 'crack', 'creador', 'crear', 'crecer', 'credito', 'creeme', 'creer', 'creerte', 'criar', 'crimen', 'criminal', 'criminality', 'cristo', 'criterio', 'criticar', 'croise', 'cromar', 'croyais', 'crucero', 'crudo', 'cruel', 'crueldad', 'cruzandome', 'cruzar', 'cruzarme', 'cuaco', 'cuaderno', 'cuadrar', 'cuadrito', 'cuadro', 'cuajar', 'cualidad', 'cualquiera', 'cuanto', 'cuarenta', 'cuartar', 'cuartitos', 'cuate', 'cuatro', 'cubita', 'cubitas', 'cubrir', 'cubrirlo', 'cucaracha', 'cuchi', 'cuchilla', 'cucucucucucu', 'cuculandia', 'cuello', 'cuenta', 'cuentale', 'cuentame', 'cuento', 'cuerdo', 'cuerno', 'cuernon', 'cuero', 'cuerpecito', 'cuerpesito', 'cuerpito', 'cuerpo', 'cuerpoy', 'cuestion', 'cuestionar', 'cuetes', 'cuetitos', 'cuidar', 'cuidarla', 'cuidarme', 'cuidarnos', 'cuidarte', 'culebra', 'culiacan', 'culito', 'culpable', 'culpar', 'culparme', 'cultivar', 'cumbia', 'cumbre', 'cumpleanos', 'cumplir', 'cumplirlas', 'cumplirme', 'cumplirse', 'cumplirte', 'cunado', 'cunar', 'cuota', 'cupido', 'curar', 'curarme', 'curarte', 'curiosidad', 'curioso', 'curri', 'currucu', 'cursar', 'cursi', 'curtir', 'daddy', 'danar', 'dancin', 'dandome', 'dandose', 'danzar', 'dapres', 'daredevil', 'darle', 'darles', 'darlo', 'darme', 'darnos', 'daronne', 'darse', 'darte', 'datar', 'dealin', 'dearly', 'debajo', 'deber', 'deberas', 'debil', 'debilidad', 'debutar', 'decente', 'decepcion', 'decepcionar', 'decia', 'decias', 'decidete', 'decidir', 'deciocho', 'decir', 'decirle', 'decirles', 'decirlo', 'decirme', 'decirnos', 'decirte', 'decirtelo', 'decisidido', 'decision', 'declarar', 'deconnes', 'decorar', 'dedicandole', 'dedicar', 'dedicatoria', 'deditos', 'defecto', 'defender', 'defenderme', 'defenderte', 'defiendete', 'definir', 'definitivo', 'defraudar', 'defraudarte', 'degenerar', 'deidad', 'dejala', 'dejalo', 'dejalos', 'dejame', 'dejar', 'dejaria', 'dejarles', 'dejarlo', 'dejarlos', 'dejarme', 'dejarte', 'dejate', 'dejeme', 'dejense', 'delante', 'delatar', 'delegar', 'delgado', 'delicadeza', 'delicado', 'delincuente', 'delirar', 'delire', 'delirio', 'delito', 'demas', 'demasiaado', 'demasiar', 'dembow', 'demencia', 'demente', 'demonio', 'demorar', 'demostrar', 'demostrarle', 'demostrarlo', 'demostrarte', 'demuestrame', 'dentro', 'denunciar', 'departamento', 'depender', 'deportar', 'depreciar', 'depresion', 'depresivo', 'deprisa', 'derecho', 'derivar', 'derretir', 'derretirme', 'derretirse', 'derritiendote', 'derrotar', 'derrumbar', 'derrumbarse', 'desabotonar', 'desabrochar', 'desacata', 'desahogar', 'desahogarme', 'desahogarte', 'desamor', 'desanimo', 'desaparecer', 'desarmar', 'desastre', 'desatar', 'desatrampamos', 'desayunamo', 'desayunar', 'desbalance', 'desbaratar', 'descalabrar', 'descansar', 'descarar', 'descargar', 'descarrilar', 'descartar', 'descifrarte', 'desclavar', 'descolocar', 'desconcentro', 'desconfianza', 'desconocer', 'desconocido', 'descontar', 'descontrolame', 'descortes', 'describir', 'descubrir', 'descuentito', 'descuidar', 'descuidarte', 'desdecir', 'desear', 'desearte', 'desechar', 'deseo', 'desepciones', 'desesperacion', 'desesperar', 'desesperarse', 'desfacer', 'desfile', 'desgarrar', 'desgastar', 'desgraciar', 'deshacer', 'desicion', 'desierto', 'desilusion', 'desilusionar', 'desinfectar', 'desinquieto', 'deslizar', 'deslumbrar', 'desmadrar', 'desmayar', 'desnudar', 'desnudarte', 'desnudez', 'desnudita', 'desnudo', 'desorden', 'desorientar', 'despachar', 'despacio', 'despacito', 'despampanante', 'desparpajar', 'despechar', 'despedir', 'despedirme', 'despedirse', 'despedirte', 'despeinar', 'despejar', 'desperdiciar', 'desperdiciarla', 'despertandote', 'despertar', 'despertarme', 'despertarse', 'despertarte', 'desperte', 'desperto', 'despiadadamente', 'despiadado', 'despierto', 'despistar', 'desplazar', 'despojar', 'despreciar', 'desprecio', 'desprenderse', 'despue', 'despues', 'desquitar', 'destacar', 'destapar', 'destendida', 'desterrar', 'destiempo', 'destinar', 'destrampa', 'destrampo', 'destrozar', 'destrozarme', 'destruir', 'desunir', 'desvelar', 'desvelarme', 'desvestir', 'desviar', 'desvivir', 'detallar', 'detalle', 'detallista', 'detendre', 'detener', 'detenerla', 'detenerlo', 'detenerme', 'detenerte', 'detestar', 'detonacion', 'detra', 'detras', 'deuda', 'deveras', 'deveritas', 'devolver', 'devorar', 'devuelveme', 'diabetes', 'diabetico', 'diablo', 'diamantar', 'diamante', 'diario', 'dibujar', 'diccionario', 'dichoso', 'diciembre', 'diciendome', 'diente', 'dieta', 'diferenciar', 'diferente', 'dificil', 'dificultar', 'digame', 'diganme', 'dignidad', 'dilema', 'diles', 'dimelo', 'dimension', 'dinamitar', 'dinerito', 'dinero', 'diosito', 'diploma', 'diplomado', 'direccion', 'directo', 'dirigir', 'dirigirme', 'disco', 'discoteca', 'discotech', 'discreto', 'disculpame', 'disculpandote', 'disculpar', 'disculparte', 'disculpeme', 'discusion', 'discutir', 'diselo', 'disenar', 'disfraz', 'disfrazar', 'disfrutalo', 'disfrutar', 'disfrutarlas', 'disfrutarlo', 'disfrutarse', 'disfrutate', 'disgustar', 'disimilar', 'disimular', 'disimularlo', 'disipar', 'disparar', 'disponer', 'disponible', 'disque', 'disquera', 'distanciar', 'distante', 'distar', 'distinguir', 'distinto', 'disturbio', 'diversion', 'divertir', 'dividir', 'divino', 'divisar', 'divulgarlo', 'dizque', 'doblar', 'doblarme', 'doctor', 'dolar', 'doler', 'doliendome', 'dolio', 'dolor', 'domesticar', 'domiciliar', 'dominar', 'domingo', 'dondequiera', 'dorar', 'dormir', 'dormirse', 'dormitorio', 'dosis', 'dragon', 'dream', 'drinkin', 'drippin', 'drogar', 'drown', 'drownin', 'drums', 'duchar', 'dudar', 'duela', 'dueno', 'dulce', 'dulcemente', 'dulzura', 'durar', 'durisimo', 'echabamo', 'echale', 'echandose', 'echar', 'echarme', 'echarnos', 'echate', 'echele', 'echizado', 'economico', 'edicion', 'educar', 'efectivo', 'efecto', 'eficiente', 'egoismo', 'egoista', 'ejemplo', 'electricidad', 'electrico', 'electro', 'electrocumbia', 'elegancia', 'elegante', 'elegir', 'elementar', 'elevar', 'eligio', 'eliminame', 'eliminar', 'elote', 'embargar', 'emblema', 'emborrachar', 'emborracharme', 'embriagar', 'embriagarme', 'embriagarte', 'embrujar', 'embustero', 'embutir', 'emerger', 'emigrar', 'emocion', 'emocionar', 'emotivo', 'empacar', 'empanar', 'empecer', 'empedar', 'empedo', 'empenar', 'empeorar', 'empezamo', 'empezao', 'empezar', 'empezo', 'empiernada', 'empinandome', 'empinar', 'empresa', 'empujon', 'enamorar', 'enamorarla', 'enamorarme', 'enamorarse', 'enamorarte', 'encabronada', 'encajar', 'encajoso', 'encantador', 'encantar', 'encantarme', 'encanto', 'encargar', 'encelar', 'encender', 'encenderte', 'encerrar', 'enchinar', 'enchufe', 'encimar', 'encontrar', 'encontrarlo', 'encontrarme', 'encontrarse', 'encontrarte', 'encontre', 'encore', 'encuentro', 'endemoniao', 'endulzar', 'enemigo', 'enero', 'enfermar', 'enfermedad', 'enfermo', 'enfers', 'enfiestado', 'enfiestamos', 'enfiestarme', 'enfiesto', 'enfrentar', 'enfrentarlo', 'enfrentate', 'enganandome', 'enganar', 'enganarme', 'enganchar', 'engano', 'enganoso', 'engreir', 'enloquecer', 'enloquecerse', 'enloquecerte', 'enojar', 'enojo', 'enorme', 'enough', 'enredandose', 'enredar', 'enredarme', 'enrollar', 'enrredar', 'enseguida', 'ensenar', 'ensenarles', 'ensenarme', 'ensenarte', 'enseriar', 'ensillar', 'ensuciar', 'entender', 'entenderla', 'entenderte', 'entendimiento', 'enterar', 'enterarse', 'entero', 'enterrar', 'enterrarme', 'entiendeme', 'entierrenme', 'entonar', 'entonces', 'entramar', 'entrar', 'entrarle', 'entregame', 'entregar', 'entregarle', 'entregarlo', 'entregarme', 'entregarte', 'entrege', 'entrenamiento', 'entrenar', 'entretenido', 'entumir', 'entusiasmar', 'envejecer', 'envenenar', 'enviar', 'enviciar', 'envidiar', 'envidioso', 'envoltura', 'envolver', 'envolviendome', 'enyerbar', 'epale', 'equipaje', 'equipar', 'equivocar', 'equivocarme', 'eramo', 'erguir', 'erizar', 'erotico', 'error', 'escalar', 'escalera', 'escalofrio', 'escandalo', 'escapar', 'escaparme', 'escarchar', 'escatimar', 'escenario', 'esclavo', 'escoger', 'esconder', 'escondernos', 'esconderse', 'escondidos', 'escopeta', 'escotar', 'escrache', 'escribir', 'escuadrar', 'escuchar', 'escucharte', 'escudar', 'escuela', 'escuelita', 'esencia', 'esencial', 'esfera', 'esforzar', 'esfumar', 'esmog', 'espaciar', 'espadar', 'espagueti', 'espalar', 'espalda', 'espaldita', 'espanol', 'espantar', 'espanto', 'especial', 'espectacular', 'espejar', 'espejear', 'espejo', 'esperandote', 'esperanzar', 'esperar', 'esperarme', 'esperarse', 'espesar', 'espiar', 'espinar', 'esposar', 'esposo', 'esque', 'esquema', 'esqui', 'esquinar', 'esquisita', 'esquivar', 'estable', 'estacionar', 'estadio', 'estallar', 'estamo', 'estampar', 'estan', 'estara', 'estaras', 'estarias', 'estarla', 'estarme', 'estarnos', 'estarte', 'estatus', 'estilar', 'estilista', 'estimar', 'estirar', 'estoico', 'estorbar', 'estrellar', 'estrellita', 'estremecer', 'estrenar', 'estres', 'estresaba', 'estriar', 'estribar', 'estribo', 'estube', 'estudiar', 'estupidez', 'estupido', 'estupidos', 'etapa', 'eternamente', 'eternidad', 'eterno', 'etiquetar', 'evadir', 'evangelio', 'every', 'evidenciar', 'evidente', 'evilla', 'evitar', 'evitarlo', 'exactamente', 'exacto', 'exagerar', 'exagerarlo', 'exagerarte', 'exceder', 'excepcional', 'exceso', 'excitar', 'exclusivo', 'excusar', 'exigiendole', 'exigir', 'existencia', 'existir', 'exito', 'exotico', 'expectativa', 'expendio', 'experiencia', 'experto', 'explicacion', 'explicame', 'explicar', 'explicarle', 'explicarte', 'explosionar', 'explosivo', 'explotar', 'expres', 'expresar', 'expresarme', 'expresion', 'express', 'exquisito', 'extender', 'extension', 'extensione', 'extenso', 'extincion', 'extinguir', 'extra', 'extranandote', 'extranar', 'extranarlo', 'extranarme', 'extranarte', 'extrano', 'extraordinario', 'extremar', 'extremo', 'facil', 'facilitar', 'facinas', 'facturar', 'faire', 'fajar', 'fajarme', 'fajitas', 'falda', 'faldita', 'fallar', 'fallarte', 'fallir', 'fallo', 'falsedad', 'falso', 'faltar', 'falto', 'familia', 'famoso', 'fanatico', 'fancy', 'fanfarronear', 'fantasia', 'fantasias', 'fantasma', 'fantastica', 'fantastico', 'farol', 'farra', 'farsante', 'fascinante', 'fascinar', 'fastidiar', 'fastidiarte', 'fatal', 'fatality', 'favela', 'favor', 'favorito', 'febrero', 'febril', 'fecho', 'federal', 'feelin', 'felicidad', 'felicitacion', 'felicitar', 'feliz', 'fenix', 'ferai', 'feriar', 'ferrar', 'fervor', 'festejar', 'festividad', 'fetuccini', 'ficcion', 'fiero', 'fiesta', 'fieston', 'fievre', 'fight', 'figurar', 'fijacion', 'fijador', 'fijar', 'fijarias', 'final', 'financiarte', 'finar', 'fingir', 'finiras', 'fintar', 'firmar', 'firme', 'firmeza', 'first', 'fisico', 'fitted', 'flaco', 'flaquear', 'flaquita', 'flash', 'flechar', 'flojo', 'flotar', 'fluir', 'flyer', 'fogata', 'fondo', 'forgetable', 'formal', 'formar', 'formula', 'formular', 'fortuna', 'forza', 'forzar', 'fotografiar', 'fracasar', 'fracaso', 'fracturar', 'fragancia', 'fragil', 'francamente', 'frances', 'franco', 'frase', 'freaky', 'freakytona', 'frecuencia', 'frecuentar', 'freestyle', 'fregar', 'fregarme', 'fregona', 'freir', 'frenar', 'frente', 'frere', 'fresar', 'fresco', 'frialdad', 'friend', 'friends', 'frijol', 'fronteo', 'frontero', 'fruto', 'fuckin', 'fuego', 'fuente', 'fuerte', 'fuertemente', 'fuerza', 'fugao', 'fugaz', 'fuimo', 'fuistes', 'fulanito', 'fulano', 'fumar', 'fumigar', 'funcion', 'funcionar', 'fundiendose', 'fundir', 'funeral', 'fusil', 'fusionao', 'fusionarse', 'fuste', 'futbol', 'futuro', 'gabacho', 'gabeta', 'gacho', 'galan', 'gallar', 'galleta', 'gallo', 'galopar', 'ganador', 'ganao', 'ganar', 'ganarle', 'garaje', 'garantir', 'garganta', 'garrar', 'gasolina', 'gastamo', 'gastar', 'gastarnos', 'gastarte', 'gatillo', 'gaucho', 'gaviota', 'gemelo', 'gemir', 'generar', 'genial', 'genio', 'genre', 'genta', 'gente', 'gentil', 'gentle', 'gerencia', 'gerente', 'gestar', 'gesto', 'gimme', 'gimnasio', 'girar', 'gistro', 'givin', 'glamour', 'gloria', 'gobernar', 'godin', 'golondria', 'golosinar', 'goloso', 'golpe', 'golpear', 'gordito', 'gorilita', 'gorocoson', 'gorra', 'gotta', 'gozar', 'gozarla', 'gozatelo', 'gozemos', 'grabacion', 'grabamo', 'grabandote', 'grabar', 'grabate', 'gracia', 'gradar', 'graduar', 'grand', 'grande', 'grandeza', 'grandote', 'granel', 'graso', 'gravar', 'gravity', 'grillar', 'gringo', 'gripa', 'grise', 'gritandome', 'gritar', 'gritarle', 'gritarmelo', 'gritarselo', 'grito', 'groseria', 'grosero', 'grueso', 'gruperos', 'grupo', 'guajiro', 'guapo', 'guardar', 'guardarme', 'guardia', 'guarida', 'guaya', 'guayaba', 'guayabita', 'guayabo', 'guayar', 'guayarte', 'guayo', 'gueeee', 'gueeeegueeeepaaa', 'gueritas', 'guerito', 'guero', 'guerra', 'guerrero', 'guiar', 'guisar', 'guitarra', 'gusano', 'gustar', 'gustarme', 'gusto', 'haberle', 'haberme', 'habermela', 'habernos', 'haberte', 'habia', 'habian', 'habil', 'habitacion', 'habitar', 'hablador', 'hablale', 'hablame', 'hablandole', 'hablandome', 'hablao', 'hablar', 'hablarle', 'hablarme', 'hablarnos', 'hablarte', 'habra', 'hacemo', 'hacendar', 'hacerla', 'hacerle', 'hacerlo', 'hacerme', 'hacernos', 'hacerte', 'hacertelo', 'hacia', 'haciamo', 'hacian', 'haciendome', 'haciendonos', 'hagamo', 'halagar', 'halar', 'hallar', 'hambre', 'harina', 'hartar', 'harto', 'hazme', 'heard', 'hechamos', 'hechaste', 'hecho', 'heladito', 'helar', 'hembra', 'herbar', 'heredar', 'herencia', 'herir', 'herirla', 'herirme', 'hermanar', 'hermano', 'hermosilla', 'hermosisimo', 'hermoso', 'hermosura', 'heroina', 'herrar', 'hervir', 'hicimo', 'hiedra', 'hielera', 'hijoe', 'hijoeputa', 'hijueputa', 'hilar', 'hincar', 'hipnotizar', 'hipnotizarme', 'hipocresia', 'hipocrita', 'hiriente', 'hisistes', 'hispano', 'historia', 'hocicon', 'hogar', 'hollar', 'hombre', 'hombro', 'homeboys', 'homenaje', 'honestamente', 'honestar', 'honestidad', 'honesto', 'honor', 'honorar', 'honradez', 'honrar', 'hookah', 'horario', 'hormiga', 'hormona', 'horno', 'hotel', 'hours', 'huarache', 'hubieramos', 'hueco', 'huella', 'huerfano', 'hueso', 'huesudo', 'huevar', 'huevo', 'huevon', 'humanar', 'humanidad', 'humano', 'humedad', 'humedecerte', 'humedo', 'humildad', 'humilde', 'humillacion', 'humillar', 'humillarme', 'humito', 'humor', 'hundir', 'huracan', 'ideal', 'identico', 'identidad', 'identificar', 'identifiquense', 'ideologia', 'idilio', 'idioma', 'idiota', 'idiotizar', 'idolo', 'iglesia', 'ignorar', 'ignorarme', 'ignorarte', 'igual', 'igualar', 'igualito', 'ilegal', 'illuminati', 'illusion', 'ilogico', 'iluminar', 'ilusion', 'ilusionar', 'ilusionarme', 'imagen', 'imaginacion', 'imaginandote', 'imaginar', 'imaginarme', 'imaginarse', 'imaginarte', 'imborrable', 'impacientar', 'impactar', 'imparable', 'impartir', 'impedir', 'impender', 'imperfectamente', 'implacable', 'implorar', 'imponer', 'importancia', 'importante', 'importar', 'importarte', 'imposibilidad', 'imposible', 'impresionar', 'impresionarte', 'imprimir', 'improved', 'improvisar', 'imprudente', 'inaceptable', 'inadaptado', 'inaguantable', 'inalcanzable', 'incansable', 'incentivo', 'incertidumbre', 'incierto', 'incitar', 'incluir', 'incluso', 'incomodar', 'incondicional', 'inconsciencia', 'inconsciente', 'inconscientemente', 'inconveniente', 'increible', 'indebido', 'indeciso', 'independiente', 'indicar', 'indiferencia', 'indiferente', 'indio', 'indirecto', 'indispensable', 'indulgenciar', 'inesperado', 'inevitable', 'inexplicable', 'infamar', 'infantil', 'infeliz', 'infidelidad', 'infiel', 'infierno', 'infinito', 'influenciar', 'influir', 'informal', 'informar', 'informarte', 'infraccion', 'ingrato', 'ingresar', 'iniciar', 'inigualable', 'inimaginable', 'injusto', 'inmediato', 'inmensamente', 'inmenso', 'inmortal', 'inmune', 'inocencia', 'inocente', 'inolvidable', 'inquietud', 'inseguro', 'insensible', 'inseparable', 'insinuacion', 'insinuar', 'insistente', 'insistia', 'insistir', 'insistirse', 'insomnio', 'insoportable', 'insospechado', 'inspirar', 'instante', 'instinto', 'instruccion', 'insultar', 'insulto', 'insuperable', 'intacto', 'intelectual', 'inteligencia', 'inteligente', 'intencion', 'intencione', 'intensamente', 'intensar', 'intensidad', 'intentar', 'intentarlo', 'intentemoslo', 'intento', 'interceder', 'interes', 'interesar', 'interior', 'interminable', 'internacional', 'internet', 'interno', 'interponer', 'interpretacion', 'interrumpir', 'intimidar', 'intocable', 'intruso', 'inundar', 'inusual', 'inutil', 'invadir', 'invencible', 'inventame', 'inventar', 'inventariar', 'inversion', 'invertir', 'invierno', 'invitacion', 'invitar', 'invitarla', 'invitarte', 'involucrar', 'inyeccion', 'inyectar', 'irias', 'ironia', 'irreal', 'irrelevante', 'irremediablemente', 'irresistible', 'irreversible', 'irritarme', 'izquierdo', 'jabon', 'jacal', 'jaguar', 'jajaja', 'jajajajay', 'jalar', 'jalarle', 'jamais', 'jamar', 'jamas', 'jamon', 'jangueando', 'janguear', 'jangueo', 'jardin', 'jaripeo', 'jeans', 'jefecitos', 'jefita', 'jibaro', 'jilguero', 'jodedor', 'joder', 'jodio', 'jolgorio', 'jorgillo', 'jornada', 'jouais', 'joven', 'jovencito', 'jsuis', 'jueguito', 'jueguitos', 'jueve', 'jueves', 'jugar', 'jugarme', 'juguete', 'juntar', 'juntarnos', 'juntito', 'juntitos', 'junto', 'juramento', 'jurar', 'jurarme', 'justamente', 'justar', 'justificar', 'justificarme', 'juventud', 'juzgar', 'juzguelo', 'karma', 'keepin', 'killa', 'kinder', 'knock', 'krippy', 'labia', 'labial', 'labio', 'laborar', 'labrar', 'ladear', 'ladito', 'ladrar', 'ladron', 'lagrima', 'lagrimar', 'lambebicho', 'lamentar', 'lamentarnos', 'lamentarse', 'lante', 'lanzar', 'largar', 'largate', 'largent', 'largo', 'lastima', 'lastimar', 'lastimarme', 'lastimarnos', 'lastimarte', 'latigazo', 'latinar', 'latino', 'latir', 'lavar', 'lazar', 'lealtad', 'learned', 'lease', 'leave', 'leccion', 'leche', 'lechero', 'legal', 'legar', 'leggo', 'legua', 'lejania', 'lejos', 'lengua', 'lentamente', 'lente', 'lentitud', 'lento', 'letra', 'levantar', 'levantarme', 'levante', 'level', 'leyenda', 'libar', 'liberar', 'liberata', 'libertar', 'libidinoso', 'librar', 'libre', 'licenciar', 'licor', 'licuadora', 'liebre', 'liftin', 'ligar', 'ligero', 'limitacion', 'limite', 'limon', 'limosna', 'limpiamente', 'limpiar', 'lindar', 'lindo', 'lineo', 'liquido', 'listar', 'listo', 'liston', 'literal', 'litro', 'living', 'llagar', 'llamame', 'llamandome', 'llamar', 'llamarle', 'llamarme', 'llamarse', 'llamarte', 'llanta', 'llantita', 'llanto', 'llave', 'llegamo', 'llegar', 'llegarle', 'llegarme', 'llege', 'llegua', 'llenadera', 'llenaea', 'llenar', 'llenarme', 'llenarnos', 'llenarte', 'llendo', 'lleno', 'llera', 'llevala', 'llevame', 'llevar', 'llevarla', 'llevarle', 'llevarme', 'llevarse', 'llevarsela', 'llevarte', 'llevatela', 'lloraaar', 'llorandote', 'llorar', 'llorarme', 'llorarte', 'llover', 'lluvia', 'locamente', 'lockens', 'locura', 'logar', 'lograr', 'lograrlo', 'loquero', 'loquita', 'loquitas', 'loteria', 'lover', 'lucero', 'lucesitas', 'luchador', 'luchar', 'lucir', 'lucirla', 'lucos', 'luego', 'lueguito', 'lugar', 'lujoso', 'lujuriar', 'lumbre', 'lunar', 'lunatico', 'lunes', 'lupillo', 'maana', 'machacar', 'machar', 'machete', 'machin', 'machoo', 'macizar', 'macizo', 'maderar', 'madrazos', 'madre', 'madrecita', 'madrugar', 'madurar', 'maduro', 'maestro', 'mafia', 'magia', 'magica', 'magico', 'magnificar', 'magnifico', 'mahon', 'mails', 'majestad', 'makes', 'malabar', 'malandron', 'maldad', 'maldecir', 'maldecirte', 'maldicion', 'maldito', 'maleante', 'malecon', 'maleconeando', 'malefico', 'maleta', 'maleti', 'malherir', 'maliciar', 'malicioso', 'malimpusiste', 'malita', 'mallar', 'maltratame', 'maltratar', 'mamacita', 'mamar', 'mamon', 'manana', 'manantial', 'manar', 'manchar', 'mandale', 'mandar', 'mandarme', 'mandarte', 'mandiloniadas', 'manejar', 'manera', 'mangar', 'manguera', 'maninanini', 'manipular', 'maniqui', 'manir', 'manita', 'mansion', 'mansita', 'mansito', 'mantener', 'mantenernos', 'mantequilla', 'manual', 'manzana', 'maquillaje', 'maquillar', 'maquina', 'maquinar', 'maravillar', 'maravilloso', 'marcador', 'marcale', 'marcar', 'marcarme', 'marcarte', 'marchandose', 'marchar', 'marcharme', 'marcharte', 'marchate', 'marchitar', 'marchito', 'marciano', 'marear', 'margarita', 'maria', 'mariacheno', 'mariachi', 'maridar', 'marihuana', 'mario', 'mariposa', 'martillar', 'martirio', 'mascota', 'matador', 'matame', 'matar', 'matarme', 'matarno', 'material', 'maternal', 'matita', 'maton', 'matrimoniar', 'mavoir', 'maximo', 'mayor', 'means', 'mecer', 'medalla', 'mediar', 'medical', 'medicamento', 'medicinal', 'medicinar', 'medio', 'mediocridad', 'medir', 'meditar', 'medium', 'medusa', 'mejilla', 'mejor', 'mejorar', 'melancolia', 'melaza', 'meleno', 'melodia', 'melone', 'memoria', 'mencionar', 'mencionarles', 'mencionarme', 'mendigar', 'mendigo', 'menear', 'menor', 'menos', 'mensaje', 'mensajitos', 'menso', 'mensos', 'mental', 'mentar', 'mente', 'menter', 'mentias', 'mentir', 'mentira', 'mentirle', 'mentiroso', 'mentirte', 'merar', 'mercar', 'merecer', 'merecerte', 'merecia', 'merengue', 'merito', 'meritorio', 'merry', 'mesar', 'mesero', 'messed', 'meter', 'meterle', 'meterte', 'mexican', 'mexicano', 'mezclar', 'mhija', 'miedo', 'miente', 'mienteme', 'mientras', 'mierda', 'migar', 'migrana', 'mijita', 'milenio', 'milesima', 'milimetro', 'milla', 'millo', 'millon', 'millonario', 'millone', 'mimar', 'mimoso', 'minimo', 'minutar', 'minuto', 'miooo', 'miradita', 'mirame', 'mirandolos', 'mirandome', 'mirar', 'mirarla', 'mirarlas', 'mirarlo', 'mirarme', 'mirarnos', 'mirarte', 'mirarلs', 'mirate', 'mireeeee', 'mireme', 'miron', 'miseria', 'mision', 'mismo', 'missin', 'mistake', 'mitad', 'mitote', 'moblar', 'mocoso', 'modal', 'modelar', 'modelo', 'moderno', 'mojadita', 'mojaita', 'mojar', 'moldear', 'moler', 'molestar', 'molestarla', 'molestarte', 'molesto', 'momentito', 'momento', 'mondar', 'monedar', 'monje', 'monjitas', 'monstruo', 'montana', 'montar', 'monte', 'monton', 'moquito', 'moral', 'morale', 'morar', 'morbo', 'morder', 'morderme', 'morderte', 'morenita', 'morenitas', 'moreno', 'morir', 'moriria', 'morirme', 'morirnos', 'morirse', 'morirte', 'morra', 'morral', 'morrillo', 'morrita', 'morritas', 'morro', 'mortal', 'mortera', 'mosca', 'mostrar', 'mostrarte', 'motel', 'motivar', 'motivo', 'motor', 'mover', 'moverme', 'moverte', 'movie', 'moviendote', 'movil', 'movimiento', 'movin', 'moyen', 'muchachita', 'muchachitas', 'muchachito', 'muchacho', 'mueevo', 'muela', 'muera', 'muerte', 'muerto', 'muevela', 'muevelo', 'mujer', 'mujere', 'mulato', 'munco', 'mundial', 'mundo', 'muneco', 'murar', 'muriendome', 'murio', 'murmurar', 'music', 'musico', 'musiquita', 'muslo', 'mustio', 'nacer', 'naceran', 'nachas', 'nacion', 'nacional', 'nadar', 'nadie', 'naila', 'nalga', 'nalgita', 'namas', 'narco', 'nariz', 'narrative', 'nasty', 'nation', 'natural', 'naturaleza', 'naufragar', 'navegar', 'navida', 'navidad', 'nazareno', 'necesario', 'necesidad', 'necesitar', 'necio', 'negar', 'negarlo', 'negarme', 'negativo', 'negociacion', 'negociar', 'negocio', 'negrero', 'negrito', 'negro', 'negue', 'nerte', 'nervioso', 'nesesitar', 'nesesito', 'nevada', 'nevar', 'never', 'nidito', 'nieto', 'nieve', 'nigga', 'night', 'ningun', 'ninguno', 'ninito', 'nissan', 'nivel', 'nivelar', 'noble', 'nobleza', 'noche', 'nochebuena', 'nocion', 'nomas', 'nombrar', 'nombre', 'nopal', 'noquear', 'normal', 'norte', 'norteno', 'nosotro', 'nostalgia', 'notar', 'noticiar', 'notorio', 'novecientas', 'novelar', 'noventa', 'novio', 'nublar', 'nublo', 'nuevamente', 'nueve', 'nuevecito', 'nuevo', 'number', 'numerar', 'numero', 'nunca', 'obedecer', 'objetar', 'objetivar', 'obligacion', 'obligale', 'obligandome', 'obligar', 'obligarme', 'obligarte', 'obrar', 'obscenidad', 'obscuridad', 'obscuro', 'observar', 'observarte', 'obsesion', 'obsesionante', 'obsesionar', 'obsesionarme', 'obtener', 'obviar', 'ocasion', 'ochenta', 'ocultar', 'ocultarlo', 'ocultarse', 'ocupar', 'ocurrir', 'odiar', 'odiarla', 'odiarte', 'ofender', 'ofensa', 'ofertar', 'oficial', 'oficialmente', 'oficiar', 'oficina', 'ofrecedor', 'ofrecer', 'ofrecerme', 'ofrecerte', 'oiitos', 'oirlos', 'ojala', 'ojalar', 'ojasos', 'ojazos', 'ojito', 'olfato', 'olvidar', 'olvidarla', 'olvidarlo', 'olvidarme', 'olvidarnos', 'olvidarse', 'olvidarte', 'olvidemo', 'ombligo', 'ombliguito', 'omerta', 'omiso', 'ondear', 'opcion', 'operao', 'opinar', 'opinion', 'oponer', 'oportunidad', 'orden', 'ordenar', 'ordinariamente', 'oreja', 'organizar', 'organize', 'orgullo', 'orgullosamente', 'orgulloso', 'orientarme', 'orillar', 'oscurecer', 'oscuridad', 'oscurito', 'oscuro', 'ostigan', 'ouais', 'overseas', 'oxidar', 'oxigenar', 'pabajo', 'pacato', 'pachangon', 'paciencia', 'paconas', 'pactar', 'padre', 'padrenuestro', 'padrino', 'paentro', 'pagar', 'pagarme', 'pagarte', 'pagina', 'paguito', 'paisaje', 'paisano', 'paisas', 'paises', 'pajarear', 'pajarillo', 'pajaron', 'palabra', 'paladar', 'palante', 'palenque', 'paleton', 'palito', 'pallar', 'palmar', 'palmero', 'paloma', 'palomar', 'palomita', 'palomito', 'palpitar', 'pampa', 'panal', 'pancho', 'pandillero', 'paniqueados', 'panorama', 'pantalla', 'pantalon', 'panten', 'panteon', 'pantie', 'panties', 'panty', 'panuelito', 'panuelo', 'papacito', 'papar', 'papel', 'papito', 'paquete', 'paquitas', 'paraiso', 'parait', 'paralizar', 'paramera', 'parar', 'pararlo', 'parcelar', 'parceros', 'parche', 'parecer', 'parecias', 'pared', 'parejo', 'pariente', 'parir', 'parlar', 'parque', 'parranda', 'parrandero', 'parriba', 'participacion', 'participar', 'particular', 'partime', 'partir', 'partirme', 'party', 'partysera', 'pasadito', 'pasajero', 'pasamo', 'pasaportar', 'pasar', 'pasarla', 'pasarme', 'pasatiempo', 'pasear', 'pasearte', 'pasecito', 'pasillo', 'pasion', 'pasito', 'passed', 'pastar', 'pastel', 'patan', 'patear', 'patetico', 'patras', 'patrocinador', 'patron', 'patrullar', 'pausar', 'payaso', 'pecamo', 'pecar', 'pechar', 'pechero', 'pechocha', 'pechona', 'pedacito', 'pedaso', 'pedazo', 'peder', 'pedestal', 'pedir', 'pedirle', 'pedirme', 'pedirselo', 'pedirte', 'pedrada', 'pegaditos', 'pegajoso', 'pegalo', 'pegao', 'pegar', 'pegarme', 'peinar', 'pelar', 'peleamo', 'pelear', 'pelearnos', 'pelicula', 'peligrar', 'peligro', 'peligroso', 'pellejo', 'pelon', 'penar', 'penco', 'pendejo', 'pendiente', 'pendientitos', 'penetrar', 'penicilina', 'penitenciar', 'penon', 'pensamiento', 'pensandote', 'pensar', 'pensarla', 'pensarlo', 'pensarte', 'pensas', 'pense', 'penses', 'pepirimama', 'pequenito', 'pequeno', 'percibir', 'perdedor', 'perder', 'perdere', 'perderla', 'perderlo', 'perderme', 'perderte', 'perdicion', 'perdida', 'perdidamente', 'perdido', 'perdiendome', 'perdon', 'perdonar', 'perdonarle', 'perdonarme', 'perdonarte', 'perfeccion', 'perfeccionista', 'perfecto', 'perfil', 'perfumar', 'perfume', 'periodista', 'perjudicar', 'perjudicarte', 'perjuro', 'perla', 'permanecer', 'permanente', 'permiso', 'permiteme', 'permitir', 'perodone', 'perpetuo', 'perreando', 'perrear', 'perreito', 'perreo', 'perrito', 'perro', 'perronas', 'perseguir', 'personaje', 'personal', 'personar', 'pertenecer', 'perto', 'perverso', 'pesadilla', 'pesar', 'pesarte', 'pestana', 'pesti', 'petalo', 'petite', 'picar', 'pichaera', 'picky', 'pidele', 'pidiendome', 'piedad', 'piedra', 'piensalo', 'pierna', 'pieza', 'pijama', 'pilar', 'pillar', 'pilotar', 'pilotear', 'pinata', 'pinchar', 'pintar', 'pintarte', 'pintura', 'piojo', 'pipiripau', 'piquete', 'piquetea', 'piquito', 'pirata', 'piripiri', 'piropo', 'pirueta', 'pisar', 'pisarme', 'pisoteandome', 'pistar', 'pisteadera', 'pisteadora', 'pisteando', 'pistear', 'pisteare', 'pistearme', 'pistola', 'pistolon', 'placa', 'placer', 'placoso', 'planchar', 'planear', 'planeta', 'planie', 'plano', 'plastico', 'plata', 'platicandole', 'platicar', 'plato', 'platonico', 'plausata', 'playa', 'plaza', 'plebada', 'plebe', 'plebitas', 'plebonas', 'plein', 'plenitud', 'pleno', 'plomar', 'pluma', 'plumon', 'plural', 'poblar', 'pobre', 'pobrecito', 'pobreza', 'pocima', 'podemo', 'poderio', 'poderla', 'poderoso', 'poderte', 'podre', 'podria', 'poema', 'poesia', 'poeta', 'polar', 'policia', 'pollito', 'pollo', 'polvadera', 'polvo', 'poncho', 'poner', 'ponerla', 'ponerle', 'ponerme', 'ponernos', 'ponerse', 'ponerte', 'ponia', 'poniendome', 'ponle', 'ponlos', 'ponme', 'poquito', 'porciento', 'porfa', 'portar', 'posar', 'posibilidad', 'posible', 'posicion', 'positivo', 'posteamo', 'posteas', 'postor', 'postura', 'potranco', 'potrillitos', 'potrillo', 'potro', 'power', 'practicar', 'pradera', 'precaucionar', 'precaver', 'preciar', 'precioso', 'precisar', 'preferir', 'preguntale', 'preguntar', 'preguntarme', 'preguntarte', 'prejuicio', 'premiar', 'prender', 'prendio', 'preocupar', 'preocuparme', 'preocuparte', 'prepa', 'preparar', 'preparativo', 'prepotente', 'presenciar', 'presentar', 'presente', 'presenti', 'presentimiento', 'presentir', 'preso', 'prestar', 'prestigiar', 'presumir', 'presumirles', 'presumirte', 'presuncion', 'presupuestar', 'pretender', 'pretendiente', 'pretextar', 'prever', 'prieto', 'primar', 'primavera', 'primeiro', 'primero', 'primo', 'princesa', 'principal', 'principe', 'principiante', 'principiar', 'principio', 'pringar', 'prioridad', 'prisa', 'prision', 'prisionero', 'privacidad', 'privilegiar', 'probable', 'probablemente', 'probaita', 'probar', 'probatorio', 'problema', 'problematico', 'problemes', 'problems', 'procesar', 'producir', 'producto', 'profecia', 'profesion', 'profesor', 'profundamente', 'profundar', 'programar', 'progresar', 'prohibir', 'promediar', 'promesa', 'prometedor', 'prometer', 'promocion', 'promotor', 'prontito', 'pronto', 'propiedad', 'propio', 'proponer', 'proponerte', 'proposito', 'proteger', 'protegernos', 'protegerte', 'protestar', 'provando', 'provecho', 'provocacion', 'provocame', 'provocar', 'provocarme', 'provocativo', 'proximo', 'psicologia', 'psicologico', 'psiquiatra', 'psycho', 'publicar', 'puchero', 'puchunguita', 'pudor', 'pudrir', 'pueblito', 'pueblo', 'puerta', 'pulsacion', 'pulsar', 'punal', 'puneta', 'punta', 'punto', 'puntuacion', 'pupilentes', 'puppy', 'purito', 'pussy', 'quebradita', 'quebrandose', 'quebrantar', 'quebrar', 'queca', 'quedar', 'quedarme', 'quedarnos', 'quedarse', 'quedarte', 'quedarلn', 'quedate', 'quedo', 'queen', 'quejar', 'quejarme', 'quejido', 'quemar', 'quererla', 'quererlo', 'quererme', 'querernos', 'quererse', 'quererte', 'queria', 'querido', 'queriendote', 'quero', 'querubin', 'queso', 'question', 'quiereme', 'quieros', 'quieto', 'quimera', 'quimico', 'quince', 'quincena', 'quintar', 'quisa', 'quitame', 'quitar', 'quitarme', 'quitarnos', 'quitarte', 'quitate', 'quite', 'quito', 'quiza', 'quizas', 'rabiar', 'racha', 'racilla', 'radiar', 'radio', 'radios', 'raite', 'rajar', 'rajarme', 'rajarse', 'rakata', 'ramito', 'ramon', 'ranchero', 'rancho', 'rapido', 'raquel', 'rascar', 'rasgunar', 'rastra', 'rastrillar', 'rastro', 'ratito', 'raton', 'rayar', 'razon', 'razonar', 'reaccion', 'reaccionar', 'reachin', 'ready', 'realidad', 'realizar', 'realize', 'realmente', 'rebajar', 'rebajarte', 'rebatir', 'rebel', 'rebelar', 'rebelde', 'rebotar', 'rebozar', 'recabio', 'recado', 'recamara', 'recatar', 'recetar', 'rechazar', 'rechazarme', 'rechinar', 'recibir', 'recien', 'recinto', 'recio', 'reclamar', 'reclamarle', 'reclamarme', 'reclamarte', 'recodar', 'recoditos', 'recomer', 'recompensar', 'reconocer', 'reconocerlo', 'reconquistarte', 'recontar', 'recordar', 'recordarme', 'recordarte', 'recorrer', 'recorrerla', 'recorrido', 'recostar', 'recuerdate', 'recuerdo', 'recuperar', 'recuperarme', 'recuperarte', 'redar', 'redondita', 'redondito', 'redondo', 'reemplazar', 'reemplazarte', 'reencontrar', 'reencontrarnos', 'referir', 'reflejar', 'reflejo', 'reflexion', 'refran', 'refrescar', 'refugiar', 'regalao', 'regalar', 'regalarle', 'regalarme', 'regalarte', 'regalo', 'reganar', 'regano', 'regar', 'reggae', 'reggaeton', 'reggaetone', 'reggaetonera', 'reggaetonero', 'reglar', 'regresar', 'regresarme', 'regresivo', 'regreso', 'regret', 'regular', 'reinar', 'reinventarme', 'reirnos', 'relacion', 'relacionar', 'relajar', 'relampago', 'relax', 'religion', 'reloj', 'rematar', 'remediar', 'remix', 'remordimiento', 'remover', 'remplazar', 'remplazarte', 'renacer', 'rencarnado', 'rencor', 'rendir', 'rendirle', 'rendirme', 'rendirte', 'renglon', 'renovar', 'renovarme', 'rentar', 'renunciar', 'reojo', 'reparar', 'repartir', 'repente', 'repercutir', 'repetidamente', 'repetir', 'repetirlo', 'repicar', 'repitele', 'reponer', 'reposar', 'representar', 'reprobar', 'reprochar', 'reprocharte', 'reproche', 'reprogramar', 'repugnar', 'requerir', 'requisito', 'resaltar', 'resbalar', 'resbalarte', 'rescatar', 'rescatarlo', 'resentimiento', 'resfriar', 'residente', 'residir', 'resignar', 'resignarme', 'resiliente', 'resistir', 'resolver', 'respaldar', 'respectar', 'respectivo', 'respetar', 'respetarla', 'respeto', 'respetuoso', 'respiracion', 'respirar', 'resplandor', 'responder', 'responderse', 'responsable', 'respuesta', 'restar', 'restaurant', 'restaurante', 'resultar', 'resumir', 'retar', 'retearto', 'retirale', 'retirar', 'retomar', 'retorcer', 'retozar', 'retratar', 'retumbar', 'reunir', 'revancha', 'revelar', 'reventar', 'reventon', 'rever', 'reves', 'revivir', 'revolcandote', 'revolver', 'rezagar', 'rezar', 'ricote', 'ricura', 'ridiculizarme', 'ridiculo', 'rienda', 'riesgo', 'rifarmela', 'rifle', 'right', 'rimar', 'rincon', 'rinconcito', 'rines', 'ringtone', 'riqueza', 'risueno', 'ritmar', 'rival', 'rizar', 'robar', 'robarle', 'robarse', 'robarte', 'robot', 'rodar', 'rodear', 'rodilla', 'rogandole', 'rogar', 'rogarle', 'rogarme', 'rogarte', 'rogon', 'rolar', 'rolita', 'rollo', 'romance', 'romantico', 'rompebicho', 'rompecabezas', 'rompemo', 'romper', 'roncadera', 'roncar', 'ronco', 'rondar', 'rosado', 'rosal', 'rostro', 'rotar', 'rozar', 'rriba', 'ruegame', 'ruego', 'rugir', 'ruido', 'ruina', 'ruleta', 'rumba', 'rumbear', 'rumble', 'rumbo', 'rumeurs', 'ruptura', 'rutina', 'sabado', 'sabana', 'saber', 'saberlo', 'saberse', 'saberte', 'sabio', 'sabor', 'saborcito', 'saborear', 'saborearme', 'sabre', 'sabrocito', 'sabrosito', 'sabroso', 'sabroson', 'sabrosura', 'sacandole', 'sacandome', 'sacar', 'sacarla', 'sacarle', 'sacarme', 'sacarte', 'sacerdote', 'saciar', 'sacrificarlo', 'sacrificio', 'sacudete', 'sacudiendome', 'sagrado', 'salar', 'saldar', 'salimas', 'salio', 'salir', 'salivar', 'salon', 'saltar', 'salud', 'saludar', 'saludarnos', 'saludarte', 'saludo', 'salvacion', 'salvar', 'salvarme', 'salvo', 'sanar', 'sanarme', 'sandalia', 'sandunga', 'sandunguero', 'sangrar', 'sangrona', 'santo', 'sarcasmo', 'sardo', 'satisfacerte', 'sativo', 'sauce', 'savais', 'sazon', 'scenario', 'secar', 'seccion', 'secretar', 'secretario', 'secreto', 'secuela', 'secuestrar', 'sedar', 'sediento', 'seducir', 'seducirla', 'seducirme', 'seductor', 'segar', 'seguidor', 'seguidore', 'seguimo', 'seguir', 'seguirle', 'seguirte', 'segun', 'segundar', 'segundo', 'seguramente', 'seguridad', 'seguro', 'seiscientos', 'sellar', 'semana', 'semanal', 'semblante', 'sembrar', 'semental', 'semilla', 'senal', 'senalar', 'sencillamente', 'sencillez', 'sencillo', 'sendero', 'senor', 'sensacion', 'sensacional', 'sensible', 'sensual', 'sensualidad', 'sentar', 'sentenciar', 'senti', 'sentia', 'sentias', 'sentimiento', 'sentirle', 'sentirme', 'sentirse', 'sentirte', 'separar', 'separarnos', 'sepelio', 'sepulcro', 'sepultar', 'sequar', 'sequele', 'serca', 'serenar', 'serenata', 'seriamente', 'seriar', 'serio', 'serle', 'serme', 'serrar', 'servidor', 'servir', 'servirte', 'several', 'shakata', 'sheriff', 'shorty', 'sicario', 'siempre', 'sientete', 'sierreno', 'sierrita', 'siete', 'sifon', 'sigilosamente', 'siglo', 'significar', 'siguelo', 'siguiendole', 'siguiente', 'siguio', 'silbido', 'silenciar', 'silente', 'silla', 'sillon', 'simbolico', 'simpatico', 'simple', 'simplemente', 'sincerar', 'sinceridad', 'sincero', 'sindo', 'sinfin', 'sintonizar', 'siquiera', 'sirena', 'sirvame', 'sirvanme', 'sirvio', 'sistema', 'sitiar', 'situacion', 'skirt', 'sleep', 'smell', 'smile', 'soador', 'soberbio', 'sobornar', 'sobrar', 'sobredosis', 'sobrero', 'sobresalir', 'sobrevivir', 'socarron', 'sociedad', 'socio', 'sofocar', 'solamente', 'solapar', 'solear', 'soledad', 'soleil', 'soler', 'solicitar', 'solita', 'solitario', 'solito', 'solitos', 'soltar', 'soltarlo', 'soltarme', 'soltarte', 'soltero', 'solucion', 'solucionar', 'sombrar', 'sombrero', 'sometimes', 'sonador', 'sonar', 'sonarte', 'sonido', 'sonoro', 'sonreir', 'sonriente', 'sonrisa', 'sonrojar', 'sonsacar', 'sonzo', 'sopapo', 'soplapote', 'soplar', 'soportar', 'soportarlo', 'sordo', 'sorprender', 'sorpresa', 'sorry', 'sospechar', 'sostener', 'sound', 'space', 'speak', 'spend', 'sport', 'storytell', 'straight', 'stress', 'styles', 'suave', 'suavecito', 'suavemente', 'subele', 'subestimar', 'subir', 'submarino', 'suceder', 'suceso', 'sucio', 'sudar', 'sudor', 'suegro', 'sueltame', 'sueltate', 'suelto', 'suenalo', 'sueno', 'suerte', 'suertudo', 'suficiente', 'sufrimiento', 'sufrir', 'sufriras', 'sugerir', 'suite', 'sujetar', 'super', 'superar', 'superarlo', 'superarte', 'superficie', 'superheroe', 'superior', 'suplente', 'suplicar', 'suplir', 'suponer', 'supuestamente', 'sushi', 'suspirar', 'suspiro', 'susto', 'susurrar', 'sutil', 'sweater', 'sweet', 'swing', 'tablero', 'tachar', 'tacon', 'tacuache', 'tacuaches', 'tafficher', 'talento', 'talentoso', 'talisman', 'talizman', 'talon', 'talvez', 'tamal', 'tamano', 'tambien', 'tambora', 'tampoco', 'tanata', 'tanda', 'tando', 'tanning', 'tanque', 'tantito', 'tapar', 'taparle', 'tapizar', 'taquicardia', 'tarar', 'tardar', 'tarde', 'tardecito', 'tardo', 'tarea', 'tarjeta', 'tarola', 'tartamudo', 'tarugada', 'tatuaje', 'tatuar', 'tchouffer', 'teatro', 'techar', 'teflon', 'telefono', 'temblar', 'tembloroso', 'temer', 'temeroso', 'temor', 'temperatura', 'tempestad', 'temprano', 'tendencia', 'tender', 'tendria', 'tenedor', 'tenemo', 'tenerla', 'tenerlo', 'tenerme', 'tenerte', 'tengoa', 'tenia', 'teniendote', 'tenir', 'tennis', 'tensar', 'tension', 'tentacion', 'tentar', 'tepito', 'tequila', 'tercero', 'terciopelo', 'terco', 'terminal', 'terminar', 'ternura', 'terquedad', 'terraza', 'terremoto', 'terrenal', 'terrenearla', 'terreno', 'territorio', 'terror', 'tesitos', 'tesoro', 'testamento', 'testigo', 'texana', 'texto', 'thats', 'therapist', 'theres', 'thing', 'things', 'think', 'tibieza', 'ticket', 'tiempo', 'tierno', 'tierra', 'tiguana', 'tijuana', 'timar', 'timidez', 'timido', 'timon', 'tintar', 'tinto', 'tipeu', 'tipico', 'tirales', 'tirano', 'tirar', 'titere', 'titubear', 'toalla', 'tocadita', 'tocame', 'tocamo', 'tocar', 'tocarla', 'tocarnos', 'tocarte', 'todavia', 'toditas', 'toditita', 'todito', 'tolerar', 'tomame', 'tomandome', 'tomandose', 'tomar', 'tomarla', 'tomarme', 'tomarnos', 'tomarse', 'tomarte', 'tomate', 'tonar', 'tonights', 'tontera', 'tonteria', 'tonto', 'topar', 'toparme', 'toparte', 'tormenta', 'tormento', 'tornar', 'tornillo', 'torturar', 'toser', 'total', 'totalmente', 'toxico', 'trabajador', 'trabajar', 'trabar', 'tracion', 'traer', 'traficante', 'traficar', 'trafico', 'tragar', 'tragedia', 'trago', 'traguito', 'traicion', 'traicionar', 'traicionarte', 'traicionero', 'traidor', 'traigale', 'traigase', 'tramar', 'trampa', 'trancar', 'trancazo', 'tranquilamente', 'tranquilidad', 'tranquilizar', 'tranquilo', 'transformar', 'transmitir', 'transparentar', 'transpirar', 'tranvia', 'trapero', 'trapo', 'trasero', 'traspasar', 'trastornar', 'trasvesti', 'tratar', 'tratarla', 'trato', 'traumada', 'traumados', 'traumo', 'traves', 'travesura', 'travieso', 'trayectoria', 'tremendo', 'trenzar', 'tretis', 'triangulito', 'triar', 'tribunal', 'trigo', 'tripa', 'trips', 'triste', 'tristeza', 'triunfador', 'triunfar', 'troca', 'trocas', 'trombon', 'trompuda', 'tronar', 'trono', 'tropezar', 'tropezarme', 'tropical', 'troquero', 'trotar', 'trozar', 'trucar', 'trucha', 'tsunami', 'tucan', 'tuerto', 'tumbao', 'tumbar', 'tumbarme', 'tupir', 'turbinar', 'turnar', 'tutear', 'twenty', 'uNicamente', 'ubicar', 'uchale', 'ultimamente', 'ultimar', 'ultimo', 'ultra', 'umbral', 'unica', 'unicamente', 'unico', 'uniformar', 'union', 'unirlas', 'unirnos', 'universo', 'untame', 'urgente', 'urgir', 'ustede', 'usual', 'usuario', 'utilizar', 'utlizaste', 'uyendo', 'vacacion', 'vacante', 'vacay', 'vacia', 'vaciar', 'vaciarte', 'vacilacion', 'vacilar', 'vacilon', 'vacio', 'vagabundo', 'vagancia', 'vagar', 'vagon', 'vaina', 'vaiven', 'valer', 'valia', 'valiente', 'valioso', 'vallar', 'vallenato', 'valor', 'valorar', 'valorarla', 'valorarlo', 'valorarme', 'vamono', 'vamonos', 'vamosle', 'vanidad', 'vanidoso', 'vapor', 'vaquero', 'vaqueton', 'variar', 'vario', 'varios', 'vecino', 'veias', 'veinte', 'veintiuno', 'velar', 'velitas', 'veliz', 'velocidad', 'vencer', 'vendedor', 'vender', 'veneno', 'venezuela', 'venganza', 'vengar', 'venir', 'veniste', 'venta', 'ventajazo', 'ventajoso', 'ventana', 'vente', 'veran', 'verano', 'verda', 'verdad', 'verdadero', 'verde', 'vereda', 'verga', 'vergazo', 'verguenza', 'verja', 'verla', 'verlo', 'verme', 'vernos', 'verrait', 'versar', 'version', 'versitos', 'verso', 'verte', 'vestidito', 'vestidura', 'vestir', 'vestirse', 'vetar', 'veterano', 'viada', 'viajar', 'viajero', 'vibrar', 'viciar', 'vicio', 'vicioso', 'victima', 'victoria', 'video', 'videos', 'vidrio', 'viejo', 'viejon', 'viejones', 'viento', 'vientre', 'vierne', 'vigente', 'vigilar', 'villano', 'vilmente', 'violento', 'violeta', 'viral', 'virao', 'virar', 'virtud', 'virus', 'visitar', 'visitarte', 'visualizar', 'viudo', 'vivencia', 'vividor', 'viviendome', 'vivir', 'vivirla', 'vocabulario', 'volante', 'volar', 'volcan', 'voltear', 'volumen', 'voluntad', 'volveeer', 'volvemo', 'volver', 'volvera', 'volveria', 'volverla', 'volverlo', 'volverme', 'volverte', 'volvi', 'voraz', 'voulais', 'vuelco', 'vuelta', 'vueltecita', 'vuelton', 'vuevas', 'vulgar', 'vulnerable', 'wallet', 'wanaga', 'wanna', 'watchin', 'water', 'weekend', 'wheeleando', 'whiskito', 'whisky', 'whiskyto', 'wuachamos', 'yaiyai', 'yegua', 'yeguada', 'yoooo', 'youll', 'young', 'youre', 'zapateale', 'zapato', 'zoologico', 'zumbale', 'zumbar']\n"
     ]
    }
   ],
   "source": [
    "print(vectorizer.get_feature_names())"
   ]
  },
  {
   "cell_type": "code",
   "execution_count": 10,
   "metadata": {
    "colab": {
     "base_uri": "https://localhost:8080/"
    },
    "id": "herkZ1rYy4jK",
    "outputId": "cecccfd1-3c39-4627-b46c-6c2533fee36f"
   },
   "outputs": [
    {
     "name": "stdout",
     "output_type": "stream",
     "text": [
      "[[0 0 0 ... 0 0 0]\n",
      " [0 0 0 ... 0 0 0]\n",
      " [0 0 0 ... 0 0 0]\n",
      " ...\n",
      " [0 0 0 ... 0 0 0]\n",
      " [0 0 0 ... 0 0 0]\n",
      " [0 0 0 ... 0 0 0]]\n"
     ]
    }
   ],
   "source": [
    "print(lyrics_countvectorizer.toarray())  "
   ]
  },
  {
   "cell_type": "markdown",
   "metadata": {
    "id": "Pdfjy91oy4jK"
   },
   "source": [
    "# Ejecutar desde aquí "
   ]
  },
  {
   "cell_type": "code",
   "execution_count": 11,
   "metadata": {
    "id": "X5fgL_mNy4jK"
   },
   "outputs": [],
   "source": [
    "\n",
    "lyrics = pd.DataFrame(lyrics_countvectorizer.toarray())\n",
    "\n",
    "lyrics.reset_index(drop=True, inplace=True)\n"
   ]
  },
  {
   "cell_type": "code",
   "execution_count": 12,
   "metadata": {
    "colab": {
     "base_uri": "https://localhost:8080/",
     "height": 419
    },
    "id": "3kf-3RXYy4jK",
    "outputId": "e0c88d7e-8641-4f2a-d94f-c78eb794b8da"
   },
   "outputs": [
    {
     "data": {
      "text/html": [
       "<div>\n",
       "<style scoped>\n",
       "    .dataframe tbody tr th:only-of-type {\n",
       "        vertical-align: middle;\n",
       "    }\n",
       "\n",
       "    .dataframe tbody tr th {\n",
       "        vertical-align: top;\n",
       "    }\n",
       "\n",
       "    .dataframe thead th {\n",
       "        text-align: right;\n",
       "    }\n",
       "</style>\n",
       "<table border=\"1\" class=\"dataframe\">\n",
       "  <thead>\n",
       "    <tr style=\"text-align: right;\">\n",
       "      <th></th>\n",
       "      <th>0</th>\n",
       "      <th>1</th>\n",
       "      <th>2</th>\n",
       "      <th>3</th>\n",
       "      <th>4</th>\n",
       "      <th>5</th>\n",
       "      <th>6</th>\n",
       "      <th>7</th>\n",
       "      <th>8</th>\n",
       "      <th>9</th>\n",
       "      <th>10</th>\n",
       "      <th>11</th>\n",
       "      <th>12</th>\n",
       "      <th>13</th>\n",
       "      <th>14</th>\n",
       "      <th>15</th>\n",
       "      <th>16</th>\n",
       "      <th>17</th>\n",
       "      <th>18</th>\n",
       "      <th>19</th>\n",
       "      <th>20</th>\n",
       "      <th>21</th>\n",
       "      <th>22</th>\n",
       "      <th>23</th>\n",
       "      <th>24</th>\n",
       "      <th>25</th>\n",
       "      <th>26</th>\n",
       "      <th>27</th>\n",
       "      <th>28</th>\n",
       "      <th>29</th>\n",
       "      <th>30</th>\n",
       "      <th>31</th>\n",
       "      <th>32</th>\n",
       "      <th>33</th>\n",
       "      <th>34</th>\n",
       "      <th>35</th>\n",
       "      <th>36</th>\n",
       "      <th>37</th>\n",
       "      <th>38</th>\n",
       "      <th>39</th>\n",
       "      <th>...</th>\n",
       "      <th>6991</th>\n",
       "      <th>6992</th>\n",
       "      <th>6993</th>\n",
       "      <th>6994</th>\n",
       "      <th>6995</th>\n",
       "      <th>6996</th>\n",
       "      <th>6997</th>\n",
       "      <th>6998</th>\n",
       "      <th>6999</th>\n",
       "      <th>7000</th>\n",
       "      <th>7001</th>\n",
       "      <th>7002</th>\n",
       "      <th>7003</th>\n",
       "      <th>7004</th>\n",
       "      <th>7005</th>\n",
       "      <th>7006</th>\n",
       "      <th>7007</th>\n",
       "      <th>7008</th>\n",
       "      <th>7009</th>\n",
       "      <th>7010</th>\n",
       "      <th>7011</th>\n",
       "      <th>7012</th>\n",
       "      <th>7013</th>\n",
       "      <th>7014</th>\n",
       "      <th>7015</th>\n",
       "      <th>7016</th>\n",
       "      <th>7017</th>\n",
       "      <th>7018</th>\n",
       "      <th>7019</th>\n",
       "      <th>7020</th>\n",
       "      <th>7021</th>\n",
       "      <th>7022</th>\n",
       "      <th>7023</th>\n",
       "      <th>7024</th>\n",
       "      <th>7025</th>\n",
       "      <th>7026</th>\n",
       "      <th>7027</th>\n",
       "      <th>7028</th>\n",
       "      <th>7029</th>\n",
       "      <th>7030</th>\n",
       "    </tr>\n",
       "  </thead>\n",
       "  <tbody>\n",
       "    <tr>\n",
       "      <th>0</th>\n",
       "      <td>0</td>\n",
       "      <td>0</td>\n",
       "      <td>0</td>\n",
       "      <td>0</td>\n",
       "      <td>0</td>\n",
       "      <td>0</td>\n",
       "      <td>0</td>\n",
       "      <td>0</td>\n",
       "      <td>0</td>\n",
       "      <td>0</td>\n",
       "      <td>0</td>\n",
       "      <td>0</td>\n",
       "      <td>0</td>\n",
       "      <td>0</td>\n",
       "      <td>0</td>\n",
       "      <td>0</td>\n",
       "      <td>0</td>\n",
       "      <td>0</td>\n",
       "      <td>0</td>\n",
       "      <td>0</td>\n",
       "      <td>0</td>\n",
       "      <td>0</td>\n",
       "      <td>0</td>\n",
       "      <td>0</td>\n",
       "      <td>0</td>\n",
       "      <td>0</td>\n",
       "      <td>0</td>\n",
       "      <td>0</td>\n",
       "      <td>0</td>\n",
       "      <td>0</td>\n",
       "      <td>0</td>\n",
       "      <td>0</td>\n",
       "      <td>0</td>\n",
       "      <td>0</td>\n",
       "      <td>0</td>\n",
       "      <td>0</td>\n",
       "      <td>0</td>\n",
       "      <td>0</td>\n",
       "      <td>0</td>\n",
       "      <td>0</td>\n",
       "      <td>...</td>\n",
       "      <td>0</td>\n",
       "      <td>0</td>\n",
       "      <td>0</td>\n",
       "      <td>0</td>\n",
       "      <td>0</td>\n",
       "      <td>0</td>\n",
       "      <td>0</td>\n",
       "      <td>0</td>\n",
       "      <td>0</td>\n",
       "      <td>0</td>\n",
       "      <td>0</td>\n",
       "      <td>0</td>\n",
       "      <td>0</td>\n",
       "      <td>0</td>\n",
       "      <td>0</td>\n",
       "      <td>0</td>\n",
       "      <td>0</td>\n",
       "      <td>0</td>\n",
       "      <td>0</td>\n",
       "      <td>0</td>\n",
       "      <td>0</td>\n",
       "      <td>0</td>\n",
       "      <td>0</td>\n",
       "      <td>0</td>\n",
       "      <td>0</td>\n",
       "      <td>0</td>\n",
       "      <td>0</td>\n",
       "      <td>0</td>\n",
       "      <td>0</td>\n",
       "      <td>0</td>\n",
       "      <td>0</td>\n",
       "      <td>0</td>\n",
       "      <td>0</td>\n",
       "      <td>0</td>\n",
       "      <td>0</td>\n",
       "      <td>0</td>\n",
       "      <td>0</td>\n",
       "      <td>0</td>\n",
       "      <td>0</td>\n",
       "      <td>0</td>\n",
       "    </tr>\n",
       "    <tr>\n",
       "      <th>1</th>\n",
       "      <td>0</td>\n",
       "      <td>0</td>\n",
       "      <td>0</td>\n",
       "      <td>0</td>\n",
       "      <td>0</td>\n",
       "      <td>0</td>\n",
       "      <td>0</td>\n",
       "      <td>0</td>\n",
       "      <td>0</td>\n",
       "      <td>0</td>\n",
       "      <td>0</td>\n",
       "      <td>0</td>\n",
       "      <td>0</td>\n",
       "      <td>0</td>\n",
       "      <td>0</td>\n",
       "      <td>0</td>\n",
       "      <td>0</td>\n",
       "      <td>0</td>\n",
       "      <td>0</td>\n",
       "      <td>0</td>\n",
       "      <td>0</td>\n",
       "      <td>0</td>\n",
       "      <td>0</td>\n",
       "      <td>0</td>\n",
       "      <td>1</td>\n",
       "      <td>0</td>\n",
       "      <td>0</td>\n",
       "      <td>0</td>\n",
       "      <td>0</td>\n",
       "      <td>0</td>\n",
       "      <td>0</td>\n",
       "      <td>0</td>\n",
       "      <td>0</td>\n",
       "      <td>0</td>\n",
       "      <td>0</td>\n",
       "      <td>0</td>\n",
       "      <td>0</td>\n",
       "      <td>0</td>\n",
       "      <td>0</td>\n",
       "      <td>0</td>\n",
       "      <td>...</td>\n",
       "      <td>1</td>\n",
       "      <td>0</td>\n",
       "      <td>0</td>\n",
       "      <td>0</td>\n",
       "      <td>0</td>\n",
       "      <td>0</td>\n",
       "      <td>0</td>\n",
       "      <td>0</td>\n",
       "      <td>0</td>\n",
       "      <td>0</td>\n",
       "      <td>0</td>\n",
       "      <td>0</td>\n",
       "      <td>0</td>\n",
       "      <td>0</td>\n",
       "      <td>0</td>\n",
       "      <td>0</td>\n",
       "      <td>0</td>\n",
       "      <td>0</td>\n",
       "      <td>0</td>\n",
       "      <td>1</td>\n",
       "      <td>0</td>\n",
       "      <td>1</td>\n",
       "      <td>0</td>\n",
       "      <td>0</td>\n",
       "      <td>0</td>\n",
       "      <td>0</td>\n",
       "      <td>0</td>\n",
       "      <td>0</td>\n",
       "      <td>0</td>\n",
       "      <td>0</td>\n",
       "      <td>0</td>\n",
       "      <td>0</td>\n",
       "      <td>23</td>\n",
       "      <td>0</td>\n",
       "      <td>1</td>\n",
       "      <td>0</td>\n",
       "      <td>0</td>\n",
       "      <td>0</td>\n",
       "      <td>0</td>\n",
       "      <td>0</td>\n",
       "    </tr>\n",
       "    <tr>\n",
       "      <th>2</th>\n",
       "      <td>0</td>\n",
       "      <td>0</td>\n",
       "      <td>0</td>\n",
       "      <td>0</td>\n",
       "      <td>0</td>\n",
       "      <td>0</td>\n",
       "      <td>0</td>\n",
       "      <td>0</td>\n",
       "      <td>0</td>\n",
       "      <td>0</td>\n",
       "      <td>0</td>\n",
       "      <td>0</td>\n",
       "      <td>0</td>\n",
       "      <td>0</td>\n",
       "      <td>0</td>\n",
       "      <td>0</td>\n",
       "      <td>0</td>\n",
       "      <td>0</td>\n",
       "      <td>0</td>\n",
       "      <td>0</td>\n",
       "      <td>0</td>\n",
       "      <td>0</td>\n",
       "      <td>0</td>\n",
       "      <td>0</td>\n",
       "      <td>0</td>\n",
       "      <td>0</td>\n",
       "      <td>0</td>\n",
       "      <td>0</td>\n",
       "      <td>0</td>\n",
       "      <td>0</td>\n",
       "      <td>0</td>\n",
       "      <td>0</td>\n",
       "      <td>0</td>\n",
       "      <td>0</td>\n",
       "      <td>0</td>\n",
       "      <td>0</td>\n",
       "      <td>0</td>\n",
       "      <td>0</td>\n",
       "      <td>0</td>\n",
       "      <td>0</td>\n",
       "      <td>...</td>\n",
       "      <td>6</td>\n",
       "      <td>0</td>\n",
       "      <td>0</td>\n",
       "      <td>0</td>\n",
       "      <td>0</td>\n",
       "      <td>0</td>\n",
       "      <td>0</td>\n",
       "      <td>0</td>\n",
       "      <td>0</td>\n",
       "      <td>0</td>\n",
       "      <td>0</td>\n",
       "      <td>0</td>\n",
       "      <td>0</td>\n",
       "      <td>0</td>\n",
       "      <td>0</td>\n",
       "      <td>0</td>\n",
       "      <td>0</td>\n",
       "      <td>0</td>\n",
       "      <td>0</td>\n",
       "      <td>0</td>\n",
       "      <td>0</td>\n",
       "      <td>0</td>\n",
       "      <td>0</td>\n",
       "      <td>0</td>\n",
       "      <td>0</td>\n",
       "      <td>0</td>\n",
       "      <td>0</td>\n",
       "      <td>0</td>\n",
       "      <td>0</td>\n",
       "      <td>0</td>\n",
       "      <td>0</td>\n",
       "      <td>0</td>\n",
       "      <td>0</td>\n",
       "      <td>0</td>\n",
       "      <td>0</td>\n",
       "      <td>0</td>\n",
       "      <td>0</td>\n",
       "      <td>0</td>\n",
       "      <td>0</td>\n",
       "      <td>0</td>\n",
       "    </tr>\n",
       "    <tr>\n",
       "      <th>3</th>\n",
       "      <td>0</td>\n",
       "      <td>0</td>\n",
       "      <td>0</td>\n",
       "      <td>0</td>\n",
       "      <td>0</td>\n",
       "      <td>0</td>\n",
       "      <td>0</td>\n",
       "      <td>0</td>\n",
       "      <td>0</td>\n",
       "      <td>0</td>\n",
       "      <td>0</td>\n",
       "      <td>0</td>\n",
       "      <td>0</td>\n",
       "      <td>0</td>\n",
       "      <td>0</td>\n",
       "      <td>0</td>\n",
       "      <td>0</td>\n",
       "      <td>0</td>\n",
       "      <td>0</td>\n",
       "      <td>0</td>\n",
       "      <td>0</td>\n",
       "      <td>0</td>\n",
       "      <td>0</td>\n",
       "      <td>0</td>\n",
       "      <td>0</td>\n",
       "      <td>0</td>\n",
       "      <td>0</td>\n",
       "      <td>0</td>\n",
       "      <td>0</td>\n",
       "      <td>0</td>\n",
       "      <td>0</td>\n",
       "      <td>0</td>\n",
       "      <td>0</td>\n",
       "      <td>0</td>\n",
       "      <td>0</td>\n",
       "      <td>0</td>\n",
       "      <td>0</td>\n",
       "      <td>0</td>\n",
       "      <td>0</td>\n",
       "      <td>0</td>\n",
       "      <td>...</td>\n",
       "      <td>0</td>\n",
       "      <td>0</td>\n",
       "      <td>0</td>\n",
       "      <td>0</td>\n",
       "      <td>0</td>\n",
       "      <td>0</td>\n",
       "      <td>0</td>\n",
       "      <td>0</td>\n",
       "      <td>0</td>\n",
       "      <td>0</td>\n",
       "      <td>0</td>\n",
       "      <td>0</td>\n",
       "      <td>0</td>\n",
       "      <td>0</td>\n",
       "      <td>0</td>\n",
       "      <td>0</td>\n",
       "      <td>0</td>\n",
       "      <td>0</td>\n",
       "      <td>0</td>\n",
       "      <td>0</td>\n",
       "      <td>0</td>\n",
       "      <td>0</td>\n",
       "      <td>0</td>\n",
       "      <td>0</td>\n",
       "      <td>0</td>\n",
       "      <td>0</td>\n",
       "      <td>0</td>\n",
       "      <td>0</td>\n",
       "      <td>0</td>\n",
       "      <td>0</td>\n",
       "      <td>0</td>\n",
       "      <td>0</td>\n",
       "      <td>0</td>\n",
       "      <td>0</td>\n",
       "      <td>0</td>\n",
       "      <td>0</td>\n",
       "      <td>0</td>\n",
       "      <td>0</td>\n",
       "      <td>0</td>\n",
       "      <td>0</td>\n",
       "    </tr>\n",
       "    <tr>\n",
       "      <th>4</th>\n",
       "      <td>0</td>\n",
       "      <td>0</td>\n",
       "      <td>0</td>\n",
       "      <td>0</td>\n",
       "      <td>0</td>\n",
       "      <td>0</td>\n",
       "      <td>0</td>\n",
       "      <td>0</td>\n",
       "      <td>0</td>\n",
       "      <td>0</td>\n",
       "      <td>0</td>\n",
       "      <td>0</td>\n",
       "      <td>0</td>\n",
       "      <td>0</td>\n",
       "      <td>0</td>\n",
       "      <td>0</td>\n",
       "      <td>0</td>\n",
       "      <td>0</td>\n",
       "      <td>0</td>\n",
       "      <td>0</td>\n",
       "      <td>0</td>\n",
       "      <td>0</td>\n",
       "      <td>0</td>\n",
       "      <td>0</td>\n",
       "      <td>0</td>\n",
       "      <td>0</td>\n",
       "      <td>0</td>\n",
       "      <td>0</td>\n",
       "      <td>0</td>\n",
       "      <td>0</td>\n",
       "      <td>0</td>\n",
       "      <td>0</td>\n",
       "      <td>0</td>\n",
       "      <td>0</td>\n",
       "      <td>0</td>\n",
       "      <td>0</td>\n",
       "      <td>0</td>\n",
       "      <td>0</td>\n",
       "      <td>0</td>\n",
       "      <td>0</td>\n",
       "      <td>...</td>\n",
       "      <td>0</td>\n",
       "      <td>0</td>\n",
       "      <td>0</td>\n",
       "      <td>0</td>\n",
       "      <td>0</td>\n",
       "      <td>0</td>\n",
       "      <td>0</td>\n",
       "      <td>0</td>\n",
       "      <td>0</td>\n",
       "      <td>0</td>\n",
       "      <td>0</td>\n",
       "      <td>0</td>\n",
       "      <td>0</td>\n",
       "      <td>0</td>\n",
       "      <td>0</td>\n",
       "      <td>0</td>\n",
       "      <td>0</td>\n",
       "      <td>0</td>\n",
       "      <td>0</td>\n",
       "      <td>0</td>\n",
       "      <td>0</td>\n",
       "      <td>0</td>\n",
       "      <td>0</td>\n",
       "      <td>0</td>\n",
       "      <td>0</td>\n",
       "      <td>0</td>\n",
       "      <td>0</td>\n",
       "      <td>0</td>\n",
       "      <td>0</td>\n",
       "      <td>0</td>\n",
       "      <td>0</td>\n",
       "      <td>0</td>\n",
       "      <td>0</td>\n",
       "      <td>0</td>\n",
       "      <td>0</td>\n",
       "      <td>0</td>\n",
       "      <td>0</td>\n",
       "      <td>0</td>\n",
       "      <td>0</td>\n",
       "      <td>1</td>\n",
       "    </tr>\n",
       "    <tr>\n",
       "      <th>...</th>\n",
       "      <td>...</td>\n",
       "      <td>...</td>\n",
       "      <td>...</td>\n",
       "      <td>...</td>\n",
       "      <td>...</td>\n",
       "      <td>...</td>\n",
       "      <td>...</td>\n",
       "      <td>...</td>\n",
       "      <td>...</td>\n",
       "      <td>...</td>\n",
       "      <td>...</td>\n",
       "      <td>...</td>\n",
       "      <td>...</td>\n",
       "      <td>...</td>\n",
       "      <td>...</td>\n",
       "      <td>...</td>\n",
       "      <td>...</td>\n",
       "      <td>...</td>\n",
       "      <td>...</td>\n",
       "      <td>...</td>\n",
       "      <td>...</td>\n",
       "      <td>...</td>\n",
       "      <td>...</td>\n",
       "      <td>...</td>\n",
       "      <td>...</td>\n",
       "      <td>...</td>\n",
       "      <td>...</td>\n",
       "      <td>...</td>\n",
       "      <td>...</td>\n",
       "      <td>...</td>\n",
       "      <td>...</td>\n",
       "      <td>...</td>\n",
       "      <td>...</td>\n",
       "      <td>...</td>\n",
       "      <td>...</td>\n",
       "      <td>...</td>\n",
       "      <td>...</td>\n",
       "      <td>...</td>\n",
       "      <td>...</td>\n",
       "      <td>...</td>\n",
       "      <td>...</td>\n",
       "      <td>...</td>\n",
       "      <td>...</td>\n",
       "      <td>...</td>\n",
       "      <td>...</td>\n",
       "      <td>...</td>\n",
       "      <td>...</td>\n",
       "      <td>...</td>\n",
       "      <td>...</td>\n",
       "      <td>...</td>\n",
       "      <td>...</td>\n",
       "      <td>...</td>\n",
       "      <td>...</td>\n",
       "      <td>...</td>\n",
       "      <td>...</td>\n",
       "      <td>...</td>\n",
       "      <td>...</td>\n",
       "      <td>...</td>\n",
       "      <td>...</td>\n",
       "      <td>...</td>\n",
       "      <td>...</td>\n",
       "      <td>...</td>\n",
       "      <td>...</td>\n",
       "      <td>...</td>\n",
       "      <td>...</td>\n",
       "      <td>...</td>\n",
       "      <td>...</td>\n",
       "      <td>...</td>\n",
       "      <td>...</td>\n",
       "      <td>...</td>\n",
       "      <td>...</td>\n",
       "      <td>...</td>\n",
       "      <td>...</td>\n",
       "      <td>...</td>\n",
       "      <td>...</td>\n",
       "      <td>...</td>\n",
       "      <td>...</td>\n",
       "      <td>...</td>\n",
       "      <td>...</td>\n",
       "      <td>...</td>\n",
       "      <td>...</td>\n",
       "    </tr>\n",
       "    <tr>\n",
       "      <th>853</th>\n",
       "      <td>0</td>\n",
       "      <td>0</td>\n",
       "      <td>0</td>\n",
       "      <td>0</td>\n",
       "      <td>0</td>\n",
       "      <td>0</td>\n",
       "      <td>0</td>\n",
       "      <td>0</td>\n",
       "      <td>0</td>\n",
       "      <td>0</td>\n",
       "      <td>0</td>\n",
       "      <td>0</td>\n",
       "      <td>0</td>\n",
       "      <td>0</td>\n",
       "      <td>0</td>\n",
       "      <td>0</td>\n",
       "      <td>0</td>\n",
       "      <td>0</td>\n",
       "      <td>0</td>\n",
       "      <td>0</td>\n",
       "      <td>0</td>\n",
       "      <td>0</td>\n",
       "      <td>0</td>\n",
       "      <td>0</td>\n",
       "      <td>0</td>\n",
       "      <td>0</td>\n",
       "      <td>0</td>\n",
       "      <td>0</td>\n",
       "      <td>0</td>\n",
       "      <td>0</td>\n",
       "      <td>0</td>\n",
       "      <td>0</td>\n",
       "      <td>0</td>\n",
       "      <td>0</td>\n",
       "      <td>0</td>\n",
       "      <td>0</td>\n",
       "      <td>0</td>\n",
       "      <td>0</td>\n",
       "      <td>0</td>\n",
       "      <td>0</td>\n",
       "      <td>...</td>\n",
       "      <td>0</td>\n",
       "      <td>0</td>\n",
       "      <td>0</td>\n",
       "      <td>0</td>\n",
       "      <td>0</td>\n",
       "      <td>0</td>\n",
       "      <td>0</td>\n",
       "      <td>0</td>\n",
       "      <td>0</td>\n",
       "      <td>0</td>\n",
       "      <td>0</td>\n",
       "      <td>0</td>\n",
       "      <td>0</td>\n",
       "      <td>0</td>\n",
       "      <td>0</td>\n",
       "      <td>0</td>\n",
       "      <td>0</td>\n",
       "      <td>0</td>\n",
       "      <td>0</td>\n",
       "      <td>0</td>\n",
       "      <td>0</td>\n",
       "      <td>0</td>\n",
       "      <td>0</td>\n",
       "      <td>0</td>\n",
       "      <td>0</td>\n",
       "      <td>0</td>\n",
       "      <td>0</td>\n",
       "      <td>0</td>\n",
       "      <td>0</td>\n",
       "      <td>0</td>\n",
       "      <td>0</td>\n",
       "      <td>0</td>\n",
       "      <td>0</td>\n",
       "      <td>0</td>\n",
       "      <td>0</td>\n",
       "      <td>0</td>\n",
       "      <td>0</td>\n",
       "      <td>0</td>\n",
       "      <td>0</td>\n",
       "      <td>0</td>\n",
       "    </tr>\n",
       "    <tr>\n",
       "      <th>854</th>\n",
       "      <td>0</td>\n",
       "      <td>0</td>\n",
       "      <td>0</td>\n",
       "      <td>0</td>\n",
       "      <td>0</td>\n",
       "      <td>0</td>\n",
       "      <td>0</td>\n",
       "      <td>0</td>\n",
       "      <td>0</td>\n",
       "      <td>0</td>\n",
       "      <td>0</td>\n",
       "      <td>0</td>\n",
       "      <td>0</td>\n",
       "      <td>0</td>\n",
       "      <td>0</td>\n",
       "      <td>0</td>\n",
       "      <td>0</td>\n",
       "      <td>0</td>\n",
       "      <td>0</td>\n",
       "      <td>0</td>\n",
       "      <td>0</td>\n",
       "      <td>0</td>\n",
       "      <td>0</td>\n",
       "      <td>0</td>\n",
       "      <td>0</td>\n",
       "      <td>0</td>\n",
       "      <td>0</td>\n",
       "      <td>0</td>\n",
       "      <td>0</td>\n",
       "      <td>0</td>\n",
       "      <td>0</td>\n",
       "      <td>0</td>\n",
       "      <td>0</td>\n",
       "      <td>0</td>\n",
       "      <td>0</td>\n",
       "      <td>0</td>\n",
       "      <td>0</td>\n",
       "      <td>0</td>\n",
       "      <td>0</td>\n",
       "      <td>0</td>\n",
       "      <td>...</td>\n",
       "      <td>0</td>\n",
       "      <td>0</td>\n",
       "      <td>0</td>\n",
       "      <td>0</td>\n",
       "      <td>0</td>\n",
       "      <td>0</td>\n",
       "      <td>0</td>\n",
       "      <td>0</td>\n",
       "      <td>0</td>\n",
       "      <td>0</td>\n",
       "      <td>0</td>\n",
       "      <td>0</td>\n",
       "      <td>0</td>\n",
       "      <td>0</td>\n",
       "      <td>0</td>\n",
       "      <td>0</td>\n",
       "      <td>0</td>\n",
       "      <td>0</td>\n",
       "      <td>0</td>\n",
       "      <td>0</td>\n",
       "      <td>0</td>\n",
       "      <td>0</td>\n",
       "      <td>0</td>\n",
       "      <td>0</td>\n",
       "      <td>0</td>\n",
       "      <td>0</td>\n",
       "      <td>0</td>\n",
       "      <td>0</td>\n",
       "      <td>0</td>\n",
       "      <td>0</td>\n",
       "      <td>0</td>\n",
       "      <td>0</td>\n",
       "      <td>0</td>\n",
       "      <td>0</td>\n",
       "      <td>0</td>\n",
       "      <td>0</td>\n",
       "      <td>0</td>\n",
       "      <td>0</td>\n",
       "      <td>0</td>\n",
       "      <td>0</td>\n",
       "    </tr>\n",
       "    <tr>\n",
       "      <th>855</th>\n",
       "      <td>0</td>\n",
       "      <td>0</td>\n",
       "      <td>0</td>\n",
       "      <td>0</td>\n",
       "      <td>0</td>\n",
       "      <td>0</td>\n",
       "      <td>0</td>\n",
       "      <td>0</td>\n",
       "      <td>0</td>\n",
       "      <td>0</td>\n",
       "      <td>0</td>\n",
       "      <td>0</td>\n",
       "      <td>0</td>\n",
       "      <td>0</td>\n",
       "      <td>0</td>\n",
       "      <td>0</td>\n",
       "      <td>0</td>\n",
       "      <td>0</td>\n",
       "      <td>0</td>\n",
       "      <td>0</td>\n",
       "      <td>0</td>\n",
       "      <td>0</td>\n",
       "      <td>0</td>\n",
       "      <td>0</td>\n",
       "      <td>0</td>\n",
       "      <td>0</td>\n",
       "      <td>0</td>\n",
       "      <td>0</td>\n",
       "      <td>0</td>\n",
       "      <td>0</td>\n",
       "      <td>0</td>\n",
       "      <td>0</td>\n",
       "      <td>0</td>\n",
       "      <td>0</td>\n",
       "      <td>0</td>\n",
       "      <td>0</td>\n",
       "      <td>0</td>\n",
       "      <td>0</td>\n",
       "      <td>0</td>\n",
       "      <td>0</td>\n",
       "      <td>...</td>\n",
       "      <td>0</td>\n",
       "      <td>0</td>\n",
       "      <td>0</td>\n",
       "      <td>0</td>\n",
       "      <td>0</td>\n",
       "      <td>0</td>\n",
       "      <td>0</td>\n",
       "      <td>0</td>\n",
       "      <td>0</td>\n",
       "      <td>0</td>\n",
       "      <td>0</td>\n",
       "      <td>0</td>\n",
       "      <td>0</td>\n",
       "      <td>0</td>\n",
       "      <td>0</td>\n",
       "      <td>0</td>\n",
       "      <td>0</td>\n",
       "      <td>0</td>\n",
       "      <td>0</td>\n",
       "      <td>0</td>\n",
       "      <td>0</td>\n",
       "      <td>0</td>\n",
       "      <td>0</td>\n",
       "      <td>0</td>\n",
       "      <td>0</td>\n",
       "      <td>0</td>\n",
       "      <td>0</td>\n",
       "      <td>0</td>\n",
       "      <td>0</td>\n",
       "      <td>0</td>\n",
       "      <td>0</td>\n",
       "      <td>0</td>\n",
       "      <td>0</td>\n",
       "      <td>0</td>\n",
       "      <td>0</td>\n",
       "      <td>0</td>\n",
       "      <td>0</td>\n",
       "      <td>0</td>\n",
       "      <td>0</td>\n",
       "      <td>0</td>\n",
       "    </tr>\n",
       "    <tr>\n",
       "      <th>856</th>\n",
       "      <td>0</td>\n",
       "      <td>0</td>\n",
       "      <td>0</td>\n",
       "      <td>0</td>\n",
       "      <td>0</td>\n",
       "      <td>0</td>\n",
       "      <td>0</td>\n",
       "      <td>0</td>\n",
       "      <td>0</td>\n",
       "      <td>0</td>\n",
       "      <td>0</td>\n",
       "      <td>0</td>\n",
       "      <td>0</td>\n",
       "      <td>0</td>\n",
       "      <td>0</td>\n",
       "      <td>0</td>\n",
       "      <td>0</td>\n",
       "      <td>0</td>\n",
       "      <td>0</td>\n",
       "      <td>0</td>\n",
       "      <td>0</td>\n",
       "      <td>0</td>\n",
       "      <td>0</td>\n",
       "      <td>0</td>\n",
       "      <td>0</td>\n",
       "      <td>0</td>\n",
       "      <td>0</td>\n",
       "      <td>0</td>\n",
       "      <td>0</td>\n",
       "      <td>0</td>\n",
       "      <td>0</td>\n",
       "      <td>0</td>\n",
       "      <td>0</td>\n",
       "      <td>0</td>\n",
       "      <td>0</td>\n",
       "      <td>0</td>\n",
       "      <td>0</td>\n",
       "      <td>0</td>\n",
       "      <td>0</td>\n",
       "      <td>0</td>\n",
       "      <td>...</td>\n",
       "      <td>0</td>\n",
       "      <td>0</td>\n",
       "      <td>0</td>\n",
       "      <td>0</td>\n",
       "      <td>0</td>\n",
       "      <td>0</td>\n",
       "      <td>0</td>\n",
       "      <td>0</td>\n",
       "      <td>0</td>\n",
       "      <td>0</td>\n",
       "      <td>0</td>\n",
       "      <td>0</td>\n",
       "      <td>0</td>\n",
       "      <td>0</td>\n",
       "      <td>0</td>\n",
       "      <td>0</td>\n",
       "      <td>0</td>\n",
       "      <td>0</td>\n",
       "      <td>0</td>\n",
       "      <td>0</td>\n",
       "      <td>0</td>\n",
       "      <td>0</td>\n",
       "      <td>0</td>\n",
       "      <td>0</td>\n",
       "      <td>0</td>\n",
       "      <td>0</td>\n",
       "      <td>0</td>\n",
       "      <td>0</td>\n",
       "      <td>0</td>\n",
       "      <td>0</td>\n",
       "      <td>0</td>\n",
       "      <td>0</td>\n",
       "      <td>0</td>\n",
       "      <td>0</td>\n",
       "      <td>0</td>\n",
       "      <td>0</td>\n",
       "      <td>0</td>\n",
       "      <td>0</td>\n",
       "      <td>0</td>\n",
       "      <td>0</td>\n",
       "    </tr>\n",
       "    <tr>\n",
       "      <th>857</th>\n",
       "      <td>0</td>\n",
       "      <td>0</td>\n",
       "      <td>0</td>\n",
       "      <td>0</td>\n",
       "      <td>0</td>\n",
       "      <td>0</td>\n",
       "      <td>0</td>\n",
       "      <td>0</td>\n",
       "      <td>0</td>\n",
       "      <td>0</td>\n",
       "      <td>0</td>\n",
       "      <td>0</td>\n",
       "      <td>0</td>\n",
       "      <td>0</td>\n",
       "      <td>0</td>\n",
       "      <td>0</td>\n",
       "      <td>0</td>\n",
       "      <td>0</td>\n",
       "      <td>0</td>\n",
       "      <td>0</td>\n",
       "      <td>0</td>\n",
       "      <td>0</td>\n",
       "      <td>0</td>\n",
       "      <td>0</td>\n",
       "      <td>0</td>\n",
       "      <td>0</td>\n",
       "      <td>0</td>\n",
       "      <td>0</td>\n",
       "      <td>0</td>\n",
       "      <td>0</td>\n",
       "      <td>0</td>\n",
       "      <td>0</td>\n",
       "      <td>0</td>\n",
       "      <td>0</td>\n",
       "      <td>0</td>\n",
       "      <td>0</td>\n",
       "      <td>0</td>\n",
       "      <td>0</td>\n",
       "      <td>0</td>\n",
       "      <td>0</td>\n",
       "      <td>...</td>\n",
       "      <td>0</td>\n",
       "      <td>0</td>\n",
       "      <td>0</td>\n",
       "      <td>0</td>\n",
       "      <td>0</td>\n",
       "      <td>0</td>\n",
       "      <td>0</td>\n",
       "      <td>0</td>\n",
       "      <td>0</td>\n",
       "      <td>0</td>\n",
       "      <td>0</td>\n",
       "      <td>0</td>\n",
       "      <td>0</td>\n",
       "      <td>0</td>\n",
       "      <td>0</td>\n",
       "      <td>0</td>\n",
       "      <td>0</td>\n",
       "      <td>0</td>\n",
       "      <td>3</td>\n",
       "      <td>0</td>\n",
       "      <td>0</td>\n",
       "      <td>0</td>\n",
       "      <td>0</td>\n",
       "      <td>0</td>\n",
       "      <td>0</td>\n",
       "      <td>0</td>\n",
       "      <td>0</td>\n",
       "      <td>0</td>\n",
       "      <td>0</td>\n",
       "      <td>0</td>\n",
       "      <td>0</td>\n",
       "      <td>0</td>\n",
       "      <td>0</td>\n",
       "      <td>0</td>\n",
       "      <td>0</td>\n",
       "      <td>0</td>\n",
       "      <td>0</td>\n",
       "      <td>0</td>\n",
       "      <td>0</td>\n",
       "      <td>0</td>\n",
       "    </tr>\n",
       "  </tbody>\n",
       "</table>\n",
       "<p>858 rows × 7031 columns</p>\n",
       "</div>"
      ],
      "text/plain": [
       "     0     1     2     3     4     5     ...  7025  7026  7027  7028  7029  7030\n",
       "0       0     0     0     0     0     0  ...     0     0     0     0     0     0\n",
       "1       0     0     0     0     0     0  ...     1     0     0     0     0     0\n",
       "2       0     0     0     0     0     0  ...     0     0     0     0     0     0\n",
       "3       0     0     0     0     0     0  ...     0     0     0     0     0     0\n",
       "4       0     0     0     0     0     0  ...     0     0     0     0     0     1\n",
       "..    ...   ...   ...   ...   ...   ...  ...   ...   ...   ...   ...   ...   ...\n",
       "853     0     0     0     0     0     0  ...     0     0     0     0     0     0\n",
       "854     0     0     0     0     0     0  ...     0     0     0     0     0     0\n",
       "855     0     0     0     0     0     0  ...     0     0     0     0     0     0\n",
       "856     0     0     0     0     0     0  ...     0     0     0     0     0     0\n",
       "857     0     0     0     0     0     0  ...     0     0     0     0     0     0\n",
       "\n",
       "[858 rows x 7031 columns]"
      ]
     },
     "execution_count": 12,
     "metadata": {
      "tags": []
     },
     "output_type": "execute_result"
    }
   ],
   "source": [
    "X = lyrics\n",
    "X"
   ]
  },
  {
   "cell_type": "code",
   "execution_count": 13,
   "metadata": {
    "colab": {
     "base_uri": "https://localhost:8080/"
    },
    "id": "YaWNkEyYy4jK",
    "outputId": "02d1053a-c5f3-4871-868c-1120cc38a0eb"
   },
   "outputs": [
    {
     "data": {
      "text/plain": [
       "(858, 7031)"
      ]
     },
     "execution_count": 13,
     "metadata": {
      "tags": []
     },
     "output_type": "execute_result"
    }
   ],
   "source": [
    "X.shape\n"
   ]
  },
  {
   "cell_type": "code",
   "execution_count": 14,
   "metadata": {
    "colab": {
     "base_uri": "https://localhost:8080/",
     "height": 243
    },
    "id": "8XA1wxNdy4jK",
    "outputId": "3b499691-e8f5-4f8a-bff0-1147efc59174"
   },
   "outputs": [
    {
     "data": {
      "text/html": [
       "<div>\n",
       "<style scoped>\n",
       "    .dataframe tbody tr th:only-of-type {\n",
       "        vertical-align: middle;\n",
       "    }\n",
       "\n",
       "    .dataframe tbody tr th {\n",
       "        vertical-align: top;\n",
       "    }\n",
       "\n",
       "    .dataframe thead th {\n",
       "        text-align: right;\n",
       "    }\n",
       "</style>\n",
       "<table border=\"1\" class=\"dataframe\">\n",
       "  <thead>\n",
       "    <tr style=\"text-align: right;\">\n",
       "      <th></th>\n",
       "      <th>0</th>\n",
       "      <th>1</th>\n",
       "      <th>2</th>\n",
       "      <th>3</th>\n",
       "      <th>4</th>\n",
       "      <th>5</th>\n",
       "      <th>6</th>\n",
       "      <th>7</th>\n",
       "      <th>8</th>\n",
       "      <th>9</th>\n",
       "      <th>10</th>\n",
       "      <th>11</th>\n",
       "      <th>12</th>\n",
       "      <th>13</th>\n",
       "      <th>14</th>\n",
       "      <th>15</th>\n",
       "      <th>16</th>\n",
       "      <th>17</th>\n",
       "      <th>18</th>\n",
       "      <th>19</th>\n",
       "      <th>20</th>\n",
       "      <th>21</th>\n",
       "      <th>22</th>\n",
       "      <th>23</th>\n",
       "      <th>24</th>\n",
       "      <th>25</th>\n",
       "      <th>26</th>\n",
       "      <th>27</th>\n",
       "      <th>28</th>\n",
       "      <th>29</th>\n",
       "      <th>30</th>\n",
       "      <th>31</th>\n",
       "      <th>32</th>\n",
       "      <th>33</th>\n",
       "      <th>34</th>\n",
       "      <th>35</th>\n",
       "      <th>36</th>\n",
       "      <th>37</th>\n",
       "      <th>38</th>\n",
       "      <th>39</th>\n",
       "      <th>...</th>\n",
       "      <th>6991</th>\n",
       "      <th>6992</th>\n",
       "      <th>6993</th>\n",
       "      <th>6994</th>\n",
       "      <th>6995</th>\n",
       "      <th>6996</th>\n",
       "      <th>6997</th>\n",
       "      <th>6998</th>\n",
       "      <th>6999</th>\n",
       "      <th>7000</th>\n",
       "      <th>7001</th>\n",
       "      <th>7002</th>\n",
       "      <th>7003</th>\n",
       "      <th>7004</th>\n",
       "      <th>7005</th>\n",
       "      <th>7006</th>\n",
       "      <th>7007</th>\n",
       "      <th>7008</th>\n",
       "      <th>7009</th>\n",
       "      <th>7010</th>\n",
       "      <th>7011</th>\n",
       "      <th>7012</th>\n",
       "      <th>7013</th>\n",
       "      <th>7014</th>\n",
       "      <th>7015</th>\n",
       "      <th>7016</th>\n",
       "      <th>7017</th>\n",
       "      <th>7018</th>\n",
       "      <th>7019</th>\n",
       "      <th>7020</th>\n",
       "      <th>7021</th>\n",
       "      <th>7022</th>\n",
       "      <th>7023</th>\n",
       "      <th>7024</th>\n",
       "      <th>7025</th>\n",
       "      <th>7026</th>\n",
       "      <th>7027</th>\n",
       "      <th>7028</th>\n",
       "      <th>7029</th>\n",
       "      <th>7030</th>\n",
       "    </tr>\n",
       "  </thead>\n",
       "  <tbody>\n",
       "    <tr>\n",
       "      <th>0</th>\n",
       "      <td>0</td>\n",
       "      <td>0</td>\n",
       "      <td>0</td>\n",
       "      <td>0</td>\n",
       "      <td>0</td>\n",
       "      <td>0</td>\n",
       "      <td>0</td>\n",
       "      <td>0</td>\n",
       "      <td>0</td>\n",
       "      <td>0</td>\n",
       "      <td>0</td>\n",
       "      <td>0</td>\n",
       "      <td>0</td>\n",
       "      <td>0</td>\n",
       "      <td>0</td>\n",
       "      <td>0</td>\n",
       "      <td>0</td>\n",
       "      <td>0</td>\n",
       "      <td>0</td>\n",
       "      <td>0</td>\n",
       "      <td>0</td>\n",
       "      <td>0</td>\n",
       "      <td>0</td>\n",
       "      <td>0</td>\n",
       "      <td>0</td>\n",
       "      <td>0</td>\n",
       "      <td>0</td>\n",
       "      <td>0</td>\n",
       "      <td>0</td>\n",
       "      <td>0</td>\n",
       "      <td>0</td>\n",
       "      <td>0</td>\n",
       "      <td>0</td>\n",
       "      <td>0</td>\n",
       "      <td>0</td>\n",
       "      <td>0</td>\n",
       "      <td>0</td>\n",
       "      <td>0</td>\n",
       "      <td>0</td>\n",
       "      <td>0</td>\n",
       "      <td>...</td>\n",
       "      <td>0</td>\n",
       "      <td>0</td>\n",
       "      <td>0</td>\n",
       "      <td>0</td>\n",
       "      <td>0</td>\n",
       "      <td>0</td>\n",
       "      <td>0</td>\n",
       "      <td>0</td>\n",
       "      <td>0</td>\n",
       "      <td>0</td>\n",
       "      <td>0</td>\n",
       "      <td>0</td>\n",
       "      <td>0</td>\n",
       "      <td>0</td>\n",
       "      <td>0</td>\n",
       "      <td>0</td>\n",
       "      <td>0</td>\n",
       "      <td>0</td>\n",
       "      <td>0</td>\n",
       "      <td>0</td>\n",
       "      <td>0</td>\n",
       "      <td>0</td>\n",
       "      <td>0</td>\n",
       "      <td>0</td>\n",
       "      <td>0</td>\n",
       "      <td>0</td>\n",
       "      <td>0</td>\n",
       "      <td>0</td>\n",
       "      <td>0</td>\n",
       "      <td>0</td>\n",
       "      <td>0</td>\n",
       "      <td>0</td>\n",
       "      <td>0</td>\n",
       "      <td>0</td>\n",
       "      <td>0</td>\n",
       "      <td>0</td>\n",
       "      <td>0</td>\n",
       "      <td>0</td>\n",
       "      <td>0</td>\n",
       "      <td>0</td>\n",
       "    </tr>\n",
       "    <tr>\n",
       "      <th>1</th>\n",
       "      <td>0</td>\n",
       "      <td>0</td>\n",
       "      <td>0</td>\n",
       "      <td>0</td>\n",
       "      <td>0</td>\n",
       "      <td>0</td>\n",
       "      <td>0</td>\n",
       "      <td>0</td>\n",
       "      <td>0</td>\n",
       "      <td>0</td>\n",
       "      <td>0</td>\n",
       "      <td>0</td>\n",
       "      <td>0</td>\n",
       "      <td>0</td>\n",
       "      <td>0</td>\n",
       "      <td>0</td>\n",
       "      <td>0</td>\n",
       "      <td>0</td>\n",
       "      <td>0</td>\n",
       "      <td>0</td>\n",
       "      <td>0</td>\n",
       "      <td>0</td>\n",
       "      <td>0</td>\n",
       "      <td>0</td>\n",
       "      <td>1</td>\n",
       "      <td>0</td>\n",
       "      <td>0</td>\n",
       "      <td>0</td>\n",
       "      <td>0</td>\n",
       "      <td>0</td>\n",
       "      <td>0</td>\n",
       "      <td>0</td>\n",
       "      <td>0</td>\n",
       "      <td>0</td>\n",
       "      <td>0</td>\n",
       "      <td>0</td>\n",
       "      <td>0</td>\n",
       "      <td>0</td>\n",
       "      <td>0</td>\n",
       "      <td>0</td>\n",
       "      <td>...</td>\n",
       "      <td>1</td>\n",
       "      <td>0</td>\n",
       "      <td>0</td>\n",
       "      <td>0</td>\n",
       "      <td>0</td>\n",
       "      <td>0</td>\n",
       "      <td>0</td>\n",
       "      <td>0</td>\n",
       "      <td>0</td>\n",
       "      <td>0</td>\n",
       "      <td>0</td>\n",
       "      <td>0</td>\n",
       "      <td>0</td>\n",
       "      <td>0</td>\n",
       "      <td>0</td>\n",
       "      <td>0</td>\n",
       "      <td>0</td>\n",
       "      <td>0</td>\n",
       "      <td>0</td>\n",
       "      <td>1</td>\n",
       "      <td>0</td>\n",
       "      <td>1</td>\n",
       "      <td>0</td>\n",
       "      <td>0</td>\n",
       "      <td>0</td>\n",
       "      <td>0</td>\n",
       "      <td>0</td>\n",
       "      <td>0</td>\n",
       "      <td>0</td>\n",
       "      <td>0</td>\n",
       "      <td>0</td>\n",
       "      <td>0</td>\n",
       "      <td>23</td>\n",
       "      <td>0</td>\n",
       "      <td>1</td>\n",
       "      <td>0</td>\n",
       "      <td>0</td>\n",
       "      <td>0</td>\n",
       "      <td>0</td>\n",
       "      <td>0</td>\n",
       "    </tr>\n",
       "    <tr>\n",
       "      <th>2</th>\n",
       "      <td>0</td>\n",
       "      <td>0</td>\n",
       "      <td>0</td>\n",
       "      <td>0</td>\n",
       "      <td>0</td>\n",
       "      <td>0</td>\n",
       "      <td>0</td>\n",
       "      <td>0</td>\n",
       "      <td>0</td>\n",
       "      <td>0</td>\n",
       "      <td>0</td>\n",
       "      <td>0</td>\n",
       "      <td>0</td>\n",
       "      <td>0</td>\n",
       "      <td>0</td>\n",
       "      <td>0</td>\n",
       "      <td>0</td>\n",
       "      <td>0</td>\n",
       "      <td>0</td>\n",
       "      <td>0</td>\n",
       "      <td>0</td>\n",
       "      <td>0</td>\n",
       "      <td>0</td>\n",
       "      <td>0</td>\n",
       "      <td>0</td>\n",
       "      <td>0</td>\n",
       "      <td>0</td>\n",
       "      <td>0</td>\n",
       "      <td>0</td>\n",
       "      <td>0</td>\n",
       "      <td>0</td>\n",
       "      <td>0</td>\n",
       "      <td>0</td>\n",
       "      <td>0</td>\n",
       "      <td>0</td>\n",
       "      <td>0</td>\n",
       "      <td>0</td>\n",
       "      <td>0</td>\n",
       "      <td>0</td>\n",
       "      <td>0</td>\n",
       "      <td>...</td>\n",
       "      <td>6</td>\n",
       "      <td>0</td>\n",
       "      <td>0</td>\n",
       "      <td>0</td>\n",
       "      <td>0</td>\n",
       "      <td>0</td>\n",
       "      <td>0</td>\n",
       "      <td>0</td>\n",
       "      <td>0</td>\n",
       "      <td>0</td>\n",
       "      <td>0</td>\n",
       "      <td>0</td>\n",
       "      <td>0</td>\n",
       "      <td>0</td>\n",
       "      <td>0</td>\n",
       "      <td>0</td>\n",
       "      <td>0</td>\n",
       "      <td>0</td>\n",
       "      <td>0</td>\n",
       "      <td>0</td>\n",
       "      <td>0</td>\n",
       "      <td>0</td>\n",
       "      <td>0</td>\n",
       "      <td>0</td>\n",
       "      <td>0</td>\n",
       "      <td>0</td>\n",
       "      <td>0</td>\n",
       "      <td>0</td>\n",
       "      <td>0</td>\n",
       "      <td>0</td>\n",
       "      <td>0</td>\n",
       "      <td>0</td>\n",
       "      <td>0</td>\n",
       "      <td>0</td>\n",
       "      <td>0</td>\n",
       "      <td>0</td>\n",
       "      <td>0</td>\n",
       "      <td>0</td>\n",
       "      <td>0</td>\n",
       "      <td>0</td>\n",
       "    </tr>\n",
       "    <tr>\n",
       "      <th>3</th>\n",
       "      <td>0</td>\n",
       "      <td>0</td>\n",
       "      <td>0</td>\n",
       "      <td>0</td>\n",
       "      <td>0</td>\n",
       "      <td>0</td>\n",
       "      <td>0</td>\n",
       "      <td>0</td>\n",
       "      <td>0</td>\n",
       "      <td>0</td>\n",
       "      <td>0</td>\n",
       "      <td>0</td>\n",
       "      <td>0</td>\n",
       "      <td>0</td>\n",
       "      <td>0</td>\n",
       "      <td>0</td>\n",
       "      <td>0</td>\n",
       "      <td>0</td>\n",
       "      <td>0</td>\n",
       "      <td>0</td>\n",
       "      <td>0</td>\n",
       "      <td>0</td>\n",
       "      <td>0</td>\n",
       "      <td>0</td>\n",
       "      <td>0</td>\n",
       "      <td>0</td>\n",
       "      <td>0</td>\n",
       "      <td>0</td>\n",
       "      <td>0</td>\n",
       "      <td>0</td>\n",
       "      <td>0</td>\n",
       "      <td>0</td>\n",
       "      <td>0</td>\n",
       "      <td>0</td>\n",
       "      <td>0</td>\n",
       "      <td>0</td>\n",
       "      <td>0</td>\n",
       "      <td>0</td>\n",
       "      <td>0</td>\n",
       "      <td>0</td>\n",
       "      <td>...</td>\n",
       "      <td>0</td>\n",
       "      <td>0</td>\n",
       "      <td>0</td>\n",
       "      <td>0</td>\n",
       "      <td>0</td>\n",
       "      <td>0</td>\n",
       "      <td>0</td>\n",
       "      <td>0</td>\n",
       "      <td>0</td>\n",
       "      <td>0</td>\n",
       "      <td>0</td>\n",
       "      <td>0</td>\n",
       "      <td>0</td>\n",
       "      <td>0</td>\n",
       "      <td>0</td>\n",
       "      <td>0</td>\n",
       "      <td>0</td>\n",
       "      <td>0</td>\n",
       "      <td>0</td>\n",
       "      <td>0</td>\n",
       "      <td>0</td>\n",
       "      <td>0</td>\n",
       "      <td>0</td>\n",
       "      <td>0</td>\n",
       "      <td>0</td>\n",
       "      <td>0</td>\n",
       "      <td>0</td>\n",
       "      <td>0</td>\n",
       "      <td>0</td>\n",
       "      <td>0</td>\n",
       "      <td>0</td>\n",
       "      <td>0</td>\n",
       "      <td>0</td>\n",
       "      <td>0</td>\n",
       "      <td>0</td>\n",
       "      <td>0</td>\n",
       "      <td>0</td>\n",
       "      <td>0</td>\n",
       "      <td>0</td>\n",
       "      <td>0</td>\n",
       "    </tr>\n",
       "    <tr>\n",
       "      <th>4</th>\n",
       "      <td>0</td>\n",
       "      <td>0</td>\n",
       "      <td>0</td>\n",
       "      <td>0</td>\n",
       "      <td>0</td>\n",
       "      <td>0</td>\n",
       "      <td>0</td>\n",
       "      <td>0</td>\n",
       "      <td>0</td>\n",
       "      <td>0</td>\n",
       "      <td>0</td>\n",
       "      <td>0</td>\n",
       "      <td>0</td>\n",
       "      <td>0</td>\n",
       "      <td>0</td>\n",
       "      <td>0</td>\n",
       "      <td>0</td>\n",
       "      <td>0</td>\n",
       "      <td>0</td>\n",
       "      <td>0</td>\n",
       "      <td>0</td>\n",
       "      <td>0</td>\n",
       "      <td>0</td>\n",
       "      <td>0</td>\n",
       "      <td>0</td>\n",
       "      <td>0</td>\n",
       "      <td>0</td>\n",
       "      <td>0</td>\n",
       "      <td>0</td>\n",
       "      <td>0</td>\n",
       "      <td>0</td>\n",
       "      <td>0</td>\n",
       "      <td>0</td>\n",
       "      <td>0</td>\n",
       "      <td>0</td>\n",
       "      <td>0</td>\n",
       "      <td>0</td>\n",
       "      <td>0</td>\n",
       "      <td>0</td>\n",
       "      <td>0</td>\n",
       "      <td>...</td>\n",
       "      <td>0</td>\n",
       "      <td>0</td>\n",
       "      <td>0</td>\n",
       "      <td>0</td>\n",
       "      <td>0</td>\n",
       "      <td>0</td>\n",
       "      <td>0</td>\n",
       "      <td>0</td>\n",
       "      <td>0</td>\n",
       "      <td>0</td>\n",
       "      <td>0</td>\n",
       "      <td>0</td>\n",
       "      <td>0</td>\n",
       "      <td>0</td>\n",
       "      <td>0</td>\n",
       "      <td>0</td>\n",
       "      <td>0</td>\n",
       "      <td>0</td>\n",
       "      <td>0</td>\n",
       "      <td>0</td>\n",
       "      <td>0</td>\n",
       "      <td>0</td>\n",
       "      <td>0</td>\n",
       "      <td>0</td>\n",
       "      <td>0</td>\n",
       "      <td>0</td>\n",
       "      <td>0</td>\n",
       "      <td>0</td>\n",
       "      <td>0</td>\n",
       "      <td>0</td>\n",
       "      <td>0</td>\n",
       "      <td>0</td>\n",
       "      <td>0</td>\n",
       "      <td>0</td>\n",
       "      <td>0</td>\n",
       "      <td>0</td>\n",
       "      <td>0</td>\n",
       "      <td>0</td>\n",
       "      <td>0</td>\n",
       "      <td>1</td>\n",
       "    </tr>\n",
       "  </tbody>\n",
       "</table>\n",
       "<p>5 rows × 7031 columns</p>\n",
       "</div>"
      ],
      "text/plain": [
       "   0     1     2     3     4     5     ...  7025  7026  7027  7028  7029  7030\n",
       "0     0     0     0     0     0     0  ...     0     0     0     0     0     0\n",
       "1     0     0     0     0     0     0  ...     1     0     0     0     0     0\n",
       "2     0     0     0     0     0     0  ...     0     0     0     0     0     0\n",
       "3     0     0     0     0     0     0  ...     0     0     0     0     0     0\n",
       "4     0     0     0     0     0     0  ...     0     0     0     0     0     1\n",
       "\n",
       "[5 rows x 7031 columns]"
      ]
     },
     "execution_count": 14,
     "metadata": {
      "tags": []
     },
     "output_type": "execute_result"
    }
   ],
   "source": [
    "X.head()"
   ]
  },
  {
   "cell_type": "code",
   "execution_count": 15,
   "metadata": {
    "id": "_fxfXIXgy4jK"
   },
   "outputs": [],
   "source": [
    "\n",
    "y=lyrics_df['clase']\n"
   ]
  },
  {
   "cell_type": "code",
   "execution_count": 16,
   "metadata": {
    "colab": {
     "base_uri": "https://localhost:8080/"
    },
    "id": "aYwSiIHby4jK",
    "outputId": "a7d880d3-7afe-4f43-ba69-b12e3b8b6f9c"
   },
   "outputs": [
    {
     "data": {
      "text/plain": [
       "(858,)"
      ]
     },
     "execution_count": 16,
     "metadata": {
      "tags": []
     },
     "output_type": "execute_result"
    }
   ],
   "source": [
    "y.shape"
   ]
  },
  {
   "cell_type": "code",
   "execution_count": 17,
   "metadata": {
    "id": "u1znEBLjy4jK"
   },
   "outputs": [],
   "source": [
    "#Dividir el dataset en Entrenamiento y Test\n",
    "X_train, X_test, y_train, y_test = train_test_split(X, y, test_size=0.20)\n",
    "#se divide el 80 del set para validación y que quede 60,20,20\n",
    "X_train1, X_valid, y_train1, y_valid = train_test_split(X_train, y_train, test_size=0.25) \n",
    "\n",
    "#train= train1 + valid\n"
   ]
  },
  {
   "cell_type": "markdown",
   "metadata": {
    "id": "aYDNqaj-y4jK"
   },
   "source": [
    "# Funcion mostrar resultados"
   ]
  },
  {
   "cell_type": "code",
   "execution_count": 18,
   "metadata": {
    "id": "grLt90rPy4jK"
   },
   "outputs": [],
   "source": [
    "#definimos funciona para mostrar los resultados\n",
    "def mostrar_resultados(y_test, pred_y):\n",
    "    conf_matrix = confusion_matrix(y_test, pred_y)\n",
    "    plt.figure(figsize=(10, 10))\n",
    "    sns.heatmap(conf_matrix, annot=True, fmt=\"d\", cmap=\"YlGnBu\");\n",
    "    plt.title(\"Matriz de Confusión\")\n",
    "    plt.ylabel('Clase Verdadera')\n",
    "    plt.xlabel('Clase Predicha')\n",
    "    plt.show()\n",
    "    print (classification_report(y_test, pred_y))"
   ]
  },
  {
   "cell_type": "markdown",
   "metadata": {
    "id": "71q3UgGgy4jK"
   },
   "source": [
    "# Probar distintos Algoritmos"
   ]
  },
  {
   "cell_type": "markdown",
   "metadata": {
    "id": "YnSH47NEy4jK"
   },
   "source": [
    "# Naive Bayes"
   ]
  },
  {
   "cell_type": "code",
   "execution_count": 19,
   "metadata": {
    "colab": {
     "base_uri": "https://localhost:8080/"
    },
    "id": "QzC4PJucy4jK",
    "outputId": "8fbdff28-5937-42fe-e452-fd3c3b4d6a28"
   },
   "outputs": [
    {
     "name": "stdout",
     "output_type": "stream",
     "text": [
      "Metrica del modelo 0.8877551020408163\n",
      "Metricas cross_validation [0.6768559  0.65502183 0.65350877]\n",
      "Media de cross_validation 0.6617955003958221\n"
     ]
    }
   ],
   "source": [
    "from sklearn import datasets, metrics\n",
    "from sklearn.model_selection import cross_val_score\n",
    "from sklearn.model_selection import KFold, StratifiedKFold\n",
    "\n",
    "from sklearn.naive_bayes import MultinomialNB\n",
    "\n",
    "NB_classifier = MultinomialNB(alpha=3.0, class_prior=None, fit_prior=False)\n",
    "NB_classifier.fit(X_train, y_train)\n",
    "score = NB_classifier.score(X_train, y_train)\n",
    "print(\"Metrica del modelo\", score)\n",
    "skf = StratifiedKFold(n_splits=3)\n",
    "scores = cross_val_score(NB_classifier, X_train, y_train, cv=skf, scoring=\"accuracy\")\n",
    "print(\"Metricas cross_validation\", scores)\n",
    "print(\"Media de cross_validation\", scores.mean())"
   ]
  },
  {
   "cell_type": "code",
   "execution_count": 35,
   "metadata": {
    "colab": {
     "base_uri": "https://localhost:8080/",
     "height": 1000
    },
    "id": "PN_bPoGry4jL",
    "outputId": "6f3c4dce-91b7-48e4-eef1-e5ab8127b1ab"
   },
   "outputs": [
    {
     "data": {
      "image/png": "[encoded data removed]",
      "text/plain": [
       "<Figure size 720x720 with 2 Axes>"
      ]
     },
     "metadata": {
      "needs_background": "light",
      "tags": []
     },
     "output_type": "display_data"
    },
    {
     "name": "stdout",
     "output_type": "stream",
     "text": [
      "              precision    recall  f1-score   support\n",
      "\n",
      "         0.0       0.73      0.89      0.80       124\n",
      "         1.0       0.33      0.15      0.20        48\n",
      "\n",
      "    accuracy                           0.68       172\n",
      "   macro avg       0.53      0.52      0.50       172\n",
      "weighted avg       0.62      0.68      0.63       172\n",
      "\n"
     ]
    },
    {
     "data": {
      "image/png": "[encoded data removed]",
      "text/plain": [
       "<Figure size 432x288 with 1 Axes>"
      ]
     },
     "metadata": {
      "needs_background": "light",
      "tags": []
     },
     "output_type": "display_data"
    }
   ],
   "source": [
    "# Cambiar nombre del clasificador\n",
    "y_predict_test = NB_classifier.predict(X_test)\n",
    "mostrar_resultados(y_test, y_predict_test)\n",
    "metrics.plot_roc_curve( NB_classifier , X_test , y_test)  # doctest: +SKIP\n",
    "plt.show()\n"
   ]
  },
  {
   "cell_type": "markdown",
   "metadata": {
    "id": "CeOb6QwPy4jL"
   },
   "source": [
    "# Random Forest"
   ]
  },
  {
   "cell_type": "code",
   "execution_count": 21,
   "metadata": {
    "colab": {
     "base_uri": "https://localhost:8080/"
    },
    "id": "4FzbIIGgy4jL",
    "outputId": "aba2922a-8a06-4ad8-cd04-48069af90083"
   },
   "outputs": [
    {
     "name": "stdout",
     "output_type": "stream",
     "text": [
      "Fitting 3 folds for each of 216 candidates, totalling 648 fits\n"
     ]
    },
    {
     "name": "stderr",
     "output_type": "stream",
     "text": [
      "[Parallel(n_jobs=-1)]: Using backend LokyBackend with 2 concurrent workers.\n",
      "[Parallel(n_jobs=-1)]: Done  14 tasks      | elapsed:   19.8s\n",
      "[Parallel(n_jobs=-1)]: Done  68 tasks      | elapsed:  1.6min\n",
      "[Parallel(n_jobs=-1)]: Done 158 tasks      | elapsed:  3.8min\n",
      "[Parallel(n_jobs=-1)]: Done 284 tasks      | elapsed:  7.2min\n",
      "[Parallel(n_jobs=-1)]: Done 446 tasks      | elapsed: 11.5min\n",
      "[Parallel(n_jobs=-1)]: Done 644 tasks      | elapsed: 16.5min\n",
      "[Parallel(n_jobs=-1)]: Done 648 out of 648 | elapsed: 16.6min finished\n"
     ]
    },
    {
     "name": "stdout",
     "output_type": "stream",
     "text": [
      "[[114   0]\n",
      " [ 37  21]]\n",
      "              precision    recall  f1-score   support\n",
      "\n",
      "         0.0       0.75      1.00      0.86       114\n",
      "         1.0       1.00      0.36      0.53        58\n",
      "\n",
      "    accuracy                           0.78       172\n",
      "   macro avg       0.88      0.68      0.70       172\n",
      "weighted avg       0.84      0.78      0.75       172\n",
      "\n"
     ]
    }
   ],
   "source": [
    "from sklearn import tree\n",
    "from sklearn.ensemble import RandomForestClassifier\n",
    "from sklearn.model_selection import GridSearchCV###\n",
    "from sklearn.model_selection import StratifiedKFold###\n",
    "\n",
    "grid_search = {'criterion': ['entropy', 'gini'],\n",
    "               'max_depth': [35,40, 45],\n",
    "               'max_features': ['auto'],\n",
    "               'min_samples_leaf': [4, 3, 2],\n",
    "               'min_samples_split': [20, 25, 10],\n",
    "               'n_estimators': [200, 300, 400, 450 ],\n",
    "               'random_state':[None]}\n",
    "\n",
    "clf = RandomForestClassifier()\n",
    "skf = StratifiedKFold(n_splits=3)\n",
    "rndmf = GridSearchCV(estimator = clf, param_grid = grid_search, \n",
    "                               cv = skf, verbose= 5, n_jobs = -1)\n",
    "rndmf.fit(X_train ,y_train)###de acuerdo al diagrama se usará valid y train para elegir el mejor modelo \n",
    "\n",
    "predictionforest = rndmf.best_estimator_.predict(X_valid)#se usará para competir \n",
    "print(confusion_matrix(y_valid,predictionforest))\n",
    "print(classification_report(y_valid,predictionforest))\n",
    "\n",
    "#______________________________________________________\n",
    "\n",
    "#rndmf = RandomForestClassifier(max_depth= 20, random_state= 0)\n",
    "#rndmf= rndmf.fit(X_train, y_train)\n",
    "#tree.plot_tree(rndmf.best_estimator_, filled = True)\n",
    "#plt.show()"
   ]
  },
  {
   "cell_type": "code",
   "execution_count": 22,
   "metadata": {
    "colab": {
     "base_uri": "https://localhost:8080/"
    },
    "id": "G_HQCHYhSID4",
    "outputId": "a20b5652-3f97-4654-a120-00aaec3f076a"
   },
   "outputs": [
    {
     "name": "stdout",
     "output_type": "stream",
     "text": [
      "Metrica del modelo 0.7151162790697675\n",
      "Metricas cross_validation [0.72413793 0.71929825 0.71929825]\n",
      "Media de cross_validation 0.7209114740875177\n"
     ]
    }
   ],
   "source": [
    "score = rndmf.best_estimator_.score(X_test, y_test)####estaba: rndmf.score(X_train, y_train)\n",
    "print(\"Metrica del modelo\", score)\n",
    "scores = cross_val_score(rndmf.best_estimator_, X_test, y_test, cv=skf, scoring=\"accuracy\") \n",
    "print(\"Metricas cross_validation\", scores)\n",
    "print(\"Media de cross_validation\", scores.mean())"
   ]
  },
  {
   "cell_type": "code",
   "execution_count": 36,
   "metadata": {
    "colab": {
     "base_uri": "https://localhost:8080/",
     "height": 1000
    },
    "id": "qZA4MMuwy4jL",
    "outputId": "ed6ac60c-13fc-4eb6-f8d1-1cdd6b4e125d"
   },
   "outputs": [
    {
     "name": "stdout",
     "output_type": "stream",
     "text": [
      "RandomForestClassifier(bootstrap=True, ccp_alpha=0.0, class_weight=None,\n",
      "                       criterion='entropy', max_depth=35, max_features='auto',\n",
      "                       max_leaf_nodes=None, max_samples=None,\n",
      "                       min_impurity_decrease=0.0, min_impurity_split=None,\n",
      "                       min_samples_leaf=3, min_samples_split=10,\n",
      "                       min_weight_fraction_leaf=0.0, n_estimators=200,\n",
      "                       n_jobs=None, oob_score=False, random_state=None,\n",
      "                       verbose=0, warm_start=False)\n"
     ]
    },
    {
     "data": {
      "image/png": "[encoded data removed]",
      "text/plain": [
       "<Figure size 720x720 with 2 Axes>"
      ]
     },
     "metadata": {
      "needs_background": "light",
      "tags": []
     },
     "output_type": "display_data"
    },
    {
     "name": "stdout",
     "output_type": "stream",
     "text": [
      "              precision    recall  f1-score   support\n",
      "\n",
      "         0.0       0.72      0.99      0.83       124\n",
      "         1.0       0.00      0.00      0.00        48\n",
      "\n",
      "    accuracy                           0.72       172\n",
      "   macro avg       0.36      0.50      0.42       172\n",
      "weighted avg       0.52      0.72      0.60       172\n",
      "\n"
     ]
    },
    {
     "data": {
      "text/plain": [
       "<sklearn.metrics._plot.roc_curve.RocCurveDisplay at 0x7fda0fd3efd0>"
      ]
     },
     "execution_count": 36,
     "metadata": {
      "tags": []
     },
     "output_type": "execute_result"
    },
    {
     "data": {
      "image/png": "[encoded data removed]",
      "text/plain": [
       "<Figure size 432x288 with 1 Axes>"
      ]
     },
     "metadata": {
      "needs_background": "light",
      "tags": []
     },
     "output_type": "display_data"
    }
   ],
   "source": [
    "#presentamos resulados y mejores parámetros \n",
    "print(rndmf.best_estimator_)\n",
    "bestrndmf= rndmf.best_estimator_.fit(X_train ,y_train)\n",
    "y_predict_test = bestrndmf.predict(X_test)\n",
    "mostrar_resultados(y_test, y_predict_test)\n",
    "\n",
    "metrics.plot_roc_curve( rndmf.best_estimator_ , X_test , y_test)"
   ]
  },
  {
   "cell_type": "code",
   "execution_count": 24,
   "metadata": {
    "colab": {
     "base_uri": "https://localhost:8080/",
     "height": 710
    },
    "id": "eVkXBIZBYq4A",
    "outputId": "4fcfb162-75ef-4ad0-a009-5b1f9c17f710"
   },
   "outputs": [
    {
     "data": {
      "image/png": "[encoded data removed]",
      "text/plain": [
       "<Figure size 432x288 with 1 Axes>"
      ]
     },
     "metadata": {
      "needs_background": "light",
      "tags": []
     },
     "output_type": "display_data"
    },
    {
     "data": {
      "image/png": "[encoded data removed]",
      "text/plain": [
       "<Figure size 432x288 with 1 Axes>"
      ]
     },
     "metadata": {
      "needs_background": "light",
      "tags": []
     },
     "output_type": "display_data"
    },
    {
     "data": {
      "image/png": "[encoded data removed]",
      "text/plain": [
       "<Figure size 432x288 with 1 Axes>"
      ]
     },
     "metadata": {
      "needs_background": "light",
      "tags": []
     },
     "output_type": "display_data"
    }
   ],
   "source": [
    "tree.plot_tree(rndmf.best_estimator_[28], filled = True)\n",
    "plt.show()\n",
    "\n",
    "tree.plot_tree(rndmf.best_estimator_[20], filled = True)\n",
    "plt.show()\n",
    "\n",
    "tree.plot_tree(rndmf.best_estimator_[10], filled = True)\n",
    "plt.show()"
   ]
  },
  {
   "cell_type": "markdown",
   "metadata": {
    "id": "pjNR0kTJy4jL"
   },
   "source": [
    "# Decision Tree "
   ]
  },
  {
   "cell_type": "code",
   "execution_count": 25,
   "metadata": {
    "colab": {
     "base_uri": "https://localhost:8080/"
    },
    "id": "FJF2_27Cy4jL",
    "outputId": "8c2e91e0-1cb5-469e-ba43-3e1d18512c55"
   },
   "outputs": [
    {
     "name": "stdout",
     "output_type": "stream",
     "text": [
      "Metrica del modelo 0.7682215743440233\n",
      "Metricas cross_validation [0.49781659 0.53275109 0.53070175]\n",
      "Media de cross_validation 0.5204231466584949\n"
     ]
    }
   ],
   "source": [
    "# Poner algoritmo aqui\n",
    "from sklearn import tree\n",
    "from sklearn.tree import DecisionTreeClassifier, plot_tree\n",
    "\n",
    "tree = tree.DecisionTreeClassifier(criterion='gini',\n",
    "                                   #min_samples_split=20,\n",
    "                                   min_samples_leaf=5,\n",
    "                                   max_depth = 30,\n",
    "                                   class_weight={1:4})\n",
    "tree = tree.fit(X_train, y_train)\n",
    "\n",
    "#tree.plot_tree(arbol, filled= True)\n",
    "#plt.show()\n",
    "score = tree.score(X_train, y_train)\n",
    "print(\"Metrica del modelo\", score)\n",
    "skf = StratifiedKFold(n_splits=3)\n",
    "scores = cross_val_score(tree, X_train, y_train, cv=skf, scoring=\"accuracy\")\n",
    "print(\"Metricas cross_validation\", scores)\n",
    "print(\"Media de cross_validation\", scores.mean())"
   ]
  },
  {
   "cell_type": "code",
   "execution_count": 37,
   "metadata": {
    "colab": {
     "base_uri": "https://localhost:8080/",
     "height": 1000
    },
    "id": "nMSEYkrvy4jL",
    "outputId": "65ca8d95-10d9-4418-c8ed-883893257940"
   },
   "outputs": [
    {
     "data": {
      "image/png": "[encoded data removed]",
      "text/plain": [
       "<Figure size 720x720 with 2 Axes>"
      ]
     },
     "metadata": {
      "needs_background": "light",
      "tags": []
     },
     "output_type": "display_data"
    },
    {
     "name": "stdout",
     "output_type": "stream",
     "text": [
      "              precision    recall  f1-score   support\n",
      "\n",
      "         0.0       0.70      0.36      0.48       124\n",
      "         1.0       0.27      0.60      0.37        48\n",
      "\n",
      "    accuracy                           0.43       172\n",
      "   macro avg       0.49      0.48      0.43       172\n",
      "weighted avg       0.58      0.43      0.45       172\n",
      "\n"
     ]
    },
    {
     "data": {
      "text/plain": [
       "<sklearn.metrics._plot.roc_curve.RocCurveDisplay at 0x7fda0fc6c668>"
      ]
     },
     "execution_count": 37,
     "metadata": {
      "tags": []
     },
     "output_type": "execute_result"
    },
    {
     "data": {
      "image/png": "[encoded data removed]",
      "text/plain": [
       "<Figure size 432x288 with 1 Axes>"
      ]
     },
     "metadata": {
      "needs_background": "light",
      "tags": []
     },
     "output_type": "display_data"
    }
   ],
   "source": [
    "y_predict_test = tree.predict(X_test)\n",
    "mostrar_resultados(y_test, y_predict_test)\n",
    "metrics.plot_roc_curve( tree , X_test , y_test)"
   ]
  },
  {
   "cell_type": "markdown",
   "metadata": {
    "id": "70Ii6ysoi7EX"
   },
   "source": [
    "## SVM"
   ]
  },
  {
   "cell_type": "code",
   "execution_count": 27,
   "metadata": {
    "colab": {
     "base_uri": "https://localhost:8080/"
    },
    "id": "Ai3vLymwy4jL",
    "outputId": "ecc8c1e5-e543-4f66-9fbe-f5d6283cac56"
   },
   "outputs": [
    {
     "name": "stdout",
     "output_type": "stream",
     "text": [
      "Metrica del modelo 0.8425655976676385\n",
      "Metricas cross_validation [0.67248908 0.68122271 0.67982456]\n",
      "Media de cross_validation 0.6778454505988406\n"
     ]
    }
   ],
   "source": [
    "from sklearn import svm\n",
    "clf_svm = svm.SVC()\n",
    "clf_svm.fit(X_train, y_train)\n",
    "\n",
    "score = clf_svm.score(X_train, y_train)\n",
    "print(\"Metrica del modelo\", score)\n",
    "skf = StratifiedKFold(n_splits=3)\n",
    "scores = cross_val_score(clf_svm, X_train, y_train, cv=skf, scoring=\"accuracy\")\n",
    "print(\"Metricas cross_validation\", scores)\n",
    "print(\"Media de cross_validation\", scores.mean())"
   ]
  },
  {
   "cell_type": "code",
   "execution_count": 38,
   "metadata": {
    "colab": {
     "base_uri": "https://localhost:8080/",
     "height": 1000
    },
    "id": "es5XfhSAy4jL",
    "outputId": "5e55e60c-97d3-46c2-978b-d4c7df66e2dc"
   },
   "outputs": [
    {
     "data": {
      "image/png": "[encoded data removed]",
      "text/plain": [
       "<Figure size 720x720 with 2 Axes>"
      ]
     },
     "metadata": {
      "needs_background": "light",
      "tags": []
     },
     "output_type": "display_data"
    },
    {
     "name": "stdout",
     "output_type": "stream",
     "text": [
      "              precision    recall  f1-score   support\n",
      "\n",
      "         0.0       0.72      0.99      0.83       124\n",
      "         1.0       0.00      0.00      0.00        48\n",
      "\n",
      "    accuracy                           0.72       172\n",
      "   macro avg       0.36      0.50      0.42       172\n",
      "weighted avg       0.52      0.72      0.60       172\n",
      "\n"
     ]
    },
    {
     "data": {
      "text/plain": [
       "<sklearn.metrics._plot.roc_curve.RocCurveDisplay at 0x7fda22c1f400>"
      ]
     },
     "execution_count": 38,
     "metadata": {
      "tags": []
     },
     "output_type": "execute_result"
    },
    {
     "data": {
      "image/png": "[encoded data removed]",
      "text/plain": [
       "<Figure size 432x288 with 1 Axes>"
      ]
     },
     "metadata": {
      "needs_background": "light",
      "tags": []
     },
     "output_type": "display_data"
    }
   ],
   "source": [
    "y_predict_test = clf_svm.predict(X_test)\n",
    "mostrar_resultados(y_test, y_predict_test)\n",
    "metrics.plot_roc_curve( clf_svm , X_test , y_test)"
   ]
  },
  {
   "cell_type": "markdown",
   "metadata": {
    "id": "mhXVqNlgi7EY"
   },
   "source": [
    "## SGD Classifier"
   ]
  },
  {
   "cell_type": "code",
   "execution_count": 30,
   "metadata": {
    "colab": {
     "base_uri": "https://localhost:8080/"
    },
    "id": "NX1AMvPHy4jM",
    "outputId": "6176da4c-3938-4683-9009-e12b9527dcc8"
   },
   "outputs": [
    {
     "name": "stdout",
     "output_type": "stream",
     "text": [
      "[[114   0]\n",
      " [  9  49]]\n",
      "              precision    recall  f1-score   support\n",
      "\n",
      "         0.0       0.93      1.00      0.96       114\n",
      "         1.0       1.00      0.84      0.92        58\n",
      "\n",
      "    accuracy                           0.95       172\n",
      "   macro avg       0.96      0.92      0.94       172\n",
      "weighted avg       0.95      0.95      0.95       172\n",
      "\n",
      "Metrica del modelo 0.9446064139941691\n",
      "Metricas cross_validation [0.61135371 0.64628821 0.67982456]\n",
      "Media de cross_validation 0.6458221609336295\n"
     ]
    }
   ],
   "source": [
    "from sklearn.linear_model import SGDClassifier\n",
    "from sklearn.model_selection import GridSearchCV###\n",
    "from sklearn.model_selection import StratifiedKFold###\n",
    "\n",
    "grid_search = {'loss' :['hinge'], \n",
    "               'penalty':['l2'],\n",
    "               'alpha':[0.0001, 0.1], \n",
    "               'l1_ratio' : [0.15, .1], \n",
    "               'fit_intercept' : [True], \n",
    "               'max_iter': [1000], \n",
    "               'tol': [0.001], \n",
    "               'shuffle':[True], \n",
    "               'verbose':[0], \n",
    "               #'epsilon': [DEFAULT_EPSILON], \n",
    "               'n_jobs':[None], \n",
    "               'random_state':[None], \n",
    "               'learning_rate':['optimal'], \n",
    "               'eta0':[0.0], \n",
    "               'power_t':[0.5], \n",
    "               'early_stopping':[False], \n",
    "               'validation_fraction':[0.1], \n",
    "               'n_iter_no_change':[5], \n",
    "               'class_weight':[None], \n",
    "               'warm_start':[False], \n",
    "               'average':[False]\n",
    "               }\n",
    "\n",
    "clf_sgd = SGDClassifier()\n",
    "#clf_sgd.fit(X_train, y_train)\n",
    "skf = StratifiedKFold(n_splits=3)\n",
    "sgdc = GridSearchCV(estimator = clf_sgd, \n",
    "                    param_grid = grid_search,\n",
    "                    cv = skf)\n",
    "                    #verbose=0,\n",
    "                    #n_jobs = -1)\n",
    "sgdc.fit(X_train ,y_train)###de acuerdo al diagrama se usará valid y train para elegir el mejor modelo \n",
    "\n",
    "predictionsgdc = sgdc.best_estimator_.predict(X_valid)#se usará para competir \n",
    "print(confusion_matrix(y_valid,predictionsgdc))\n",
    "print(classification_report(y_valid,predictionsgdc))\n",
    "\n",
    "\n",
    "\n",
    "score = sgdc.best_estimator_.score(X_train, y_train)\n",
    "print(\"Metrica del modelo\", score)\n",
    "skf = StratifiedKFold(n_splits=3)\n",
    "scores = cross_val_score(sgdc.best_estimator_, X_train, y=y_train, cv=skf, scoring=\"accuracy\")\n",
    "print(\"Metricas cross_validation\", scores)\n",
    "print(\"Media de cross_validation\", scores.mean())\n",
    "\n",
    "\n"
   ]
  },
  {
   "cell_type": "code",
   "execution_count": 44,
   "metadata": {
    "colab": {
     "base_uri": "https://localhost:8080/",
     "height": 1000
    },
    "id": "o-b8WmXXy4jM",
    "outputId": "6850fc73-64cd-42c4-ffb3-5615647a9f4f"
   },
   "outputs": [
    {
     "data": {
      "image/png": "[encoded data removed]",
      "text/plain": [
       "<Figure size 720x720 with 2 Axes>"
      ]
     },
     "metadata": {
      "needs_background": "light",
      "tags": []
     },
     "output_type": "display_data"
    },
    {
     "name": "stdout",
     "output_type": "stream",
     "text": [
      "              precision    recall  f1-score   support\n",
      "\n",
      "         0.0       0.73      0.85      0.79       124\n",
      "         1.0       0.31      0.17      0.22        48\n",
      "\n",
      "    accuracy                           0.66       172\n",
      "   macro avg       0.52      0.51      0.50       172\n",
      "weighted avg       0.61      0.66      0.63       172\n",
      "\n"
     ]
    },
    {
     "data": {
      "text/plain": [
       "<sklearn.metrics._plot.roc_curve.RocCurveDisplay at 0x7fda0fab6c88>"
      ]
     },
     "execution_count": 44,
     "metadata": {
      "tags": []
     },
     "output_type": "execute_result"
    },
    {
     "data": {
      "image/png": "[encoded data removed]",
      "text/plain": [
       "<Figure size 432x288 with 1 Axes>"
      ]
     },
     "metadata": {
      "needs_background": "light",
      "tags": []
     },
     "output_type": "display_data"
    }
   ],
   "source": [
    "y_predict_test = sgdc.best_estimator_.predict(X_test)\n",
    "mostrar_resultados(y_test, y_predict_test)\n",
    "\n",
    "metrics.plot_roc_curve(sgdc.best_estimator_ , X_test , y_test)"
   ]
  },
  {
   "cell_type": "code",
   "execution_count": 70,
   "metadata": {
    "colab": {
     "base_uri": "https://localhost:8080/",
     "height": 279
    },
    "id": "rwMAuj1S0-8R",
    "outputId": "72246e6b-82ef-43fc-deb6-39a82f8cca14"
   },
   "outputs": [
    {
     "data": {
      "image/png": "[encoded data removed]",
      "text/plain": [
       "<Figure size 432x288 with 1 Axes>"
      ]
     },
     "metadata": {
      "needs_background": "light",
      "tags": []
     },
     "output_type": "display_data"
    }
   ],
   "source": [
    "NBDISP=metrics.plot_roc_curve( NB_classifier , X_test , y_test)  \n",
    "RFDISP=metrics.plot_roc_curve( rndmf.best_estimator_ , X_test , y_test, ax= NBDISP.ax_)  \n",
    "TREEDISP=metrics.plot_roc_curve( tree , X_test , y_test, ax= RFDISP.ax_)  \n",
    "SVMDISP=metrics.plot_roc_curve( clf_svm , X_test , y_test, ax= TREEDISP.ax_)  \n",
    "SGDISP=metrics.plot_roc_curve( sgdc.best_estimator_ , X_test , y_test, ax= SVMDISP.ax_)  \n",
    "                         \n",
    "plt.show()\n"
   ]
  },
  {
   "cell_type": "code",
   "execution_count": null,
   "metadata": {
    "id": "lcEd7DJJ4bH6"
   },
   "outputs": [],
   "source": []
  }
 ],
 "metadata": {
  "colab": {
   "collapsed_sections": [
    "71q3UgGgy4jK",
    "YnSH47NEy4jK",
    "pjNR0kTJy4jL"
   ],
   "name": "mubel_song_lyrics_ajuste_hiperparametros.ipynb",
   "provenance": []
  },
  "kernelspec": {
   "display_name": "Python 3",
   "language": "python",
   "name": "python3"
  },
  "language_info": {
   "codemirror_mode": {
    "name": "ipython",
    "version": 3
   },
   "file_extension": ".py",
   "mimetype": "text/x-python",
   "name": "python",
   "nbconvert_exporter": "python",
   "pygments_lexer": "ipython3",
   "version": "3.7.6"
  }
 },
 "nbformat": 4,
 "nbformat_minor": 1
}
