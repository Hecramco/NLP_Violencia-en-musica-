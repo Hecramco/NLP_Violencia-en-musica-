{
  "nbformat": 4,
  "nbformat_minor": 0,
  "metadata": {
    "colab": {
      "name": "mubel_song_lyrics_ajuste_hiperparametros.ipynb",
      "provenance": [],
      "collapsed_sections": [
        "71q3UgGgy4jK",
        "YnSH47NEy4jK",
        "pjNR0kTJy4jL"
      ],
      "toc_visible": true
    },
    "kernelspec": {
      "display_name": "Python 3",
      "language": "python",
      "name": "python3"
    },
    "language_info": {
      "codemirror_mode": {
        "name": "ipython",
        "version": 3
      },
      "file_extension": ".py",
      "mimetype": "text/x-python",
      "name": "python",
      "nbconvert_exporter": "python",
      "pygments_lexer": "ipython3",
      "version": "3.7.6"
    }
  },
  "cells": [
    {
      "cell_type": "code",
      "metadata": {
        "id": "yl7zNin5y4jG"
      },
      "source": [
        "import pandas as pd\n",
        "import numpy as np\n",
        "import seaborn as sns\n",
        "import matplotlib.pyplot as plt\n",
        "import json\n",
        "from nltk.corpus import stopwords \n",
        "from sklearn.feature_extraction.text import CountVectorizer\n",
        "from sklearn.feature_extraction.text import TfidfVectorizer  \n",
        "import unicodedata\n",
        "from sklearn.model_selection import train_test_split\n",
        "from sklearn.metrics import classification_report, confusion_matrix\n",
        "\n",
        "import os\n",
        "import glob"
      ],
      "execution_count": 1,
      "outputs": []
    },
    {
      "cell_type": "code",
      "metadata": {
        "id": "IEpPCVizy4jH"
      },
      "source": [
        "raw_data_path = os.path.join('', '')\n",
        "#all_files = glob.glob(raw_data_path +\"/top_songs_with_lyrics.csv\")\n",
        "#lyrics_df = pd.concat(pd.read_csv(f) for f in all_files)\n",
        "lyrics_df = pd.read_csv('top_songs_with_lyrics.csv')\n",
        "columnLyric='lyric'"
      ],
      "execution_count": 2,
      "outputs": []
    },
    {
      "cell_type": "code",
      "metadata": {
        "id": "P3cdxYp9y4jH"
      },
      "source": [
        "lyrics_df = lyrics_df[lyrics_df[columnLyric].isnull()==False]\n",
        "lyrics_df = lyrics_df[lyrics_df['clase'].isnull()==False]####\n"
      ],
      "execution_count": 3,
      "outputs": []
    },
    {
      "cell_type": "markdown",
      "metadata": {
        "id": "a8dSH8BCy4jH"
      },
      "source": [
        "PREPROCESING"
      ]
    },
    {
      "cell_type": "code",
      "metadata": {
        "colab": {
          "base_uri": "https://localhost:8080/"
        },
        "id": "pWiWWmR0y4jH",
        "outputId": "7274da40-fa88-4b15-971d-2d7ab3fa7ac9"
      },
      "source": [
        "!pip3 install es_core_news_md\n",
        "!python -m spacy download es_core_news_md\n",
        "#import spacy\n",
        "#nlp = spacy.load('es_core_news_md')"
      ],
      "execution_count": 4,
      "outputs": [
        {
          "output_type": "stream",
          "text": [
            "\u001b[31mERROR: Could not find a version that satisfies the requirement es_core_news_md (from versions: none)\u001b[0m\n",
            "\u001b[31mERROR: No matching distribution found for es_core_news_md\u001b[0m\n",
            "Collecting es_core_news_md==2.2.5\n",
            "\u001b[?25l  Downloading https://github.com/explosion/spacy-models/releases/download/es_core_news_md-2.2.5/es_core_news_md-2.2.5.tar.gz (78.4MB)\n",
            "\u001b[K     |████████████████████████████████| 78.4MB 1.2MB/s \n",
            "\u001b[?25hRequirement already satisfied: spacy>=2.2.2 in /usr/local/lib/python3.6/dist-packages (from es_core_news_md==2.2.5) (2.2.4)\n",
            "Requirement already satisfied: plac<1.2.0,>=0.9.6 in /usr/local/lib/python3.6/dist-packages (from spacy>=2.2.2->es_core_news_md==2.2.5) (1.1.3)\n",
            "Requirement already satisfied: preshed<3.1.0,>=3.0.2 in /usr/local/lib/python3.6/dist-packages (from spacy>=2.2.2->es_core_news_md==2.2.5) (3.0.4)\n",
            "Requirement already satisfied: wasabi<1.1.0,>=0.4.0 in /usr/local/lib/python3.6/dist-packages (from spacy>=2.2.2->es_core_news_md==2.2.5) (0.8.0)\n",
            "Requirement already satisfied: blis<0.5.0,>=0.4.0 in /usr/local/lib/python3.6/dist-packages (from spacy>=2.2.2->es_core_news_md==2.2.5) (0.4.1)\n",
            "Requirement already satisfied: murmurhash<1.1.0,>=0.28.0 in /usr/local/lib/python3.6/dist-packages (from spacy>=2.2.2->es_core_news_md==2.2.5) (1.0.4)\n",
            "Requirement already satisfied: catalogue<1.1.0,>=0.0.7 in /usr/local/lib/python3.6/dist-packages (from spacy>=2.2.2->es_core_news_md==2.2.5) (1.0.0)\n",
            "Requirement already satisfied: thinc==7.4.0 in /usr/local/lib/python3.6/dist-packages (from spacy>=2.2.2->es_core_news_md==2.2.5) (7.4.0)\n",
            "Requirement already satisfied: cymem<2.1.0,>=2.0.2 in /usr/local/lib/python3.6/dist-packages (from spacy>=2.2.2->es_core_news_md==2.2.5) (2.0.4)\n",
            "Requirement already satisfied: srsly<1.1.0,>=1.0.2 in /usr/local/lib/python3.6/dist-packages (from spacy>=2.2.2->es_core_news_md==2.2.5) (1.0.4)\n",
            "Requirement already satisfied: setuptools in /usr/local/lib/python3.6/dist-packages (from spacy>=2.2.2->es_core_news_md==2.2.5) (50.3.2)\n",
            "Requirement already satisfied: tqdm<5.0.0,>=4.38.0 in /usr/local/lib/python3.6/dist-packages (from spacy>=2.2.2->es_core_news_md==2.2.5) (4.41.1)\n",
            "Requirement already satisfied: numpy>=1.15.0 in /usr/local/lib/python3.6/dist-packages (from spacy>=2.2.2->es_core_news_md==2.2.5) (1.18.5)\n",
            "Requirement already satisfied: requests<3.0.0,>=2.13.0 in /usr/local/lib/python3.6/dist-packages (from spacy>=2.2.2->es_core_news_md==2.2.5) (2.23.0)\n",
            "Requirement already satisfied: importlib-metadata>=0.20; python_version < \"3.8\" in /usr/local/lib/python3.6/dist-packages (from catalogue<1.1.0,>=0.0.7->spacy>=2.2.2->es_core_news_md==2.2.5) (2.0.0)\n",
            "Requirement already satisfied: urllib3!=1.25.0,!=1.25.1,<1.26,>=1.21.1 in /usr/local/lib/python3.6/dist-packages (from requests<3.0.0,>=2.13.0->spacy>=2.2.2->es_core_news_md==2.2.5) (1.24.3)\n",
            "Requirement already satisfied: chardet<4,>=3.0.2 in /usr/local/lib/python3.6/dist-packages (from requests<3.0.0,>=2.13.0->spacy>=2.2.2->es_core_news_md==2.2.5) (3.0.4)\n",
            "Requirement already satisfied: idna<3,>=2.5 in /usr/local/lib/python3.6/dist-packages (from requests<3.0.0,>=2.13.0->spacy>=2.2.2->es_core_news_md==2.2.5) (2.10)\n",
            "Requirement already satisfied: certifi>=2017.4.17 in /usr/local/lib/python3.6/dist-packages (from requests<3.0.0,>=2.13.0->spacy>=2.2.2->es_core_news_md==2.2.5) (2020.11.8)\n",
            "Requirement already satisfied: zipp>=0.5 in /usr/local/lib/python3.6/dist-packages (from importlib-metadata>=0.20; python_version < \"3.8\"->catalogue<1.1.0,>=0.0.7->spacy>=2.2.2->es_core_news_md==2.2.5) (3.4.0)\n",
            "Building wheels for collected packages: es-core-news-md\n",
            "  Building wheel for es-core-news-md (setup.py) ... \u001b[?25l\u001b[?25hdone\n",
            "  Created wheel for es-core-news-md: filename=es_core_news_md-2.2.5-cp36-none-any.whl size=79649483 sha256=11d5a18fff493ad95efc6957d9e7ba51b55b3076cb14817de92bbb7dc58a06dd\n",
            "  Stored in directory: /tmp/pip-ephem-wheel-cache-ya8jlt08/wheels/b7/bb/a3/29ab5cf80c2c0a8fa0f2af8402fdace3f159e8265f0fdcbcdb\n",
            "Successfully built es-core-news-md\n",
            "Installing collected packages: es-core-news-md\n",
            "Successfully installed es-core-news-md-2.2.5\n",
            "\u001b[38;5;2m✔ Download and installation successful\u001b[0m\n",
            "You can now load the model via spacy.load('es_core_news_md')\n"
          ],
          "name": "stdout"
        }
      ]
    },
    {
      "cell_type": "code",
      "metadata": {
        "colab": {
          "base_uri": "https://localhost:8080/"
        },
        "id": "ileqVbrjy4jJ",
        "outputId": "3bc7a99b-dc72-4c79-ffec-3a17bb74090d"
      },
      "source": [
        "import re\n",
        "import string\n",
        "\n",
        "import nltk\n",
        "from nltk.corpus import stopwords \n",
        "from nltk.tokenize import word_tokenize \n",
        "nltk.download('punkt')\n",
        "nltk.download('stopwords')\n",
        "\n",
        "import es_core_news_md\n",
        "\n",
        "nlp = es_core_news_md.load()"
      ],
      "execution_count": 5,
      "outputs": [
        {
          "output_type": "stream",
          "text": [
            "[nltk_data] Downloading package punkt to /root/nltk_data...\n",
            "[nltk_data]   Unzipping tokenizers/punkt.zip.\n",
            "[nltk_data] Downloading package stopwords to /root/nltk_data...\n",
            "[nltk_data]   Unzipping corpora/stopwords.zip.\n"
          ],
          "name": "stdout"
        }
      ]
    },
    {
      "cell_type": "code",
      "metadata": {
        "id": "mmpmkxIry4jJ"
      },
      "source": [
        "import spacy\n",
        "import es_core_news_md\n",
        "\n",
        "nlp = es_core_news_md.load()\n",
        "#doc = nlp(\"ahora todo cambió le toca a ella latino gang  ayer la vi perreando solita  se ve má bonita ahora que no está\")\n",
        "#for token in doc: print(token.text, \"|\", token.lemma_, '|', token.pos_)"
      ],
      "execution_count": 6,
      "outputs": []
    },
    {
      "cell_type": "code",
      "metadata": {
        "id": "d6vCtQI0y4jJ"
      },
      "source": [
        "##  Lematizacion  \n",
        "##  remover acentos \n",
        "##  StopWords\n",
        "\n",
        "def lemmatize(lyric):\n",
        "    tk = nlp(lyric)\n",
        "    tk_lemmatize = \"\"\n",
        "    for word in tk:\n",
        "        tk_lemmatize = tk_lemmatize +\" \"+word.lemma_\n",
        "    return tk_lemmatize\n",
        "    \n",
        "\n",
        "def token_clean_stopwords(message):\n",
        "    stop_words = stopwords.words('spanish') + stopwords.words('english')\n",
        "    more_stopwords = ['rhythm','ovy','ay','hey','woh','si', 'pa', 'sé', 'solo', 'yeah', 'yeh', 'oh', 'i', 'to', 'va', 'the', 'aunque', 'you', 'eh', 'cómo','ma']\n",
        "    total_stopwords = stop_words + more_stopwords\n",
        "\n",
        "    text_token_stopwords = [word for word in message.split() if ((word.lower() not in total_stopwords) and (len(word)>4))]\n",
        "    #Para pruebas con Bert\n",
        "    #total_sentence=\"\"\n",
        "#    for word in message.split():\n",
        "#        if ((word.lower() not in total_stopwords) and (len(word)>4)):\n",
        "#            total_sentence = total_sentence + word.lower()+' ';\n",
        "    #return total_sentence\n",
        "    return text_token_stopwords\n",
        "\n",
        "def remove_puntuation(message):\n",
        "    Test_punc_removed = [char for char in message if char not in string.punctuation]\n",
        "    Test_punc_removed_join = ''.join(Test_punc_removed)\n",
        "    Test_punc_removed_join = remove_accents(Test_punc_removed_join)\n",
        "    return Test_punc_removed_join\n",
        "\n",
        "def remove_accents(input_str):\n",
        "    \"\"\"\n",
        "    remueve acentos, aunque al ser un texto en inglés no deberían existir acentos\n",
        "    \"\"\"\n",
        "    nfkd_form = unicodedata.normalize('NFKD', input_str )\n",
        "    return u\"\".join([c for c in nfkd_form if not unicodedata.combining(c)])\n",
        "\n",
        "def clean_str_puntuaction(input_df):\n",
        "    input_df=input_df.replace(\"'\",\"\")\n",
        "    input_df=input_df.replace(\"\\r\",\" \")\n",
        "    input_df=input_df.replace(\"\\n\",\" \")\n",
        "    input_df=input_df.replace(\"-\",\" \")\n",
        "    input_df= re.sub(\"[\\(\\[].*?[\\)\\]]\", \"\", input_df)\n",
        "    input_df= re.sub(r'[^\\w\\s]', '', input_df)\n",
        "    input_df= re.sub(r'me ', ' ', input_df)\n",
        "    input_df= re.sub(r'te ', ' ', input_df)\n",
        "    #input_df= remove_accents(input_df)\n",
        "    return input_df\n",
        "\n",
        "def clean_lyric(input_lyric):\n",
        "    input_lyric =input_lyric.lower()\n",
        "    input_lyric = clean_str_puntuaction(input_lyric)\n",
        "    #input_lyric = remove_puntuation(input_lyric)\n",
        "    input_lyric = lemmatize(input_lyric)\n",
        "    input_lyric = remove_accents(input_lyric)\n",
        "    input_lyric = lemmatize(input_lyric)\n",
        "    \n",
        "    input_lyric = token_clean_stopwords(input_lyric)\n",
        "\n",
        "    return input_lyric"
      ],
      "execution_count": 7,
      "outputs": []
    },
    {
      "cell_type": "markdown",
      "metadata": {
        "id": "L6lGhW_wy4jJ"
      },
      "source": [
        "# Vectorizar texto sin preprocesar"
      ]
    },
    {
      "cell_type": "code",
      "metadata": {
        "id": "cn2Qr2Ahy4jJ"
      },
      "source": [
        "# Texto sin preprocesar\n",
        "from sklearn.feature_extraction.text import CountVectorizer\n",
        "# Define the cleaning pipeline we defined earlier\n",
        "vectorizer = CountVectorizer(analyzer = clean_lyric)\n",
        "lyrics_countvectorizer = vectorizer.fit_transform(lyrics_df['lyric'])"
      ],
      "execution_count": 8,
      "outputs": []
    },
    {
      "cell_type": "code",
      "metadata": {
        "colab": {
          "base_uri": "https://localhost:8080/"
        },
        "id": "0__SUb4xy4jJ",
        "outputId": "1f127931-3ccc-49c8-ccb1-0e2ce3efebf0"
      },
      "source": [
        "print(vectorizer.get_feature_names())"
      ],
      "execution_count": 9,
      "outputs": [
        {
          "output_type": "stream",
          "text": [
            "['aaron', 'abajar', 'abandonar', 'abismar', 'abogar', 'abolengo', 'abonero', 'aborrecer', 'abrasar', 'abrasarlo', 'abrazar', 'abrazarla', 'abrazarlo', 'abrigar', 'abrigarla', 'abril', 'abrir', 'abris', 'absolutamen', 'absorber', 'absurdo', 'abuelo', 'aburricion', 'aburrimiento', 'aburrir', 'abusador', 'abusar', 'acabamo', 'acabandose', 'acabar', 'acabarse', 'acalambrar', 'acapulco', 'acariciale', 'acariciar', 'acarina', 'acaso', 'acceso', 'accion', 'acelerador', 'aceleralo', 'acelerar', 'acentuar', 'aceptalo', 'aceptar', 'aceptarlo', 'acerar', 'acercar', 'aclamar', 'aclarar', 'aclararle', 'acomodar', 'acomodese', 'acompana', 'acompanar', 'acompleta', 'aconsejale', 'aconsejar', 'acoplar', 'acordar', 'acordeon', 'acordeonar', 'acorralar', 'acortar', 'acosar', 'acostar', 'acostas', 'acostumbrar', 'actitu', 'actitud', 'activar', 'actuar', 'acudir', 'acuerdense', 'acumele', 'acumular', 'acurrucar', 'addicted', 'adelan', 'adelantar', 'ademar', 'adentrar', 'adeveras', 'adherir', 'adiccion', 'adictivo', 'adicto', 'adios', 'adivinar', 'adjetivar', 'administrar', 'admiracion', 'admirador', 'admirar', 'admirarla', 'admitelo', 'admitir', 'adolescente', 'adonde', 'adorar', 'adorarla', 'adornar', 'adrenalina', 'adriel', 'aduenar', 'aduenarse', 'adulto', 'adversario', 'advertir', 'advertis', 'aeropuerto', 'afanar', 'afectar', 'afeitar', 'aferrar', 'afilar', 'afirmar', 'aflojar', 'aforar', 'afortunado', 'africa', 'africano', 'afrontar', 'agalla', 'agarrar', 'agarrarlo', 'agendar', 'agitar', 'agonia', 'agonizar', 'agotar', 'agradar', 'agradecer', 'agradecimiento', 'agrandar', 'agredir', 'agrietar', 'agrura', 'aguantadores', 'aguantar', 'aguar', 'aguardien', 'aguardiente', 'aguerrir', 'agugu', 'aguila', 'aguita', 'aguitado', 'aguitamos', 'aguitando', 'aguiten', 'aguja', 'agujerar', 'agusto', 'ahogar', 'ahora', 'ahorita', 'ahorrar', 'ahumar', 'ahuyen', 'ajeno', 'ajetrear', 'ajoro', 'ajustar', 'alado', 'alarde', 'alardear', 'alargar', 'alarmar', 'alazan', 'alborotar', 'alcahue', 'alcantarillar', 'alcanzar', 'alcohol', 'alegar', 'alegrar', 'alegrarnos', 'alegria', 'aleira', 'alejar', 'alejarnos', 'aleks', 'aleluya', 'alentar', 'alergico', 'alertar', 'alfredo', 'alguien', 'algun', 'alguno', 'alhajar', 'aliar', 'alimentar', 'alimentarnos', 'alinear', 'alivianar', 'aliviar', 'almohada', 'aloca', 'alocado', 'aloco', 'alone', 'alrededor', 'alrteran', 'altamen', 'altar', 'alterar', 'altura', 'alucinacion', 'alucinar', 'alumbrar', 'alumno', 'alvarez', 'always', 'alzar', 'amable', 'amalgamar', 'amandonos', 'amanecer', 'amanerar', 'amanos', 'amansar', 'amante', 'amarar', 'amargar', 'amargura', 'amarla', 'amarnoa', 'amarnos', 'amarrao', 'amarrar', 'ambicionar', 'ambien', 'ambos', 'amenazar', 'amenizar', 'america', 'americano', 'ameritar', 'amigar', 'amiguita', 'amistar', 'amnesia', 'amooor', 'amorcito', 'amore', 'amoroso', 'amorpor', 'amparar', 'amuleto', 'analizar', 'anatomia', 'ancho', 'anclar', 'andador', 'andale', 'andamo', 'andar', 'andarse', 'andube', 'anecdota', 'anestesiar', 'angel', 'angelcillo', 'angustiar', 'anhelar', 'anidar', 'anillar', 'animal', 'animar', 'anitta', 'anoche', 'anorar', 'anormal', 'ansia', 'ansiedad', 'ansioso', 'antecedente', 'antemano', 'anterior', 'anticipar', 'antidito', 'antidoto', 'antiguar', 'antojar', 'anton', 'antro', 'anuel', 'anular', 'anzuelo', 'apadrinar', 'apagandola', 'apagar', 'apalabrar', 'apantallar', 'apapachar', 'apapachen', 'aparar', 'aparecer', 'aparecis', 'aparentar', 'aparentemen', 'apartamento', 'apartar', 'apasionar', 'apedrear', 'apellidar', 'apenar', 'apenitas', 'apesar', 'apestar', 'apiadar', 'aplastar', 'aplaudir', 'aplauso', 'aplicar', 'apocalipsis', 'apocar', 'apodar', 'apoderar', 'apostar', 'apostarle', 'apoyar', 'apreciar', 'aprender', 'aprendi', 'apres', 'apresurar', 'apretar', 'apreton', 'aprisa', 'aprobar', 'aprovechar', 'aprovecharlo', 'aprovecharse', 'apunalar', 'apuntar', 'apurar', 'aquel', 'aquellito', 'aquietar', 'aquiles', 'aranar', 'arbol', 'arbolero', 'arbolito', 'arder', 'ardien', 'ardiente', 'ardor', 'arenar', 'argentino', 'argumentar', 'ariel', 'armadura', 'armao', 'armar', 'aromar', 'around', 'arrancar', 'arrancaria', 'arrancarla', 'arrancones', 'arranquese', 'arrastrar', 'arrebatao', 'arrebatar', 'arreglamo', 'arreglar', 'arremangar', 'arrendador', 'arrepentimiento', 'arrepentir', 'arrepentirse', 'arrepentis', 'arrepien', 'arrestar', 'arribar', 'arriero', 'arriesgar', 'arrimar', 'arrive', 'arrodillar', 'arrogancia', 'arrogar', 'arropar', 'arroz', 'arrugar', 'arruinar', 'arruinarlo', 'arrullar', 'arsenal', 'artista', 'arturo', 'ascensor', 'asear', 'asegurar', 'asemejar', 'asesinar', 'asimilar', 'asomar', 'asombrar', 'aspecto', 'aspirador', 'aspirina', 'astillar', 'astro', 'asumir', 'asuncion', 'asunto', 'asustar', 'atacar', 'atarantar', 'atarantarlo', 'atardecer', 'atardecia', 'atencion', 'atencione', 'atender', 'atener', 'atentar', 'atesorar', 'atolito', 'atomo', 'atorar', 'atorarle', 'atormentao', 'atormentar', 'atrabancar', 'atraccion', 'atractivo', 'atraer', 'atrapar', 'atras', 'atrasar', 'atravesar', 'atravieza', 'atrever', 'atrincar', 'atropellar', 'atroz', 'aturdir', 'audaz', 'aullar', 'aumentar', 'aurora', 'ausen', 'ausencia', 'ausentar', 'autenticar', 'automatico', 'autor', 'autorizacion', 'autorizar', 'avanzar', 'aventar', 'aventurar', 'avergonzar', 'averigues', 'avezar', 'avion', 'avisar', 'avispero', 'ayudar', 'ayudarla', 'ayudarlos', 'ayudele', 'ayunar', 'azahar', 'azotar', 'azteca', 'azucar', 'azular', 'babai', 'babero', 'babies', 'bahamas', 'bailador', 'bailale', 'bailar', 'bailarla', 'bailarlo', 'bailele', 'bailemo', 'bailon', 'bails', 'bajale', 'bajar', 'bajarle', 'bajartela', 'bajito', 'bajon', 'balaju', 'balancear', 'balar', 'balcon', 'baldar', 'balero', 'balsa', 'balvin', 'banandose', 'banar', 'banca', 'banco', 'banda', 'bande', 'bandido', 'bando', 'bandolero', 'bandon', 'bandona', 'bandononona', 'banqueta', 'banquetazos', 'barato', 'barbar', 'barbaros', 'barca', 'barco', 'barquillero', 'barquito', 'barranquilla', 'barrenar', 'barrer', 'barrera', 'barrigon', 'barriguita', 'barrio', 'barron', 'basar', 'bastante', 'bastantemen', 'bastar', 'bastida', 'basura', 'batallar', 'batear', 'batir', 'bautizar', 'beach', 'beato', 'bebecita', 'beber', 'beberla', 'bebeto', 'becerro', 'belen', 'believe', 'beliz', 'bellaco', 'bellaqueabamo', 'bellaquisima', 'bellaquisimo', 'belleza', 'bello', 'bendecido', 'bendecir', 'bendicion', 'beneficiar', 'bengala', 'benito', 'benjamin', 'beretta', 'berrinche', 'besala', 'besale', 'besar', 'besarla', 'besarle', 'besarnos', 'besee', 'besillos', 'besito', 'besitos', 'bestia', 'besuquear', 'better', 'biberon', 'bichar', 'bicicleta', 'bienvenido', 'biggie', 'bikini', 'bille', 'billete', 'billeton', 'bipolar', 'bitch', 'bitches', 'blanco', 'blanquita', 'blanquito', 'blindaje', 'blindar', 'blocar', 'blooper', 'bloqueador', 'bloquear', 'blunt', 'blusa', 'blusita', 'bocinar', 'bocota', 'bogota', 'bohemio', 'bolenda', 'boleto', 'bolsa', 'bolsillo', 'bombon', 'bondad', 'bonito', 'booty', 'boquita', 'bordar', 'borrachera', 'borrachin', 'borrachito', 'borracho', 'borrao', 'borrar', 'bossi', 'botar', 'botecito', 'botella', 'botelleo', 'botellita', 'boton', 'botonar', 'boulevard', 'boutique', 'bowie', 'bramar', 'brasero', 'brasil', 'bravaron', 'bravo', 'braza', 'brazo', 'brazuca', 'bregar', 'breve', 'brigada', 'brillante', 'brillar', 'brincar', 'brindar', 'brindarse', 'bring', 'brisa', 'bromar', 'bromear', 'bronco', 'brotar', 'browns', 'browser', 'brujeria', 'brujir', 'bruto', 'buchanans', 'buche', 'buchon', 'buenazo', 'bueno', 'buildin', 'buitre', 'bukanan', 'bulear', 'bulevar', 'bumper', 'bunny', 'bunuelo', 'burlano', 'burlao', 'burlar', 'burlesco', 'burro', 'buscabulla', 'buscar', 'buscarla', 'buscarle', 'cabal', 'cabalgar', 'caballero', 'caballito', 'caballo', 'caballon', 'cabellar', 'cabellera', 'caber', 'cabeza', 'caborca', 'cabron', 'cabrone', 'cacahua', 'cacahuatazos', 'cacerio', 'cachar', 'cachetada', 'cachete', 'cadena', 'cadencia', 'cadenita', 'cadera', 'caderona', 'cafre', 'cagao', 'cagar', 'caicos', 'caida', 'caites', 'cajon', 'calabozo', 'calar', 'calcular', 'calele', 'calendario', 'calentar', 'calenton', 'calibrar', 'calidad', 'calien', 'califa', 'calificativo', 'california', 'californiano', 'caliz', 'calladito', 'callaita', 'callar', 'callarlo', 'calmamo', 'calmar', 'calor', 'caloria', 'calzon', 'camarada', 'camaro', 'cambiar', 'cambiarla', 'cambiarlos', 'camelia', 'camello', 'camilo', 'caminar', 'caminarse', 'caminito', 'camion', 'camioneta', 'camioneton', 'camisa', 'camita', 'campana', 'campar', 'campeon', 'camposanto', 'camuflaje', 'camuflajeaba', 'canada', 'cananeo', 'cancelar', 'cancer', 'cancion', 'cancione', 'candar', 'candela', 'candelario', 'candidato', 'candy', 'canelo', 'cangrejo', 'canijo', 'canoso', 'cansancio', 'cansar', 'cansarnos', 'cantandole', 'cantante', 'cantar', 'cantarle', 'cantarles', 'cantarlo', 'cantele', 'cantidad', 'cantina', 'cantinero', 'capacidad', 'capar', 'capaz', 'capear', 'capital', 'capitular', 'capricho', 'caprichoso', 'capsuleando', 'caracol', 'caracter', 'carajo', 'caramelo', 'caravana', 'caray', 'carcajada', 'carcel', 'cardboard', 'carecer', 'carencia', 'careta', 'cargar', 'caribe', 'caricia', 'carin', 'carinito', 'carino', 'carinoso', 'carisma', 'carita', 'carlitos', 'carlos', 'carmen', 'carnal', 'carnala', 'carnaval', 'carne', 'carpir', 'carrera', 'carretero', 'carrito', 'carro', 'carta', 'cartagena', 'cartel', 'cartero', 'cartier', 'cartita', 'carton', 'casar', 'casarse', 'cascar', 'caseta', 'casimiro', 'castellano', 'castigar', 'castilla', 'castillo', 'castrar', 'casual', 'casualidad', 'catarro', 'catchana', 'catin', 'catolico', 'causar', 'cautelar', 'cautivar', 'cazar', 'ceder', 'cegar', 'cejar', 'celar', 'celebrar', 'celestial', 'celoso', 'celso', 'celula', 'celular', 'cementerio', 'cenar', 'cenizo', 'centavo', 'centrar', 'cercar', 'cerdo', 'cerebro', 'cereza', 'cerio', 'cerquita', 'cerquitas', 'cerrar', 'cerro', 'cerrojo', 'certeza', 'cervecita', 'cervecitas', 'cerveza', 'cesar', 'chaka', 'chaleco', 'chalito', 'chamaco', 'chamarra', 'chamba', 'chambea', 'chambeando', 'chambear', 'champan', 'champion', 'championa', 'champions', 'champurrar', 'chana', 'chancla', 'chanel', 'change', 'chantaje', 'chanza', 'chapar', 'chaparrita', 'chapeadora', 'chapi', 'chapin', 'chapulineada', 'charanda', 'charlar', 'charolar', 'charro', 'chatear', 'chavalada', 'chavalo', 'chavo', 'chayin', 'checho', 'cheese', 'chela', 'chelas', 'chelito', 'cheque', 'cherchar', 'chiapas', 'chicharron', 'chicle', 'chico', 'chido', 'chiflido', 'chihuahua', 'chila', 'chile', 'chileno', 'chillar', 'chillin', 'chimbitas', 'chingaderas', 'chingao', 'chingar', 'chingon', 'chino', 'chiquillo', 'chiquitica', 'chiquititita', 'chiquitito', 'chiquito', 'chisme', 'chispo', 'chistar', 'chivar', 'chocale', 'chocar', 'choche', 'chocola', 'chocolate', 'chombo', 'chona', 'choses', 'chris', 'christian', 'chuchito', 'chucho', 'chueco', 'chulada', 'chulita', 'chulo', 'chupale', 'chupar', 'chupito', 'chupitos', 'chupon', 'cicatriz', 'cicatrizar', 'ciclar', 'ciegamen', 'cielo', 'ciento', 'cierto', 'cifrar', 'cigarrito', 'cigarro', 'cincar', 'cincuenta', 'cinico', 'cintar', 'cintura', 'cinturita', 'cinturon', 'circo', 'circular', 'circunstancia', 'cirquito', 'cirujano', 'citar', 'ciudad', 'clamato', 'clandestino', 'claramen', 'clarine', 'clarito', 'claro', 'clase', 'clasico', 'claus', 'clavar', 'clemencia', 'clementino', 'click', 'clien', 'close', 'closet', 'cobarde', 'cobijar', 'cobrar', 'cocar', 'cochambroso', 'coche', 'cochera', 'cocien', 'cocinar', 'coctel', 'codiciar', 'codigo', 'coger', 'cogerle', 'coincidencia', 'coincidir', 'cojon', 'cojone', 'colaborar', 'colaborarles', 'colchon', 'coleccion', 'colesterol', 'colgar', 'colgarل', 'colgas', 'collar', 'colmar', 'colmillo', 'colombia', 'colombiano', 'colonia', 'color', 'coloradita', 'colorar', 'colorir', 'coloso', 'columpiar', 'comal', 'combar', 'combi', 'combustible', 'comelon', 'comemo', 'comentar', 'comentario', 'comenzar', 'comer', 'cometer', 'comezon', 'comias', 'comico', 'comiendono', 'comillas', 'comment', 'comodidad', 'comodo', 'compa', 'compadecer', 'compadrar', 'companero', 'compania', 'comparar', 'comparsa', 'compartias', 'compartir', 'compas', 'compasion', 'compaz', 'compdre', 'compe', 'compensar', 'competencia', 'competir', 'complacer', 'complacien', 'complementar', 'completamen', 'completar', 'completarlo', 'completita', 'complicacion', 'complicar', 'complice', 'complir', 'componer', 'comportamiento', 'comprar', 'comprarlo', 'comprender', 'comprenderlo', 'comprension', 'comprob', 'comprobar', 'comprobe', 'comprometer', 'compromiso', 'comun', 'comunicacion', 'comunicar', 'comunicarle', 'conac', 'concebir', 'conceder', 'concentrar', 'concepcion', 'concertar', 'concidencia', 'concideracion', 'concien', 'concienciar', 'concluir', 'conclusion', 'condenar', 'condicion', 'condicionar', 'conectar', 'conejo', 'conexion', 'confesar', 'confesarle', 'confesarlo', 'confesartelo', 'confeso', 'confianza', 'confiar', 'confiarse', 'confiden', 'confir', 'confirmar', 'conflictivo', 'confor', 'conformar', 'conformarnos', 'confundir', 'confundis', 'confusion', 'confuso', 'congelar', 'conmigo', 'conmoverlos', 'conocemo', 'conocer', 'conoci', 'conocina', 'conocis', 'conoscas', 'conpaz', 'conquian', 'conquistar', 'conquistarla', 'conquistarse', 'conscien', 'consciencia', 'consciente', 'consecuencia', 'consegui', 'conseguir', 'conseguirla', 'conseguis', 'consejo', 'consentir', 'consentirla', 'conservar', 'considerar', 'consien', 'consignar', 'consola', 'consolacion', 'consolar', 'consolarlo', 'constar', 'construi', 'construir', 'consu', 'consumir', 'consup', 'contabilizar', 'contactar', 'contagiar', 'contar', 'contaria', 'contarle', 'contarlo', 'contemplar', 'contener', 'contentar', 'contentarla', 'contero', 'contes', 'contestacion', 'contestar', 'contigo', 'continen', 'continente', 'continuar', 'continuo', 'contrariar', 'contrario', 'contratar', 'control', 'controlar', 'convencela', 'convencer', 'convenien', 'convenir', 'conversacion', 'conversar', 'convertir', 'convertirlo', 'convertirse', 'conviccion', 'convier', 'convivir', 'copar', 'copiloto', 'coquetear', 'coqueto', 'coraje', 'corazon', 'corazoncito', 'corazone', 'corazoooon', 'corcel', 'cordura', 'cornelio', 'coronamo', 'coronar', 'coronavirus', 'coronel', 'corporacion', 'corral', 'correcto', 'corregir', 'correr', 'correspondale', 'corresponder', 'corretiar', 'corridazo', 'corridito', 'corrien', 'corriente', 'corrilo', 'corrio', 'corris', 'corrupto', 'cortar', 'cortina', 'cortita', 'coser', 'cosillas', 'cosita', 'cosquillar', 'costa', 'costar', 'costoso', 'costumbre', 'cotizar', 'cotorrear', 'couchee', 'couple', 'cours', 'craches', 'crack', 'creador', 'crear', 'crecer', 'credito', 'creer', 'criar', 'criatura', 'crimen', 'criminal', 'criminality', 'cristian', 'cristo', 'criterio', 'criticar', 'croise', 'cromar', 'croyais', 'crucero', 'crudo', 'cruel', 'crueldad', 'cruzar', 'cuaco', 'cuaderno', 'cuadrar', 'cuadrito', 'cuajar', 'cualidad', 'cualquiera', 'cuanto', 'cuarenta', 'cuartar', 'cuartitos', 'cuatro', 'cubita', 'cubitas', 'cubrir', 'cubrirlo', 'cucar', 'cucaracha', 'cuchi', 'cuchilla', 'cucucucucucu', 'cuculandia', 'cuello', 'cuentale', 'cuerdo', 'cuerno', 'cuernon', 'cuero', 'cuerpecito', 'cuerpesito', 'cuerpito', 'cuerpo', 'cuerpoy', 'cuestion', 'cuestionar', 'cuetes', 'cuetitos', 'cuidar', 'cuidarla', 'cuidarnos', 'culebra', 'culiacan', 'culichi', 'culito', 'culpable', 'culpar', 'cultivar', 'cumbia', 'cumbiaaa', 'cumbiaton', 'cumbioso', 'cumbre', 'cumpleanos', 'cumplir', 'cumplirlas', 'cumplirse', 'cunar', 'cuota', 'cupido', 'curar', 'curiosidad', 'curioso', 'curri', 'currucu', 'cursar', 'cursi', 'curtir', 'daddy', 'dalex', 'dalmata', 'damaso', 'danar', 'dancin', 'dandose', 'danzar', 'dapres', 'daredevil', 'darell', 'dariel', 'darle', 'darles', 'darlo', 'darnos', 'daronne', 'darse', 'datar', 'david', 'dealin', 'dearly', 'debajo', 'deber', 'deberas', 'debil', 'debilidad', 'debis', 'debutar', 'decen', 'decepcion', 'decepcionar', 'decia', 'decias', 'decidir', 'decidis', 'deciocho', 'decir', 'decirle', 'decirles', 'decirlo', 'decirnos', 'decirtelo', 'decisidido', 'decision', 'declarar', 'deconnes', 'decorar', 'dedicandole', 'dedicar', 'dedicatoria', 'deditos', 'defecto', 'defender', 'definir', 'definitivamen', 'definitivo', 'defraudar', 'degenerar', 'deidad', 'dejala', 'dejalo', 'dejalos', 'dejama', 'dejar', 'dejaria', 'dejarles', 'dejarlo', 'dejarlos', 'dejemosno', 'dejense', 'delan', 'delatar', 'delegar', 'delgado', 'delicadeza', 'delicado', 'delincuen', 'delirar', 'delirio', 'delito', 'demas', 'demasiaado', 'demasiar', 'dembow', 'demen', 'demencia', 'demonio', 'demorar', 'demosle', 'demostrar', 'demostrarle', 'demostrarlo', 'demostras', 'dentar', 'dentro', 'denunciar', 'departamento', 'depender', 'depor', 'depreciar', 'depresion', 'depresivo', 'deprisa', 'derecho', 'derivar', 'derretir', 'derretirse', 'derri', 'derrotar', 'derrumbar', 'derrumbarse', 'desabotonar', 'desabrochar', 'desacatar', 'desafiar', 'desafortunadamen', 'desahogar', 'desamor', 'desanimar', 'desaparecer', 'desarmar', 'desastre', 'desatar', 'desatrampamos', 'desayunamo', 'desayunar', 'desbalance', 'desbaratar', 'desbloquear', 'descalabrar', 'descansar', 'descarar', 'descargar', 'descarrilar', 'descartar', 'descifrar', 'desclavar', 'descolocar', 'desconcentro', 'desconfianza', 'desconfiar', 'desconocer', 'descontar', 'descontrolar', 'descortes', 'describir', 'descubrir', 'descuentito', 'descuidar', 'desdecir', 'desear', 'desechar', 'deseoso', 'desepciones', 'desesperacion', 'desesperadamen', 'desesperar', 'desesperarse', 'desfacer', 'desfilar', 'desgarrar', 'desgastar', 'desgraciar', 'deshacer', 'deshogare', 'deshojar', 'desicion', 'desierto', 'desilusion', 'desilusionar', 'desinfectar', 'desinquieto', 'deslizar', 'deslumbrar', 'desmadrar', 'desmadroso', 'desmayar', 'desnudar', 'desnudez', 'desnudita', 'desorden', 'desorientar', 'despachar', 'despacio', 'despacito', 'despampanante', 'despampanar', 'despapaye', 'desparpajar', 'despechar', 'despedir', 'despedirse', 'despedis', 'despeinar', 'despejar', 'desper', 'desperdiciar', 'desperdiciarla', 'despertar', 'despertarse', 'desperto', 'despiadadamen', 'despiadado', 'despier', 'despistar', 'desplazar', 'despojar', 'despreciar', 'desprender', 'desprenderse', 'despue', 'despues', 'desquitar', 'destacar', 'destapar', 'destendida', 'desterrar', 'destiempo', 'destinar', 'destrampa', 'destrampo', 'destrozar', 'destruir', 'desunir', 'desvanecer', 'desvelar', 'desvestir', 'desvestirnos', 'desviar', 'desvivir', 'detallar', 'detallista', 'deten', 'detendre', 'detener', 'detenerla', 'detenerlo', 'detestar', 'detonacion', 'detra', 'detras', 'deuda', 'deveras', 'deverias', 'deveritas', 'devolver', 'devorar', 'diabetes', 'diabetico', 'diablo', 'diaman', 'diamantar', 'diamond', 'diario', 'dibujar', 'diccionario', 'dichoso', 'diciembre', 'diecinueve', 'diego', 'dieta', 'diferen', 'diferenciar', 'diferente', 'dificil', 'dificultar', 'dignidad', 'dijis', 'dilema', 'diles', 'dimelo', 'dimension', 'dinamitar', 'dinerito', 'dinero', 'diosito', 'diploma', 'diplomado', 'direccion', 'directo', 'dirigir', 'disco', 'discoteca', 'discotech', 'discreto', 'disculpar', 'discusion', 'discutir', 'diselo', 'disena', 'disenar', 'disfraz', 'disfrazar', 'disfru', 'disfrutalo', 'disfrutar', 'disfrutarlas', 'disfrutarlo', 'disfrutarse', 'disgustar', 'disimilar', 'disimular', 'disimularlo', 'disipar', 'disparar', 'disponer', 'disponible', 'disque', 'disquera', 'distanciar', 'distante', 'distar', 'distinguir', 'distinto', 'distrito', 'disturbio', 'diversion', 'divertir', 'dividir', 'divier', 'divino', 'divisar', 'divulgarlo', 'dizque', 'djadja', 'doblar', 'doctor', 'dolar', 'dolce', 'doler', 'dolio', 'dolis', 'dolor', 'domesticar', 'domiciliar', 'dominar', 'domingo', 'dondequiera', 'dorar', 'dormir', 'dormirse', 'dormitorio', 'dosis', 'dragon', 'dream', 'drinkin', 'drippin', 'drogar', 'drown', 'drownin', 'drums', 'duchar', 'dudar', 'dueno', 'dulce', 'dulcemen', 'dulzura', 'durango', 'durar', 'durisimo', 'dynell', 'echabamo', 'echale', 'echandose', 'echar', 'echarnos', 'echele', 'echese', 'echizado', 'economico', 'ecuador', 'edicion', 'educar', 'edwin', 'efectivo', 'efecto', 'eficien', 'egoismo', 'egoista', 'ejecutivo', 'ejemplo', 'electricidad', 'electrico', 'electro', 'electrocumbia', 'elegan', 'elegancia', 'elegante', 'elegir', 'elegis', 'elementar', 'elevar', 'elidian', 'eliel', 'eligio', 'eliminar', 'elizalde', 'elote', 'embargar', 'emblema', 'emborrachar', 'embriagar', 'embrujar', 'embustero', 'embutir', 'emerger', 'emigrar', 'emiliano', 'emilio', 'eminem', 'emocion', 'emocionar', 'emotivo', 'empacar', 'empanar', 'empecer', 'empedar', 'empedo', 'empenar', 'empeorar', 'empezamo', 'empezao', 'empezar', 'empezas', 'empezo', 'empiernada', 'empinar', 'empresa', 'empujon', 'enamorar', 'enamorarla', 'enamorarse', 'encabronada', 'encajar', 'encajoso', 'encantador', 'encantar', 'encargar', 'encelar', 'encender', 'encerrar', 'enchinar', 'enchufar', 'encimar', 'encontrar', 'encontrarlo', 'encontrarse', 'encontras', 'encontre', 'encore', 'endemoniao', 'endulzar', 'enemigo', 'enero', 'enfermar', 'enfermedad', 'enfers', 'enfiestado', 'enfiestamos', 'enfiestar', 'enfiesto', 'enforjando', 'enfren', 'enfrentar', 'enfrentarlo', 'enganando', 'enganar', 'enganchar', 'engano', 'enganoso', 'engreir', 'enhorabuena', 'enigma', 'enloquecer', 'enloquecerse', 'enojar', 'enough', 'enredandose', 'enredar', 'enrique', 'enrollar', 'enrredar', 'enseguida', 'ensenar', 'ensenarles', 'enseriar', 'ensillar', 'ensuciar', 'entender', 'entenderla', 'entendimiento', 'enterar', 'enterarse', 'enterrar', 'entonar', 'entonces', 'entramar', 'entrar', 'entrarle', 'entregar', 'entregarle', 'entregarlo', 'entrege', 'entrenamiento', 'entrenar', 'entretener', 'entumir', 'entusiasmar', 'envejecer', 'envenenar', 'enviar', 'enviciar', 'envidiar', 'envidioso', 'envoltura', 'envolver', 'enyerbar', 'epale', 'equipaje', 'equipar', 'equivocar', 'eramo', 'erguir', 'erizar', 'erotico', 'error', 'escalar', 'escalera', 'escalofrio', 'escandalo', 'escapar', 'escarchar', 'escatimar', 'escenario', 'esclavitud', 'esclavo', 'escoger', 'esconder', 'escondernos', 'esconderse', 'escondis', 'escopeta', 'escotar', 'escrache', 'escribir', 'escuadrar', 'escuchar', 'escudar', 'escuela', 'escuelita', 'esencia', 'esencial', 'esfera', 'esforzar', 'esfumar', 'esmog', 'espaciar', 'espadar', 'espagueti', 'espalar', 'espalda', 'espaldita', 'espan', 'espana', 'espanol', 'espantar', 'especial', 'espectacular', 'espectativa', 'espejar', 'espejear', 'esperanzar', 'esperar', 'esperarse', 'espesar', 'espiar', 'espinar', 'esposar', 'esque', 'esquema', 'esqui', 'esquimal', 'esquinar', 'esquisita', 'esquivar', 'estable', 'estacionar', 'estadio', 'estallar', 'estamo', 'estampar', 'estan', 'estara', 'estaras', 'estarias', 'estarla', 'estarnos', 'estatus', 'estela', 'estilar', 'estilista', 'estimar', 'estirar', 'estoico', 'estorbar', 'estornudar', 'estrellar', 'estrellita', 'estremecer', 'estrenar', 'estres', 'estresaba', 'estriar', 'estribar', 'estube', 'estudiar', 'estupidez', 'estupido', 'estupidos', 'estuvis', 'etapa', 'eternamen', 'eternidad', 'eterno', 'etiquetar', 'europa', 'europeo', 'evadir', 'evangelio', 'every', 'everywhere', 'eviden', 'evidenciar', 'evilla', 'evitar', 'evitarlo', 'exactamen', 'exacto', 'exagerar', 'exagerarlo', 'exceder', 'excepcional', 'excepto', 'exceso', 'excitar', 'exclusivo', 'excusar', 'exigiendole', 'exigir', 'existencia', 'existir', 'existis', 'exito', 'exotico', 'expectativa', 'expendio', 'experiencia', 'experto', 'explicacion', 'explicar', 'explicarle', 'explo', 'explosionar', 'explosivo', 'explotar', 'expres', 'expresar', 'expresion', 'express', 'exquisito', 'extender', 'extension', 'extensione', 'extenso', 'extincion', 'extinguir', 'extra', 'extranando', 'extranar', 'extranarlo', 'extrano', 'extraordinario', 'extraviar', 'extremar', 'facebook', 'facil', 'facilitar', 'facinas', 'facturar', 'faire', 'fajar', 'fajitas', 'falda', 'faldita', 'fallar', 'fallir', 'falsedad', 'falso', 'faltar', 'familia', 'famoso', 'fanatico', 'fancy', 'fanfarronear', 'fantasia', 'fantasias', 'fantasma', 'fantastica', 'fantastico', 'farol', 'farra', 'farru', 'farsan', 'fascinar', 'fashion', 'fastidiar', 'fatal', 'fatality', 'favela', 'favor', 'favorito', 'febrero', 'febril', 'fechar', 'federal', 'feelin', 'felicidad', 'felicitacion', 'felicitar', 'feliz', 'fenix', 'ferai', 'feriar', 'fernandez', 'fernando', 'ferragamo', 'ferrar', 'ferrari', 'fervor', 'festejar', 'festin', 'festividad', 'fetuccini', 'ficcion', 'fidelidad', 'fiero', 'fiesta', 'fieston', 'fievre', 'fight', 'figurar', 'fijacion', 'fijador', 'fijar', 'fijarias', 'final', 'finalmen', 'financiar', 'finar', 'fingir', 'fingis', 'finiras', 'fintar', 'firmar', 'firmeza', 'first', 'fisico', 'fitted', 'flaco', 'flaquear', 'flaquita', 'flash', 'flechar', 'flexible', 'flojo', 'flotar', 'fluir', 'flyer', 'fogata', 'folsom', 'fondo', 'fonseca', 'forcejar', 'forgetable', 'formal', 'formar', 'formular', 'fortuna', 'forza', 'forzar', 'fotografiar', 'frabian', 'fracasar', 'fracturar', 'fragancia', 'fragil', 'francamen', 'frances', 'francisco', 'franco', 'frase', 'freaky', 'freakytona', 'frecuen', 'frecuencia', 'freddo', 'freestyle', 'fregar', 'fregón', 'freir', 'frenar', 'frere', 'fresar', 'fresco', 'frialdad', 'friend', 'friends', 'frivolo', 'fronteo', 'frontero', 'fruity', 'fruto', 'fríjol', 'fuckin', 'fuego', 'fuerte', 'fuertemen', 'fugao', 'fugar', 'fugaz', 'fuimo', 'fuistes', 'fulanito', 'fulano', 'fumabamo', 'fumar', 'fumigar', 'funcion', 'funcionar', 'fundiendose', 'fundir', 'funeral', 'fusil', 'fusionao', 'fusionarse', 'futbol', 'futuro', 'gabacho', 'gabbana', 'gabeta', 'gabriel', 'gacho', 'galan', 'gallar', 'galleta', 'galopar', 'gamma', 'ganador', 'ganao', 'ganar', 'ganarle', 'garaje', 'garantir', 'garces', 'garcia', 'garganta', 'garrar', 'garzo', 'gasolina', 'gaspar', 'gastamo', 'gastar', 'gastarnos', 'gatillo', 'gaucho', 'gaviota', 'gaxiola', 'geico', 'gemelo', 'gemir', 'generalmen', 'generar', 'generoso', 'genial', 'genio', 'genre', 'genta', 'gente', 'gentil', 'gentle', 'gerber', 'geren', 'gerencia', 'german', 'gestar', 'gimnasio', 'girar', 'gistro', 'givin', 'glamour', 'global', 'gloria', 'gobernar', 'godin', 'godzilla', 'golondria', 'golosinar', 'goloso', 'golpe', 'golpear', 'gomez', 'gordito', 'gorilita', 'gorocoson', 'gorra', 'gotay', 'gotta', 'gozar', 'gozarla', 'gozatelo', 'gozele', 'gozemos', 'grabacion', 'grabamo', 'grabar', 'gracia', 'gradar', 'graduar', 'gramo', 'grand', 'grande', 'grandeza', 'grando', 'granel', 'graso', 'gravar', 'gravity', 'grillar', 'gringo', 'gripa', 'grise', 'gritar', 'gritarle', 'gritarmelo', 'gritarselo', 'groseria', 'grosero', 'grueso', 'gruperos', 'grupo', 'guadalajara', 'guajiro', 'guampabampo', 'guanajuato', 'guantanamero', 'guapo', 'guardar', 'guardia', 'guarida', 'guatemala', 'guaya', 'guayaba', 'guayabita', 'guayabo', 'guayar', 'guaymas', 'guayo', 'gucci', 'gueeee', 'gueeeegueeeepaaa', 'gueeegueee', 'gueritas', 'guerito', 'guero', 'guerra', 'guerrero', 'guetta', 'guiar', 'guilty', 'guisar', 'guitarra', 'gusano', 'gustar', 'gustavo', 'haber', 'haberle', 'habermela', 'habernos', 'habia', 'habian', 'habil', 'habitacion', 'habitar', 'hablador', 'hablale', 'hablandole', 'hablao', 'hablar', 'hablarle', 'hablarnos', 'habra', 'hacemo', 'hacendar', 'hacer', 'hacerla', 'hacerle', 'hacerlo', 'hacernos', 'hacertelo', 'hacia', 'haciamo', 'hacian', 'haciendolo', 'haciendonos', 'hagamo', 'haganla', 'hakuna', 'halagar', 'halar', 'hallar', 'hambre', 'harina', 'hartar', 'haters', 'hawai', 'hazle', 'hazlo', 'heard', 'hechamos', 'hechizar', 'heladito', 'helar', 'helicopteros', 'hello', 'hembra', 'hennessy', 'herbar', 'heredar', 'herencia', 'herir', 'herirla', 'heris', 'hermanar', 'hermosilla', 'hermosillo', 'hermosisimo', 'hermoso', 'hermosura', 'hernan', 'heroina', 'herrar', 'herrero', 'hervir', 'hicimo', 'hicis', 'hidalgo', 'hiedra', 'hielera', 'hijoe', 'hijoeputa', 'hijueputa', 'hilar', 'hincar', 'hipnotizar', 'hipocresia', 'hipocrita', 'hirien', 'hisistes', 'hispano', 'historia', 'hocicon', 'hogar', 'holla', 'hollar', 'hollywood', 'hombre', 'hombro', 'homeboys', 'homenaje', 'honestamen', 'honestar', 'honestidad', 'honor', 'honorar', 'honradez', 'honrar', 'hookah', 'horacio', 'horario', 'hormiga', 'hormona', 'horno', 'hotel', 'hours', 'huarache', 'hubieramos', 'hueco', 'huejaaaaa', 'huentitan', 'huerfano', 'hueso', 'huesudo', 'huevar', 'huevon', 'humanar', 'humanidad', 'humedad', 'humedecer', 'humedo', 'humildad', 'humilde', 'humildemen', 'humillacion', 'humillar', 'humito', 'humor', 'hundir', 'huracan', 'huuuuy', 'huuuy', 'huyaaaa', 'icono', 'ideal', 'idear', 'identico', 'identidad', 'identificar', 'identifiquense', 'ideologia', 'idilio', 'idioma', 'idiota', 'idiotizar', 'idolo', 'iglesia', 'ignacias', 'ignorar', 'igual', 'igualar', 'igualito', 'ilegal', 'illuminati', 'illusion', 'ilogico', 'ilucion', 'iluminale', 'iluminar', 'ilusion', 'ilusionar', 'imagen', 'imaginacion', 'imaginar', 'imaginarse', 'imborrable', 'impacien', 'impactar', 'imparable', 'impartir', 'impedir', 'impender', 'imperfectamen', 'implacable', 'implorar', 'imponer', 'impor', 'importancia', 'importante', 'importar', 'imposibilidad', 'imposible', 'impregnar', 'impresionar', 'imprimir', 'improved', 'improvisar', 'impruden', 'inaceptable', 'inadaptado', 'inaguantable', 'inaguantablemen', 'inalcanzable', 'incansable', 'incentivar', 'incertidumbre', 'incierto', 'incitar', 'incluir', 'incluis', 'incluso', 'incomodar', 'incomparable', 'incondicional', 'inconscien', 'inconsciencia', 'inconscientemen', 'inconvenien', 'increible', 'indebido', 'indeciso', 'indeleble', 'independiente', 'indicar', 'indiferen', 'indiferencia', 'indio', 'indirecto', 'indiscretamen', 'indispensable', 'indulgenciar', 'industriar', 'inesperadamen', 'inesperado', 'inevitable', 'inexplicable', 'infantil', 'infeliz', 'infidelidad', 'infiel', 'infiernito', 'infierno', 'infinito', 'influenciar', 'influir', 'informal', 'informar', 'infraccion', 'ingnoro', 'ingrato', 'ingresar', 'iniciar', 'inigualable', 'inimaginable', 'injusto', 'inmediato', 'inmensamen', 'inmenso', 'inmigrar', 'inmortal', 'inmune', 'inocen', 'inocencia', 'inocente', 'inolvidable', 'inquietar', 'inquietud', 'insaciable', 'inseguro', 'insensible', 'inseparable', 'insinuacion', 'insinuar', 'insistia', 'insistir', 'insistirse', 'insomnio', 'insoportable', 'insoportablemen', 'insospechado', 'inspirar', 'instagram', 'instar', 'instinto', 'instruccion', 'insul', 'insultar', 'insuperable', 'intacto', 'intelectual', 'inteligen', 'inteligencia', 'intelligent', 'inten', 'intencion', 'intencione', 'intensamen', 'intensar', 'intensidad', 'intentar', 'intentarlo', 'intentemoslo', 'interceder', 'interes', 'interesar', 'interior', 'interminable', 'internacional', 'internar', 'internet', 'interponer', 'interpretacion', 'interrumpir', 'intimidar', 'intocable', 'intro', 'intruso', 'inundar', 'inusual', 'inutil', 'invadir', 'invencible', 'inventar', 'inventariar', 'inversion', 'invertir', 'invierno', 'invitacion', 'invitar', 'invitarla', 'involucrar', 'inyeccion', 'inyectar', 'irias', 'irnos', 'ironia', 'irreal', 'irrelevan', 'irremediablemen', 'irresistible', 'irreversible', 'irritar', 'irving', 'iupipati', 'izquierdo', 'iztapalapa', 'jabon', 'jacal', 'jacinto', 'jacky', 'jacob', 'jaguar', 'jaimes', 'jajaja', 'jajajaja', 'jajajajay', 'jajay', 'jalar', 'jalarle', 'jalese', 'jalisco', 'jamaas', 'jamais', 'jamar', 'jamon', 'jangueando', 'janguear', 'jangueo', 'jardin', 'jaripeo', 'jeans', 'jeday', 'jefecitos', 'jefita', 'jentends', 'jerez', 'jerry', 'jessie', 'jetski', 'jhayco', 'jibaro', 'jilguero', 'jimenez', 'jodedor', 'joder', 'jodienda', 'jodio', 'jodis', 'jolgorio', 'jorge', 'jorgillo', 'jornada', 'joseph', 'jouais', 'joven', 'jovencito', 'jowny', 'jpourrais', 'jsuis', 'juana', 'juancho', 'juanes', 'juarez', 'jueguito', 'jueguitos', 'jueve', 'jueves', 'jugar', 'jugas', 'jugue', 'juguete', 'julieta', 'julio', 'julion', 'junior', 'juntar', 'juntarnos', 'juntito', 'juntitos', 'juramentar', 'jurar', 'justamen', 'justar', 'justificar', 'justin', 'juventud', 'juzgar', 'juzguelo', 'kardashian', 'karma', 'karol', 'kassino', 'keepin', 'kevin', 'kikin', 'killa', 'kinder', 'kingz', 'kissin', 'knock', 'krippy', 'labia', 'labial', 'labio', 'laborar', 'labrar', 'ladear', 'ladito', 'ladrar', 'ladron', 'lagrimar', 'lambebicho', 'lamber', 'lamentar', 'lamentarnos', 'lamentarse', 'lamer', 'lanzar', 'largar', 'largent', 'largo', 'lassie', 'lastimar', 'lastimarnos', 'latigazo', 'latinar', 'latinoamerica', 'latir', 'laura', 'laurita', 'lavar', 'lazar', 'league', 'lealtad', 'leandro', 'learned', 'lease', 'leave', 'leccion', 'leche', 'lechero', 'legal', 'legar', 'leggo', 'legua', 'lejania', 'lejos', 'lengua', 'lenin', 'lentamen', 'lente', 'lentitud', 'lento', 'leticia', 'letra', 'levantar', 'levar', 'level', 'levis', 'leyenda', 'libar', 'liberar', 'liberata', 'libertar', 'libidinoso', 'librar', 'licenciar', 'licor', 'licuadora', 'liebre', 'liftin', 'ligar', 'ligero', 'limitacion', 'limitar', 'limon', 'limosna', 'limosnero', 'limpiamen', 'limpiar', 'linar', 'lindar', 'linear', 'liquidar', 'listar', 'liston', 'literal', 'litro', 'living', 'lizarraga', 'llagar', 'llamar', 'llamarle', 'llamarse', 'llanta', 'llantita', 'llanto', 'llave', 'llegamo', 'llegar', 'llegarle', 'llege', 'llegua', 'llenadera', 'llenaea', 'llenar', 'llenarnos', 'llendo', 'llera', 'llevala', 'llevar', 'llevarla', 'llevarle', 'llevarse', 'llevarsela', 'llevatela', 'lloraaar', 'llorar', 'llover', 'lluvia', 'locamen', 'lockens', 'locura', 'locutor', 'logar', 'lograr', 'lograrlo', 'london', 'loops', 'loquero', 'loquita', 'loquitas', 'lorena', 'losar', 'loteria', 'louis', 'lover', 'lovin', 'lucero', 'lucesitas', 'luchador', 'luchar', 'lucir', 'lucirla', 'lucky', 'lucos', 'luego', 'lueguito', 'lugar', 'luian', 'lujoso', 'lujuriar', 'lumbre', 'lunar', 'lunatico', 'lunay', 'lunes', 'lupillo', 'lupita', 'maana', 'macario', 'machacar', 'machar', 'machin', 'machoo', 'macizar', 'macorina', 'maderar', 'madrazos', 'madre', 'madrecita', 'madrugar', 'madueno', 'madurar', 'maestro', 'mafia', 'magdalena', 'magia', 'magica', 'magico', 'magnificar', 'mahon', 'mails', 'majestad', 'makes', 'malabar', 'malandron', 'malayo', 'malboro', 'maldad', 'maldecir', 'maldicion', 'maldito', 'malear', 'malecon', 'maleconeando', 'malefico', 'maleta', 'maleti', 'malherir', 'maliciar', 'malicioso', 'malimpusis', 'malita', 'mallar', 'maltratar', 'maluma', 'mamacita', 'mamar', 'mamasita', 'mambo', 'mamon', 'manana', 'manantial', 'manar', 'manchar', 'mandale', 'mandar', 'mandaselo', 'mandiloniadas', 'manejar', 'manera', 'mangar', 'manguera', 'maninanini', 'manipular', 'maniqui', 'manir', 'manita', 'mansion', 'mansita', 'mansito', 'mantener', 'mantenernos', 'mantequilla', 'manual', 'manzana', 'maquillaje', 'maquillar', 'maquinar', 'maravillar', 'maravilloso', 'marbella', 'marcador', 'marcale', 'marcar', 'marchandose', 'marchar', 'marchitar', 'marciano', 'marear', 'margarita', 'maria', 'mariacheno', 'mariachi', 'maridar', 'marihuana', 'mario', 'mariposa', 'marquez', 'marquis', 'martillar', 'martin', 'martirio', 'mascota', 'matador', 'matar', 'matarno', 'matata', 'match', 'material', 'maternal', 'matita', 'maton', 'matrimoniar', 'mauricio', 'mavoir', 'maximo', 'maybe', 'mayor', 'mazar', 'mazatlan', 'means', 'mecer', 'medalla', 'medellin', 'mediar', 'medical', 'medicamento', 'medicinal', 'medicinar', 'medillin', 'medina', 'mediocridad', 'medir', 'meditar', 'medusa', 'mejilla', 'mejor', 'mejorar', 'melancolia', 'melaza', 'meleno', 'melissa', 'melodia', 'melone', 'memoria', 'mencionar', 'mencionarles', 'mendigar', 'menear', 'menor', 'menos', 'mensaje', 'mensajitos', 'menso', 'mensos', 'mental', 'mentar', 'menter', 'mentias', 'mentir', 'mentira', 'mentirle', 'mentiroso', 'merar', 'mercar', 'mercede', 'merecer', 'merecia', 'merengue', 'merito', 'meritorio', 'merry', 'mesar', 'meseon', 'mesero', 'messed', 'metele', 'meter', 'meterle', 'metis', 'metro', 'mexicali', 'mexican', 'mexicano', 'mexico', 'mezclar', 'mhija', 'miami', 'miedo', 'mientele', 'mientra', 'mientras', 'mierda', 'migar', 'migrana', 'mijita', 'milano', 'milenio', 'milesima', 'milimetro', 'milisegundo', 'milla', 'millie', 'millo', 'millon', 'millonario', 'millone', 'mimar', 'mimoso', 'minimo', 'minutar', 'miooo', 'miradita', 'mirala', 'mirandolos', 'mirar', 'mirarla', 'mirarlas', 'mirarlo', 'mirarnos', 'mirarلs', 'mireeeee', 'mirela', 'miron', 'miseria', 'mision', 'mismo', 'missin', 'mistake', 'mitad', 'mitote', 'moblar', 'mochis', 'mocorito', 'mocoso', 'modal', 'modelar', 'moderno', 'mojadita', 'mojaita', 'mojar', 'moldear', 'moler', 'molestar', 'molestarla', 'molly', 'momentito', 'momento', 'mondar', 'monedar', 'monje', 'monjitas', 'monstruo', 'montano', 'montar', 'monterey', 'monterrey', 'monton', 'moquito', 'moral', 'morale', 'morar', 'morbo', 'morder', 'morelos', 'morenita', 'morenitas', 'moreno', 'morir', 'moriria', 'morirnos', 'morirse', 'morra', 'morral', 'morrillo', 'morrita', 'morritas', 'morro', 'mortal', 'mortera', 'mosaico', 'mosca', 'mostrar', 'motel', 'motivar', 'motor', 'mover', 'movie', 'movil', 'movimiento', 'movin', 'moyen', 'muaaa', 'muchachita', 'muchachitas', 'muchachito', 'muchacho', 'mudar', 'mueevo', 'muevalo', 'muevela', 'muevelo', 'mugre', 'mujer', 'mujere', 'mulato', 'munco', 'mundial', 'mundo', 'muneco', 'murar', 'murio', 'murmurar', 'music', 'musical', 'musicar', 'musiquita', 'muslo', 'mustiar', 'mutilar', 'mutuamen', 'médium', 'nacer', 'naceran', 'nacha', 'nachas', 'nacho', 'nacion', 'nacional', 'nacis', 'nadamas', 'nadar', 'nadie', 'nadita', 'naila', 'nakamura', 'nalga', 'nalgita', 'namas', 'narco', 'nariz', 'narrative', 'nasty', 'natalia', 'natanael', 'nation', 'natti', 'natural', 'naturaleza', 'naturalmen', 'naufragar', 'navegar', 'navida', 'navidad', 'nayarit', 'nazareno', 'necesario', 'necesi', 'necesidad', 'necesitar', 'necio', 'negar', 'negarlo', 'negas', 'negativo', 'negociacion', 'negociar', 'negrero', 'negrito', 'negro', 'negue', 'nelly', 'nervioso', 'nesesitar', 'nesesito', 'nevada', 'nevar', 'never', 'nibiru', 'nicky', 'nidito', 'nieto', 'nigga', 'night', 'ningun', 'ninguno', 'ninito', 'nissan', 'nivel', 'nivelar', 'nobel', 'noble', 'nobleza', 'noche', 'nochebuena', 'nocion', 'nodal', 'nogal', 'nomas', 'nombrar', 'nonstop', 'nopal', 'noquear', 'noria', 'normal', 'norteno', 'nosotro', 'nostalgia', 'notar', 'noticiar', 'notorio', 'novecientas', 'novelar', 'noventa', 'novio', 'nublar', 'nuevamen', 'nueve', 'nuevecito', 'nuevo', 'number', 'numerar', 'nunca', 'oakland', 'oasis', 'oaxaca', 'obedecer', 'objetar', 'objetivar', 'obligacion', 'obligale', 'obligar', 'obrar', 'obregon', 'obscenidad', 'obscuridad', 'obscuro', 'observar', 'obsesion', 'obsesionar', 'obtener', 'obviamen', 'obviar', 'ocasion', 'ochenta', 'ocultar', 'ocultarlo', 'ocultarse', 'ocupar', 'ocurrir', 'odiar', 'odiarla', 'ofender', 'ofensa', 'ofertar', 'oficial', 'oficialmen', 'oficiar', 'oficina', 'ofrecedor', 'ofrecele', 'ofrecer', 'ofrecis', 'oiitos', 'oirlos', 'ojalar', 'ojasos', 'ojazos', 'ojito', 'olfato', 'olvidar', 'olvidarla', 'olvidarlo', 'olvidarnos', 'olvidarse', 'olvidemo', 'ombligo', 'ombliguito', 'omerta', 'omiso', 'ondear', 'opcion', 'operao', 'opinar', 'opinion', 'oponer', 'oportunidad', 'orale', 'orden', 'ordenar', 'ordinariamen', 'oreja', 'organizar', 'organize', 'orgullo', 'orgullosamen', 'orgulloso', 'orien', 'orientar', 'original', 'orillar', 'oscurecer', 'oscuridad', 'oscurito', 'oscuro', 'ostigan', 'otonar', 'ouais', 'overseas', 'oxidar', 'oxigenar', 'ozuna', 'pabajo', 'pablar', 'pabon', 'pacato', 'pachangon', 'paciencia', 'paconas', 'pactar', 'padre', 'padrenuestro', 'padrino', 'paentro', 'pagar', 'paginar', 'paguito', 'paisaje', 'paisano', 'paisas', 'paises', 'pajarear', 'pajarillo', 'pajaron', 'palabra', 'paladar', 'palan', 'palenque', 'paleton', 'palito', 'pallar', 'palmar', 'palmero', 'paloma', 'palomar', 'palomita', 'palomito', 'palpi', 'palpitar', 'pampa', 'panal', 'pancho', 'pandillero', 'paniqueados', 'panorama', 'pantalla', 'pantalon', 'panten', 'pantene', 'panteon', 'pantie', 'panties', 'panty', 'panuelito', 'panuelo', 'papacito', 'papar', 'papel', 'papito', 'paque', 'paquitas', 'paraguay', 'paraiso', 'parait', 'paralizar', 'paramera', 'parar', 'pararlo', 'parce', 'parcelar', 'parceros', 'parche', 'parecer', 'parecias', 'pared', 'parejo', 'parense', 'parien', 'pariente', 'parir', 'parlar', 'parque', 'parranda', 'parrandero', 'parriba', 'parti', 'participacion', 'participar', 'particular', 'partir', 'party', 'partysera', 'pasadito', 'pasajero', 'pasamo', 'pasapor', 'pasar', 'pasarla', 'pasatiempo', 'pasear', 'pasecito', 'pasele', 'pasillo', 'pasion', 'pasito', 'passed', 'pastar', 'pastel', 'pastrano', 'patan', 'patear', 'patetico', 'patras', 'patrocinador', 'patron', 'patrullar', 'paulino', 'pausar', 'payaso', 'pecamo', 'pecar', 'pechar', 'pechero', 'pechocha', 'pechona', 'pedacito', 'pedaso', 'pedazo', 'peder', 'pedestal', 'pedir', 'pedirle', 'pedirselo', 'pedis', 'pedrada', 'pedro', 'pegaditos', 'pegajoso', 'pegalo', 'pegao', 'pegar', 'peinar', 'pelar', 'peleamo', 'pelear', 'pelearnos', 'pelicula', 'peligrar', 'peligroso', 'pelinegro', 'pellejo', 'pellizcar', 'pelon', 'penar', 'penasco', 'penco', 'pendejo', 'pendien', 'pendiente', 'pendientitos', 'penetrar', 'penicilina', 'penitenciar', 'penon', 'pensamiento', 'pensar', 'pensarla', 'pensarlo', 'pensas', 'pense', 'penses', 'pepirimama', 'pequenito', 'pequeno', 'percibir', 'perdedor', 'perder', 'perdere', 'perderla', 'perderlo', 'perdicion', 'perdidamen', 'perdido', 'perdis', 'perdon', 'perdonar', 'perdonarle', 'perfeccion', 'perfeccionista', 'perfecto', 'perfil', 'perfu', 'perfumar', 'periodista', 'perjudicar', 'perjurar', 'perla', 'permanecer', 'permanen', 'permi', 'permiso', 'permitir', 'perodone', 'perpetuo', 'perreamos', 'perreando', 'perrear', 'perreito', 'perreo', 'perrito', 'perro', 'perronas', 'perseguir', 'personaje', 'personal', 'personar', 'pertenecer', 'perto', 'perverso', 'pesadilla', 'pesar', 'pestana', 'pesti', 'petalo', 'picar', 'pichaera', 'picky', 'pidele', 'pidiendole', 'piedad', 'piedra', 'piensalo', 'pierna', 'pieza', 'pijama', 'pilar', 'pillar', 'pilotar', 'pilotear', 'pinata', 'pinchar', 'pineda', 'pintar', 'pintura', 'piojo', 'pipiripau', 'piquetea', 'piquito', 'pirata', 'piripiri', 'piropo', 'pirueta', 'pisar', 'pisotear', 'pistar', 'pistea', 'pisteadera', 'pisteadora', 'pisteamos', 'pisteando', 'pistear', 'pisteare', 'pistearemos', 'pistola', 'pistolon', 'placa', 'placer', 'placoso', 'planchar', 'planear', 'planeta', 'planie', 'plano', 'plastico', 'plata', 'platicandole', 'platicar', 'plato', 'platonico', 'plausata', 'playa', 'plaza', 'plebada', 'plebe', 'plebitas', 'plebonas', 'plein', 'plenitud', 'pleno', 'plomar', 'pluma', 'plumon', 'plural', 'poblar', 'pobre', 'pobrecita', 'pobrecito', 'pobreza', 'pocima', 'podemo', 'poder', 'poderio', 'poderla', 'poderoso', 'podre', 'podria', 'podrir', 'poema', 'poesia', 'poeta', 'polar', 'policia', 'pollito', 'pollo', 'polvadera', 'polvo', 'poncho', 'poner', 'ponerla', 'ponerle', 'ponernos', 'ponerse', 'ponganse', 'ponia', 'ponlas', 'ponle', 'ponlos', 'poquito', 'porciento', 'porfa', 'porrez', 'portar', 'posar', 'posibilidad', 'posible', 'posicion', 'positivo', 'posteamo', 'posteas', 'postor', 'postura', 'potranco', 'potrillitos', 'potrillo', 'potro', 'power', 'practicar', 'prada', 'pradera', 'precaucionar', 'precaver', 'preciar', 'precioso', 'precisamen', 'precisar', 'preferir', 'preferis', 'pregun', 'preguntale', 'preguntar', 'preguntaranse', 'prejuicio', 'premiar', 'prender', 'prendio', 'preocupar', 'prepa', 'preparar', 'preparativo', 'prepoten', 'presagiar', 'presen', 'presenciar', 'presentar', 'presenti', 'presentimiento', 'presentir', 'preso', 'prestamela', 'prestar', 'prestigiar', 'presu', 'presumi', 'presumir', 'presumirles', 'presuncion', 'presupuestar', 'pretender', 'pretendien', 'pretendiente', 'pretextar', 'prever', 'prieto', 'primar', 'primavera', 'primeiro', 'princesa', 'principal', 'principe', 'principiante', 'principiar', 'pringar', 'prioridad', 'prisa', 'prision', 'prisionero', 'privacidad', 'privilegiar', 'probable', 'probablemen', 'probaita', 'probar', 'probatorio', 'problema', 'problematico', 'problemes', 'problems', 'probo', 'procesar', 'procesion', 'procurar', 'producir', 'producto', 'profecia', 'profesion', 'profesor', 'profundamen', 'profundar', 'programar', 'progresar', 'prohibir', 'prome', 'promediar', 'promesa', 'prometedor', 'prometer', 'prometis', 'promocion', 'promotor', 'prontito', 'pronto', 'pronunciar', 'propiedad', 'propio', 'proponer', 'proposito', 'proteger', 'protegernos', 'protestar', 'provando', 'provecho', 'provocacion', 'provocar', 'provocativo', 'proximo', 'prrra', 'psicologia', 'psicologico', 'psiquiatra', 'psycho', 'publicar', 'puchero', 'puchunguita', 'pudis', 'pudor', 'pueblito', 'puerta', 'puerto', 'pulsacion', 'pulsar', 'pumba', 'punal', 'puneta', 'punir', 'punta', 'punto', 'puntuacion', 'pupilentes', 'puppy', 'purititita', 'purito', 'pusis', 'pussy', 'putain', 'quebradita', 'quebran', 'quebrandose', 'quebrar', 'queca', 'quedar', 'quedarnos', 'quedarse', 'quedarلn', 'quedo', 'queen', 'quejar', 'quejido', 'quemabamo', 'quemar', 'querer', 'quererla', 'quererlo', 'querernos', 'quererse', 'queretaro', 'queria', 'queriendole', 'quero', 'querubin', 'queso', 'question', 'quierelo', 'quieros', 'quieto', 'quiles', 'quimera', 'quimico', 'quince', 'quincena', 'quintar', 'quique', 'quisa', 'quisis', 'quitar', 'quitarnos', 'quito', 'quiza', 'quizas', 'rabiar', 'racha', 'racilla', 'radiar', 'radio', 'rajar', 'rajarse', 'rakata', 'ramirez', 'ramito', 'ramon', 'ramona', 'ramones', 'ranchero', 'rancho', 'ranking', 'ransom', 'rapido', 'raquel', 'rascabicho', 'rascar', 'rasgunar', 'rastra', 'rastrillar', 'rastro', 'ratito', 'raton', 'rayar', 'rayito', 'raymix', 'razon', 'razonar', 'reaccion', 'reaccionar', 'reachin', 'ready', 'realidad', 'realizar', 'realize', 'realmen', 'rebajalo', 'rebajar', 'rebel', 'rebelar', 'rebelde', 'rebotar', 'rebozar', 'recabio', 'recado', 'recamar', 'recetar', 'rechazar', 'rechinar', 'recibir', 'recien', 'recinto', 'recio', 'reclamar', 'reclamarle', 'recodar', 'recoditos', 'recoger', 'recomer', 'recompensar', 'reconocer', 'reconocerlo', 'reconosco', 'reconquistar', 'recontar', 'recordar', 'recordarla', 'records', 'recorrer', 'recorrerla', 'recostar', 'recuerdales', 'recuperar', 'recuperarse', 'recurrir', 'redar', 'redondita', 'redondito', 'redondo', 'reebook', 'reemplazar', 'reencontrar', 'reencontrarnos', 'referir', 'reflejar', 'reflexion', 'refran', 'refrescar', 'refugiar', 'regalale', 'regalao', 'regalar', 'regalarle', 'regalito', 'reganar', 'regano', 'regar', 'regas', 'reggae', 'reggaeton', 'reggaetone', 'reggaetonera', 'reggaetonero', 'reglar', 'regresar', 'regresivo', 'regret', 'regular', 'reinar', 'reinventar', 'reirnos', 'relacion', 'relacionar', 'relajar', 'relampago', 'relax', 'religion', 'reloj', 'rematar', 'remediar', 'remendar', 'remix', 'remordimiento', 'remover', 'remplazar', 'renacer', 'rencarnado', 'rencor', 'rendir', 'rendirle', 'renglon', 'renovacion', 'renovar', 'rentar', 'renunciar', 'reojo', 'reparar', 'repartir', 'repen', 'repercu', 'repetidamen', 'repetir', 'repetirlo', 'repicar', 'repitele', 'reponer', 'reportense', 'reposar', 'representar', 'reprobar', 'reprochar', 'reprogramar', 'repugnar', 'requerir', 'resaltar', 'resbalar', 'rescatar', 'rescatarlo', 'resentimiento', 'resfriar', 'residir', 'resignar', 'resilien', 'resistir', 'resolver', 'respaldar', 'respectar', 'respectivo', 'respetar', 'respetarla', 'respetuoso', 'respiracion', 'respirar', 'resplandor', 'responder', 'responderse', 'responsable', 'respuesta', 'restar', 'restaurant', 'restaurar', 'resultar', 'resumir', 'retacar', 'retar', 'retearto', 'retirale', 'retirar', 'retomar', 'retorcer', 'retozar', 'retratar', 'retumbar', 'reunir', 'revancha', 'revelar', 'reventar', 'reventon', 'rever', 'reves', 'revien', 'revivir', 'revolcar', 'revolver', 'rezagar', 'rezar', 'richard', 'ricki', 'ricky', 'ricura', 'ridiculizar', 'ridiculo', 'rieleros', 'rienda', 'riesgo', 'rifarmela', 'rifle', 'right', 'rihanna', 'rimar', 'rincon', 'rinconcito', 'rines', 'ringtone', 'riqueza', 'risueno', 'ritmar', 'rival', 'rivera', 'rizar', 'robar', 'robarle', 'robarse', 'robert', 'robot', 'rodar', 'rodear', 'rodilla', 'rogandole', 'rogar', 'rogarle', 'rogon', 'rolar', 'rolita', 'rollo', 'rolls', 'romance', 'romantico', 'romeo', 'rompebicho', 'rompecabezas', 'rompemo', 'romper', 'rompis', 'roncadera', 'roncar', 'rondar', 'rosado', 'rosal', 'rosalia', 'rosita', 'rostro', 'rotar', 'royce', 'rozar', 'rriba', 'rubio', 'rugir', 'ruido', 'ruina', 'ruleta', 'rumba', 'rumbear', 'rumble', 'rumbo', 'rumeurs', 'ruptura', 'rusia', 'rutina', 'sabado', 'sabana', 'saber', 'saberlo', 'saberse', 'sabio', 'sabor', 'saborcito', 'saborear', 'sabre', 'sabrocito', 'sabrosito', 'sabroso', 'sabroson', 'sabrosura', 'sacandole', 'sacar', 'sacarla', 'sacarle', 'sacerdo', 'saciar', 'sacramentar', 'sacrificar', 'sacrificarlo', 'sacrificio', 'sacudir', 'sagrado', 'salar', 'salazar', 'saldar', 'salimas', 'salio', 'salir', 'salis', 'salivar', 'salon', 'saltar', 'salucita', 'salud', 'saludar', 'saludarnos', 'saludazos', 'saludcita', 'salvacion', 'salvador', 'salvar', 'salvo', 'sanar', 'sanchez', 'sandalia', 'sandunga', 'sandunguero', 'sangrar', 'sangrona', 'santo', 'saquense', 'sarcasmo', 'sarcasticamen', 'sardo', 'satisfacer', 'sativo', 'sauce', 'savais', 'sazon', 'scenario', 'sebastian', 'secar', 'seccion', 'secretar', 'secretario', 'secuela', 'secuestrar', 'sedar', 'sediento', 'seducir', 'seducirla', 'seductor', 'segar', 'seguidor', 'seguidore', 'seguimo', 'seguir', 'seguirle', 'segun', 'segundar', 'seguramen', 'seguridad', 'seguro', 'seiscientos', 'sellar', 'semana', 'semanal', 'semblan', 'sembrar', 'semental', 'semilla', 'senal', 'senalar', 'sencillamen', 'sencillez', 'sencillo', 'sendero', 'senor', 'senorito', 'sensacion', 'sensacional', 'sensible', 'sensual', 'sensualidad', 'sentar', 'sentenciar', 'senti', 'sentia', 'sentias', 'sentimiento', 'sentir', 'sentirle', 'sentirse', 'sentis', 'separar', 'separarnos', 'sepelio', 'septima', 'sepulcro', 'sepultar', 'sequar', 'sequele', 'serca', 'sereee', 'serenar', 'serenata', 'seriamen', 'seriar', 'serle', 'serrar', 'servidor', 'servir', 'several', 'shakata', 'shakira', 'sheriff', 'shorty', 'sicario', 'siempre', 'sierreno', 'sierrita', 'sifon', 'sigilosamen', 'siglo', 'significar', 'siguelo', 'siguien', 'siguiendole', 'siguio', 'silbido', 'silen', 'silenciar', 'silla', 'sillon', 'simbolico', 'simon', 'simpatico', 'simpatizar', 'simple', 'simplemen', 'sinaloa', 'sinaloense', 'sinalos', 'sinceramen', 'sincerar', 'sinceridad', 'sindo', 'sinfin', 'sintonizar', 'sippin', 'siquiera', 'sirena', 'sirvio', 'sistema', 'sitiar', 'situacion', 'skillz', 'skirt', 'skype', 'sleep', 'smell', 'smile', 'snapchats', 'snoop', 'snoopie', 'soador', 'soberbio', 'sobornar', 'sobrar', 'sobredosis', 'sobrero', 'sobresalir', 'sobrevivir', 'socarron', 'sociedad', 'socio', 'sofocar', 'solamen', 'solapar', 'solear', 'soledad', 'soleil', 'soler', 'solicitar', 'solita', 'solitario', 'solito', 'solitos', 'soltar', 'soltarlo', 'soltero', 'solucion', 'solucionar', 'sombrar', 'sombrero', 'sometimes', 'sonador', 'sonar', 'sonas', 'sonidero', 'sonido', 'sonoita', 'sonoro', 'sonreir', 'sonrien', 'sonriente', 'sonrisa', 'sonrojar', 'sonsacar', 'sonzo', 'sopapo', 'sopar', 'soplapo', 'soplar', 'soportar', 'soportarlo', 'sordo', 'sorprender', 'sorprendis', 'sorpresa', 'sorry', 'sospechar', 'sostener', 'sound', 'space', 'speak', 'speaking', 'spend', 'sport', 'storytell', 'straight', 'stress', 'styles', 'suave', 'suavecito', 'suavemen', 'subele', 'subestimar', 'subir', 'subis', 'submarino', 'suceder', 'suceso', 'sucio', 'sudar', 'sudor', 'suegro', 'suelto', 'suenalo', 'suertudo', 'suficien', 'suficiente', 'sufrimiento', 'sufrir', 'sufriras', 'sugerir', 'sujetar', 'sumbalo', 'sumir', 'super', 'superar', 'superarlo', 'superficie', 'superheroe', 'superior', 'supis', 'suplicar', 'suplir', 'suponer', 'supongamo', 'supuestamen', 'surgir', 'sushi', 'suspirar', 'susto', 'susurrar', 'sutil', 'sweater', 'sweet', 'swing', 'syntek', 'tablero', 'tachar', 'tacon', 'tacuache', 'tacuaches', 'tafficher', 'taiko', 'tainy', 'taiwan', 'talento', 'talentoso', 'talisman', 'talizman', 'talon', 'talvez', 'tamal', 'tamano', 'tambien', 'tambora', 'tampoco', 'tanata', 'tanda', 'tando', 'tanning', 'tanque', 'tantito', 'tapar', 'taparle', 'tapese', 'tapiar', 'tapizar', 'taquicardia', 'tarar', 'tararear', 'tardar', 'tardecito', 'tarea', 'tarjeta', 'tarola', 'tartamudo', 'tarugada', 'tatua', 'tatuaje', 'tatuar', 'tchouffer', 'teatro', 'techar', 'tective', 'teddy', 'teflon', 'telefono', 'temblar', 'tembloroso', 'temer', 'temerario', 'temeroso', 'temor', 'temperatura', 'tempestad', 'temprano', 'tendencia', 'tender', 'tendria', 'tenedor', 'tenemo', 'tener', 'tenerla', 'tenerlo', 'tengoa', 'tenia', 'tenian', 'tenir', 'tenis', 'tennis', 'tensar', 'tension', 'tentacion', 'tentar', 'tepic', 'tepito', 'tequila', 'tequilita', 'terciopelo', 'terco', 'teresa', 'terminal', 'terminar', 'ternura', 'terquedad', 'terraza', 'terremoto', 'terrenal', 'terrenearla', 'terreno', 'territorio', 'terror', 'tesitos', 'tesoro', 'testamento', 'testigo', 'texana', 'texto', 'tfacon', 'thats', 'therapist', 'theres', 'thing', 'things', 'think', 'tibieza', 'ticket', 'tiempo', 'tierno', 'tierra', 'tiguana', 'tijuana', 'timidez', 'timido', 'timon', 'tinder', 'tintar', 'tipeu', 'tipico', 'tirales', 'tirano', 'tirao', 'tirar', 'tirele', 'titere', 'titubear', 'toalla', 'tocadita', 'tocamo', 'tocar', 'tocarla', 'tocarnos', 'todavia', 'toditas', 'toditita', 'todito', 'toditos', 'tolerar', 'tomandola', 'tomandose', 'tomar', 'tomarla', 'tomarnos', 'tomarse', 'tonar', 'tonights', 'tontera', 'tonteria', 'tonto', 'topar', 'tormenta', 'tormento', 'tornar', 'tornillo', 'torturar', 'toser', 'tostandose', 'total', 'totalmen', 'toxico', 'trabajador', 'trabajar', 'trabar', 'tracion', 'traela', 'traer', 'traficar', 'tragar', 'tragedia', 'traguito', 'traicion', 'traicionar', 'traicionero', 'traidor', 'traigale', 'traiganle', 'traigase', 'trajis', 'trakalosa', 'tramar', 'trampa', 'trancar', 'trancazo', 'tranquilamen', 'tranquilidad', 'tranquilito', 'tranquilizar', 'tranquilo', 'transformar', 'transmi', 'transmitir', 'transparen', 'transpirar', 'tranvia', 'trapero', 'trapo', 'trasero', 'traspasar', 'trastornar', 'trasvesti', 'tratandola', 'tratar', 'tratarla', 'tratela', 'traumada', 'traumados', 'traumo', 'traves', 'travesura', 'travieso', 'trayectoria', 'tremendo', 'trenzar', 'trepar', 'tretis', 'triangulito', 'triar', 'tribu', 'tribunal', 'trigo', 'tripa', 'trips', 'triste', 'tristeza', 'triunfador', 'triunfar', 'troca', 'trocas', 'trombon', 'trompuda', 'tronar', 'trono', 'tropezar', 'tropical', 'troquero', 'trozar', 'trucar', 'trucha', 'trujillo', 'tsunami', 'tucan', 'tuerto', 'tumbao', 'tumbar', 'tunar', 'tupir', 'turbinar', 'turks', 'turnar', 'tusar', 'tutear', 'tuvis', 'twenty', 'twitter', 'ubicar', 'uchale', 'ultimamen', 'ultimar', 'ultra', 'umbral', 'unica', 'unicamen', 'unico', 'unifor', 'union', 'unirlas', 'unirnos', 'uniteds', 'universal', 'universo', 'untar', 'uresti', 'urgir', 'uruguay', 'ustede', 'usual', 'usuario', 'utilizar', 'utlizas', 'uuuuyyyyy', 'uuuuyyyyyy', 'uuuyyyy', 'uyendo', 'vacacion', 'vacar', 'vacation', 'vacay', 'vacia', 'vaciar', 'vacilacion', 'vacilar', 'vacilon', 'vacio', 'vagabundo', 'vagancia', 'vagar', 'vagon', 'vaina', 'vaiven', 'valer', 'valia', 'valien', 'valiente', 'valioso', 'vallar', 'vallenato', 'valor', 'valorar', 'valorarla', 'valorarlo', 'vamono', 'vamonos', 'vamosle', 'vanidad', 'vanidoso', 'vapor', 'vaquero', 'vaqueton', 'varga', 'variar', 'vario', 'vaticano', 'vecino', 'veias', 'veintiuno', 'velar', 'velitas', 'veliz', 'velocidad', 'vencedor', 'vencer', 'vendedor', 'vender', 'venecia', 'veneno', 'venezuela', 'venganse', 'venganza', 'vengar', 'venir', 'venis', 'venta', 'ventajazo', 'ventajoso', 'ventana', 'veracruz', 'veran', 'verano', 'verda', 'verdad', 'verdadero', 'verde', 'vereda', 'verga', 'vergazo', 'verguenza', 'verja', 'verla', 'verle', 'verlo', 'vernos', 'verrait', 'versar', 'version', 'versitos', 'vestidito', 'vestidura', 'vestir', 'vestirse', 'veterano', 'viada', 'viajar', 'viajero', 'vibrar', 'vicen', 'viciar', 'vicioso', 'victimar', 'victor', 'victoria', 'video', 'videos', 'vidriar', 'viejo', 'viejon', 'viejones', 'viento', 'vientre', 'vierne', 'viernes', 'vigen', 'vigilar', 'villano', 'vilmen', 'vinis', 'violentar', 'violeta', 'viral', 'virao', 'virar', 'virgilio', 'virlan', 'virtud', 'virus', 'visitar', 'visualizar', 'viudo', 'vivar', 'vivencia', 'vividor', 'vivir', 'vivirla', 'vivis', 'vocabulario', 'volan', 'volar', 'volcan', 'volcar', 'volkswagen', 'voltear', 'volumen', 'voluntad', 'volveeer', 'volvemo', 'volver', 'volvera', 'volveria', 'volverla', 'volverlo', 'volvi', 'volvis', 'vomitar', 'voraz', 'voulais', 'vueltecita', 'vuelton', 'vuelvanlo', 'vuevas', 'vuitton', 'vulgar', 'vulnerable', 'wallet', 'wanaga', 'wanna', 'watabuinegui', 'watanegui', 'watchin', 'water', 'weekend', 'whats', 'whatsapp', 'wheeleando', 'whenever', 'whiski', 'whiskito', 'whisky', 'whiskyto', 'wisin', 'wuachamos', 'yaguaru', 'yaiyai', 'yandel', 'yankee', 'yasso', 'yaviah', 'yazid', 'yeezy', 'yegua', 'yeguada', 'yodar', 'yoooo', 'youll', 'young', 'youre', 'zapateale', 'zapato', 'zarandear', 'zoologico', 'zumbale', 'zumbar']\n"
          ],
          "name": "stdout"
        }
      ]
    },
    {
      "cell_type": "code",
      "metadata": {
        "colab": {
          "base_uri": "https://localhost:8080/"
        },
        "id": "herkZ1rYy4jK",
        "outputId": "56332e9b-97a4-460d-9092-d550ad8da453"
      },
      "source": [
        "print(lyrics_countvectorizer.toarray())  "
      ],
      "execution_count": 10,
      "outputs": [
        {
          "output_type": "stream",
          "text": [
            "[[0 0 0 ... 0 0 0]\n",
            " [0 0 0 ... 0 0 0]\n",
            " [0 0 0 ... 0 0 0]\n",
            " ...\n",
            " [0 0 0 ... 0 0 0]\n",
            " [0 0 1 ... 0 0 0]\n",
            " [0 0 0 ... 0 0 0]]\n"
          ],
          "name": "stdout"
        }
      ]
    },
    {
      "cell_type": "markdown",
      "metadata": {
        "id": "Pdfjy91oy4jK"
      },
      "source": [
        "# Ejecutar desde aquí "
      ]
    },
    {
      "cell_type": "code",
      "metadata": {
        "id": "X5fgL_mNy4jK"
      },
      "source": [
        "\n",
        "lyrics = pd.DataFrame(lyrics_countvectorizer.toarray())\n",
        "\n",
        "lyrics.reset_index(drop=True, inplace=True)\n"
      ],
      "execution_count": 11,
      "outputs": []
    },
    {
      "cell_type": "code",
      "metadata": {
        "colab": {
          "base_uri": "https://localhost:8080/",
          "height": 419
        },
        "id": "3kf-3RXYy4jK",
        "outputId": "57bfbb5b-03ec-4d20-8550-143b3d229c3c"
      },
      "source": [
        "X = lyrics\n",
        "X"
      ],
      "execution_count": 12,
      "outputs": [
        {
          "output_type": "execute_result",
          "data": {
            "text/html": [
              "<div>\n",
              "<style scoped>\n",
              "    .dataframe tbody tr th:only-of-type {\n",
              "        vertical-align: middle;\n",
              "    }\n",
              "\n",
              "    .dataframe tbody tr th {\n",
              "        vertical-align: top;\n",
              "    }\n",
              "\n",
              "    .dataframe thead th {\n",
              "        text-align: right;\n",
              "    }\n",
              "</style>\n",
              "<table border=\"1\" class=\"dataframe\">\n",
              "  <thead>\n",
              "    <tr style=\"text-align: right;\">\n",
              "      <th></th>\n",
              "      <th>0</th>\n",
              "      <th>1</th>\n",
              "      <th>2</th>\n",
              "      <th>3</th>\n",
              "      <th>4</th>\n",
              "      <th>5</th>\n",
              "      <th>6</th>\n",
              "      <th>7</th>\n",
              "      <th>8</th>\n",
              "      <th>9</th>\n",
              "      <th>10</th>\n",
              "      <th>11</th>\n",
              "      <th>12</th>\n",
              "      <th>13</th>\n",
              "      <th>14</th>\n",
              "      <th>15</th>\n",
              "      <th>16</th>\n",
              "      <th>17</th>\n",
              "      <th>18</th>\n",
              "      <th>19</th>\n",
              "      <th>20</th>\n",
              "      <th>21</th>\n",
              "      <th>22</th>\n",
              "      <th>23</th>\n",
              "      <th>24</th>\n",
              "      <th>25</th>\n",
              "      <th>26</th>\n",
              "      <th>27</th>\n",
              "      <th>28</th>\n",
              "      <th>29</th>\n",
              "      <th>30</th>\n",
              "      <th>31</th>\n",
              "      <th>32</th>\n",
              "      <th>33</th>\n",
              "      <th>34</th>\n",
              "      <th>35</th>\n",
              "      <th>36</th>\n",
              "      <th>37</th>\n",
              "      <th>38</th>\n",
              "      <th>39</th>\n",
              "      <th>...</th>\n",
              "      <th>5021</th>\n",
              "      <th>5022</th>\n",
              "      <th>5023</th>\n",
              "      <th>5024</th>\n",
              "      <th>5025</th>\n",
              "      <th>5026</th>\n",
              "      <th>5027</th>\n",
              "      <th>5028</th>\n",
              "      <th>5029</th>\n",
              "      <th>5030</th>\n",
              "      <th>5031</th>\n",
              "      <th>5032</th>\n",
              "      <th>5033</th>\n",
              "      <th>5034</th>\n",
              "      <th>5035</th>\n",
              "      <th>5036</th>\n",
              "      <th>5037</th>\n",
              "      <th>5038</th>\n",
              "      <th>5039</th>\n",
              "      <th>5040</th>\n",
              "      <th>5041</th>\n",
              "      <th>5042</th>\n",
              "      <th>5043</th>\n",
              "      <th>5044</th>\n",
              "      <th>5045</th>\n",
              "      <th>5046</th>\n",
              "      <th>5047</th>\n",
              "      <th>5048</th>\n",
              "      <th>5049</th>\n",
              "      <th>5050</th>\n",
              "      <th>5051</th>\n",
              "      <th>5052</th>\n",
              "      <th>5053</th>\n",
              "      <th>5054</th>\n",
              "      <th>5055</th>\n",
              "      <th>5056</th>\n",
              "      <th>5057</th>\n",
              "      <th>5058</th>\n",
              "      <th>5059</th>\n",
              "      <th>5060</th>\n",
              "    </tr>\n",
              "  </thead>\n",
              "  <tbody>\n",
              "    <tr>\n",
              "      <th>0</th>\n",
              "      <td>0</td>\n",
              "      <td>0</td>\n",
              "      <td>0</td>\n",
              "      <td>0</td>\n",
              "      <td>0</td>\n",
              "      <td>0</td>\n",
              "      <td>0</td>\n",
              "      <td>0</td>\n",
              "      <td>0</td>\n",
              "      <td>0</td>\n",
              "      <td>0</td>\n",
              "      <td>0</td>\n",
              "      <td>0</td>\n",
              "      <td>0</td>\n",
              "      <td>0</td>\n",
              "      <td>0</td>\n",
              "      <td>0</td>\n",
              "      <td>0</td>\n",
              "      <td>0</td>\n",
              "      <td>0</td>\n",
              "      <td>0</td>\n",
              "      <td>0</td>\n",
              "      <td>0</td>\n",
              "      <td>0</td>\n",
              "      <td>0</td>\n",
              "      <td>0</td>\n",
              "      <td>0</td>\n",
              "      <td>0</td>\n",
              "      <td>0</td>\n",
              "      <td>0</td>\n",
              "      <td>0</td>\n",
              "      <td>0</td>\n",
              "      <td>0</td>\n",
              "      <td>0</td>\n",
              "      <td>0</td>\n",
              "      <td>0</td>\n",
              "      <td>0</td>\n",
              "      <td>0</td>\n",
              "      <td>0</td>\n",
              "      <td>0</td>\n",
              "      <td>...</td>\n",
              "      <td>0</td>\n",
              "      <td>0</td>\n",
              "      <td>0</td>\n",
              "      <td>0</td>\n",
              "      <td>0</td>\n",
              "      <td>0</td>\n",
              "      <td>0</td>\n",
              "      <td>0</td>\n",
              "      <td>0</td>\n",
              "      <td>0</td>\n",
              "      <td>0</td>\n",
              "      <td>0</td>\n",
              "      <td>0</td>\n",
              "      <td>0</td>\n",
              "      <td>0</td>\n",
              "      <td>0</td>\n",
              "      <td>0</td>\n",
              "      <td>0</td>\n",
              "      <td>0</td>\n",
              "      <td>0</td>\n",
              "      <td>0</td>\n",
              "      <td>0</td>\n",
              "      <td>0</td>\n",
              "      <td>0</td>\n",
              "      <td>0</td>\n",
              "      <td>0</td>\n",
              "      <td>0</td>\n",
              "      <td>0</td>\n",
              "      <td>0</td>\n",
              "      <td>0</td>\n",
              "      <td>0</td>\n",
              "      <td>0</td>\n",
              "      <td>0</td>\n",
              "      <td>0</td>\n",
              "      <td>0</td>\n",
              "      <td>0</td>\n",
              "      <td>0</td>\n",
              "      <td>0</td>\n",
              "      <td>0</td>\n",
              "      <td>0</td>\n",
              "    </tr>\n",
              "    <tr>\n",
              "      <th>1</th>\n",
              "      <td>0</td>\n",
              "      <td>0</td>\n",
              "      <td>0</td>\n",
              "      <td>0</td>\n",
              "      <td>0</td>\n",
              "      <td>0</td>\n",
              "      <td>0</td>\n",
              "      <td>0</td>\n",
              "      <td>0</td>\n",
              "      <td>0</td>\n",
              "      <td>0</td>\n",
              "      <td>0</td>\n",
              "      <td>0</td>\n",
              "      <td>0</td>\n",
              "      <td>0</td>\n",
              "      <td>0</td>\n",
              "      <td>0</td>\n",
              "      <td>0</td>\n",
              "      <td>0</td>\n",
              "      <td>0</td>\n",
              "      <td>0</td>\n",
              "      <td>0</td>\n",
              "      <td>0</td>\n",
              "      <td>0</td>\n",
              "      <td>0</td>\n",
              "      <td>0</td>\n",
              "      <td>0</td>\n",
              "      <td>0</td>\n",
              "      <td>0</td>\n",
              "      <td>0</td>\n",
              "      <td>0</td>\n",
              "      <td>0</td>\n",
              "      <td>0</td>\n",
              "      <td>0</td>\n",
              "      <td>0</td>\n",
              "      <td>0</td>\n",
              "      <td>0</td>\n",
              "      <td>0</td>\n",
              "      <td>0</td>\n",
              "      <td>0</td>\n",
              "      <td>...</td>\n",
              "      <td>0</td>\n",
              "      <td>0</td>\n",
              "      <td>0</td>\n",
              "      <td>1</td>\n",
              "      <td>0</td>\n",
              "      <td>0</td>\n",
              "      <td>0</td>\n",
              "      <td>1</td>\n",
              "      <td>0</td>\n",
              "      <td>0</td>\n",
              "      <td>0</td>\n",
              "      <td>0</td>\n",
              "      <td>0</td>\n",
              "      <td>0</td>\n",
              "      <td>0</td>\n",
              "      <td>0</td>\n",
              "      <td>0</td>\n",
              "      <td>0</td>\n",
              "      <td>0</td>\n",
              "      <td>0</td>\n",
              "      <td>0</td>\n",
              "      <td>0</td>\n",
              "      <td>0</td>\n",
              "      <td>0</td>\n",
              "      <td>0</td>\n",
              "      <td>0</td>\n",
              "      <td>0</td>\n",
              "      <td>0</td>\n",
              "      <td>0</td>\n",
              "      <td>0</td>\n",
              "      <td>0</td>\n",
              "      <td>23</td>\n",
              "      <td>0</td>\n",
              "      <td>2</td>\n",
              "      <td>0</td>\n",
              "      <td>0</td>\n",
              "      <td>0</td>\n",
              "      <td>0</td>\n",
              "      <td>0</td>\n",
              "      <td>0</td>\n",
              "    </tr>\n",
              "    <tr>\n",
              "      <th>2</th>\n",
              "      <td>0</td>\n",
              "      <td>0</td>\n",
              "      <td>0</td>\n",
              "      <td>0</td>\n",
              "      <td>0</td>\n",
              "      <td>0</td>\n",
              "      <td>0</td>\n",
              "      <td>0</td>\n",
              "      <td>0</td>\n",
              "      <td>0</td>\n",
              "      <td>0</td>\n",
              "      <td>0</td>\n",
              "      <td>0</td>\n",
              "      <td>0</td>\n",
              "      <td>0</td>\n",
              "      <td>0</td>\n",
              "      <td>0</td>\n",
              "      <td>0</td>\n",
              "      <td>0</td>\n",
              "      <td>0</td>\n",
              "      <td>0</td>\n",
              "      <td>0</td>\n",
              "      <td>0</td>\n",
              "      <td>0</td>\n",
              "      <td>0</td>\n",
              "      <td>0</td>\n",
              "      <td>0</td>\n",
              "      <td>0</td>\n",
              "      <td>0</td>\n",
              "      <td>0</td>\n",
              "      <td>0</td>\n",
              "      <td>0</td>\n",
              "      <td>0</td>\n",
              "      <td>0</td>\n",
              "      <td>0</td>\n",
              "      <td>0</td>\n",
              "      <td>0</td>\n",
              "      <td>0</td>\n",
              "      <td>0</td>\n",
              "      <td>0</td>\n",
              "      <td>...</td>\n",
              "      <td>0</td>\n",
              "      <td>0</td>\n",
              "      <td>0</td>\n",
              "      <td>0</td>\n",
              "      <td>0</td>\n",
              "      <td>0</td>\n",
              "      <td>0</td>\n",
              "      <td>0</td>\n",
              "      <td>0</td>\n",
              "      <td>0</td>\n",
              "      <td>0</td>\n",
              "      <td>0</td>\n",
              "      <td>0</td>\n",
              "      <td>0</td>\n",
              "      <td>0</td>\n",
              "      <td>0</td>\n",
              "      <td>0</td>\n",
              "      <td>0</td>\n",
              "      <td>0</td>\n",
              "      <td>0</td>\n",
              "      <td>0</td>\n",
              "      <td>0</td>\n",
              "      <td>0</td>\n",
              "      <td>1</td>\n",
              "      <td>0</td>\n",
              "      <td>0</td>\n",
              "      <td>0</td>\n",
              "      <td>0</td>\n",
              "      <td>0</td>\n",
              "      <td>0</td>\n",
              "      <td>0</td>\n",
              "      <td>0</td>\n",
              "      <td>0</td>\n",
              "      <td>0</td>\n",
              "      <td>0</td>\n",
              "      <td>0</td>\n",
              "      <td>0</td>\n",
              "      <td>0</td>\n",
              "      <td>0</td>\n",
              "      <td>0</td>\n",
              "    </tr>\n",
              "    <tr>\n",
              "      <th>3</th>\n",
              "      <td>0</td>\n",
              "      <td>0</td>\n",
              "      <td>0</td>\n",
              "      <td>0</td>\n",
              "      <td>0</td>\n",
              "      <td>0</td>\n",
              "      <td>0</td>\n",
              "      <td>0</td>\n",
              "      <td>0</td>\n",
              "      <td>0</td>\n",
              "      <td>0</td>\n",
              "      <td>0</td>\n",
              "      <td>0</td>\n",
              "      <td>0</td>\n",
              "      <td>0</td>\n",
              "      <td>0</td>\n",
              "      <td>0</td>\n",
              "      <td>0</td>\n",
              "      <td>0</td>\n",
              "      <td>0</td>\n",
              "      <td>0</td>\n",
              "      <td>0</td>\n",
              "      <td>0</td>\n",
              "      <td>0</td>\n",
              "      <td>0</td>\n",
              "      <td>0</td>\n",
              "      <td>0</td>\n",
              "      <td>0</td>\n",
              "      <td>0</td>\n",
              "      <td>0</td>\n",
              "      <td>0</td>\n",
              "      <td>0</td>\n",
              "      <td>0</td>\n",
              "      <td>0</td>\n",
              "      <td>0</td>\n",
              "      <td>0</td>\n",
              "      <td>0</td>\n",
              "      <td>0</td>\n",
              "      <td>0</td>\n",
              "      <td>0</td>\n",
              "      <td>...</td>\n",
              "      <td>0</td>\n",
              "      <td>0</td>\n",
              "      <td>0</td>\n",
              "      <td>0</td>\n",
              "      <td>0</td>\n",
              "      <td>0</td>\n",
              "      <td>0</td>\n",
              "      <td>0</td>\n",
              "      <td>0</td>\n",
              "      <td>0</td>\n",
              "      <td>0</td>\n",
              "      <td>0</td>\n",
              "      <td>0</td>\n",
              "      <td>0</td>\n",
              "      <td>0</td>\n",
              "      <td>0</td>\n",
              "      <td>0</td>\n",
              "      <td>0</td>\n",
              "      <td>0</td>\n",
              "      <td>0</td>\n",
              "      <td>0</td>\n",
              "      <td>0</td>\n",
              "      <td>0</td>\n",
              "      <td>0</td>\n",
              "      <td>0</td>\n",
              "      <td>0</td>\n",
              "      <td>0</td>\n",
              "      <td>0</td>\n",
              "      <td>0</td>\n",
              "      <td>0</td>\n",
              "      <td>0</td>\n",
              "      <td>0</td>\n",
              "      <td>0</td>\n",
              "      <td>0</td>\n",
              "      <td>0</td>\n",
              "      <td>0</td>\n",
              "      <td>0</td>\n",
              "      <td>0</td>\n",
              "      <td>0</td>\n",
              "      <td>0</td>\n",
              "    </tr>\n",
              "    <tr>\n",
              "      <th>4</th>\n",
              "      <td>0</td>\n",
              "      <td>0</td>\n",
              "      <td>0</td>\n",
              "      <td>0</td>\n",
              "      <td>0</td>\n",
              "      <td>0</td>\n",
              "      <td>0</td>\n",
              "      <td>0</td>\n",
              "      <td>0</td>\n",
              "      <td>0</td>\n",
              "      <td>0</td>\n",
              "      <td>0</td>\n",
              "      <td>0</td>\n",
              "      <td>0</td>\n",
              "      <td>0</td>\n",
              "      <td>0</td>\n",
              "      <td>0</td>\n",
              "      <td>0</td>\n",
              "      <td>0</td>\n",
              "      <td>0</td>\n",
              "      <td>0</td>\n",
              "      <td>0</td>\n",
              "      <td>0</td>\n",
              "      <td>0</td>\n",
              "      <td>0</td>\n",
              "      <td>0</td>\n",
              "      <td>0</td>\n",
              "      <td>0</td>\n",
              "      <td>0</td>\n",
              "      <td>0</td>\n",
              "      <td>0</td>\n",
              "      <td>0</td>\n",
              "      <td>0</td>\n",
              "      <td>0</td>\n",
              "      <td>0</td>\n",
              "      <td>0</td>\n",
              "      <td>0</td>\n",
              "      <td>0</td>\n",
              "      <td>0</td>\n",
              "      <td>0</td>\n",
              "      <td>...</td>\n",
              "      <td>0</td>\n",
              "      <td>0</td>\n",
              "      <td>0</td>\n",
              "      <td>0</td>\n",
              "      <td>0</td>\n",
              "      <td>0</td>\n",
              "      <td>0</td>\n",
              "      <td>0</td>\n",
              "      <td>0</td>\n",
              "      <td>0</td>\n",
              "      <td>0</td>\n",
              "      <td>0</td>\n",
              "      <td>0</td>\n",
              "      <td>0</td>\n",
              "      <td>0</td>\n",
              "      <td>0</td>\n",
              "      <td>0</td>\n",
              "      <td>0</td>\n",
              "      <td>0</td>\n",
              "      <td>0</td>\n",
              "      <td>0</td>\n",
              "      <td>0</td>\n",
              "      <td>0</td>\n",
              "      <td>0</td>\n",
              "      <td>0</td>\n",
              "      <td>0</td>\n",
              "      <td>0</td>\n",
              "      <td>0</td>\n",
              "      <td>0</td>\n",
              "      <td>0</td>\n",
              "      <td>0</td>\n",
              "      <td>0</td>\n",
              "      <td>0</td>\n",
              "      <td>0</td>\n",
              "      <td>0</td>\n",
              "      <td>0</td>\n",
              "      <td>0</td>\n",
              "      <td>0</td>\n",
              "      <td>0</td>\n",
              "      <td>1</td>\n",
              "    </tr>\n",
              "    <tr>\n",
              "      <th>...</th>\n",
              "      <td>...</td>\n",
              "      <td>...</td>\n",
              "      <td>...</td>\n",
              "      <td>...</td>\n",
              "      <td>...</td>\n",
              "      <td>...</td>\n",
              "      <td>...</td>\n",
              "      <td>...</td>\n",
              "      <td>...</td>\n",
              "      <td>...</td>\n",
              "      <td>...</td>\n",
              "      <td>...</td>\n",
              "      <td>...</td>\n",
              "      <td>...</td>\n",
              "      <td>...</td>\n",
              "      <td>...</td>\n",
              "      <td>...</td>\n",
              "      <td>...</td>\n",
              "      <td>...</td>\n",
              "      <td>...</td>\n",
              "      <td>...</td>\n",
              "      <td>...</td>\n",
              "      <td>...</td>\n",
              "      <td>...</td>\n",
              "      <td>...</td>\n",
              "      <td>...</td>\n",
              "      <td>...</td>\n",
              "      <td>...</td>\n",
              "      <td>...</td>\n",
              "      <td>...</td>\n",
              "      <td>...</td>\n",
              "      <td>...</td>\n",
              "      <td>...</td>\n",
              "      <td>...</td>\n",
              "      <td>...</td>\n",
              "      <td>...</td>\n",
              "      <td>...</td>\n",
              "      <td>...</td>\n",
              "      <td>...</td>\n",
              "      <td>...</td>\n",
              "      <td>...</td>\n",
              "      <td>...</td>\n",
              "      <td>...</td>\n",
              "      <td>...</td>\n",
              "      <td>...</td>\n",
              "      <td>...</td>\n",
              "      <td>...</td>\n",
              "      <td>...</td>\n",
              "      <td>...</td>\n",
              "      <td>...</td>\n",
              "      <td>...</td>\n",
              "      <td>...</td>\n",
              "      <td>...</td>\n",
              "      <td>...</td>\n",
              "      <td>...</td>\n",
              "      <td>...</td>\n",
              "      <td>...</td>\n",
              "      <td>...</td>\n",
              "      <td>...</td>\n",
              "      <td>...</td>\n",
              "      <td>...</td>\n",
              "      <td>...</td>\n",
              "      <td>...</td>\n",
              "      <td>...</td>\n",
              "      <td>...</td>\n",
              "      <td>...</td>\n",
              "      <td>...</td>\n",
              "      <td>...</td>\n",
              "      <td>...</td>\n",
              "      <td>...</td>\n",
              "      <td>...</td>\n",
              "      <td>...</td>\n",
              "      <td>...</td>\n",
              "      <td>...</td>\n",
              "      <td>...</td>\n",
              "      <td>...</td>\n",
              "      <td>...</td>\n",
              "      <td>...</td>\n",
              "      <td>...</td>\n",
              "      <td>...</td>\n",
              "      <td>...</td>\n",
              "    </tr>\n",
              "    <tr>\n",
              "      <th>853</th>\n",
              "      <td>0</td>\n",
              "      <td>0</td>\n",
              "      <td>0</td>\n",
              "      <td>0</td>\n",
              "      <td>0</td>\n",
              "      <td>0</td>\n",
              "      <td>0</td>\n",
              "      <td>0</td>\n",
              "      <td>0</td>\n",
              "      <td>0</td>\n",
              "      <td>0</td>\n",
              "      <td>0</td>\n",
              "      <td>0</td>\n",
              "      <td>0</td>\n",
              "      <td>0</td>\n",
              "      <td>0</td>\n",
              "      <td>0</td>\n",
              "      <td>0</td>\n",
              "      <td>0</td>\n",
              "      <td>0</td>\n",
              "      <td>0</td>\n",
              "      <td>0</td>\n",
              "      <td>0</td>\n",
              "      <td>0</td>\n",
              "      <td>0</td>\n",
              "      <td>0</td>\n",
              "      <td>0</td>\n",
              "      <td>0</td>\n",
              "      <td>0</td>\n",
              "      <td>0</td>\n",
              "      <td>0</td>\n",
              "      <td>0</td>\n",
              "      <td>0</td>\n",
              "      <td>0</td>\n",
              "      <td>0</td>\n",
              "      <td>0</td>\n",
              "      <td>0</td>\n",
              "      <td>0</td>\n",
              "      <td>0</td>\n",
              "      <td>0</td>\n",
              "      <td>...</td>\n",
              "      <td>0</td>\n",
              "      <td>0</td>\n",
              "      <td>0</td>\n",
              "      <td>0</td>\n",
              "      <td>0</td>\n",
              "      <td>0</td>\n",
              "      <td>0</td>\n",
              "      <td>0</td>\n",
              "      <td>0</td>\n",
              "      <td>0</td>\n",
              "      <td>0</td>\n",
              "      <td>0</td>\n",
              "      <td>0</td>\n",
              "      <td>0</td>\n",
              "      <td>0</td>\n",
              "      <td>0</td>\n",
              "      <td>0</td>\n",
              "      <td>0</td>\n",
              "      <td>0</td>\n",
              "      <td>0</td>\n",
              "      <td>0</td>\n",
              "      <td>0</td>\n",
              "      <td>0</td>\n",
              "      <td>0</td>\n",
              "      <td>0</td>\n",
              "      <td>0</td>\n",
              "      <td>0</td>\n",
              "      <td>0</td>\n",
              "      <td>0</td>\n",
              "      <td>0</td>\n",
              "      <td>0</td>\n",
              "      <td>0</td>\n",
              "      <td>0</td>\n",
              "      <td>0</td>\n",
              "      <td>0</td>\n",
              "      <td>0</td>\n",
              "      <td>0</td>\n",
              "      <td>0</td>\n",
              "      <td>0</td>\n",
              "      <td>0</td>\n",
              "    </tr>\n",
              "    <tr>\n",
              "      <th>854</th>\n",
              "      <td>0</td>\n",
              "      <td>0</td>\n",
              "      <td>0</td>\n",
              "      <td>0</td>\n",
              "      <td>0</td>\n",
              "      <td>0</td>\n",
              "      <td>0</td>\n",
              "      <td>0</td>\n",
              "      <td>0</td>\n",
              "      <td>0</td>\n",
              "      <td>0</td>\n",
              "      <td>0</td>\n",
              "      <td>0</td>\n",
              "      <td>0</td>\n",
              "      <td>0</td>\n",
              "      <td>0</td>\n",
              "      <td>0</td>\n",
              "      <td>0</td>\n",
              "      <td>0</td>\n",
              "      <td>0</td>\n",
              "      <td>0</td>\n",
              "      <td>0</td>\n",
              "      <td>0</td>\n",
              "      <td>0</td>\n",
              "      <td>0</td>\n",
              "      <td>0</td>\n",
              "      <td>0</td>\n",
              "      <td>0</td>\n",
              "      <td>0</td>\n",
              "      <td>0</td>\n",
              "      <td>0</td>\n",
              "      <td>0</td>\n",
              "      <td>0</td>\n",
              "      <td>0</td>\n",
              "      <td>0</td>\n",
              "      <td>0</td>\n",
              "      <td>0</td>\n",
              "      <td>0</td>\n",
              "      <td>0</td>\n",
              "      <td>0</td>\n",
              "      <td>...</td>\n",
              "      <td>0</td>\n",
              "      <td>0</td>\n",
              "      <td>0</td>\n",
              "      <td>0</td>\n",
              "      <td>0</td>\n",
              "      <td>0</td>\n",
              "      <td>0</td>\n",
              "      <td>0</td>\n",
              "      <td>0</td>\n",
              "      <td>0</td>\n",
              "      <td>0</td>\n",
              "      <td>0</td>\n",
              "      <td>0</td>\n",
              "      <td>0</td>\n",
              "      <td>0</td>\n",
              "      <td>0</td>\n",
              "      <td>0</td>\n",
              "      <td>0</td>\n",
              "      <td>0</td>\n",
              "      <td>0</td>\n",
              "      <td>0</td>\n",
              "      <td>0</td>\n",
              "      <td>0</td>\n",
              "      <td>0</td>\n",
              "      <td>0</td>\n",
              "      <td>0</td>\n",
              "      <td>0</td>\n",
              "      <td>0</td>\n",
              "      <td>0</td>\n",
              "      <td>0</td>\n",
              "      <td>0</td>\n",
              "      <td>0</td>\n",
              "      <td>0</td>\n",
              "      <td>0</td>\n",
              "      <td>0</td>\n",
              "      <td>0</td>\n",
              "      <td>0</td>\n",
              "      <td>0</td>\n",
              "      <td>0</td>\n",
              "      <td>0</td>\n",
              "    </tr>\n",
              "    <tr>\n",
              "      <th>855</th>\n",
              "      <td>0</td>\n",
              "      <td>0</td>\n",
              "      <td>0</td>\n",
              "      <td>0</td>\n",
              "      <td>0</td>\n",
              "      <td>0</td>\n",
              "      <td>0</td>\n",
              "      <td>0</td>\n",
              "      <td>0</td>\n",
              "      <td>0</td>\n",
              "      <td>0</td>\n",
              "      <td>0</td>\n",
              "      <td>0</td>\n",
              "      <td>0</td>\n",
              "      <td>0</td>\n",
              "      <td>0</td>\n",
              "      <td>0</td>\n",
              "      <td>0</td>\n",
              "      <td>0</td>\n",
              "      <td>0</td>\n",
              "      <td>0</td>\n",
              "      <td>0</td>\n",
              "      <td>0</td>\n",
              "      <td>0</td>\n",
              "      <td>0</td>\n",
              "      <td>0</td>\n",
              "      <td>0</td>\n",
              "      <td>0</td>\n",
              "      <td>0</td>\n",
              "      <td>0</td>\n",
              "      <td>0</td>\n",
              "      <td>0</td>\n",
              "      <td>0</td>\n",
              "      <td>0</td>\n",
              "      <td>0</td>\n",
              "      <td>0</td>\n",
              "      <td>0</td>\n",
              "      <td>0</td>\n",
              "      <td>0</td>\n",
              "      <td>0</td>\n",
              "      <td>...</td>\n",
              "      <td>0</td>\n",
              "      <td>0</td>\n",
              "      <td>0</td>\n",
              "      <td>0</td>\n",
              "      <td>0</td>\n",
              "      <td>0</td>\n",
              "      <td>0</td>\n",
              "      <td>0</td>\n",
              "      <td>0</td>\n",
              "      <td>0</td>\n",
              "      <td>0</td>\n",
              "      <td>0</td>\n",
              "      <td>0</td>\n",
              "      <td>0</td>\n",
              "      <td>0</td>\n",
              "      <td>0</td>\n",
              "      <td>0</td>\n",
              "      <td>0</td>\n",
              "      <td>0</td>\n",
              "      <td>0</td>\n",
              "      <td>0</td>\n",
              "      <td>0</td>\n",
              "      <td>0</td>\n",
              "      <td>0</td>\n",
              "      <td>0</td>\n",
              "      <td>0</td>\n",
              "      <td>0</td>\n",
              "      <td>0</td>\n",
              "      <td>0</td>\n",
              "      <td>0</td>\n",
              "      <td>0</td>\n",
              "      <td>0</td>\n",
              "      <td>0</td>\n",
              "      <td>0</td>\n",
              "      <td>0</td>\n",
              "      <td>0</td>\n",
              "      <td>0</td>\n",
              "      <td>0</td>\n",
              "      <td>0</td>\n",
              "      <td>0</td>\n",
              "    </tr>\n",
              "    <tr>\n",
              "      <th>856</th>\n",
              "      <td>0</td>\n",
              "      <td>0</td>\n",
              "      <td>1</td>\n",
              "      <td>0</td>\n",
              "      <td>0</td>\n",
              "      <td>0</td>\n",
              "      <td>0</td>\n",
              "      <td>0</td>\n",
              "      <td>0</td>\n",
              "      <td>0</td>\n",
              "      <td>0</td>\n",
              "      <td>0</td>\n",
              "      <td>0</td>\n",
              "      <td>1</td>\n",
              "      <td>0</td>\n",
              "      <td>0</td>\n",
              "      <td>0</td>\n",
              "      <td>0</td>\n",
              "      <td>0</td>\n",
              "      <td>0</td>\n",
              "      <td>0</td>\n",
              "      <td>0</td>\n",
              "      <td>0</td>\n",
              "      <td>0</td>\n",
              "      <td>0</td>\n",
              "      <td>0</td>\n",
              "      <td>0</td>\n",
              "      <td>0</td>\n",
              "      <td>0</td>\n",
              "      <td>1</td>\n",
              "      <td>0</td>\n",
              "      <td>0</td>\n",
              "      <td>0</td>\n",
              "      <td>0</td>\n",
              "      <td>0</td>\n",
              "      <td>0</td>\n",
              "      <td>0</td>\n",
              "      <td>0</td>\n",
              "      <td>0</td>\n",
              "      <td>0</td>\n",
              "      <td>...</td>\n",
              "      <td>0</td>\n",
              "      <td>0</td>\n",
              "      <td>0</td>\n",
              "      <td>0</td>\n",
              "      <td>0</td>\n",
              "      <td>0</td>\n",
              "      <td>0</td>\n",
              "      <td>0</td>\n",
              "      <td>0</td>\n",
              "      <td>0</td>\n",
              "      <td>0</td>\n",
              "      <td>0</td>\n",
              "      <td>0</td>\n",
              "      <td>0</td>\n",
              "      <td>0</td>\n",
              "      <td>0</td>\n",
              "      <td>0</td>\n",
              "      <td>0</td>\n",
              "      <td>0</td>\n",
              "      <td>0</td>\n",
              "      <td>0</td>\n",
              "      <td>0</td>\n",
              "      <td>0</td>\n",
              "      <td>0</td>\n",
              "      <td>0</td>\n",
              "      <td>0</td>\n",
              "      <td>0</td>\n",
              "      <td>0</td>\n",
              "      <td>0</td>\n",
              "      <td>0</td>\n",
              "      <td>0</td>\n",
              "      <td>0</td>\n",
              "      <td>0</td>\n",
              "      <td>0</td>\n",
              "      <td>0</td>\n",
              "      <td>0</td>\n",
              "      <td>0</td>\n",
              "      <td>0</td>\n",
              "      <td>0</td>\n",
              "      <td>0</td>\n",
              "    </tr>\n",
              "    <tr>\n",
              "      <th>857</th>\n",
              "      <td>0</td>\n",
              "      <td>0</td>\n",
              "      <td>0</td>\n",
              "      <td>0</td>\n",
              "      <td>0</td>\n",
              "      <td>0</td>\n",
              "      <td>0</td>\n",
              "      <td>0</td>\n",
              "      <td>0</td>\n",
              "      <td>0</td>\n",
              "      <td>0</td>\n",
              "      <td>0</td>\n",
              "      <td>0</td>\n",
              "      <td>0</td>\n",
              "      <td>0</td>\n",
              "      <td>0</td>\n",
              "      <td>0</td>\n",
              "      <td>0</td>\n",
              "      <td>0</td>\n",
              "      <td>0</td>\n",
              "      <td>0</td>\n",
              "      <td>0</td>\n",
              "      <td>0</td>\n",
              "      <td>0</td>\n",
              "      <td>0</td>\n",
              "      <td>0</td>\n",
              "      <td>0</td>\n",
              "      <td>0</td>\n",
              "      <td>0</td>\n",
              "      <td>0</td>\n",
              "      <td>0</td>\n",
              "      <td>0</td>\n",
              "      <td>0</td>\n",
              "      <td>0</td>\n",
              "      <td>0</td>\n",
              "      <td>0</td>\n",
              "      <td>0</td>\n",
              "      <td>0</td>\n",
              "      <td>0</td>\n",
              "      <td>0</td>\n",
              "      <td>...</td>\n",
              "      <td>0</td>\n",
              "      <td>0</td>\n",
              "      <td>13</td>\n",
              "      <td>0</td>\n",
              "      <td>6</td>\n",
              "      <td>10</td>\n",
              "      <td>0</td>\n",
              "      <td>0</td>\n",
              "      <td>0</td>\n",
              "      <td>0</td>\n",
              "      <td>0</td>\n",
              "      <td>0</td>\n",
              "      <td>0</td>\n",
              "      <td>0</td>\n",
              "      <td>0</td>\n",
              "      <td>0</td>\n",
              "      <td>0</td>\n",
              "      <td>0</td>\n",
              "      <td>0</td>\n",
              "      <td>0</td>\n",
              "      <td>0</td>\n",
              "      <td>0</td>\n",
              "      <td>0</td>\n",
              "      <td>0</td>\n",
              "      <td>0</td>\n",
              "      <td>0</td>\n",
              "      <td>0</td>\n",
              "      <td>0</td>\n",
              "      <td>0</td>\n",
              "      <td>0</td>\n",
              "      <td>0</td>\n",
              "      <td>0</td>\n",
              "      <td>0</td>\n",
              "      <td>0</td>\n",
              "      <td>0</td>\n",
              "      <td>0</td>\n",
              "      <td>0</td>\n",
              "      <td>0</td>\n",
              "      <td>0</td>\n",
              "      <td>0</td>\n",
              "    </tr>\n",
              "  </tbody>\n",
              "</table>\n",
              "<p>858 rows × 5061 columns</p>\n",
              "</div>"
            ],
            "text/plain": [
              "     0     1     2     3     4     5     ...  5055  5056  5057  5058  5059  5060\n",
              "0       0     0     0     0     0     0  ...     0     0     0     0     0     0\n",
              "1       0     0     0     0     0     0  ...     0     0     0     0     0     0\n",
              "2       0     0     0     0     0     0  ...     0     0     0     0     0     0\n",
              "3       0     0     0     0     0     0  ...     0     0     0     0     0     0\n",
              "4       0     0     0     0     0     0  ...     0     0     0     0     0     1\n",
              "..    ...   ...   ...   ...   ...   ...  ...   ...   ...   ...   ...   ...   ...\n",
              "853     0     0     0     0     0     0  ...     0     0     0     0     0     0\n",
              "854     0     0     0     0     0     0  ...     0     0     0     0     0     0\n",
              "855     0     0     0     0     0     0  ...     0     0     0     0     0     0\n",
              "856     0     0     1     0     0     0  ...     0     0     0     0     0     0\n",
              "857     0     0     0     0     0     0  ...     0     0     0     0     0     0\n",
              "\n",
              "[858 rows x 5061 columns]"
            ]
          },
          "metadata": {
            "tags": []
          },
          "execution_count": 12
        }
      ]
    },
    {
      "cell_type": "code",
      "metadata": {
        "colab": {
          "base_uri": "https://localhost:8080/"
        },
        "id": "YaWNkEyYy4jK",
        "outputId": "0c9c4336-fc40-418c-a2fb-e569d71beb2d"
      },
      "source": [
        "X.shape\n"
      ],
      "execution_count": 13,
      "outputs": [
        {
          "output_type": "execute_result",
          "data": {
            "text/plain": [
              "(858, 5061)"
            ]
          },
          "metadata": {
            "tags": []
          },
          "execution_count": 13
        }
      ]
    },
    {
      "cell_type": "code",
      "metadata": {
        "colab": {
          "base_uri": "https://localhost:8080/",
          "height": 243
        },
        "id": "8XA1wxNdy4jK",
        "outputId": "d202cad2-3fc7-411f-ca9a-e13603b0babe"
      },
      "source": [
        "X.head()"
      ],
      "execution_count": 14,
      "outputs": [
        {
          "output_type": "execute_result",
          "data": {
            "text/html": [
              "<div>\n",
              "<style scoped>\n",
              "    .dataframe tbody tr th:only-of-type {\n",
              "        vertical-align: middle;\n",
              "    }\n",
              "\n",
              "    .dataframe tbody tr th {\n",
              "        vertical-align: top;\n",
              "    }\n",
              "\n",
              "    .dataframe thead th {\n",
              "        text-align: right;\n",
              "    }\n",
              "</style>\n",
              "<table border=\"1\" class=\"dataframe\">\n",
              "  <thead>\n",
              "    <tr style=\"text-align: right;\">\n",
              "      <th></th>\n",
              "      <th>0</th>\n",
              "      <th>1</th>\n",
              "      <th>2</th>\n",
              "      <th>3</th>\n",
              "      <th>4</th>\n",
              "      <th>5</th>\n",
              "      <th>6</th>\n",
              "      <th>7</th>\n",
              "      <th>8</th>\n",
              "      <th>9</th>\n",
              "      <th>10</th>\n",
              "      <th>11</th>\n",
              "      <th>12</th>\n",
              "      <th>13</th>\n",
              "      <th>14</th>\n",
              "      <th>15</th>\n",
              "      <th>16</th>\n",
              "      <th>17</th>\n",
              "      <th>18</th>\n",
              "      <th>19</th>\n",
              "      <th>20</th>\n",
              "      <th>21</th>\n",
              "      <th>22</th>\n",
              "      <th>23</th>\n",
              "      <th>24</th>\n",
              "      <th>25</th>\n",
              "      <th>26</th>\n",
              "      <th>27</th>\n",
              "      <th>28</th>\n",
              "      <th>29</th>\n",
              "      <th>30</th>\n",
              "      <th>31</th>\n",
              "      <th>32</th>\n",
              "      <th>33</th>\n",
              "      <th>34</th>\n",
              "      <th>35</th>\n",
              "      <th>36</th>\n",
              "      <th>37</th>\n",
              "      <th>38</th>\n",
              "      <th>39</th>\n",
              "      <th>...</th>\n",
              "      <th>5021</th>\n",
              "      <th>5022</th>\n",
              "      <th>5023</th>\n",
              "      <th>5024</th>\n",
              "      <th>5025</th>\n",
              "      <th>5026</th>\n",
              "      <th>5027</th>\n",
              "      <th>5028</th>\n",
              "      <th>5029</th>\n",
              "      <th>5030</th>\n",
              "      <th>5031</th>\n",
              "      <th>5032</th>\n",
              "      <th>5033</th>\n",
              "      <th>5034</th>\n",
              "      <th>5035</th>\n",
              "      <th>5036</th>\n",
              "      <th>5037</th>\n",
              "      <th>5038</th>\n",
              "      <th>5039</th>\n",
              "      <th>5040</th>\n",
              "      <th>5041</th>\n",
              "      <th>5042</th>\n",
              "      <th>5043</th>\n",
              "      <th>5044</th>\n",
              "      <th>5045</th>\n",
              "      <th>5046</th>\n",
              "      <th>5047</th>\n",
              "      <th>5048</th>\n",
              "      <th>5049</th>\n",
              "      <th>5050</th>\n",
              "      <th>5051</th>\n",
              "      <th>5052</th>\n",
              "      <th>5053</th>\n",
              "      <th>5054</th>\n",
              "      <th>5055</th>\n",
              "      <th>5056</th>\n",
              "      <th>5057</th>\n",
              "      <th>5058</th>\n",
              "      <th>5059</th>\n",
              "      <th>5060</th>\n",
              "    </tr>\n",
              "  </thead>\n",
              "  <tbody>\n",
              "    <tr>\n",
              "      <th>0</th>\n",
              "      <td>0</td>\n",
              "      <td>0</td>\n",
              "      <td>0</td>\n",
              "      <td>0</td>\n",
              "      <td>0</td>\n",
              "      <td>0</td>\n",
              "      <td>0</td>\n",
              "      <td>0</td>\n",
              "      <td>0</td>\n",
              "      <td>0</td>\n",
              "      <td>0</td>\n",
              "      <td>0</td>\n",
              "      <td>0</td>\n",
              "      <td>0</td>\n",
              "      <td>0</td>\n",
              "      <td>0</td>\n",
              "      <td>0</td>\n",
              "      <td>0</td>\n",
              "      <td>0</td>\n",
              "      <td>0</td>\n",
              "      <td>0</td>\n",
              "      <td>0</td>\n",
              "      <td>0</td>\n",
              "      <td>0</td>\n",
              "      <td>0</td>\n",
              "      <td>0</td>\n",
              "      <td>0</td>\n",
              "      <td>0</td>\n",
              "      <td>0</td>\n",
              "      <td>0</td>\n",
              "      <td>0</td>\n",
              "      <td>0</td>\n",
              "      <td>0</td>\n",
              "      <td>0</td>\n",
              "      <td>0</td>\n",
              "      <td>0</td>\n",
              "      <td>0</td>\n",
              "      <td>0</td>\n",
              "      <td>0</td>\n",
              "      <td>0</td>\n",
              "      <td>...</td>\n",
              "      <td>0</td>\n",
              "      <td>0</td>\n",
              "      <td>0</td>\n",
              "      <td>0</td>\n",
              "      <td>0</td>\n",
              "      <td>0</td>\n",
              "      <td>0</td>\n",
              "      <td>0</td>\n",
              "      <td>0</td>\n",
              "      <td>0</td>\n",
              "      <td>0</td>\n",
              "      <td>0</td>\n",
              "      <td>0</td>\n",
              "      <td>0</td>\n",
              "      <td>0</td>\n",
              "      <td>0</td>\n",
              "      <td>0</td>\n",
              "      <td>0</td>\n",
              "      <td>0</td>\n",
              "      <td>0</td>\n",
              "      <td>0</td>\n",
              "      <td>0</td>\n",
              "      <td>0</td>\n",
              "      <td>0</td>\n",
              "      <td>0</td>\n",
              "      <td>0</td>\n",
              "      <td>0</td>\n",
              "      <td>0</td>\n",
              "      <td>0</td>\n",
              "      <td>0</td>\n",
              "      <td>0</td>\n",
              "      <td>0</td>\n",
              "      <td>0</td>\n",
              "      <td>0</td>\n",
              "      <td>0</td>\n",
              "      <td>0</td>\n",
              "      <td>0</td>\n",
              "      <td>0</td>\n",
              "      <td>0</td>\n",
              "      <td>0</td>\n",
              "    </tr>\n",
              "    <tr>\n",
              "      <th>1</th>\n",
              "      <td>0</td>\n",
              "      <td>0</td>\n",
              "      <td>0</td>\n",
              "      <td>0</td>\n",
              "      <td>0</td>\n",
              "      <td>0</td>\n",
              "      <td>0</td>\n",
              "      <td>0</td>\n",
              "      <td>0</td>\n",
              "      <td>0</td>\n",
              "      <td>0</td>\n",
              "      <td>0</td>\n",
              "      <td>0</td>\n",
              "      <td>0</td>\n",
              "      <td>0</td>\n",
              "      <td>0</td>\n",
              "      <td>0</td>\n",
              "      <td>0</td>\n",
              "      <td>0</td>\n",
              "      <td>0</td>\n",
              "      <td>0</td>\n",
              "      <td>0</td>\n",
              "      <td>0</td>\n",
              "      <td>0</td>\n",
              "      <td>0</td>\n",
              "      <td>0</td>\n",
              "      <td>0</td>\n",
              "      <td>0</td>\n",
              "      <td>0</td>\n",
              "      <td>0</td>\n",
              "      <td>0</td>\n",
              "      <td>0</td>\n",
              "      <td>0</td>\n",
              "      <td>0</td>\n",
              "      <td>0</td>\n",
              "      <td>0</td>\n",
              "      <td>0</td>\n",
              "      <td>0</td>\n",
              "      <td>0</td>\n",
              "      <td>0</td>\n",
              "      <td>...</td>\n",
              "      <td>0</td>\n",
              "      <td>0</td>\n",
              "      <td>0</td>\n",
              "      <td>1</td>\n",
              "      <td>0</td>\n",
              "      <td>0</td>\n",
              "      <td>0</td>\n",
              "      <td>1</td>\n",
              "      <td>0</td>\n",
              "      <td>0</td>\n",
              "      <td>0</td>\n",
              "      <td>0</td>\n",
              "      <td>0</td>\n",
              "      <td>0</td>\n",
              "      <td>0</td>\n",
              "      <td>0</td>\n",
              "      <td>0</td>\n",
              "      <td>0</td>\n",
              "      <td>0</td>\n",
              "      <td>0</td>\n",
              "      <td>0</td>\n",
              "      <td>0</td>\n",
              "      <td>0</td>\n",
              "      <td>0</td>\n",
              "      <td>0</td>\n",
              "      <td>0</td>\n",
              "      <td>0</td>\n",
              "      <td>0</td>\n",
              "      <td>0</td>\n",
              "      <td>0</td>\n",
              "      <td>0</td>\n",
              "      <td>23</td>\n",
              "      <td>0</td>\n",
              "      <td>2</td>\n",
              "      <td>0</td>\n",
              "      <td>0</td>\n",
              "      <td>0</td>\n",
              "      <td>0</td>\n",
              "      <td>0</td>\n",
              "      <td>0</td>\n",
              "    </tr>\n",
              "    <tr>\n",
              "      <th>2</th>\n",
              "      <td>0</td>\n",
              "      <td>0</td>\n",
              "      <td>0</td>\n",
              "      <td>0</td>\n",
              "      <td>0</td>\n",
              "      <td>0</td>\n",
              "      <td>0</td>\n",
              "      <td>0</td>\n",
              "      <td>0</td>\n",
              "      <td>0</td>\n",
              "      <td>0</td>\n",
              "      <td>0</td>\n",
              "      <td>0</td>\n",
              "      <td>0</td>\n",
              "      <td>0</td>\n",
              "      <td>0</td>\n",
              "      <td>0</td>\n",
              "      <td>0</td>\n",
              "      <td>0</td>\n",
              "      <td>0</td>\n",
              "      <td>0</td>\n",
              "      <td>0</td>\n",
              "      <td>0</td>\n",
              "      <td>0</td>\n",
              "      <td>0</td>\n",
              "      <td>0</td>\n",
              "      <td>0</td>\n",
              "      <td>0</td>\n",
              "      <td>0</td>\n",
              "      <td>0</td>\n",
              "      <td>0</td>\n",
              "      <td>0</td>\n",
              "      <td>0</td>\n",
              "      <td>0</td>\n",
              "      <td>0</td>\n",
              "      <td>0</td>\n",
              "      <td>0</td>\n",
              "      <td>0</td>\n",
              "      <td>0</td>\n",
              "      <td>0</td>\n",
              "      <td>...</td>\n",
              "      <td>0</td>\n",
              "      <td>0</td>\n",
              "      <td>0</td>\n",
              "      <td>0</td>\n",
              "      <td>0</td>\n",
              "      <td>0</td>\n",
              "      <td>0</td>\n",
              "      <td>0</td>\n",
              "      <td>0</td>\n",
              "      <td>0</td>\n",
              "      <td>0</td>\n",
              "      <td>0</td>\n",
              "      <td>0</td>\n",
              "      <td>0</td>\n",
              "      <td>0</td>\n",
              "      <td>0</td>\n",
              "      <td>0</td>\n",
              "      <td>0</td>\n",
              "      <td>0</td>\n",
              "      <td>0</td>\n",
              "      <td>0</td>\n",
              "      <td>0</td>\n",
              "      <td>0</td>\n",
              "      <td>1</td>\n",
              "      <td>0</td>\n",
              "      <td>0</td>\n",
              "      <td>0</td>\n",
              "      <td>0</td>\n",
              "      <td>0</td>\n",
              "      <td>0</td>\n",
              "      <td>0</td>\n",
              "      <td>0</td>\n",
              "      <td>0</td>\n",
              "      <td>0</td>\n",
              "      <td>0</td>\n",
              "      <td>0</td>\n",
              "      <td>0</td>\n",
              "      <td>0</td>\n",
              "      <td>0</td>\n",
              "      <td>0</td>\n",
              "    </tr>\n",
              "    <tr>\n",
              "      <th>3</th>\n",
              "      <td>0</td>\n",
              "      <td>0</td>\n",
              "      <td>0</td>\n",
              "      <td>0</td>\n",
              "      <td>0</td>\n",
              "      <td>0</td>\n",
              "      <td>0</td>\n",
              "      <td>0</td>\n",
              "      <td>0</td>\n",
              "      <td>0</td>\n",
              "      <td>0</td>\n",
              "      <td>0</td>\n",
              "      <td>0</td>\n",
              "      <td>0</td>\n",
              "      <td>0</td>\n",
              "      <td>0</td>\n",
              "      <td>0</td>\n",
              "      <td>0</td>\n",
              "      <td>0</td>\n",
              "      <td>0</td>\n",
              "      <td>0</td>\n",
              "      <td>0</td>\n",
              "      <td>0</td>\n",
              "      <td>0</td>\n",
              "      <td>0</td>\n",
              "      <td>0</td>\n",
              "      <td>0</td>\n",
              "      <td>0</td>\n",
              "      <td>0</td>\n",
              "      <td>0</td>\n",
              "      <td>0</td>\n",
              "      <td>0</td>\n",
              "      <td>0</td>\n",
              "      <td>0</td>\n",
              "      <td>0</td>\n",
              "      <td>0</td>\n",
              "      <td>0</td>\n",
              "      <td>0</td>\n",
              "      <td>0</td>\n",
              "      <td>0</td>\n",
              "      <td>...</td>\n",
              "      <td>0</td>\n",
              "      <td>0</td>\n",
              "      <td>0</td>\n",
              "      <td>0</td>\n",
              "      <td>0</td>\n",
              "      <td>0</td>\n",
              "      <td>0</td>\n",
              "      <td>0</td>\n",
              "      <td>0</td>\n",
              "      <td>0</td>\n",
              "      <td>0</td>\n",
              "      <td>0</td>\n",
              "      <td>0</td>\n",
              "      <td>0</td>\n",
              "      <td>0</td>\n",
              "      <td>0</td>\n",
              "      <td>0</td>\n",
              "      <td>0</td>\n",
              "      <td>0</td>\n",
              "      <td>0</td>\n",
              "      <td>0</td>\n",
              "      <td>0</td>\n",
              "      <td>0</td>\n",
              "      <td>0</td>\n",
              "      <td>0</td>\n",
              "      <td>0</td>\n",
              "      <td>0</td>\n",
              "      <td>0</td>\n",
              "      <td>0</td>\n",
              "      <td>0</td>\n",
              "      <td>0</td>\n",
              "      <td>0</td>\n",
              "      <td>0</td>\n",
              "      <td>0</td>\n",
              "      <td>0</td>\n",
              "      <td>0</td>\n",
              "      <td>0</td>\n",
              "      <td>0</td>\n",
              "      <td>0</td>\n",
              "      <td>0</td>\n",
              "    </tr>\n",
              "    <tr>\n",
              "      <th>4</th>\n",
              "      <td>0</td>\n",
              "      <td>0</td>\n",
              "      <td>0</td>\n",
              "      <td>0</td>\n",
              "      <td>0</td>\n",
              "      <td>0</td>\n",
              "      <td>0</td>\n",
              "      <td>0</td>\n",
              "      <td>0</td>\n",
              "      <td>0</td>\n",
              "      <td>0</td>\n",
              "      <td>0</td>\n",
              "      <td>0</td>\n",
              "      <td>0</td>\n",
              "      <td>0</td>\n",
              "      <td>0</td>\n",
              "      <td>0</td>\n",
              "      <td>0</td>\n",
              "      <td>0</td>\n",
              "      <td>0</td>\n",
              "      <td>0</td>\n",
              "      <td>0</td>\n",
              "      <td>0</td>\n",
              "      <td>0</td>\n",
              "      <td>0</td>\n",
              "      <td>0</td>\n",
              "      <td>0</td>\n",
              "      <td>0</td>\n",
              "      <td>0</td>\n",
              "      <td>0</td>\n",
              "      <td>0</td>\n",
              "      <td>0</td>\n",
              "      <td>0</td>\n",
              "      <td>0</td>\n",
              "      <td>0</td>\n",
              "      <td>0</td>\n",
              "      <td>0</td>\n",
              "      <td>0</td>\n",
              "      <td>0</td>\n",
              "      <td>0</td>\n",
              "      <td>...</td>\n",
              "      <td>0</td>\n",
              "      <td>0</td>\n",
              "      <td>0</td>\n",
              "      <td>0</td>\n",
              "      <td>0</td>\n",
              "      <td>0</td>\n",
              "      <td>0</td>\n",
              "      <td>0</td>\n",
              "      <td>0</td>\n",
              "      <td>0</td>\n",
              "      <td>0</td>\n",
              "      <td>0</td>\n",
              "      <td>0</td>\n",
              "      <td>0</td>\n",
              "      <td>0</td>\n",
              "      <td>0</td>\n",
              "      <td>0</td>\n",
              "      <td>0</td>\n",
              "      <td>0</td>\n",
              "      <td>0</td>\n",
              "      <td>0</td>\n",
              "      <td>0</td>\n",
              "      <td>0</td>\n",
              "      <td>0</td>\n",
              "      <td>0</td>\n",
              "      <td>0</td>\n",
              "      <td>0</td>\n",
              "      <td>0</td>\n",
              "      <td>0</td>\n",
              "      <td>0</td>\n",
              "      <td>0</td>\n",
              "      <td>0</td>\n",
              "      <td>0</td>\n",
              "      <td>0</td>\n",
              "      <td>0</td>\n",
              "      <td>0</td>\n",
              "      <td>0</td>\n",
              "      <td>0</td>\n",
              "      <td>0</td>\n",
              "      <td>1</td>\n",
              "    </tr>\n",
              "  </tbody>\n",
              "</table>\n",
              "<p>5 rows × 5061 columns</p>\n",
              "</div>"
            ],
            "text/plain": [
              "   0     1     2     3     4     5     ...  5055  5056  5057  5058  5059  5060\n",
              "0     0     0     0     0     0     0  ...     0     0     0     0     0     0\n",
              "1     0     0     0     0     0     0  ...     0     0     0     0     0     0\n",
              "2     0     0     0     0     0     0  ...     0     0     0     0     0     0\n",
              "3     0     0     0     0     0     0  ...     0     0     0     0     0     0\n",
              "4     0     0     0     0     0     0  ...     0     0     0     0     0     1\n",
              "\n",
              "[5 rows x 5061 columns]"
            ]
          },
          "metadata": {
            "tags": []
          },
          "execution_count": 14
        }
      ]
    },
    {
      "cell_type": "code",
      "metadata": {
        "id": "_fxfXIXgy4jK"
      },
      "source": [
        "\n",
        "y=lyrics_df['clase']\n"
      ],
      "execution_count": 15,
      "outputs": []
    },
    {
      "cell_type": "code",
      "metadata": {
        "colab": {
          "base_uri": "https://localhost:8080/"
        },
        "id": "aYwSiIHby4jK",
        "outputId": "3c665de7-574e-42a9-cab5-21b54de0e9ed"
      },
      "source": [
        "y.shape"
      ],
      "execution_count": 16,
      "outputs": [
        {
          "output_type": "execute_result",
          "data": {
            "text/plain": [
              "(858,)"
            ]
          },
          "metadata": {
            "tags": []
          },
          "execution_count": 16
        }
      ]
    },
    {
      "cell_type": "code",
      "metadata": {
        "id": "u1znEBLjy4jK"
      },
      "source": [
        "#Dividir el dataset en Entrenamiento y Test\n",
        "X_train, X_test, y_train, y_test = train_test_split(X, y, test_size=0.20)\n",
        "#se divide el 80 del set para validación y que quede 60,20,20\n",
        "X_train1, X_valid, y_train1, y_valid = train_test_split(X_train, y_train, test_size=0.25) \n",
        "\n",
        "#train= train1 + valid\n"
      ],
      "execution_count": 17,
      "outputs": []
    },
    {
      "cell_type": "markdown",
      "metadata": {
        "id": "aYDNqaj-y4jK"
      },
      "source": [
        "# Funcion mostrar resultados"
      ]
    },
    {
      "cell_type": "code",
      "metadata": {
        "id": "grLt90rPy4jK"
      },
      "source": [
        "#definimos funciona para mostrar los resultados\n",
        "def mostrar_resultados(y_test, pred_y):\n",
        "    conf_matrix = confusion_matrix(y_test, pred_y)\n",
        "    plt.figure(figsize=(10, 10))\n",
        "    sns.heatmap(conf_matrix, annot=True, fmt=\"d\", cmap=\"YlGnBu\");\n",
        "    plt.title(\"Matriz de Confusión\")\n",
        "    plt.ylabel('Clase Verdadera')\n",
        "    plt.xlabel('Clase Predicha')\n",
        "    plt.show()\n",
        "    print (classification_report(y_test, pred_y))"
      ],
      "execution_count": 18,
      "outputs": []
    },
    {
      "cell_type": "markdown",
      "metadata": {
        "id": "71q3UgGgy4jK"
      },
      "source": [
        "# Probar distintos Algoritmos"
      ]
    },
    {
      "cell_type": "markdown",
      "metadata": {
        "id": "YnSH47NEy4jK"
      },
      "source": [
        "# Naive Bayes"
      ]
    },
    {
      "cell_type": "code",
      "metadata": {
        "colab": {
          "base_uri": "https://localhost:8080/"
        },
        "id": "QzC4PJucy4jK",
        "outputId": "a108059b-f427-4a14-8ddb-3bfafe05d97a"
      },
      "source": [
        "from sklearn import datasets, metrics\n",
        "from sklearn.model_selection import cross_val_score\n",
        "from sklearn.model_selection import KFold, StratifiedKFold\n",
        "\n",
        "from sklearn.naive_bayes import MultinomialNB\n",
        "\n",
        "NB_classifier = MultinomialNB(alpha=3.0, class_prior=None, fit_prior=False)\n",
        "NB_classifier.fit(X_train, y_train)\n",
        "score = NB_classifier.score(X_train, y_train)\n",
        "print(\"Metrica del modelo\", score)\n",
        "skf = StratifiedKFold(n_splits=3)\n",
        "scores = cross_val_score(NB_classifier, X_train, y_train, cv=skf, scoring=\"accuracy\")\n",
        "print(\"Metricas cross_validation\", scores)\n",
        "print(\"Media de cross_validation\", scores.mean())"
      ],
      "execution_count": 19,
      "outputs": [
        {
          "output_type": "stream",
          "text": [
            "Metrica del modelo 0.8483965014577259\n",
            "Metricas cross_validation [0.67248908 0.66375546 0.70614035]\n",
            "Media de cross_validation 0.6807949641206363\n"
          ],
          "name": "stdout"
        }
      ]
    },
    {
      "cell_type": "code",
      "metadata": {
        "colab": {
          "base_uri": "https://localhost:8080/",
          "height": 0
        },
        "id": "PN_bPoGry4jL",
        "outputId": "2ce757ae-a941-44c3-f262-abe8d8d3e51f"
      },
      "source": [
        "# Cambiar nombre del clasificador\n",
        "y_predict_test = NB_classifier.predict(X_test)\n",
        "mostrar_resultados(y_test, y_predict_test)\n",
        "metrics.plot_roc_curve( NB_classifier , X_test , y_test)  # doctest: +SKIP\n",
        "plt.show()\n"
      ],
      "execution_count": 20,
      "outputs": [
        {
          "output_type": "display_data",
          "data": {
            "image/png": "[encoded data removed]",
            "text/plain": [
              "<Figure size 720x720 with 2 Axes>"
            ]
          },
          "metadata": {
            "tags": [],
            "needs_background": "light"
          }
        },
        {
          "output_type": "stream",
          "text": [
            "              precision    recall  f1-score   support\n",
            "\n",
            "         0.0       0.67      0.90      0.77       109\n",
            "         1.0       0.58      0.24      0.34        63\n",
            "\n",
            "    accuracy                           0.66       172\n",
            "   macro avg       0.62      0.57      0.55       172\n",
            "weighted avg       0.64      0.66      0.61       172\n",
            "\n"
          ],
          "name": "stdout"
        },
        {
          "output_type": "display_data",
          "data": {
            "image/png": "[encoded data removed]",
            "text/plain": [
              "<Figure size 432x288 with 1 Axes>"
            ]
          },
          "metadata": {
            "tags": [],
            "needs_background": "light"
          }
        }
      ]
    },
    {
      "cell_type": "markdown",
      "metadata": {
        "id": "CeOb6QwPy4jL"
      },
      "source": [
        "# Random Forest"
      ]
    },
    {
      "cell_type": "code",
      "metadata": {
        "colab": {
          "base_uri": "https://localhost:8080/"
        },
        "id": "4FzbIIGgy4jL",
        "outputId": "98e25237-c560-4ac1-c19d-7a10b78d8289"
      },
      "source": [
        "from sklearn import tree\n",
        "from sklearn.ensemble import RandomForestClassifier\n",
        "from sklearn.model_selection import GridSearchCV###\n",
        "from sklearn.model_selection import StratifiedKFold###\n",
        "\n",
        "grid_search = {'criterion': ['entropy', 'gini'],\n",
        "               'max_depth': [35,40, 45],\n",
        "               'max_features': ['auto'],\n",
        "               'min_samples_leaf': [4, 3, 2],\n",
        "               'min_samples_split': [20, 25, 10],\n",
        "               'n_estimators': [200, 300, 400, 450 ],\n",
        "               'random_state':[None]}\n",
        "\n",
        "clf = RandomForestClassifier()\n",
        "skf = StratifiedKFold(n_splits=3)\n",
        "rndmf = GridSearchCV(estimator = clf, param_grid = grid_search, \n",
        "                               cv = skf, verbose= 5, n_jobs = -1)\n",
        "rndmf.fit(X_train ,y_train)###de acuerdo al diagrama se usará valid y train para elegir el mejor modelo \n",
        "\n",
        "predictionforest = rndmf.best_estimator_.predict(X_valid)#se usará para competir \n",
        "print(confusion_matrix(y_valid,predictionforest))\n",
        "print(classification_report(y_valid,predictionforest))\n",
        "\n",
        "#______________________________________________________\n",
        "\n",
        "#rndmf = RandomForestClassifier(max_depth= 20, random_state= 0)\n",
        "#rndmf= rndmf.fit(X_train, y_train)\n",
        "#tree.plot_tree(rndmf.best_estimator_, filled = True)\n",
        "#plt.show()"
      ],
      "execution_count": 21,
      "outputs": [
        {
          "output_type": "stream",
          "text": [
            "Fitting 3 folds for each of 216 candidates, totalling 648 fits\n"
          ],
          "name": "stdout"
        },
        {
          "output_type": "stream",
          "text": [
            "[Parallel(n_jobs=-1)]: Using backend LokyBackend with 2 concurrent workers.\n",
            "[Parallel(n_jobs=-1)]: Done  14 tasks      | elapsed:   15.4s\n",
            "[Parallel(n_jobs=-1)]: Done  68 tasks      | elapsed:  1.2min\n",
            "[Parallel(n_jobs=-1)]: Done 158 tasks      | elapsed:  2.9min\n",
            "[Parallel(n_jobs=-1)]: Done 284 tasks      | elapsed:  5.3min\n",
            "[Parallel(n_jobs=-1)]: Done 446 tasks      | elapsed:  8.3min\n",
            "[Parallel(n_jobs=-1)]: Done 644 tasks      | elapsed: 12.0min\n",
            "[Parallel(n_jobs=-1)]: Done 648 out of 648 | elapsed: 12.1min finished\n"
          ],
          "name": "stderr"
        },
        {
          "output_type": "stream",
          "text": [
            "[[124   0]\n",
            " [ 26  22]]\n",
            "              precision    recall  f1-score   support\n",
            "\n",
            "         0.0       0.83      1.00      0.91       124\n",
            "         1.0       1.00      0.46      0.63        48\n",
            "\n",
            "    accuracy                           0.85       172\n",
            "   macro avg       0.91      0.73      0.77       172\n",
            "weighted avg       0.88      0.85      0.83       172\n",
            "\n"
          ],
          "name": "stdout"
        }
      ]
    },
    {
      "cell_type": "code",
      "metadata": {
        "colab": {
          "base_uri": "https://localhost:8080/"
        },
        "id": "G_HQCHYhSID4",
        "outputId": "1240ef3b-e4e7-4b88-acac-dca8cdabb61e"
      },
      "source": [
        "score = rndmf.best_estimator_.score(X_test, y_test)####estaba: rndmf.score(X_train, y_train)\n",
        "print(\"Metrica del modelo\", score)\n",
        "scores = cross_val_score(rndmf.best_estimator_, X_test, y_test, cv=skf, scoring=\"accuracy\") \n",
        "print(\"Metricas cross_validation\", scores)\n",
        "print(\"Media de cross_validation\", scores.mean())"
      ],
      "execution_count": 22,
      "outputs": [
        {
          "output_type": "stream",
          "text": [
            "Metrica del modelo 0.6453488372093024\n",
            "Metricas cross_validation [0.63793103 0.63157895 0.63157895]\n",
            "Media de cross_validation 0.6336963097398669\n"
          ],
          "name": "stdout"
        }
      ]
    },
    {
      "cell_type": "code",
      "metadata": {
        "colab": {
          "base_uri": "https://localhost:8080/",
          "height": 1000
        },
        "id": "qZA4MMuwy4jL",
        "outputId": "24fd7538-d141-4e5c-806a-307379a16c5f"
      },
      "source": [
        "#presentamos resulados y mejores parámetros \n",
        "print(rndmf.best_estimator_)\n",
        "bestrndmf= rndmf.best_estimator_.fit(X_train ,y_train)\n",
        "y_predict_test = bestrndmf.predict(X_test)\n",
        "mostrar_resultados(y_test, y_predict_test)\n",
        "\n",
        "metrics.plot_roc_curve( rndmf.best_estimator_ , X_test , y_test)"
      ],
      "execution_count": 23,
      "outputs": [
        {
          "output_type": "stream",
          "text": [
            "RandomForestClassifier(bootstrap=True, ccp_alpha=0.0, class_weight=None,\n",
            "                       criterion='gini', max_depth=45, max_features='auto',\n",
            "                       max_leaf_nodes=None, max_samples=None,\n",
            "                       min_impurity_decrease=0.0, min_impurity_split=None,\n",
            "                       min_samples_leaf=2, min_samples_split=25,\n",
            "                       min_weight_fraction_leaf=0.0, n_estimators=200,\n",
            "                       n_jobs=None, oob_score=False, random_state=None,\n",
            "                       verbose=0, warm_start=False)\n"
          ],
          "name": "stdout"
        },
        {
          "output_type": "display_data",
          "data": {
            "image/png": "[encoded data removed]",
            "text/plain": [
              "<Figure size 720x720 with 2 Axes>"
            ]
          },
          "metadata": {
            "tags": [],
            "needs_background": "light"
          }
        },
        {
          "output_type": "stream",
          "text": [
            "              precision    recall  f1-score   support\n",
            "\n",
            "         0.0       0.65      0.99      0.78       109\n",
            "         1.0       0.80      0.06      0.12        63\n",
            "\n",
            "    accuracy                           0.65       172\n",
            "   macro avg       0.72      0.53      0.45       172\n",
            "weighted avg       0.70      0.65      0.54       172\n",
            "\n"
          ],
          "name": "stdout"
        },
        {
          "output_type": "execute_result",
          "data": {
            "text/plain": [
              "<sklearn.metrics._plot.roc_curve.RocCurveDisplay at 0x7fe293f37fd0>"
            ]
          },
          "metadata": {
            "tags": []
          },
          "execution_count": 23
        },
        {
          "output_type": "display_data",
          "data": {
            "image/png": "[encoded data removed]",
            "text/plain": [
              "<Figure size 432x288 with 1 Axes>"
            ]
          },
          "metadata": {
            "tags": [],
            "needs_background": "light"
          }
        }
      ]
    },
    {
      "cell_type": "code",
      "metadata": {
        "colab": {
          "base_uri": "https://localhost:8080/",
          "height": 712
        },
        "id": "eVkXBIZBYq4A",
        "outputId": "bf6f4892-250b-45cf-e4ca-9ce974807fea"
      },
      "source": [
        "tree.plot_tree(rndmf.best_estimator_[28], filled = True)\n",
        "plt.show()\n",
        "\n",
        "tree.plot_tree(rndmf.best_estimator_[20], filled = True)\n",
        "plt.show()\n",
        "\n",
        "tree.plot_tree(rndmf.best_estimator_[10], filled = True)\n",
        "plt.show()"
      ],
      "execution_count": 24,
      "outputs": [
        {
          "output_type": "display_data",
          "data": {
            "image/png": "[encoded data removed]",
            "text/plain": [
              "<Figure size 432x288 with 1 Axes>"
            ]
          },
          "metadata": {
            "tags": [],
            "needs_background": "light"
          }
        },
        {
          "output_type": "display_data",
          "data": {
            "image/png": "[encoded data removed]",
            "text/plain": [
              "<Figure size 432x288 with 1 Axes>"
            ]
          },
          "metadata": {
            "tags": [],
            "needs_background": "light"
          }
        },
        {
          "output_type": "display_data",
          "data": {
            "image/png": "[encoded data removed]",
            "text/plain": [
              "<Figure size 432x288 with 1 Axes>"
            ]
          },
          "metadata": {
            "tags": [],
            "needs_background": "light"
          }
        }
      ]
    },
    {
      "cell_type": "markdown",
      "metadata": {
        "id": "pjNR0kTJy4jL"
      },
      "source": [
        "# Decision Tree "
      ]
    },
    {
      "cell_type": "code",
      "metadata": {
        "colab": {
          "base_uri": "https://localhost:8080/"
        },
        "id": "FJF2_27Cy4jL",
        "outputId": "f9fd4b03-1cd5-4719-8d0f-3a8b0e537a1f"
      },
      "source": [
        "# Poner algoritmo aqui\n",
        "from sklearn import tree\n",
        "from sklearn.tree import DecisionTreeClassifier, plot_tree\n",
        "\n",
        "tree = tree.DecisionTreeClassifier(criterion='gini',\n",
        "                                   #min_samples_split=20,\n",
        "                                   min_samples_leaf=5,\n",
        "                                   max_depth = 30,\n",
        "                                   class_weight={1:4})\n",
        "tree = tree.fit(X_train, y_train)\n",
        "\n",
        "#tree.plot_tree(arbol, filled= True)\n",
        "#plt.show()\n",
        "score = tree.score(X_train, y_train)\n",
        "print(\"Metrica del modelo\", score)\n",
        "skf = StratifiedKFold(n_splits=3)\n",
        "scores = cross_val_score(tree, X_train, y_train, cv=skf, scoring=\"accuracy\")\n",
        "print(\"Metricas cross_validation\", scores)\n",
        "print(\"Media de cross_validation\", scores.mean())"
      ],
      "execution_count": 25,
      "outputs": [
        {
          "output_type": "stream",
          "text": [
            "Metrica del modelo 0.8323615160349854\n",
            "Metricas cross_validation [0.60262009 0.56768559 0.51754386]\n",
            "Media de cross_validation 0.5626165121683394\n"
          ],
          "name": "stdout"
        }
      ]
    },
    {
      "cell_type": "code",
      "metadata": {
        "colab": {
          "base_uri": "https://localhost:8080/",
          "height": 1000
        },
        "id": "nMSEYkrvy4jL",
        "outputId": "9e183aac-ed61-42b7-99a8-3da795f90b81"
      },
      "source": [
        "y_predict_test = tree.predict(X_test)\n",
        "mostrar_resultados(y_test, y_predict_test)\n",
        "metrics.plot_roc_curve( tree , X_test , y_test)"
      ],
      "execution_count": 26,
      "outputs": [
        {
          "output_type": "display_data",
          "data": {
            "image/png": "[encoded data removed]",
            "text/plain": [
              "<Figure size 720x720 with 2 Axes>"
            ]
          },
          "metadata": {
            "tags": [],
            "needs_background": "light"
          }
        },
        {
          "output_type": "stream",
          "text": [
            "              precision    recall  f1-score   support\n",
            "\n",
            "         0.0       0.66      0.50      0.57       109\n",
            "         1.0       0.39      0.56      0.46        63\n",
            "\n",
            "    accuracy                           0.52       172\n",
            "   macro avg       0.52      0.53      0.51       172\n",
            "weighted avg       0.56      0.52      0.53       172\n",
            "\n"
          ],
          "name": "stdout"
        },
        {
          "output_type": "execute_result",
          "data": {
            "text/plain": [
              "<sklearn.metrics._plot.roc_curve.RocCurveDisplay at 0x7fe293f37b70>"
            ]
          },
          "metadata": {
            "tags": []
          },
          "execution_count": 26
        },
        {
          "output_type": "display_data",
          "data": {
            "image/png": "[encoded data removed]",
            "text/plain": [
              "<Figure size 432x288 with 1 Axes>"
            ]
          },
          "metadata": {
            "tags": [],
            "needs_background": "light"
          }
        }
      ]
    },
    {
      "cell_type": "markdown",
      "metadata": {
        "id": "70Ii6ysoi7EX"
      },
      "source": [
        "## SVM"
      ]
    },
    {
      "cell_type": "code",
      "metadata": {
        "colab": {
          "base_uri": "https://localhost:8080/"
        },
        "id": "Ai3vLymwy4jL",
        "outputId": "3aac1a3f-24b9-4fdf-d1f8-24feb651340e"
      },
      "source": [
        "from sklearn import svm\n",
        "clf_svm = svm.SVC()\n",
        "clf_svm.fit(X_train, y_train)\n",
        "\n",
        "score = clf_svm.score(X_train, y_train)\n",
        "print(\"Metrica del modelo\", score)\n",
        "skf = StratifiedKFold(n_splits=3)\n",
        "scores = cross_val_score(clf_svm, X_train, y_train, cv=skf, scoring=\"accuracy\")\n",
        "print(\"Metricas cross_validation\", scores)\n",
        "print(\"Media de cross_validation\", scores.mean())"
      ],
      "execution_count": 27,
      "outputs": [
        {
          "output_type": "stream",
          "text": [
            "Metrica del modelo 0.814868804664723\n",
            "Metricas cross_validation [0.69868996 0.70305677 0.69736842]\n",
            "Media de cross_validation 0.6997050486478203\n"
          ],
          "name": "stdout"
        }
      ]
    },
    {
      "cell_type": "code",
      "metadata": {
        "colab": {
          "base_uri": "https://localhost:8080/",
          "height": 1000
        },
        "id": "es5XfhSAy4jL",
        "outputId": "a4666ee4-0015-4877-e667-d0df108e2096"
      },
      "source": [
        "y_predict_test = clf_svm.predict(X_test)\n",
        "mostrar_resultados(y_test, y_predict_test)\n",
        "metrics.plot_roc_curve( clf_svm , X_test , y_test)"
      ],
      "execution_count": 28,
      "outputs": [
        {
          "output_type": "display_data",
          "data": {
            "image/png": "[encoded data removed]",
            "text/plain": [
              "<Figure size 720x720 with 2 Axes>"
            ]
          },
          "metadata": {
            "tags": [],
            "needs_background": "light"
          }
        },
        {
          "output_type": "stream",
          "text": [
            "              precision    recall  f1-score   support\n",
            "\n",
            "         0.0       0.63      0.99      0.77       109\n",
            "         1.0       0.00      0.00      0.00        63\n",
            "\n",
            "    accuracy                           0.63       172\n",
            "   macro avg       0.32      0.50      0.39       172\n",
            "weighted avg       0.40      0.63      0.49       172\n",
            "\n"
          ],
          "name": "stdout"
        },
        {
          "output_type": "execute_result",
          "data": {
            "text/plain": [
              "<sklearn.metrics._plot.roc_curve.RocCurveDisplay at 0x7fe29348e2e8>"
            ]
          },
          "metadata": {
            "tags": []
          },
          "execution_count": 28
        },
        {
          "output_type": "display_data",
          "data": {
            "image/png": "[encoded data removed]",
            "text/plain": [
              "<Figure size 432x288 with 1 Axes>"
            ]
          },
          "metadata": {
            "tags": [],
            "needs_background": "light"
          }
        }
      ]
    },
    {
      "cell_type": "markdown",
      "metadata": {
        "id": "mhXVqNlgi7EY"
      },
      "source": [
        "## SGD Classifier"
      ]
    },
    {
      "cell_type": "code",
      "metadata": {
        "colab": {
          "base_uri": "https://localhost:8080/"
        },
        "id": "NX1AMvPHy4jM",
        "outputId": "cf5da1c0-d306-43f6-f3f9-1bd6f0d688cd"
      },
      "source": [
        "from sklearn.linear_model import SGDClassifier\n",
        "from sklearn.model_selection import GridSearchCV###\n",
        "from sklearn.model_selection import StratifiedKFold###\n",
        "\n",
        "grid_search = {'loss' :['hinge'], \n",
        "               'penalty':['l2'],\n",
        "               'alpha':[0.0001, 0.1], \n",
        "               'l1_ratio' : [0.15, .1], \n",
        "               'fit_intercept' : [True], \n",
        "               'max_iter': [1000], \n",
        "               'tol': [0.001], \n",
        "               'shuffle':[True], \n",
        "               'verbose':[0], \n",
        "               #'epsilon': [DEFAULT_EPSILON], \n",
        "               'n_jobs':[None], \n",
        "               'random_state':[None], \n",
        "               'learning_rate':['optimal'], \n",
        "               'eta0':[0.0], \n",
        "               'power_t':[0.5], \n",
        "               'early_stopping':[False], \n",
        "               'validation_fraction':[0.1], \n",
        "               'n_iter_no_change':[5], \n",
        "               'class_weight':[None], \n",
        "               'warm_start':[False], \n",
        "               'average':[False]\n",
        "               }\n",
        "\n",
        "clf_sgd = SGDClassifier()\n",
        "#clf_sgd.fit(X_train, y_train)\n",
        "skf = StratifiedKFold(n_splits=3)\n",
        "sgdc = GridSearchCV(estimator = clf_sgd, \n",
        "                    param_grid = grid_search,\n",
        "                    cv = skf)\n",
        "                    #verbose=0,\n",
        "                    #n_jobs = -1)\n",
        "sgdc.fit(X_train ,y_train)###de acuerdo al diagrama se usará valid y train para elegir el mejor modelo \n",
        "\n",
        "predictionsgdc = sgdc.best_estimator_.predict(X_valid)#se usará para competir \n",
        "print(confusion_matrix(y_valid,predictionsgdc))\n",
        "print(classification_report(y_valid,predictionsgdc))\n",
        "\n",
        "\n",
        "\n",
        "score = sgdc.best_estimator_.score(X_train, y_train)\n",
        "print(\"Metrica del modelo\", score)\n",
        "skf = StratifiedKFold(n_splits=3)\n",
        "scores = cross_val_score(sgdc.best_estimator_, X_train, y=y_train, cv=skf, scoring=\"accuracy\")\n",
        "print(\"Metricas cross_validation\", scores)\n",
        "print(\"Media de cross_validation\", scores.mean())\n",
        "\n",
        "\n"
      ],
      "execution_count": 29,
      "outputs": [
        {
          "output_type": "stream",
          "text": [
            "[[121   3]\n",
            " [ 10  38]]\n",
            "              precision    recall  f1-score   support\n",
            "\n",
            "         0.0       0.92      0.98      0.95       124\n",
            "         1.0       0.93      0.79      0.85        48\n",
            "\n",
            "    accuracy                           0.92       172\n",
            "   macro avg       0.93      0.88      0.90       172\n",
            "weighted avg       0.92      0.92      0.92       172\n",
            "\n",
            "Metrica del modelo 0.9271137026239067\n",
            "Metricas cross_validation [0.65938865 0.64628821 0.62280702]\n",
            "Media de cross_validation 0.6428279578130187\n"
          ],
          "name": "stdout"
        }
      ]
    },
    {
      "cell_type": "code",
      "metadata": {
        "colab": {
          "base_uri": "https://localhost:8080/",
          "height": 1000
        },
        "id": "o-b8WmXXy4jM",
        "outputId": "96e679c4-1f5f-4605-de5e-a44f4d16029e"
      },
      "source": [
        "y_predict_test = sgdc.best_estimator_.predict(X_test)\n",
        "mostrar_resultados(y_test, y_predict_test)\n",
        "\n",
        "metrics.plot_roc_curve(sgdc.best_estimator_ , X_test , y_test)"
      ],
      "execution_count": 30,
      "outputs": [
        {
          "output_type": "display_data",
          "data": {
            "image/png": "[encoded data removed]",
            "text/plain": [
              "<Figure size 720x720 with 2 Axes>"
            ]
          },
          "metadata": {
            "tags": [],
            "needs_background": "light"
          }
        },
        {
          "output_type": "stream",
          "text": [
            "              precision    recall  f1-score   support\n",
            "\n",
            "         0.0       0.66      0.87      0.75       109\n",
            "         1.0       0.48      0.21      0.29        63\n",
            "\n",
            "    accuracy                           0.63       172\n",
            "   macro avg       0.57      0.54      0.52       172\n",
            "weighted avg       0.59      0.63      0.58       172\n",
            "\n"
          ],
          "name": "stdout"
        },
        {
          "output_type": "execute_result",
          "data": {
            "text/plain": [
              "<sklearn.metrics._plot.roc_curve.RocCurveDisplay at 0x7fe2931ec5c0>"
            ]
          },
          "metadata": {
            "tags": []
          },
          "execution_count": 30
        },
        {
          "output_type": "display_data",
          "data": {
            "image/png": "[encoded data removed]",
            "text/plain": [
              "<Figure size 432x288 with 1 Axes>"
            ]
          },
          "metadata": {
            "tags": [],
            "needs_background": "light"
          }
        }
      ]
    },
    {
      "cell_type": "code",
      "metadata": {
        "colab": {
          "base_uri": "https://localhost:8080/",
          "height": 279
        },
        "id": "rwMAuj1S0-8R",
        "outputId": "63e5204b-e955-449e-cd5b-c699e8df3bf8"
      },
      "source": [
        "NBDISP=metrics.plot_roc_curve( NB_classifier , X_test , y_test)  \n",
        "RFDISP=metrics.plot_roc_curve( rndmf.best_estimator_ , X_test , y_test, ax= NBDISP.ax_)  \n",
        "TREEDISP=metrics.plot_roc_curve( tree , X_test , y_test, ax= RFDISP.ax_)  \n",
        "SVMDISP=metrics.plot_roc_curve( clf_svm , X_test , y_test, ax= TREEDISP.ax_)  \n",
        "SGDISP=metrics.plot_roc_curve( sgdc.best_estimator_ , X_test , y_test, ax= SVMDISP.ax_)  \n",
        "                         \n",
        "plt.show()\n"
      ],
      "execution_count": 31,
      "outputs": [
        {
          "output_type": "display_data",
          "data": {
            "image/png": "[encoded data removed]",
            "text/plain": [
              "<Figure size 432x288 with 1 Axes>"
            ]
          },
          "metadata": {
            "tags": [],
            "needs_background": "light"
          }
        }
      ]
    },
    {
      "cell_type": "code",
      "metadata": {
        "id": "lcEd7DJJ4bH6"
      },
      "source": [
        ""
      ],
      "execution_count": 31,
      "outputs": []
    }
  ]
}